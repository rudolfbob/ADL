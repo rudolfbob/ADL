{
  "nbformat": 4,
  "nbformat_minor": 0,
  "metadata": {
    "colab": {
      "name": "Tugas2_Rudolf.ipynb",
      "provenance": [],
      "toc_visible": true,
      "collapsed_sections": [],
      "authorship_tag": "ABX9TyM4tVNvmqxiIpDk+LwDgS6A",
      "include_colab_link": true
    },
    "kernelspec": {
      "name": "python3",
      "display_name": "Python 3"
    },
    "language_info": {
      "name": "python"
    },
    "widgets": {
      "application/vnd.jupyter.widget-state+json": {
        "4993fdfbdcd54908ba8598bf91ddb19a": {
          "model_module": "@jupyter-widgets/controls",
          "model_name": "HBoxModel",
          "model_module_version": "1.5.0",
          "state": {
            "_dom_classes": [],
            "_model_module": "@jupyter-widgets/controls",
            "_model_module_version": "1.5.0",
            "_model_name": "HBoxModel",
            "_view_count": null,
            "_view_module": "@jupyter-widgets/controls",
            "_view_module_version": "1.5.0",
            "_view_name": "HBoxView",
            "box_style": "",
            "children": [
              "IPY_MODEL_aa56c870b0cf4baa99769ebb72cfeb54",
              "IPY_MODEL_e1e2151a125b4705b8026192070b3cc4",
              "IPY_MODEL_eac9455365d74be5b67b13fae02d1c9d"
            ],
            "layout": "IPY_MODEL_ea50218f71704822aad6c23fdec97d0c"
          }
        },
        "aa56c870b0cf4baa99769ebb72cfeb54": {
          "model_module": "@jupyter-widgets/controls",
          "model_name": "HTMLModel",
          "model_module_version": "1.5.0",
          "state": {
            "_dom_classes": [],
            "_model_module": "@jupyter-widgets/controls",
            "_model_module_version": "1.5.0",
            "_model_name": "HTMLModel",
            "_view_count": null,
            "_view_module": "@jupyter-widgets/controls",
            "_view_module_version": "1.5.0",
            "_view_name": "HTMLView",
            "description": "",
            "description_tooltip": null,
            "layout": "IPY_MODEL_620db37374134b08bcb1ba9cc89d13e1",
            "placeholder": "​",
            "style": "IPY_MODEL_b91c3e01002b4b6882e90e6f16e07b1a",
            "value": ""
          }
        },
        "e1e2151a125b4705b8026192070b3cc4": {
          "model_module": "@jupyter-widgets/controls",
          "model_name": "FloatProgressModel",
          "model_module_version": "1.5.0",
          "state": {
            "_dom_classes": [],
            "_model_module": "@jupyter-widgets/controls",
            "_model_module_version": "1.5.0",
            "_model_name": "FloatProgressModel",
            "_view_count": null,
            "_view_module": "@jupyter-widgets/controls",
            "_view_module_version": "1.5.0",
            "_view_name": "ProgressView",
            "bar_style": "success",
            "description": "",
            "description_tooltip": null,
            "layout": "IPY_MODEL_c32613db2d524ff095a8988d405d6b57",
            "max": 26421880,
            "min": 0,
            "orientation": "horizontal",
            "style": "IPY_MODEL_c3ed47616acb491eb09b3f60400e8dcc",
            "value": 26421880
          }
        },
        "eac9455365d74be5b67b13fae02d1c9d": {
          "model_module": "@jupyter-widgets/controls",
          "model_name": "HTMLModel",
          "model_module_version": "1.5.0",
          "state": {
            "_dom_classes": [],
            "_model_module": "@jupyter-widgets/controls",
            "_model_module_version": "1.5.0",
            "_model_name": "HTMLModel",
            "_view_count": null,
            "_view_module": "@jupyter-widgets/controls",
            "_view_module_version": "1.5.0",
            "_view_name": "HTMLView",
            "description": "",
            "description_tooltip": null,
            "layout": "IPY_MODEL_2ef41ba58e85400082164bc14e00bb99",
            "placeholder": "​",
            "style": "IPY_MODEL_eaada2d145b34d9e885f08e52c563346",
            "value": " 26422272/? [00:04&lt;00:00, 9455104.68it/s]"
          }
        },
        "ea50218f71704822aad6c23fdec97d0c": {
          "model_module": "@jupyter-widgets/base",
          "model_name": "LayoutModel",
          "model_module_version": "1.2.0",
          "state": {
            "_model_module": "@jupyter-widgets/base",
            "_model_module_version": "1.2.0",
            "_model_name": "LayoutModel",
            "_view_count": null,
            "_view_module": "@jupyter-widgets/base",
            "_view_module_version": "1.2.0",
            "_view_name": "LayoutView",
            "align_content": null,
            "align_items": null,
            "align_self": null,
            "border": null,
            "bottom": null,
            "display": null,
            "flex": null,
            "flex_flow": null,
            "grid_area": null,
            "grid_auto_columns": null,
            "grid_auto_flow": null,
            "grid_auto_rows": null,
            "grid_column": null,
            "grid_gap": null,
            "grid_row": null,
            "grid_template_areas": null,
            "grid_template_columns": null,
            "grid_template_rows": null,
            "height": null,
            "justify_content": null,
            "justify_items": null,
            "left": null,
            "margin": null,
            "max_height": null,
            "max_width": null,
            "min_height": null,
            "min_width": null,
            "object_fit": null,
            "object_position": null,
            "order": null,
            "overflow": null,
            "overflow_x": null,
            "overflow_y": null,
            "padding": null,
            "right": null,
            "top": null,
            "visibility": null,
            "width": null
          }
        },
        "620db37374134b08bcb1ba9cc89d13e1": {
          "model_module": "@jupyter-widgets/base",
          "model_name": "LayoutModel",
          "model_module_version": "1.2.0",
          "state": {
            "_model_module": "@jupyter-widgets/base",
            "_model_module_version": "1.2.0",
            "_model_name": "LayoutModel",
            "_view_count": null,
            "_view_module": "@jupyter-widgets/base",
            "_view_module_version": "1.2.0",
            "_view_name": "LayoutView",
            "align_content": null,
            "align_items": null,
            "align_self": null,
            "border": null,
            "bottom": null,
            "display": null,
            "flex": null,
            "flex_flow": null,
            "grid_area": null,
            "grid_auto_columns": null,
            "grid_auto_flow": null,
            "grid_auto_rows": null,
            "grid_column": null,
            "grid_gap": null,
            "grid_row": null,
            "grid_template_areas": null,
            "grid_template_columns": null,
            "grid_template_rows": null,
            "height": null,
            "justify_content": null,
            "justify_items": null,
            "left": null,
            "margin": null,
            "max_height": null,
            "max_width": null,
            "min_height": null,
            "min_width": null,
            "object_fit": null,
            "object_position": null,
            "order": null,
            "overflow": null,
            "overflow_x": null,
            "overflow_y": null,
            "padding": null,
            "right": null,
            "top": null,
            "visibility": null,
            "width": null
          }
        },
        "b91c3e01002b4b6882e90e6f16e07b1a": {
          "model_module": "@jupyter-widgets/controls",
          "model_name": "DescriptionStyleModel",
          "model_module_version": "1.5.0",
          "state": {
            "_model_module": "@jupyter-widgets/controls",
            "_model_module_version": "1.5.0",
            "_model_name": "DescriptionStyleModel",
            "_view_count": null,
            "_view_module": "@jupyter-widgets/base",
            "_view_module_version": "1.2.0",
            "_view_name": "StyleView",
            "description_width": ""
          }
        },
        "c32613db2d524ff095a8988d405d6b57": {
          "model_module": "@jupyter-widgets/base",
          "model_name": "LayoutModel",
          "model_module_version": "1.2.0",
          "state": {
            "_model_module": "@jupyter-widgets/base",
            "_model_module_version": "1.2.0",
            "_model_name": "LayoutModel",
            "_view_count": null,
            "_view_module": "@jupyter-widgets/base",
            "_view_module_version": "1.2.0",
            "_view_name": "LayoutView",
            "align_content": null,
            "align_items": null,
            "align_self": null,
            "border": null,
            "bottom": null,
            "display": null,
            "flex": null,
            "flex_flow": null,
            "grid_area": null,
            "grid_auto_columns": null,
            "grid_auto_flow": null,
            "grid_auto_rows": null,
            "grid_column": null,
            "grid_gap": null,
            "grid_row": null,
            "grid_template_areas": null,
            "grid_template_columns": null,
            "grid_template_rows": null,
            "height": null,
            "justify_content": null,
            "justify_items": null,
            "left": null,
            "margin": null,
            "max_height": null,
            "max_width": null,
            "min_height": null,
            "min_width": null,
            "object_fit": null,
            "object_position": null,
            "order": null,
            "overflow": null,
            "overflow_x": null,
            "overflow_y": null,
            "padding": null,
            "right": null,
            "top": null,
            "visibility": null,
            "width": null
          }
        },
        "c3ed47616acb491eb09b3f60400e8dcc": {
          "model_module": "@jupyter-widgets/controls",
          "model_name": "ProgressStyleModel",
          "model_module_version": "1.5.0",
          "state": {
            "_model_module": "@jupyter-widgets/controls",
            "_model_module_version": "1.5.0",
            "_model_name": "ProgressStyleModel",
            "_view_count": null,
            "_view_module": "@jupyter-widgets/base",
            "_view_module_version": "1.2.0",
            "_view_name": "StyleView",
            "bar_color": null,
            "description_width": ""
          }
        },
        "2ef41ba58e85400082164bc14e00bb99": {
          "model_module": "@jupyter-widgets/base",
          "model_name": "LayoutModel",
          "model_module_version": "1.2.0",
          "state": {
            "_model_module": "@jupyter-widgets/base",
            "_model_module_version": "1.2.0",
            "_model_name": "LayoutModel",
            "_view_count": null,
            "_view_module": "@jupyter-widgets/base",
            "_view_module_version": "1.2.0",
            "_view_name": "LayoutView",
            "align_content": null,
            "align_items": null,
            "align_self": null,
            "border": null,
            "bottom": null,
            "display": null,
            "flex": null,
            "flex_flow": null,
            "grid_area": null,
            "grid_auto_columns": null,
            "grid_auto_flow": null,
            "grid_auto_rows": null,
            "grid_column": null,
            "grid_gap": null,
            "grid_row": null,
            "grid_template_areas": null,
            "grid_template_columns": null,
            "grid_template_rows": null,
            "height": null,
            "justify_content": null,
            "justify_items": null,
            "left": null,
            "margin": null,
            "max_height": null,
            "max_width": null,
            "min_height": null,
            "min_width": null,
            "object_fit": null,
            "object_position": null,
            "order": null,
            "overflow": null,
            "overflow_x": null,
            "overflow_y": null,
            "padding": null,
            "right": null,
            "top": null,
            "visibility": null,
            "width": null
          }
        },
        "eaada2d145b34d9e885f08e52c563346": {
          "model_module": "@jupyter-widgets/controls",
          "model_name": "DescriptionStyleModel",
          "model_module_version": "1.5.0",
          "state": {
            "_model_module": "@jupyter-widgets/controls",
            "_model_module_version": "1.5.0",
            "_model_name": "DescriptionStyleModel",
            "_view_count": null,
            "_view_module": "@jupyter-widgets/base",
            "_view_module_version": "1.2.0",
            "_view_name": "StyleView",
            "description_width": ""
          }
        },
        "3a330970895a4494833ab3aa4b63d82e": {
          "model_module": "@jupyter-widgets/controls",
          "model_name": "HBoxModel",
          "model_module_version": "1.5.0",
          "state": {
            "_dom_classes": [],
            "_model_module": "@jupyter-widgets/controls",
            "_model_module_version": "1.5.0",
            "_model_name": "HBoxModel",
            "_view_count": null,
            "_view_module": "@jupyter-widgets/controls",
            "_view_module_version": "1.5.0",
            "_view_name": "HBoxView",
            "box_style": "",
            "children": [
              "IPY_MODEL_cb792bc8d2b7476ab2ab8f7e86c620f6",
              "IPY_MODEL_275bd41fd8d34cefa8d5801d01de4535",
              "IPY_MODEL_568b7bd0b30c480da8cce95aaadf44fd"
            ],
            "layout": "IPY_MODEL_44d929b142c94ccf85c0975c1697f86e"
          }
        },
        "cb792bc8d2b7476ab2ab8f7e86c620f6": {
          "model_module": "@jupyter-widgets/controls",
          "model_name": "HTMLModel",
          "model_module_version": "1.5.0",
          "state": {
            "_dom_classes": [],
            "_model_module": "@jupyter-widgets/controls",
            "_model_module_version": "1.5.0",
            "_model_name": "HTMLModel",
            "_view_count": null,
            "_view_module": "@jupyter-widgets/controls",
            "_view_module_version": "1.5.0",
            "_view_name": "HTMLView",
            "description": "",
            "description_tooltip": null,
            "layout": "IPY_MODEL_925d2d0ea4ba4e71a24c272485fdbdc2",
            "placeholder": "​",
            "style": "IPY_MODEL_525dd8e6862b41fa994ff29ff8b6642a",
            "value": ""
          }
        },
        "275bd41fd8d34cefa8d5801d01de4535": {
          "model_module": "@jupyter-widgets/controls",
          "model_name": "FloatProgressModel",
          "model_module_version": "1.5.0",
          "state": {
            "_dom_classes": [],
            "_model_module": "@jupyter-widgets/controls",
            "_model_module_version": "1.5.0",
            "_model_name": "FloatProgressModel",
            "_view_count": null,
            "_view_module": "@jupyter-widgets/controls",
            "_view_module_version": "1.5.0",
            "_view_name": "ProgressView",
            "bar_style": "success",
            "description": "",
            "description_tooltip": null,
            "layout": "IPY_MODEL_cbf05379353b4514a40338f51ff51c23",
            "max": 29515,
            "min": 0,
            "orientation": "horizontal",
            "style": "IPY_MODEL_09a594e0697840f38f2285cf4586cd3f",
            "value": 29515
          }
        },
        "568b7bd0b30c480da8cce95aaadf44fd": {
          "model_module": "@jupyter-widgets/controls",
          "model_name": "HTMLModel",
          "model_module_version": "1.5.0",
          "state": {
            "_dom_classes": [],
            "_model_module": "@jupyter-widgets/controls",
            "_model_module_version": "1.5.0",
            "_model_name": "HTMLModel",
            "_view_count": null,
            "_view_module": "@jupyter-widgets/controls",
            "_view_module_version": "1.5.0",
            "_view_name": "HTMLView",
            "description": "",
            "description_tooltip": null,
            "layout": "IPY_MODEL_b43dd1c6fb774e2d824b1ea723e0d619",
            "placeholder": "​",
            "style": "IPY_MODEL_2d0701f7c303490c96cc294bb10cdcf7",
            "value": " 29696/? [00:00&lt;00:00, 55881.59it/s]"
          }
        },
        "44d929b142c94ccf85c0975c1697f86e": {
          "model_module": "@jupyter-widgets/base",
          "model_name": "LayoutModel",
          "model_module_version": "1.2.0",
          "state": {
            "_model_module": "@jupyter-widgets/base",
            "_model_module_version": "1.2.0",
            "_model_name": "LayoutModel",
            "_view_count": null,
            "_view_module": "@jupyter-widgets/base",
            "_view_module_version": "1.2.0",
            "_view_name": "LayoutView",
            "align_content": null,
            "align_items": null,
            "align_self": null,
            "border": null,
            "bottom": null,
            "display": null,
            "flex": null,
            "flex_flow": null,
            "grid_area": null,
            "grid_auto_columns": null,
            "grid_auto_flow": null,
            "grid_auto_rows": null,
            "grid_column": null,
            "grid_gap": null,
            "grid_row": null,
            "grid_template_areas": null,
            "grid_template_columns": null,
            "grid_template_rows": null,
            "height": null,
            "justify_content": null,
            "justify_items": null,
            "left": null,
            "margin": null,
            "max_height": null,
            "max_width": null,
            "min_height": null,
            "min_width": null,
            "object_fit": null,
            "object_position": null,
            "order": null,
            "overflow": null,
            "overflow_x": null,
            "overflow_y": null,
            "padding": null,
            "right": null,
            "top": null,
            "visibility": null,
            "width": null
          }
        },
        "925d2d0ea4ba4e71a24c272485fdbdc2": {
          "model_module": "@jupyter-widgets/base",
          "model_name": "LayoutModel",
          "model_module_version": "1.2.0",
          "state": {
            "_model_module": "@jupyter-widgets/base",
            "_model_module_version": "1.2.0",
            "_model_name": "LayoutModel",
            "_view_count": null,
            "_view_module": "@jupyter-widgets/base",
            "_view_module_version": "1.2.0",
            "_view_name": "LayoutView",
            "align_content": null,
            "align_items": null,
            "align_self": null,
            "border": null,
            "bottom": null,
            "display": null,
            "flex": null,
            "flex_flow": null,
            "grid_area": null,
            "grid_auto_columns": null,
            "grid_auto_flow": null,
            "grid_auto_rows": null,
            "grid_column": null,
            "grid_gap": null,
            "grid_row": null,
            "grid_template_areas": null,
            "grid_template_columns": null,
            "grid_template_rows": null,
            "height": null,
            "justify_content": null,
            "justify_items": null,
            "left": null,
            "margin": null,
            "max_height": null,
            "max_width": null,
            "min_height": null,
            "min_width": null,
            "object_fit": null,
            "object_position": null,
            "order": null,
            "overflow": null,
            "overflow_x": null,
            "overflow_y": null,
            "padding": null,
            "right": null,
            "top": null,
            "visibility": null,
            "width": null
          }
        },
        "525dd8e6862b41fa994ff29ff8b6642a": {
          "model_module": "@jupyter-widgets/controls",
          "model_name": "DescriptionStyleModel",
          "model_module_version": "1.5.0",
          "state": {
            "_model_module": "@jupyter-widgets/controls",
            "_model_module_version": "1.5.0",
            "_model_name": "DescriptionStyleModel",
            "_view_count": null,
            "_view_module": "@jupyter-widgets/base",
            "_view_module_version": "1.2.0",
            "_view_name": "StyleView",
            "description_width": ""
          }
        },
        "cbf05379353b4514a40338f51ff51c23": {
          "model_module": "@jupyter-widgets/base",
          "model_name": "LayoutModel",
          "model_module_version": "1.2.0",
          "state": {
            "_model_module": "@jupyter-widgets/base",
            "_model_module_version": "1.2.0",
            "_model_name": "LayoutModel",
            "_view_count": null,
            "_view_module": "@jupyter-widgets/base",
            "_view_module_version": "1.2.0",
            "_view_name": "LayoutView",
            "align_content": null,
            "align_items": null,
            "align_self": null,
            "border": null,
            "bottom": null,
            "display": null,
            "flex": null,
            "flex_flow": null,
            "grid_area": null,
            "grid_auto_columns": null,
            "grid_auto_flow": null,
            "grid_auto_rows": null,
            "grid_column": null,
            "grid_gap": null,
            "grid_row": null,
            "grid_template_areas": null,
            "grid_template_columns": null,
            "grid_template_rows": null,
            "height": null,
            "justify_content": null,
            "justify_items": null,
            "left": null,
            "margin": null,
            "max_height": null,
            "max_width": null,
            "min_height": null,
            "min_width": null,
            "object_fit": null,
            "object_position": null,
            "order": null,
            "overflow": null,
            "overflow_x": null,
            "overflow_y": null,
            "padding": null,
            "right": null,
            "top": null,
            "visibility": null,
            "width": null
          }
        },
        "09a594e0697840f38f2285cf4586cd3f": {
          "model_module": "@jupyter-widgets/controls",
          "model_name": "ProgressStyleModel",
          "model_module_version": "1.5.0",
          "state": {
            "_model_module": "@jupyter-widgets/controls",
            "_model_module_version": "1.5.0",
            "_model_name": "ProgressStyleModel",
            "_view_count": null,
            "_view_module": "@jupyter-widgets/base",
            "_view_module_version": "1.2.0",
            "_view_name": "StyleView",
            "bar_color": null,
            "description_width": ""
          }
        },
        "b43dd1c6fb774e2d824b1ea723e0d619": {
          "model_module": "@jupyter-widgets/base",
          "model_name": "LayoutModel",
          "model_module_version": "1.2.0",
          "state": {
            "_model_module": "@jupyter-widgets/base",
            "_model_module_version": "1.2.0",
            "_model_name": "LayoutModel",
            "_view_count": null,
            "_view_module": "@jupyter-widgets/base",
            "_view_module_version": "1.2.0",
            "_view_name": "LayoutView",
            "align_content": null,
            "align_items": null,
            "align_self": null,
            "border": null,
            "bottom": null,
            "display": null,
            "flex": null,
            "flex_flow": null,
            "grid_area": null,
            "grid_auto_columns": null,
            "grid_auto_flow": null,
            "grid_auto_rows": null,
            "grid_column": null,
            "grid_gap": null,
            "grid_row": null,
            "grid_template_areas": null,
            "grid_template_columns": null,
            "grid_template_rows": null,
            "height": null,
            "justify_content": null,
            "justify_items": null,
            "left": null,
            "margin": null,
            "max_height": null,
            "max_width": null,
            "min_height": null,
            "min_width": null,
            "object_fit": null,
            "object_position": null,
            "order": null,
            "overflow": null,
            "overflow_x": null,
            "overflow_y": null,
            "padding": null,
            "right": null,
            "top": null,
            "visibility": null,
            "width": null
          }
        },
        "2d0701f7c303490c96cc294bb10cdcf7": {
          "model_module": "@jupyter-widgets/controls",
          "model_name": "DescriptionStyleModel",
          "model_module_version": "1.5.0",
          "state": {
            "_model_module": "@jupyter-widgets/controls",
            "_model_module_version": "1.5.0",
            "_model_name": "DescriptionStyleModel",
            "_view_count": null,
            "_view_module": "@jupyter-widgets/base",
            "_view_module_version": "1.2.0",
            "_view_name": "StyleView",
            "description_width": ""
          }
        },
        "94dc169f24ec44468c185780dd4911ec": {
          "model_module": "@jupyter-widgets/controls",
          "model_name": "HBoxModel",
          "model_module_version": "1.5.0",
          "state": {
            "_dom_classes": [],
            "_model_module": "@jupyter-widgets/controls",
            "_model_module_version": "1.5.0",
            "_model_name": "HBoxModel",
            "_view_count": null,
            "_view_module": "@jupyter-widgets/controls",
            "_view_module_version": "1.5.0",
            "_view_name": "HBoxView",
            "box_style": "",
            "children": [
              "IPY_MODEL_cf69f02ead984f9f80aed2d5ec324347",
              "IPY_MODEL_5f8c959cbb9642f5a4ecfb7385017456",
              "IPY_MODEL_6c07f8c0f01842b193abeffcc89cefef"
            ],
            "layout": "IPY_MODEL_b1aceaf5a97c432cbf2c7876675d2608"
          }
        },
        "cf69f02ead984f9f80aed2d5ec324347": {
          "model_module": "@jupyter-widgets/controls",
          "model_name": "HTMLModel",
          "model_module_version": "1.5.0",
          "state": {
            "_dom_classes": [],
            "_model_module": "@jupyter-widgets/controls",
            "_model_module_version": "1.5.0",
            "_model_name": "HTMLModel",
            "_view_count": null,
            "_view_module": "@jupyter-widgets/controls",
            "_view_module_version": "1.5.0",
            "_view_name": "HTMLView",
            "description": "",
            "description_tooltip": null,
            "layout": "IPY_MODEL_2ab2be606db642738e680a8cfb72d81d",
            "placeholder": "​",
            "style": "IPY_MODEL_0222ef9f864e4bb9b2d46035e09b313e",
            "value": ""
          }
        },
        "5f8c959cbb9642f5a4ecfb7385017456": {
          "model_module": "@jupyter-widgets/controls",
          "model_name": "FloatProgressModel",
          "model_module_version": "1.5.0",
          "state": {
            "_dom_classes": [],
            "_model_module": "@jupyter-widgets/controls",
            "_model_module_version": "1.5.0",
            "_model_name": "FloatProgressModel",
            "_view_count": null,
            "_view_module": "@jupyter-widgets/controls",
            "_view_module_version": "1.5.0",
            "_view_name": "ProgressView",
            "bar_style": "success",
            "description": "",
            "description_tooltip": null,
            "layout": "IPY_MODEL_60b5adc2db814cf2970ab8d3a9c0b041",
            "max": 4422102,
            "min": 0,
            "orientation": "horizontal",
            "style": "IPY_MODEL_a822795181c1408cbe1cfa66104c3888",
            "value": 4422102
          }
        },
        "6c07f8c0f01842b193abeffcc89cefef": {
          "model_module": "@jupyter-widgets/controls",
          "model_name": "HTMLModel",
          "model_module_version": "1.5.0",
          "state": {
            "_dom_classes": [],
            "_model_module": "@jupyter-widgets/controls",
            "_model_module_version": "1.5.0",
            "_model_name": "HTMLModel",
            "_view_count": null,
            "_view_module": "@jupyter-widgets/controls",
            "_view_module_version": "1.5.0",
            "_view_name": "HTMLView",
            "description": "",
            "description_tooltip": null,
            "layout": "IPY_MODEL_d736d29fe67c48d19aa42a07137a4212",
            "placeholder": "​",
            "style": "IPY_MODEL_99d724297e3d4906b8b3b510a0442bce",
            "value": " 4422656/? [00:02&lt;00:00, 4032640.31it/s]"
          }
        },
        "b1aceaf5a97c432cbf2c7876675d2608": {
          "model_module": "@jupyter-widgets/base",
          "model_name": "LayoutModel",
          "model_module_version": "1.2.0",
          "state": {
            "_model_module": "@jupyter-widgets/base",
            "_model_module_version": "1.2.0",
            "_model_name": "LayoutModel",
            "_view_count": null,
            "_view_module": "@jupyter-widgets/base",
            "_view_module_version": "1.2.0",
            "_view_name": "LayoutView",
            "align_content": null,
            "align_items": null,
            "align_self": null,
            "border": null,
            "bottom": null,
            "display": null,
            "flex": null,
            "flex_flow": null,
            "grid_area": null,
            "grid_auto_columns": null,
            "grid_auto_flow": null,
            "grid_auto_rows": null,
            "grid_column": null,
            "grid_gap": null,
            "grid_row": null,
            "grid_template_areas": null,
            "grid_template_columns": null,
            "grid_template_rows": null,
            "height": null,
            "justify_content": null,
            "justify_items": null,
            "left": null,
            "margin": null,
            "max_height": null,
            "max_width": null,
            "min_height": null,
            "min_width": null,
            "object_fit": null,
            "object_position": null,
            "order": null,
            "overflow": null,
            "overflow_x": null,
            "overflow_y": null,
            "padding": null,
            "right": null,
            "top": null,
            "visibility": null,
            "width": null
          }
        },
        "2ab2be606db642738e680a8cfb72d81d": {
          "model_module": "@jupyter-widgets/base",
          "model_name": "LayoutModel",
          "model_module_version": "1.2.0",
          "state": {
            "_model_module": "@jupyter-widgets/base",
            "_model_module_version": "1.2.0",
            "_model_name": "LayoutModel",
            "_view_count": null,
            "_view_module": "@jupyter-widgets/base",
            "_view_module_version": "1.2.0",
            "_view_name": "LayoutView",
            "align_content": null,
            "align_items": null,
            "align_self": null,
            "border": null,
            "bottom": null,
            "display": null,
            "flex": null,
            "flex_flow": null,
            "grid_area": null,
            "grid_auto_columns": null,
            "grid_auto_flow": null,
            "grid_auto_rows": null,
            "grid_column": null,
            "grid_gap": null,
            "grid_row": null,
            "grid_template_areas": null,
            "grid_template_columns": null,
            "grid_template_rows": null,
            "height": null,
            "justify_content": null,
            "justify_items": null,
            "left": null,
            "margin": null,
            "max_height": null,
            "max_width": null,
            "min_height": null,
            "min_width": null,
            "object_fit": null,
            "object_position": null,
            "order": null,
            "overflow": null,
            "overflow_x": null,
            "overflow_y": null,
            "padding": null,
            "right": null,
            "top": null,
            "visibility": null,
            "width": null
          }
        },
        "0222ef9f864e4bb9b2d46035e09b313e": {
          "model_module": "@jupyter-widgets/controls",
          "model_name": "DescriptionStyleModel",
          "model_module_version": "1.5.0",
          "state": {
            "_model_module": "@jupyter-widgets/controls",
            "_model_module_version": "1.5.0",
            "_model_name": "DescriptionStyleModel",
            "_view_count": null,
            "_view_module": "@jupyter-widgets/base",
            "_view_module_version": "1.2.0",
            "_view_name": "StyleView",
            "description_width": ""
          }
        },
        "60b5adc2db814cf2970ab8d3a9c0b041": {
          "model_module": "@jupyter-widgets/base",
          "model_name": "LayoutModel",
          "model_module_version": "1.2.0",
          "state": {
            "_model_module": "@jupyter-widgets/base",
            "_model_module_version": "1.2.0",
            "_model_name": "LayoutModel",
            "_view_count": null,
            "_view_module": "@jupyter-widgets/base",
            "_view_module_version": "1.2.0",
            "_view_name": "LayoutView",
            "align_content": null,
            "align_items": null,
            "align_self": null,
            "border": null,
            "bottom": null,
            "display": null,
            "flex": null,
            "flex_flow": null,
            "grid_area": null,
            "grid_auto_columns": null,
            "grid_auto_flow": null,
            "grid_auto_rows": null,
            "grid_column": null,
            "grid_gap": null,
            "grid_row": null,
            "grid_template_areas": null,
            "grid_template_columns": null,
            "grid_template_rows": null,
            "height": null,
            "justify_content": null,
            "justify_items": null,
            "left": null,
            "margin": null,
            "max_height": null,
            "max_width": null,
            "min_height": null,
            "min_width": null,
            "object_fit": null,
            "object_position": null,
            "order": null,
            "overflow": null,
            "overflow_x": null,
            "overflow_y": null,
            "padding": null,
            "right": null,
            "top": null,
            "visibility": null,
            "width": null
          }
        },
        "a822795181c1408cbe1cfa66104c3888": {
          "model_module": "@jupyter-widgets/controls",
          "model_name": "ProgressStyleModel",
          "model_module_version": "1.5.0",
          "state": {
            "_model_module": "@jupyter-widgets/controls",
            "_model_module_version": "1.5.0",
            "_model_name": "ProgressStyleModel",
            "_view_count": null,
            "_view_module": "@jupyter-widgets/base",
            "_view_module_version": "1.2.0",
            "_view_name": "StyleView",
            "bar_color": null,
            "description_width": ""
          }
        },
        "d736d29fe67c48d19aa42a07137a4212": {
          "model_module": "@jupyter-widgets/base",
          "model_name": "LayoutModel",
          "model_module_version": "1.2.0",
          "state": {
            "_model_module": "@jupyter-widgets/base",
            "_model_module_version": "1.2.0",
            "_model_name": "LayoutModel",
            "_view_count": null,
            "_view_module": "@jupyter-widgets/base",
            "_view_module_version": "1.2.0",
            "_view_name": "LayoutView",
            "align_content": null,
            "align_items": null,
            "align_self": null,
            "border": null,
            "bottom": null,
            "display": null,
            "flex": null,
            "flex_flow": null,
            "grid_area": null,
            "grid_auto_columns": null,
            "grid_auto_flow": null,
            "grid_auto_rows": null,
            "grid_column": null,
            "grid_gap": null,
            "grid_row": null,
            "grid_template_areas": null,
            "grid_template_columns": null,
            "grid_template_rows": null,
            "height": null,
            "justify_content": null,
            "justify_items": null,
            "left": null,
            "margin": null,
            "max_height": null,
            "max_width": null,
            "min_height": null,
            "min_width": null,
            "object_fit": null,
            "object_position": null,
            "order": null,
            "overflow": null,
            "overflow_x": null,
            "overflow_y": null,
            "padding": null,
            "right": null,
            "top": null,
            "visibility": null,
            "width": null
          }
        },
        "99d724297e3d4906b8b3b510a0442bce": {
          "model_module": "@jupyter-widgets/controls",
          "model_name": "DescriptionStyleModel",
          "model_module_version": "1.5.0",
          "state": {
            "_model_module": "@jupyter-widgets/controls",
            "_model_module_version": "1.5.0",
            "_model_name": "DescriptionStyleModel",
            "_view_count": null,
            "_view_module": "@jupyter-widgets/base",
            "_view_module_version": "1.2.0",
            "_view_name": "StyleView",
            "description_width": ""
          }
        },
        "6ee5a15413ca4f32b229b0208a0eaea5": {
          "model_module": "@jupyter-widgets/controls",
          "model_name": "HBoxModel",
          "model_module_version": "1.5.0",
          "state": {
            "_dom_classes": [],
            "_model_module": "@jupyter-widgets/controls",
            "_model_module_version": "1.5.0",
            "_model_name": "HBoxModel",
            "_view_count": null,
            "_view_module": "@jupyter-widgets/controls",
            "_view_module_version": "1.5.0",
            "_view_name": "HBoxView",
            "box_style": "",
            "children": [
              "IPY_MODEL_3e22b5ec9b144c58acfad55bbfa29e23",
              "IPY_MODEL_7e1b749f472a4bc1a9c550be25b3fbd5",
              "IPY_MODEL_6929a81d86ae41fea0f721d7182063db"
            ],
            "layout": "IPY_MODEL_21f48ded70694199ae19c0181bceb253"
          }
        },
        "3e22b5ec9b144c58acfad55bbfa29e23": {
          "model_module": "@jupyter-widgets/controls",
          "model_name": "HTMLModel",
          "model_module_version": "1.5.0",
          "state": {
            "_dom_classes": [],
            "_model_module": "@jupyter-widgets/controls",
            "_model_module_version": "1.5.0",
            "_model_name": "HTMLModel",
            "_view_count": null,
            "_view_module": "@jupyter-widgets/controls",
            "_view_module_version": "1.5.0",
            "_view_name": "HTMLView",
            "description": "",
            "description_tooltip": null,
            "layout": "IPY_MODEL_44bd72a7084d4c8f8caaddc5994716f7",
            "placeholder": "​",
            "style": "IPY_MODEL_5d0fc012d187497ba01dd521663c8e10",
            "value": ""
          }
        },
        "7e1b749f472a4bc1a9c550be25b3fbd5": {
          "model_module": "@jupyter-widgets/controls",
          "model_name": "FloatProgressModel",
          "model_module_version": "1.5.0",
          "state": {
            "_dom_classes": [],
            "_model_module": "@jupyter-widgets/controls",
            "_model_module_version": "1.5.0",
            "_model_name": "FloatProgressModel",
            "_view_count": null,
            "_view_module": "@jupyter-widgets/controls",
            "_view_module_version": "1.5.0",
            "_view_name": "ProgressView",
            "bar_style": "success",
            "description": "",
            "description_tooltip": null,
            "layout": "IPY_MODEL_1ab3696d6afc4b78b8d1fff359089e7f",
            "max": 5148,
            "min": 0,
            "orientation": "horizontal",
            "style": "IPY_MODEL_0a4178578536410c97567a065b20167d",
            "value": 5148
          }
        },
        "6929a81d86ae41fea0f721d7182063db": {
          "model_module": "@jupyter-widgets/controls",
          "model_name": "HTMLModel",
          "model_module_version": "1.5.0",
          "state": {
            "_dom_classes": [],
            "_model_module": "@jupyter-widgets/controls",
            "_model_module_version": "1.5.0",
            "_model_name": "HTMLModel",
            "_view_count": null,
            "_view_module": "@jupyter-widgets/controls",
            "_view_module_version": "1.5.0",
            "_view_name": "HTMLView",
            "description": "",
            "description_tooltip": null,
            "layout": "IPY_MODEL_3904ba356cb04ca78c2d383896d039f0",
            "placeholder": "​",
            "style": "IPY_MODEL_16ace24fcf3e420d9514e12f49918940",
            "value": " 6144/? [00:00&lt;00:00, 113153.50it/s]"
          }
        },
        "21f48ded70694199ae19c0181bceb253": {
          "model_module": "@jupyter-widgets/base",
          "model_name": "LayoutModel",
          "model_module_version": "1.2.0",
          "state": {
            "_model_module": "@jupyter-widgets/base",
            "_model_module_version": "1.2.0",
            "_model_name": "LayoutModel",
            "_view_count": null,
            "_view_module": "@jupyter-widgets/base",
            "_view_module_version": "1.2.0",
            "_view_name": "LayoutView",
            "align_content": null,
            "align_items": null,
            "align_self": null,
            "border": null,
            "bottom": null,
            "display": null,
            "flex": null,
            "flex_flow": null,
            "grid_area": null,
            "grid_auto_columns": null,
            "grid_auto_flow": null,
            "grid_auto_rows": null,
            "grid_column": null,
            "grid_gap": null,
            "grid_row": null,
            "grid_template_areas": null,
            "grid_template_columns": null,
            "grid_template_rows": null,
            "height": null,
            "justify_content": null,
            "justify_items": null,
            "left": null,
            "margin": null,
            "max_height": null,
            "max_width": null,
            "min_height": null,
            "min_width": null,
            "object_fit": null,
            "object_position": null,
            "order": null,
            "overflow": null,
            "overflow_x": null,
            "overflow_y": null,
            "padding": null,
            "right": null,
            "top": null,
            "visibility": null,
            "width": null
          }
        },
        "44bd72a7084d4c8f8caaddc5994716f7": {
          "model_module": "@jupyter-widgets/base",
          "model_name": "LayoutModel",
          "model_module_version": "1.2.0",
          "state": {
            "_model_module": "@jupyter-widgets/base",
            "_model_module_version": "1.2.0",
            "_model_name": "LayoutModel",
            "_view_count": null,
            "_view_module": "@jupyter-widgets/base",
            "_view_module_version": "1.2.0",
            "_view_name": "LayoutView",
            "align_content": null,
            "align_items": null,
            "align_self": null,
            "border": null,
            "bottom": null,
            "display": null,
            "flex": null,
            "flex_flow": null,
            "grid_area": null,
            "grid_auto_columns": null,
            "grid_auto_flow": null,
            "grid_auto_rows": null,
            "grid_column": null,
            "grid_gap": null,
            "grid_row": null,
            "grid_template_areas": null,
            "grid_template_columns": null,
            "grid_template_rows": null,
            "height": null,
            "justify_content": null,
            "justify_items": null,
            "left": null,
            "margin": null,
            "max_height": null,
            "max_width": null,
            "min_height": null,
            "min_width": null,
            "object_fit": null,
            "object_position": null,
            "order": null,
            "overflow": null,
            "overflow_x": null,
            "overflow_y": null,
            "padding": null,
            "right": null,
            "top": null,
            "visibility": null,
            "width": null
          }
        },
        "5d0fc012d187497ba01dd521663c8e10": {
          "model_module": "@jupyter-widgets/controls",
          "model_name": "DescriptionStyleModel",
          "model_module_version": "1.5.0",
          "state": {
            "_model_module": "@jupyter-widgets/controls",
            "_model_module_version": "1.5.0",
            "_model_name": "DescriptionStyleModel",
            "_view_count": null,
            "_view_module": "@jupyter-widgets/base",
            "_view_module_version": "1.2.0",
            "_view_name": "StyleView",
            "description_width": ""
          }
        },
        "1ab3696d6afc4b78b8d1fff359089e7f": {
          "model_module": "@jupyter-widgets/base",
          "model_name": "LayoutModel",
          "model_module_version": "1.2.0",
          "state": {
            "_model_module": "@jupyter-widgets/base",
            "_model_module_version": "1.2.0",
            "_model_name": "LayoutModel",
            "_view_count": null,
            "_view_module": "@jupyter-widgets/base",
            "_view_module_version": "1.2.0",
            "_view_name": "LayoutView",
            "align_content": null,
            "align_items": null,
            "align_self": null,
            "border": null,
            "bottom": null,
            "display": null,
            "flex": null,
            "flex_flow": null,
            "grid_area": null,
            "grid_auto_columns": null,
            "grid_auto_flow": null,
            "grid_auto_rows": null,
            "grid_column": null,
            "grid_gap": null,
            "grid_row": null,
            "grid_template_areas": null,
            "grid_template_columns": null,
            "grid_template_rows": null,
            "height": null,
            "justify_content": null,
            "justify_items": null,
            "left": null,
            "margin": null,
            "max_height": null,
            "max_width": null,
            "min_height": null,
            "min_width": null,
            "object_fit": null,
            "object_position": null,
            "order": null,
            "overflow": null,
            "overflow_x": null,
            "overflow_y": null,
            "padding": null,
            "right": null,
            "top": null,
            "visibility": null,
            "width": null
          }
        },
        "0a4178578536410c97567a065b20167d": {
          "model_module": "@jupyter-widgets/controls",
          "model_name": "ProgressStyleModel",
          "model_module_version": "1.5.0",
          "state": {
            "_model_module": "@jupyter-widgets/controls",
            "_model_module_version": "1.5.0",
            "_model_name": "ProgressStyleModel",
            "_view_count": null,
            "_view_module": "@jupyter-widgets/base",
            "_view_module_version": "1.2.0",
            "_view_name": "StyleView",
            "bar_color": null,
            "description_width": ""
          }
        },
        "3904ba356cb04ca78c2d383896d039f0": {
          "model_module": "@jupyter-widgets/base",
          "model_name": "LayoutModel",
          "model_module_version": "1.2.0",
          "state": {
            "_model_module": "@jupyter-widgets/base",
            "_model_module_version": "1.2.0",
            "_model_name": "LayoutModel",
            "_view_count": null,
            "_view_module": "@jupyter-widgets/base",
            "_view_module_version": "1.2.0",
            "_view_name": "LayoutView",
            "align_content": null,
            "align_items": null,
            "align_self": null,
            "border": null,
            "bottom": null,
            "display": null,
            "flex": null,
            "flex_flow": null,
            "grid_area": null,
            "grid_auto_columns": null,
            "grid_auto_flow": null,
            "grid_auto_rows": null,
            "grid_column": null,
            "grid_gap": null,
            "grid_row": null,
            "grid_template_areas": null,
            "grid_template_columns": null,
            "grid_template_rows": null,
            "height": null,
            "justify_content": null,
            "justify_items": null,
            "left": null,
            "margin": null,
            "max_height": null,
            "max_width": null,
            "min_height": null,
            "min_width": null,
            "object_fit": null,
            "object_position": null,
            "order": null,
            "overflow": null,
            "overflow_x": null,
            "overflow_y": null,
            "padding": null,
            "right": null,
            "top": null,
            "visibility": null,
            "width": null
          }
        },
        "16ace24fcf3e420d9514e12f49918940": {
          "model_module": "@jupyter-widgets/controls",
          "model_name": "DescriptionStyleModel",
          "model_module_version": "1.5.0",
          "state": {
            "_model_module": "@jupyter-widgets/controls",
            "_model_module_version": "1.5.0",
            "_model_name": "DescriptionStyleModel",
            "_view_count": null,
            "_view_module": "@jupyter-widgets/base",
            "_view_module_version": "1.2.0",
            "_view_name": "StyleView",
            "description_width": ""
          }
        }
      }
    }
  },
  "cells": [
    {
      "cell_type": "markdown",
      "metadata": {
        "id": "view-in-github",
        "colab_type": "text"
      },
      "source": [
        "<a href=\"https://colab.research.google.com/github/rudolfbob/ADL/blob/main/Tugas2_Rudolf.ipynb\" target=\"_parent\"><img src=\"https://colab.research.google.com/assets/colab-badge.svg\" alt=\"Open In Colab\"/></a>"
      ]
    },
    {
      "cell_type": "markdown",
      "source": [
        "# **3.1. Linear Regression**"
      ],
      "metadata": {
        "id": "bQCAvmcMSpVV"
      }
    },
    {
      "cell_type": "markdown",
      "source": [
        "# **3.1.2. Vectorization for Speed**"
      ],
      "metadata": {
        "id": "hvrcNR2WSupr"
      }
    },
    {
      "cell_type": "code",
      "source": [
        "%matplotlib inline\n",
        "import math\n",
        "import time\n",
        "import numpy as np\n",
        "import torch\n",
        "from d2l import torch as d2l"
      ],
      "metadata": {
        "id": "71HDroikZq6a"
      },
      "execution_count": null,
      "outputs": []
    },
    {
      "cell_type": "code",
      "source": [
        "n = 10000\n",
        "a = torch.ones(n)\n",
        "b = torch.ones(n)"
      ],
      "metadata": {
        "id": "EneB5VvOZyiz"
      },
      "execution_count": null,
      "outputs": []
    },
    {
      "cell_type": "code",
      "source": [
        "class Timer:\n",
        "    \"\"\"Record multiple running times.\"\"\"\n",
        "    def __init__(self):\n",
        "        self.times = []\n",
        "        self.start()\n",
        "\n",
        "    def start(self):\n",
        "        \"\"\"Start the timer.\"\"\"\n",
        "        self.tik = time.time()\n",
        "\n",
        "    def stop(self):\n",
        "        \"\"\"Stop the timer and record the time in a list.\"\"\"\n",
        "        self.times.append(time.time() - self.tik)\n",
        "        return self.times[-1]\n",
        "\n",
        "    def avg(self):\n",
        "        \"\"\"Return the average time.\"\"\"\n",
        "        return sum(self.times) / len(self.times)\n",
        "\n",
        "    def sum(self):\n",
        "        \"\"\"Return the sum of time.\"\"\"\n",
        "        return sum(self.times)\n",
        "\n",
        "    def cumsum(self):\n",
        "        \"\"\"Return the accumulated time.\"\"\"\n",
        "        return np.array(self.times).cumsum().tolist()"
      ],
      "metadata": {
        "id": "uhlwTjDWa-w-"
      },
      "execution_count": null,
      "outputs": []
    },
    {
      "cell_type": "code",
      "source": [
        "c = torch.zeros(n)\n",
        "timer = Timer()\n",
        "for i in range(n):\n",
        "    c[i] = a[i] + b[i]\n",
        "f'{timer.stop():.5f} sec'"
      ],
      "metadata": {
        "colab": {
          "base_uri": "https://localhost:8080/",
          "height": 35
        },
        "id": "2O8AbNekbHmm",
        "outputId": "e2d111bd-2224-4277-dd51-18732580027b"
      },
      "execution_count": null,
      "outputs": [
        {
          "output_type": "execute_result",
          "data": {
            "text/plain": [
              "'0.11241 sec'"
            ],
            "application/vnd.google.colaboratory.intrinsic+json": {
              "type": "string"
            }
          },
          "metadata": {},
          "execution_count": 5
        }
      ]
    },
    {
      "cell_type": "code",
      "source": [
        "timer.start()\n",
        "d = a + b\n",
        "f'{timer.stop():.5f} sec'"
      ],
      "metadata": {
        "colab": {
          "base_uri": "https://localhost:8080/",
          "height": 35
        },
        "id": "b1jbWoJcbMbp",
        "outputId": "162cbc2f-1400-401d-d0ee-9715ff7f9345"
      },
      "execution_count": null,
      "outputs": [
        {
          "output_type": "execute_result",
          "data": {
            "text/plain": [
              "'0.00019 sec'"
            ],
            "application/vnd.google.colaboratory.intrinsic+json": {
              "type": "string"
            }
          },
          "metadata": {},
          "execution_count": 6
        }
      ]
    },
    {
      "cell_type": "markdown",
      "source": [
        "# **3.1.3. The Normal Distribution and Squared Loss**"
      ],
      "metadata": {
        "id": "7IbcgUZxVQRH"
      }
    },
    {
      "cell_type": "code",
      "source": [
        "def normal(x, mu, sigma):\n",
        "    p = 1 / math.sqrt(2 * math.pi * sigma**2)\n",
        "    return p * np.exp(-0.5 / sigma**2 * (x - mu)**2)"
      ],
      "metadata": {
        "id": "XgyJCHvIbYhv"
      },
      "execution_count": null,
      "outputs": []
    },
    {
      "cell_type": "code",
      "source": [
        "# Use numpy again for visualization\n",
        "x = np.arange(-7, 7, 0.01)\n",
        "\n",
        "# Mean and standard deviation pairs\n",
        "params = [(0, 1), (0, 2), (3, 1)]\n",
        "d2l.plot(x, [normal(x, mu, sigma) for mu, sigma in params], xlabel='x',\n",
        "         ylabel='p(x)', figsize=(4.5, 2.5),\n",
        "         legend=[f'mean {mu}, std {sigma}' for mu, sigma in params])"
      ],
      "metadata": {
        "colab": {
          "base_uri": "https://localhost:8080/",
          "height": 267
        },
        "id": "WChtH_1eba8L",
        "outputId": "9e27ff97-38cc-4cc5-d451-369ded459c04"
      },
      "execution_count": null,
      "outputs": [
        {
          "output_type": "display_data",
          "data": {
            "text/plain": [
              "<Figure size 324x180 with 1 Axes>"
            ],
            "image/svg+xml": "<?xml version=\"1.0\" encoding=\"utf-8\" standalone=\"no\"?>\n<!DOCTYPE svg PUBLIC \"-//W3C//DTD SVG 1.1//EN\"\n  \"http://www.w3.org/Graphics/SVG/1.1/DTD/svg11.dtd\">\n<!-- Created with matplotlib (https://matplotlib.org/) -->\n<svg height=\"184.15625pt\" version=\"1.1\" viewBox=\"0 0 305.58125 184.15625\" width=\"305.58125pt\" xmlns=\"http://www.w3.org/2000/svg\" xmlns:xlink=\"http://www.w3.org/1999/xlink\">\n <defs>\n  <style type=\"text/css\">\n*{stroke-linecap:butt;stroke-linejoin:round;}\n  </style>\n </defs>\n <g id=\"figure_1\">\n  <g id=\"patch_1\">\n   <path d=\"M 0 184.15625 \nL 305.58125 184.15625 \nL 305.58125 -0 \nL 0 -0 \nz\n\" style=\"fill:none;\"/>\n  </g>\n  <g id=\"axes_1\">\n   <g id=\"patch_2\">\n    <path d=\"M 43.78125 146.6 \nL 294.88125 146.6 \nL 294.88125 10.7 \nL 43.78125 10.7 \nz\n\" style=\"fill:#ffffff;\"/>\n   </g>\n   <g id=\"matplotlib.axis_1\">\n    <g id=\"xtick_1\">\n     <g id=\"line2d_1\">\n      <path clip-path=\"url(#p96023dccd1)\" d=\"M 71.511736 146.6 \nL 71.511736 10.7 \n\" style=\"fill:none;stroke:#b0b0b0;stroke-linecap:square;stroke-width:0.8;\"/>\n     </g>\n     <g id=\"line2d_2\">\n      <defs>\n       <path d=\"M 0 0 \nL 0 3.5 \n\" id=\"m435c19267f\" style=\"stroke:#000000;stroke-width:0.8;\"/>\n      </defs>\n      <g>\n       <use style=\"stroke:#000000;stroke-width:0.8;\" x=\"71.511736\" xlink:href=\"#m435c19267f\" y=\"146.6\"/>\n      </g>\n     </g>\n     <g id=\"text_1\">\n      <!-- −6 -->\n      <defs>\n       <path d=\"M 10.59375 35.5 \nL 73.1875 35.5 \nL 73.1875 27.203125 \nL 10.59375 27.203125 \nz\n\" id=\"DejaVuSans-8722\"/>\n       <path d=\"M 33.015625 40.375 \nQ 26.375 40.375 22.484375 35.828125 \nQ 18.609375 31.296875 18.609375 23.390625 \nQ 18.609375 15.53125 22.484375 10.953125 \nQ 26.375 6.390625 33.015625 6.390625 \nQ 39.65625 6.390625 43.53125 10.953125 \nQ 47.40625 15.53125 47.40625 23.390625 \nQ 47.40625 31.296875 43.53125 35.828125 \nQ 39.65625 40.375 33.015625 40.375 \nz\nM 52.59375 71.296875 \nL 52.59375 62.3125 \nQ 48.875 64.0625 45.09375 64.984375 \nQ 41.3125 65.921875 37.59375 65.921875 \nQ 27.828125 65.921875 22.671875 59.328125 \nQ 17.53125 52.734375 16.796875 39.40625 \nQ 19.671875 43.65625 24.015625 45.921875 \nQ 28.375 48.1875 33.59375 48.1875 \nQ 44.578125 48.1875 50.953125 41.515625 \nQ 57.328125 34.859375 57.328125 23.390625 \nQ 57.328125 12.15625 50.6875 5.359375 \nQ 44.046875 -1.421875 33.015625 -1.421875 \nQ 20.359375 -1.421875 13.671875 8.265625 \nQ 6.984375 17.96875 6.984375 36.375 \nQ 6.984375 53.65625 15.1875 63.9375 \nQ 23.390625 74.21875 37.203125 74.21875 \nQ 40.921875 74.21875 44.703125 73.484375 \nQ 48.484375 72.75 52.59375 71.296875 \nz\n\" id=\"DejaVuSans-54\"/>\n      </defs>\n      <g transform=\"translate(64.140642 161.198437)scale(0.1 -0.1)\">\n       <use xlink:href=\"#DejaVuSans-8722\"/>\n       <use x=\"83.789062\" xlink:href=\"#DejaVuSans-54\"/>\n      </g>\n     </g>\n    </g>\n    <g id=\"xtick_2\">\n     <g id=\"line2d_3\">\n      <path clip-path=\"url(#p96023dccd1)\" d=\"M 104.145435 146.6 \nL 104.145435 10.7 \n\" style=\"fill:none;stroke:#b0b0b0;stroke-linecap:square;stroke-width:0.8;\"/>\n     </g>\n     <g id=\"line2d_4\">\n      <g>\n       <use style=\"stroke:#000000;stroke-width:0.8;\" x=\"104.145435\" xlink:href=\"#m435c19267f\" y=\"146.6\"/>\n      </g>\n     </g>\n     <g id=\"text_2\">\n      <!-- −4 -->\n      <defs>\n       <path d=\"M 37.796875 64.3125 \nL 12.890625 25.390625 \nL 37.796875 25.390625 \nz\nM 35.203125 72.90625 \nL 47.609375 72.90625 \nL 47.609375 25.390625 \nL 58.015625 25.390625 \nL 58.015625 17.1875 \nL 47.609375 17.1875 \nL 47.609375 0 \nL 37.796875 0 \nL 37.796875 17.1875 \nL 4.890625 17.1875 \nL 4.890625 26.703125 \nz\n\" id=\"DejaVuSans-52\"/>\n      </defs>\n      <g transform=\"translate(96.774342 161.198437)scale(0.1 -0.1)\">\n       <use xlink:href=\"#DejaVuSans-8722\"/>\n       <use x=\"83.789062\" xlink:href=\"#DejaVuSans-52\"/>\n      </g>\n     </g>\n    </g>\n    <g id=\"xtick_3\">\n     <g id=\"line2d_5\">\n      <path clip-path=\"url(#p96023dccd1)\" d=\"M 136.779135 146.6 \nL 136.779135 10.7 \n\" style=\"fill:none;stroke:#b0b0b0;stroke-linecap:square;stroke-width:0.8;\"/>\n     </g>\n     <g id=\"line2d_6\">\n      <g>\n       <use style=\"stroke:#000000;stroke-width:0.8;\" x=\"136.779135\" xlink:href=\"#m435c19267f\" y=\"146.6\"/>\n      </g>\n     </g>\n     <g id=\"text_3\">\n      <!-- −2 -->\n      <defs>\n       <path d=\"M 19.1875 8.296875 \nL 53.609375 8.296875 \nL 53.609375 0 \nL 7.328125 0 \nL 7.328125 8.296875 \nQ 12.9375 14.109375 22.625 23.890625 \nQ 32.328125 33.6875 34.8125 36.53125 \nQ 39.546875 41.84375 41.421875 45.53125 \nQ 43.3125 49.21875 43.3125 52.78125 \nQ 43.3125 58.59375 39.234375 62.25 \nQ 35.15625 65.921875 28.609375 65.921875 \nQ 23.96875 65.921875 18.8125 64.3125 \nQ 13.671875 62.703125 7.8125 59.421875 \nL 7.8125 69.390625 \nQ 13.765625 71.78125 18.9375 73 \nQ 24.125 74.21875 28.421875 74.21875 \nQ 39.75 74.21875 46.484375 68.546875 \nQ 53.21875 62.890625 53.21875 53.421875 \nQ 53.21875 48.921875 51.53125 44.890625 \nQ 49.859375 40.875 45.40625 35.40625 \nQ 44.1875 33.984375 37.640625 27.21875 \nQ 31.109375 20.453125 19.1875 8.296875 \nz\n\" id=\"DejaVuSans-50\"/>\n      </defs>\n      <g transform=\"translate(129.408041 161.198437)scale(0.1 -0.1)\">\n       <use xlink:href=\"#DejaVuSans-8722\"/>\n       <use x=\"83.789062\" xlink:href=\"#DejaVuSans-50\"/>\n      </g>\n     </g>\n    </g>\n    <g id=\"xtick_4\">\n     <g id=\"line2d_7\">\n      <path clip-path=\"url(#p96023dccd1)\" d=\"M 169.412834 146.6 \nL 169.412834 10.7 \n\" style=\"fill:none;stroke:#b0b0b0;stroke-linecap:square;stroke-width:0.8;\"/>\n     </g>\n     <g id=\"line2d_8\">\n      <g>\n       <use style=\"stroke:#000000;stroke-width:0.8;\" x=\"169.412834\" xlink:href=\"#m435c19267f\" y=\"146.6\"/>\n      </g>\n     </g>\n     <g id=\"text_4\">\n      <!-- 0 -->\n      <defs>\n       <path d=\"M 31.78125 66.40625 \nQ 24.171875 66.40625 20.328125 58.90625 \nQ 16.5 51.421875 16.5 36.375 \nQ 16.5 21.390625 20.328125 13.890625 \nQ 24.171875 6.390625 31.78125 6.390625 \nQ 39.453125 6.390625 43.28125 13.890625 \nQ 47.125 21.390625 47.125 36.375 \nQ 47.125 51.421875 43.28125 58.90625 \nQ 39.453125 66.40625 31.78125 66.40625 \nz\nM 31.78125 74.21875 \nQ 44.046875 74.21875 50.515625 64.515625 \nQ 56.984375 54.828125 56.984375 36.375 \nQ 56.984375 17.96875 50.515625 8.265625 \nQ 44.046875 -1.421875 31.78125 -1.421875 \nQ 19.53125 -1.421875 13.0625 8.265625 \nQ 6.59375 17.96875 6.59375 36.375 \nQ 6.59375 54.828125 13.0625 64.515625 \nQ 19.53125 74.21875 31.78125 74.21875 \nz\n\" id=\"DejaVuSans-48\"/>\n      </defs>\n      <g transform=\"translate(166.231584 161.198437)scale(0.1 -0.1)\">\n       <use xlink:href=\"#DejaVuSans-48\"/>\n      </g>\n     </g>\n    </g>\n    <g id=\"xtick_5\">\n     <g id=\"line2d_9\">\n      <path clip-path=\"url(#p96023dccd1)\" d=\"M 202.046534 146.6 \nL 202.046534 10.7 \n\" style=\"fill:none;stroke:#b0b0b0;stroke-linecap:square;stroke-width:0.8;\"/>\n     </g>\n     <g id=\"line2d_10\">\n      <g>\n       <use style=\"stroke:#000000;stroke-width:0.8;\" x=\"202.046534\" xlink:href=\"#m435c19267f\" y=\"146.6\"/>\n      </g>\n     </g>\n     <g id=\"text_5\">\n      <!-- 2 -->\n      <g transform=\"translate(198.865284 161.198437)scale(0.1 -0.1)\">\n       <use xlink:href=\"#DejaVuSans-50\"/>\n      </g>\n     </g>\n    </g>\n    <g id=\"xtick_6\">\n     <g id=\"line2d_11\">\n      <path clip-path=\"url(#p96023dccd1)\" d=\"M 234.680233 146.6 \nL 234.680233 10.7 \n\" style=\"fill:none;stroke:#b0b0b0;stroke-linecap:square;stroke-width:0.8;\"/>\n     </g>\n     <g id=\"line2d_12\">\n      <g>\n       <use style=\"stroke:#000000;stroke-width:0.8;\" x=\"234.680233\" xlink:href=\"#m435c19267f\" y=\"146.6\"/>\n      </g>\n     </g>\n     <g id=\"text_6\">\n      <!-- 4 -->\n      <g transform=\"translate(231.498983 161.198437)scale(0.1 -0.1)\">\n       <use xlink:href=\"#DejaVuSans-52\"/>\n      </g>\n     </g>\n    </g>\n    <g id=\"xtick_7\">\n     <g id=\"line2d_13\">\n      <path clip-path=\"url(#p96023dccd1)\" d=\"M 267.313932 146.6 \nL 267.313932 10.7 \n\" style=\"fill:none;stroke:#b0b0b0;stroke-linecap:square;stroke-width:0.8;\"/>\n     </g>\n     <g id=\"line2d_14\">\n      <g>\n       <use style=\"stroke:#000000;stroke-width:0.8;\" x=\"267.313932\" xlink:href=\"#m435c19267f\" y=\"146.6\"/>\n      </g>\n     </g>\n     <g id=\"text_7\">\n      <!-- 6 -->\n      <g transform=\"translate(264.132682 161.198437)scale(0.1 -0.1)\">\n       <use xlink:href=\"#DejaVuSans-54\"/>\n      </g>\n     </g>\n    </g>\n    <g id=\"text_8\">\n     <!-- x -->\n     <defs>\n      <path d=\"M 54.890625 54.6875 \nL 35.109375 28.078125 \nL 55.90625 0 \nL 45.3125 0 \nL 29.390625 21.484375 \nL 13.484375 0 \nL 2.875 0 \nL 24.125 28.609375 \nL 4.6875 54.6875 \nL 15.28125 54.6875 \nL 29.78125 35.203125 \nL 44.28125 54.6875 \nz\n\" id=\"DejaVuSans-120\"/>\n     </defs>\n     <g transform=\"translate(166.371875 174.876562)scale(0.1 -0.1)\">\n      <use xlink:href=\"#DejaVuSans-120\"/>\n     </g>\n    </g>\n   </g>\n   <g id=\"matplotlib.axis_2\">\n    <g id=\"ytick_1\">\n     <g id=\"line2d_15\">\n      <path clip-path=\"url(#p96023dccd1)\" d=\"M 43.78125 140.422727 \nL 294.88125 140.422727 \n\" style=\"fill:none;stroke:#b0b0b0;stroke-linecap:square;stroke-width:0.8;\"/>\n     </g>\n     <g id=\"line2d_16\">\n      <defs>\n       <path d=\"M 0 0 \nL -3.5 0 \n\" id=\"m2ba837ff87\" style=\"stroke:#000000;stroke-width:0.8;\"/>\n      </defs>\n      <g>\n       <use style=\"stroke:#000000;stroke-width:0.8;\" x=\"43.78125\" xlink:href=\"#m2ba837ff87\" y=\"140.422727\"/>\n      </g>\n     </g>\n     <g id=\"text_9\">\n      <!-- 0.0 -->\n      <defs>\n       <path d=\"M 10.6875 12.40625 \nL 21 12.40625 \nL 21 0 \nL 10.6875 0 \nz\n\" id=\"DejaVuSans-46\"/>\n      </defs>\n      <g transform=\"translate(20.878125 144.221946)scale(0.1 -0.1)\">\n       <use xlink:href=\"#DejaVuSans-48\"/>\n       <use x=\"63.623047\" xlink:href=\"#DejaVuSans-46\"/>\n       <use x=\"95.410156\" xlink:href=\"#DejaVuSans-48\"/>\n      </g>\n     </g>\n    </g>\n    <g id=\"ytick_2\">\n     <g id=\"line2d_17\">\n      <path clip-path=\"url(#p96023dccd1)\" d=\"M 43.78125 109.454474 \nL 294.88125 109.454474 \n\" style=\"fill:none;stroke:#b0b0b0;stroke-linecap:square;stroke-width:0.8;\"/>\n     </g>\n     <g id=\"line2d_18\">\n      <g>\n       <use style=\"stroke:#000000;stroke-width:0.8;\" x=\"43.78125\" xlink:href=\"#m2ba837ff87\" y=\"109.454474\"/>\n      </g>\n     </g>\n     <g id=\"text_10\">\n      <!-- 0.1 -->\n      <defs>\n       <path d=\"M 12.40625 8.296875 \nL 28.515625 8.296875 \nL 28.515625 63.921875 \nL 10.984375 60.40625 \nL 10.984375 69.390625 \nL 28.421875 72.90625 \nL 38.28125 72.90625 \nL 38.28125 8.296875 \nL 54.390625 8.296875 \nL 54.390625 0 \nL 12.40625 0 \nz\n\" id=\"DejaVuSans-49\"/>\n      </defs>\n      <g transform=\"translate(20.878125 113.253693)scale(0.1 -0.1)\">\n       <use xlink:href=\"#DejaVuSans-48\"/>\n       <use x=\"63.623047\" xlink:href=\"#DejaVuSans-46\"/>\n       <use x=\"95.410156\" xlink:href=\"#DejaVuSans-49\"/>\n      </g>\n     </g>\n    </g>\n    <g id=\"ytick_3\">\n     <g id=\"line2d_19\">\n      <path clip-path=\"url(#p96023dccd1)\" d=\"M 43.78125 78.486221 \nL 294.88125 78.486221 \n\" style=\"fill:none;stroke:#b0b0b0;stroke-linecap:square;stroke-width:0.8;\"/>\n     </g>\n     <g id=\"line2d_20\">\n      <g>\n       <use style=\"stroke:#000000;stroke-width:0.8;\" x=\"43.78125\" xlink:href=\"#m2ba837ff87\" y=\"78.486221\"/>\n      </g>\n     </g>\n     <g id=\"text_11\">\n      <!-- 0.2 -->\n      <g transform=\"translate(20.878125 82.28544)scale(0.1 -0.1)\">\n       <use xlink:href=\"#DejaVuSans-48\"/>\n       <use x=\"63.623047\" xlink:href=\"#DejaVuSans-46\"/>\n       <use x=\"95.410156\" xlink:href=\"#DejaVuSans-50\"/>\n      </g>\n     </g>\n    </g>\n    <g id=\"ytick_4\">\n     <g id=\"line2d_21\">\n      <path clip-path=\"url(#p96023dccd1)\" d=\"M 43.78125 47.517968 \nL 294.88125 47.517968 \n\" style=\"fill:none;stroke:#b0b0b0;stroke-linecap:square;stroke-width:0.8;\"/>\n     </g>\n     <g id=\"line2d_22\">\n      <g>\n       <use style=\"stroke:#000000;stroke-width:0.8;\" x=\"43.78125\" xlink:href=\"#m2ba837ff87\" y=\"47.517968\"/>\n      </g>\n     </g>\n     <g id=\"text_12\">\n      <!-- 0.3 -->\n      <defs>\n       <path d=\"M 40.578125 39.3125 \nQ 47.65625 37.796875 51.625 33 \nQ 55.609375 28.21875 55.609375 21.1875 \nQ 55.609375 10.40625 48.1875 4.484375 \nQ 40.765625 -1.421875 27.09375 -1.421875 \nQ 22.515625 -1.421875 17.65625 -0.515625 \nQ 12.796875 0.390625 7.625 2.203125 \nL 7.625 11.71875 \nQ 11.71875 9.328125 16.59375 8.109375 \nQ 21.484375 6.890625 26.8125 6.890625 \nQ 36.078125 6.890625 40.9375 10.546875 \nQ 45.796875 14.203125 45.796875 21.1875 \nQ 45.796875 27.640625 41.28125 31.265625 \nQ 36.765625 34.90625 28.71875 34.90625 \nL 20.21875 34.90625 \nL 20.21875 43.015625 \nL 29.109375 43.015625 \nQ 36.375 43.015625 40.234375 45.921875 \nQ 44.09375 48.828125 44.09375 54.296875 \nQ 44.09375 59.90625 40.109375 62.90625 \nQ 36.140625 65.921875 28.71875 65.921875 \nQ 24.65625 65.921875 20.015625 65.03125 \nQ 15.375 64.15625 9.8125 62.3125 \nL 9.8125 71.09375 \nQ 15.4375 72.65625 20.34375 73.4375 \nQ 25.25 74.21875 29.59375 74.21875 \nQ 40.828125 74.21875 47.359375 69.109375 \nQ 53.90625 64.015625 53.90625 55.328125 \nQ 53.90625 49.265625 50.4375 45.09375 \nQ 46.96875 40.921875 40.578125 39.3125 \nz\n\" id=\"DejaVuSans-51\"/>\n      </defs>\n      <g transform=\"translate(20.878125 51.317187)scale(0.1 -0.1)\">\n       <use xlink:href=\"#DejaVuSans-48\"/>\n       <use x=\"63.623047\" xlink:href=\"#DejaVuSans-46\"/>\n       <use x=\"95.410156\" xlink:href=\"#DejaVuSans-51\"/>\n      </g>\n     </g>\n    </g>\n    <g id=\"ytick_5\">\n     <g id=\"line2d_23\">\n      <path clip-path=\"url(#p96023dccd1)\" d=\"M 43.78125 16.549715 \nL 294.88125 16.549715 \n\" style=\"fill:none;stroke:#b0b0b0;stroke-linecap:square;stroke-width:0.8;\"/>\n     </g>\n     <g id=\"line2d_24\">\n      <g>\n       <use style=\"stroke:#000000;stroke-width:0.8;\" x=\"43.78125\" xlink:href=\"#m2ba837ff87\" y=\"16.549715\"/>\n      </g>\n     </g>\n     <g id=\"text_13\">\n      <!-- 0.4 -->\n      <g transform=\"translate(20.878125 20.348934)scale(0.1 -0.1)\">\n       <use xlink:href=\"#DejaVuSans-48\"/>\n       <use x=\"63.623047\" xlink:href=\"#DejaVuSans-46\"/>\n       <use x=\"95.410156\" xlink:href=\"#DejaVuSans-52\"/>\n      </g>\n     </g>\n    </g>\n    <g id=\"text_14\">\n     <!-- p(x) -->\n     <defs>\n      <path d=\"M 18.109375 8.203125 \nL 18.109375 -20.796875 \nL 9.078125 -20.796875 \nL 9.078125 54.6875 \nL 18.109375 54.6875 \nL 18.109375 46.390625 \nQ 20.953125 51.265625 25.265625 53.625 \nQ 29.59375 56 35.59375 56 \nQ 45.5625 56 51.78125 48.09375 \nQ 58.015625 40.1875 58.015625 27.296875 \nQ 58.015625 14.40625 51.78125 6.484375 \nQ 45.5625 -1.421875 35.59375 -1.421875 \nQ 29.59375 -1.421875 25.265625 0.953125 \nQ 20.953125 3.328125 18.109375 8.203125 \nz\nM 48.6875 27.296875 \nQ 48.6875 37.203125 44.609375 42.84375 \nQ 40.53125 48.484375 33.40625 48.484375 \nQ 26.265625 48.484375 22.1875 42.84375 \nQ 18.109375 37.203125 18.109375 27.296875 \nQ 18.109375 17.390625 22.1875 11.75 \nQ 26.265625 6.109375 33.40625 6.109375 \nQ 40.53125 6.109375 44.609375 11.75 \nQ 48.6875 17.390625 48.6875 27.296875 \nz\n\" id=\"DejaVuSans-112\"/>\n      <path d=\"M 31 75.875 \nQ 24.46875 64.65625 21.28125 53.65625 \nQ 18.109375 42.671875 18.109375 31.390625 \nQ 18.109375 20.125 21.3125 9.0625 \nQ 24.515625 -2 31 -13.1875 \nL 23.1875 -13.1875 \nQ 15.875 -1.703125 12.234375 9.375 \nQ 8.59375 20.453125 8.59375 31.390625 \nQ 8.59375 42.28125 12.203125 53.3125 \nQ 15.828125 64.359375 23.1875 75.875 \nz\n\" id=\"DejaVuSans-40\"/>\n      <path d=\"M 8.015625 75.875 \nL 15.828125 75.875 \nQ 23.140625 64.359375 26.78125 53.3125 \nQ 30.421875 42.28125 30.421875 31.390625 \nQ 30.421875 20.453125 26.78125 9.375 \nQ 23.140625 -1.703125 15.828125 -13.1875 \nL 8.015625 -13.1875 \nQ 14.5 -2 17.703125 9.0625 \nQ 20.90625 20.125 20.90625 31.390625 \nQ 20.90625 42.671875 17.703125 53.65625 \nQ 14.5 64.65625 8.015625 75.875 \nz\n\" id=\"DejaVuSans-41\"/>\n     </defs>\n     <g transform=\"translate(14.798438 88.685156)rotate(-90)scale(0.1 -0.1)\">\n      <use xlink:href=\"#DejaVuSans-112\"/>\n      <use x=\"63.476562\" xlink:href=\"#DejaVuSans-40\"/>\n      <use x=\"102.490234\" xlink:href=\"#DejaVuSans-120\"/>\n      <use x=\"161.669922\" xlink:href=\"#DejaVuSans-41\"/>\n     </g>\n    </g>\n   </g>\n   <g id=\"line2d_25\">\n    <path clip-path=\"url(#p96023dccd1)\" d=\"M 55.194886 140.422727 \nL 108.224648 140.313535 \nL 113.609208 140.066288 \nL 117.198915 139.684417 \nL 119.97278 139.168952 \nL 122.257139 138.525186 \nL 124.215161 137.757847 \nL 126.010014 136.830368 \nL 127.804868 135.638334 \nL 129.436552 134.279445 \nL 131.068237 132.613085 \nL 132.699922 130.593512 \nL 134.331607 128.17477 \nL 135.963292 125.312692 \nL 137.594977 121.967288 \nL 139.226662 118.105495 \nL 141.021516 113.233818 \nL 142.816369 107.697078 \nL 144.774391 100.912516 \nL 146.895582 92.747632 \nL 149.506278 81.724523 \nL 153.259153 64.739305 \nL 157.501534 45.775258 \nL 159.785893 36.613056 \nL 161.580746 30.320515 \nL 163.049263 25.924523 \nL 164.354611 22.673268 \nL 165.49679 20.384633 \nL 166.475801 18.862585 \nL 167.454812 17.763605 \nL 168.270655 17.179589 \nL 169.086497 16.901979 \nL 169.739171 16.901979 \nL 170.391845 17.099455 \nL 171.207688 17.622466 \nL 172.02353 18.448577 \nL 173.002541 19.831186 \nL 173.981552 21.62656 \nL 175.123732 24.217347 \nL 176.42908 27.786979 \nL 177.897596 32.500684 \nL 179.69245 39.115359 \nL 181.81364 47.867165 \nL 184.913841 61.745076 \nL 190.46157 86.661144 \nL 192.909098 96.615047 \nL 195.030288 104.399673 \nL 196.98831 110.799489 \nL 198.783164 115.973243 \nL 200.578017 120.486089 \nL 202.209702 124.034567 \nL 203.841387 127.0855 \nL 205.473072 129.676453 \nL 207.104757 131.85023 \nL 208.736442 133.652334 \nL 210.368127 135.128806 \nL 211.999812 136.324481 \nL 213.794665 137.365803 \nL 215.752687 138.23293 \nL 217.873878 138.921686 \nL 220.321405 139.47206 \nL 223.258438 139.889278 \nL 227.011314 140.17952 \nL 232.395874 140.350878 \nL 243.001826 140.417995 \nL 283.467614 140.422727 \nL 283.467614 140.422727 \n\" style=\"fill:none;stroke:#1f77b4;stroke-linecap:square;stroke-width:1.5;\"/>\n   </g>\n   <g id=\"line2d_26\">\n    <path clip-path=\"url(#p96023dccd1)\" d=\"M 55.194886 140.2876 \nL 65.800839 140.022951 \nL 73.143421 139.626434 \nL 79.017487 139.090287 \nL 83.912542 138.426494 \nL 88.318091 137.605229 \nL 92.234135 136.653577 \nL 95.823842 135.56316 \nL 99.250381 134.298749 \nL 102.51375 132.867709 \nL 105.77712 131.195008 \nL 109.04049 129.264111 \nL 112.30386 127.063438 \nL 115.56723 124.587897 \nL 118.993769 121.696043 \nL 122.583476 118.360886 \nL 126.49952 114.403144 \nL 131.068237 109.448686 \nL 138.247651 101.270807 \nL 144.611223 94.144946 \nL 148.527267 90.089675 \nL 151.790637 87.030672 \nL 154.564501 84.724436 \nL 157.175197 82.844214 \nL 159.459556 81.457408 \nL 161.743915 80.332365 \nL 163.865105 79.536198 \nL 165.823127 79.022597 \nL 167.781149 78.727168 \nL 169.739171 78.653089 \nL 171.697193 78.801158 \nL 173.655215 79.16978 \nL 175.613237 79.754995 \nL 177.734428 80.626088 \nL 179.855618 81.733161 \nL 182.139977 83.173625 \nL 184.587504 84.98006 \nL 187.361369 87.320867 \nL 190.46157 90.251111 \nL 194.051277 93.969337 \nL 198.783164 99.221751 \nL 211.673475 113.715093 \nL 215.752687 117.883393 \nL 219.505563 121.40542 \nL 222.932101 124.32526 \nL 226.195471 126.828273 \nL 229.458841 129.056324 \nL 232.722211 131.013772 \nL 235.985581 132.711619 \nL 239.248951 134.165971 \nL 242.675489 135.45258 \nL 246.265196 136.563568 \nL 250.18124 137.534481 \nL 254.423621 138.346714 \nL 259.155508 139.014669 \nL 264.540068 139.540363 \nL 270.903639 139.932354 \nL 279.225233 140.207949 \nL 283.467614 140.285216 \nL 283.467614 140.285216 \n\" style=\"fill:none;stroke:#bf00bf;stroke-dasharray:5.55,2.4;stroke-dashoffset:0;stroke-width:1.5;\"/>\n   </g>\n   <g id=\"line2d_27\">\n    <path clip-path=\"url(#p96023dccd1)\" d=\"M 55.194886 140.422727 \nL 157.175197 140.313535 \nL 162.559757 140.066288 \nL 166.149464 139.684417 \nL 168.923329 139.168952 \nL 171.207688 138.525186 \nL 173.16571 137.757847 \nL 174.960563 136.830368 \nL 176.755417 135.638334 \nL 178.387102 134.279445 \nL 180.018787 132.613085 \nL 181.650472 130.593512 \nL 183.282156 128.17477 \nL 184.913841 125.312692 \nL 186.545526 121.967288 \nL 188.177211 118.105495 \nL 189.972065 113.233818 \nL 191.766918 107.697078 \nL 193.72494 100.912516 \nL 195.846131 92.747632 \nL 198.456827 81.724523 \nL 202.209702 64.739305 \nL 206.452083 45.775258 \nL 208.736442 36.613056 \nL 210.531295 30.320515 \nL 211.999812 25.924523 \nL 213.30516 22.673268 \nL 214.447339 20.384633 \nL 215.42635 18.862585 \nL 216.405361 17.763605 \nL 217.221204 17.179589 \nL 218.037046 16.901979 \nL 218.68972 16.901979 \nL 219.342394 17.099455 \nL 220.158237 17.622466 \nL 220.974079 18.448577 \nL 221.95309 19.831186 \nL 222.932101 21.62656 \nL 224.074281 24.217347 \nL 225.379629 27.786979 \nL 226.848145 32.500684 \nL 228.642999 39.115359 \nL 230.764189 47.867165 \nL 233.864391 61.745076 \nL 239.412119 86.661144 \nL 241.859647 96.615047 \nL 243.980837 104.399673 \nL 245.938859 110.799489 \nL 247.733713 115.973243 \nL 249.528566 120.486089 \nL 251.160251 124.034567 \nL 252.791936 127.0855 \nL 254.423621 129.676453 \nL 256.055306 131.85023 \nL 257.686991 133.652334 \nL 259.318676 135.128806 \nL 260.950361 136.324481 \nL 262.745215 137.365803 \nL 264.703236 138.23293 \nL 266.824427 138.921686 \nL 269.271954 139.47206 \nL 272.208987 139.889278 \nL 275.961863 140.17952 \nL 281.346423 140.350878 \nL 283.467614 140.379593 \nL 283.467614 140.379593 \n\" style=\"fill:none;stroke:#008000;stroke-dasharray:9.6,2.4,1.5,2.4;stroke-dashoffset:0;stroke-width:1.5;\"/>\n   </g>\n   <g id=\"patch_3\">\n    <path d=\"M 43.78125 146.6 \nL 43.78125 10.7 \n\" style=\"fill:none;stroke:#000000;stroke-linecap:square;stroke-linejoin:miter;stroke-width:0.8;\"/>\n   </g>\n   <g id=\"patch_4\">\n    <path d=\"M 294.88125 146.6 \nL 294.88125 10.7 \n\" style=\"fill:none;stroke:#000000;stroke-linecap:square;stroke-linejoin:miter;stroke-width:0.8;\"/>\n   </g>\n   <g id=\"patch_5\">\n    <path d=\"M 43.78125 146.6 \nL 294.88125 146.6 \n\" style=\"fill:none;stroke:#000000;stroke-linecap:square;stroke-linejoin:miter;stroke-width:0.8;\"/>\n   </g>\n   <g id=\"patch_6\">\n    <path d=\"M 43.78125 10.7 \nL 294.88125 10.7 \n\" style=\"fill:none;stroke:#000000;stroke-linecap:square;stroke-linejoin:miter;stroke-width:0.8;\"/>\n   </g>\n   <g id=\"legend_1\">\n    <g id=\"patch_7\">\n     <path d=\"M 50.78125 62.734375 \nL 152.05625 62.734375 \nQ 154.05625 62.734375 154.05625 60.734375 \nL 154.05625 17.7 \nQ 154.05625 15.7 152.05625 15.7 \nL 50.78125 15.7 \nQ 48.78125 15.7 48.78125 17.7 \nL 48.78125 60.734375 \nQ 48.78125 62.734375 50.78125 62.734375 \nz\n\" style=\"fill:#ffffff;opacity:0.8;stroke:#cccccc;stroke-linejoin:miter;\"/>\n    </g>\n    <g id=\"line2d_28\">\n     <path d=\"M 52.78125 23.798437 \nL 72.78125 23.798437 \n\" style=\"fill:none;stroke:#1f77b4;stroke-linecap:square;stroke-width:1.5;\"/>\n    </g>\n    <g id=\"line2d_29\"/>\n    <g id=\"text_15\">\n     <!-- mean 0, std 1 -->\n     <defs>\n      <path d=\"M 52 44.1875 \nQ 55.375 50.25 60.0625 53.125 \nQ 64.75 56 71.09375 56 \nQ 79.640625 56 84.28125 50.015625 \nQ 88.921875 44.046875 88.921875 33.015625 \nL 88.921875 0 \nL 79.890625 0 \nL 79.890625 32.71875 \nQ 79.890625 40.578125 77.09375 44.375 \nQ 74.3125 48.1875 68.609375 48.1875 \nQ 61.625 48.1875 57.5625 43.546875 \nQ 53.515625 38.921875 53.515625 30.90625 \nL 53.515625 0 \nL 44.484375 0 \nL 44.484375 32.71875 \nQ 44.484375 40.625 41.703125 44.40625 \nQ 38.921875 48.1875 33.109375 48.1875 \nQ 26.21875 48.1875 22.15625 43.53125 \nQ 18.109375 38.875 18.109375 30.90625 \nL 18.109375 0 \nL 9.078125 0 \nL 9.078125 54.6875 \nL 18.109375 54.6875 \nL 18.109375 46.1875 \nQ 21.1875 51.21875 25.484375 53.609375 \nQ 29.78125 56 35.6875 56 \nQ 41.65625 56 45.828125 52.96875 \nQ 50 49.953125 52 44.1875 \nz\n\" id=\"DejaVuSans-109\"/>\n      <path d=\"M 56.203125 29.59375 \nL 56.203125 25.203125 \nL 14.890625 25.203125 \nQ 15.484375 15.921875 20.484375 11.0625 \nQ 25.484375 6.203125 34.421875 6.203125 \nQ 39.59375 6.203125 44.453125 7.46875 \nQ 49.3125 8.734375 54.109375 11.28125 \nL 54.109375 2.78125 \nQ 49.265625 0.734375 44.1875 -0.34375 \nQ 39.109375 -1.421875 33.890625 -1.421875 \nQ 20.796875 -1.421875 13.15625 6.1875 \nQ 5.515625 13.8125 5.515625 26.8125 \nQ 5.515625 40.234375 12.765625 48.109375 \nQ 20.015625 56 32.328125 56 \nQ 43.359375 56 49.78125 48.890625 \nQ 56.203125 41.796875 56.203125 29.59375 \nz\nM 47.21875 32.234375 \nQ 47.125 39.59375 43.09375 43.984375 \nQ 39.0625 48.390625 32.421875 48.390625 \nQ 24.90625 48.390625 20.390625 44.140625 \nQ 15.875 39.890625 15.1875 32.171875 \nz\n\" id=\"DejaVuSans-101\"/>\n      <path d=\"M 34.28125 27.484375 \nQ 23.390625 27.484375 19.1875 25 \nQ 14.984375 22.515625 14.984375 16.5 \nQ 14.984375 11.71875 18.140625 8.90625 \nQ 21.296875 6.109375 26.703125 6.109375 \nQ 34.1875 6.109375 38.703125 11.40625 \nQ 43.21875 16.703125 43.21875 25.484375 \nL 43.21875 27.484375 \nz\nM 52.203125 31.203125 \nL 52.203125 0 \nL 43.21875 0 \nL 43.21875 8.296875 \nQ 40.140625 3.328125 35.546875 0.953125 \nQ 30.953125 -1.421875 24.3125 -1.421875 \nQ 15.921875 -1.421875 10.953125 3.296875 \nQ 6 8.015625 6 15.921875 \nQ 6 25.140625 12.171875 29.828125 \nQ 18.359375 34.515625 30.609375 34.515625 \nL 43.21875 34.515625 \nL 43.21875 35.40625 \nQ 43.21875 41.609375 39.140625 45 \nQ 35.0625 48.390625 27.6875 48.390625 \nQ 23 48.390625 18.546875 47.265625 \nQ 14.109375 46.140625 10.015625 43.890625 \nL 10.015625 52.203125 \nQ 14.9375 54.109375 19.578125 55.046875 \nQ 24.21875 56 28.609375 56 \nQ 40.484375 56 46.34375 49.84375 \nQ 52.203125 43.703125 52.203125 31.203125 \nz\n\" id=\"DejaVuSans-97\"/>\n      <path d=\"M 54.890625 33.015625 \nL 54.890625 0 \nL 45.90625 0 \nL 45.90625 32.71875 \nQ 45.90625 40.484375 42.875 44.328125 \nQ 39.84375 48.1875 33.796875 48.1875 \nQ 26.515625 48.1875 22.3125 43.546875 \nQ 18.109375 38.921875 18.109375 30.90625 \nL 18.109375 0 \nL 9.078125 0 \nL 9.078125 54.6875 \nL 18.109375 54.6875 \nL 18.109375 46.1875 \nQ 21.34375 51.125 25.703125 53.5625 \nQ 30.078125 56 35.796875 56 \nQ 45.21875 56 50.046875 50.171875 \nQ 54.890625 44.34375 54.890625 33.015625 \nz\n\" id=\"DejaVuSans-110\"/>\n      <path id=\"DejaVuSans-32\"/>\n      <path d=\"M 11.71875 12.40625 \nL 22.015625 12.40625 \nL 22.015625 4 \nL 14.015625 -11.625 \nL 7.71875 -11.625 \nL 11.71875 4 \nz\n\" id=\"DejaVuSans-44\"/>\n      <path d=\"M 44.28125 53.078125 \nL 44.28125 44.578125 \nQ 40.484375 46.53125 36.375 47.5 \nQ 32.28125 48.484375 27.875 48.484375 \nQ 21.1875 48.484375 17.84375 46.4375 \nQ 14.5 44.390625 14.5 40.28125 \nQ 14.5 37.15625 16.890625 35.375 \nQ 19.28125 33.59375 26.515625 31.984375 \nL 29.59375 31.296875 \nQ 39.15625 29.25 43.1875 25.515625 \nQ 47.21875 21.78125 47.21875 15.09375 \nQ 47.21875 7.46875 41.1875 3.015625 \nQ 35.15625 -1.421875 24.609375 -1.421875 \nQ 20.21875 -1.421875 15.453125 -0.5625 \nQ 10.6875 0.296875 5.421875 2 \nL 5.421875 11.28125 \nQ 10.40625 8.6875 15.234375 7.390625 \nQ 20.0625 6.109375 24.8125 6.109375 \nQ 31.15625 6.109375 34.5625 8.28125 \nQ 37.984375 10.453125 37.984375 14.40625 \nQ 37.984375 18.0625 35.515625 20.015625 \nQ 33.0625 21.96875 24.703125 23.78125 \nL 21.578125 24.515625 \nQ 13.234375 26.265625 9.515625 29.90625 \nQ 5.8125 33.546875 5.8125 39.890625 \nQ 5.8125 47.609375 11.28125 51.796875 \nQ 16.75 56 26.8125 56 \nQ 31.78125 56 36.171875 55.265625 \nQ 40.578125 54.546875 44.28125 53.078125 \nz\n\" id=\"DejaVuSans-115\"/>\n      <path d=\"M 18.3125 70.21875 \nL 18.3125 54.6875 \nL 36.8125 54.6875 \nL 36.8125 47.703125 \nL 18.3125 47.703125 \nL 18.3125 18.015625 \nQ 18.3125 11.328125 20.140625 9.421875 \nQ 21.96875 7.515625 27.59375 7.515625 \nL 36.8125 7.515625 \nL 36.8125 0 \nL 27.59375 0 \nQ 17.1875 0 13.234375 3.875 \nQ 9.28125 7.765625 9.28125 18.015625 \nL 9.28125 47.703125 \nL 2.6875 47.703125 \nL 2.6875 54.6875 \nL 9.28125 54.6875 \nL 9.28125 70.21875 \nz\n\" id=\"DejaVuSans-116\"/>\n      <path d=\"M 45.40625 46.390625 \nL 45.40625 75.984375 \nL 54.390625 75.984375 \nL 54.390625 0 \nL 45.40625 0 \nL 45.40625 8.203125 \nQ 42.578125 3.328125 38.25 0.953125 \nQ 33.9375 -1.421875 27.875 -1.421875 \nQ 17.96875 -1.421875 11.734375 6.484375 \nQ 5.515625 14.40625 5.515625 27.296875 \nQ 5.515625 40.1875 11.734375 48.09375 \nQ 17.96875 56 27.875 56 \nQ 33.9375 56 38.25 53.625 \nQ 42.578125 51.265625 45.40625 46.390625 \nz\nM 14.796875 27.296875 \nQ 14.796875 17.390625 18.875 11.75 \nQ 22.953125 6.109375 30.078125 6.109375 \nQ 37.203125 6.109375 41.296875 11.75 \nQ 45.40625 17.390625 45.40625 27.296875 \nQ 45.40625 37.203125 41.296875 42.84375 \nQ 37.203125 48.484375 30.078125 48.484375 \nQ 22.953125 48.484375 18.875 42.84375 \nQ 14.796875 37.203125 14.796875 27.296875 \nz\n\" id=\"DejaVuSans-100\"/>\n     </defs>\n     <g transform=\"translate(80.78125 27.298437)scale(0.1 -0.1)\">\n      <use xlink:href=\"#DejaVuSans-109\"/>\n      <use x=\"97.412109\" xlink:href=\"#DejaVuSans-101\"/>\n      <use x=\"158.935547\" xlink:href=\"#DejaVuSans-97\"/>\n      <use x=\"220.214844\" xlink:href=\"#DejaVuSans-110\"/>\n      <use x=\"283.59375\" xlink:href=\"#DejaVuSans-32\"/>\n      <use x=\"315.380859\" xlink:href=\"#DejaVuSans-48\"/>\n      <use x=\"379.003906\" xlink:href=\"#DejaVuSans-44\"/>\n      <use x=\"410.791016\" xlink:href=\"#DejaVuSans-32\"/>\n      <use x=\"442.578125\" xlink:href=\"#DejaVuSans-115\"/>\n      <use x=\"494.677734\" xlink:href=\"#DejaVuSans-116\"/>\n      <use x=\"533.886719\" xlink:href=\"#DejaVuSans-100\"/>\n      <use x=\"597.363281\" xlink:href=\"#DejaVuSans-32\"/>\n      <use x=\"629.150391\" xlink:href=\"#DejaVuSans-49\"/>\n     </g>\n    </g>\n    <g id=\"line2d_30\">\n     <path d=\"M 52.78125 38.476562 \nL 72.78125 38.476562 \n\" style=\"fill:none;stroke:#bf00bf;stroke-dasharray:5.55,2.4;stroke-dashoffset:0;stroke-width:1.5;\"/>\n    </g>\n    <g id=\"line2d_31\"/>\n    <g id=\"text_16\">\n     <!-- mean 0, std 2 -->\n     <g transform=\"translate(80.78125 41.976562)scale(0.1 -0.1)\">\n      <use xlink:href=\"#DejaVuSans-109\"/>\n      <use x=\"97.412109\" xlink:href=\"#DejaVuSans-101\"/>\n      <use x=\"158.935547\" xlink:href=\"#DejaVuSans-97\"/>\n      <use x=\"220.214844\" xlink:href=\"#DejaVuSans-110\"/>\n      <use x=\"283.59375\" xlink:href=\"#DejaVuSans-32\"/>\n      <use x=\"315.380859\" xlink:href=\"#DejaVuSans-48\"/>\n      <use x=\"379.003906\" xlink:href=\"#DejaVuSans-44\"/>\n      <use x=\"410.791016\" xlink:href=\"#DejaVuSans-32\"/>\n      <use x=\"442.578125\" xlink:href=\"#DejaVuSans-115\"/>\n      <use x=\"494.677734\" xlink:href=\"#DejaVuSans-116\"/>\n      <use x=\"533.886719\" xlink:href=\"#DejaVuSans-100\"/>\n      <use x=\"597.363281\" xlink:href=\"#DejaVuSans-32\"/>\n      <use x=\"629.150391\" xlink:href=\"#DejaVuSans-50\"/>\n     </g>\n    </g>\n    <g id=\"line2d_32\">\n     <path d=\"M 52.78125 53.154687 \nL 72.78125 53.154687 \n\" style=\"fill:none;stroke:#008000;stroke-dasharray:9.6,2.4,1.5,2.4;stroke-dashoffset:0;stroke-width:1.5;\"/>\n    </g>\n    <g id=\"line2d_33\"/>\n    <g id=\"text_17\">\n     <!-- mean 3, std 1 -->\n     <g transform=\"translate(80.78125 56.654687)scale(0.1 -0.1)\">\n      <use xlink:href=\"#DejaVuSans-109\"/>\n      <use x=\"97.412109\" xlink:href=\"#DejaVuSans-101\"/>\n      <use x=\"158.935547\" xlink:href=\"#DejaVuSans-97\"/>\n      <use x=\"220.214844\" xlink:href=\"#DejaVuSans-110\"/>\n      <use x=\"283.59375\" xlink:href=\"#DejaVuSans-32\"/>\n      <use x=\"315.380859\" xlink:href=\"#DejaVuSans-51\"/>\n      <use x=\"379.003906\" xlink:href=\"#DejaVuSans-44\"/>\n      <use x=\"410.791016\" xlink:href=\"#DejaVuSans-32\"/>\n      <use x=\"442.578125\" xlink:href=\"#DejaVuSans-115\"/>\n      <use x=\"494.677734\" xlink:href=\"#DejaVuSans-116\"/>\n      <use x=\"533.886719\" xlink:href=\"#DejaVuSans-100\"/>\n      <use x=\"597.363281\" xlink:href=\"#DejaVuSans-32\"/>\n      <use x=\"629.150391\" xlink:href=\"#DejaVuSans-49\"/>\n     </g>\n    </g>\n   </g>\n  </g>\n </g>\n <defs>\n  <clipPath id=\"p96023dccd1\">\n   <rect height=\"135.9\" width=\"251.1\" x=\"43.78125\" y=\"10.7\"/>\n  </clipPath>\n </defs>\n</svg>\n"
          },
          "metadata": {
            "needs_background": "light"
          }
        }
      ]
    },
    {
      "cell_type": "markdown",
      "source": [
        "# **3.2. Linear Regression Implementation from Scratch**"
      ],
      "metadata": {
        "id": "LdYouAFfV01a"
      }
    },
    {
      "cell_type": "code",
      "source": [
        "%matplotlib inline\n",
        "import random\n",
        "import torch\n",
        "from d2l import torch as d2l"
      ],
      "metadata": {
        "id": "iQD6oNBNcHbz"
      },
      "execution_count": null,
      "outputs": []
    },
    {
      "cell_type": "markdown",
      "source": [
        "# **3.2.1. Generating the Dataset**"
      ],
      "metadata": {
        "id": "Ucszy2IaWA8w"
      }
    },
    {
      "cell_type": "code",
      "source": [
        "def synthetic_data(w, b, num_examples):  \n",
        "    \"\"\"Generate y = Xw + b + noise.\"\"\"\n",
        "    X = torch.normal(0, 1, (num_examples, len(w)))\n",
        "    y = torch.matmul(X, w) + b\n",
        "    y += torch.normal(0, 0.01, y.shape)\n",
        "    return X, y.reshape((-1, 1))\n",
        "\n",
        "true_w = torch.tensor([2, -3.4])\n",
        "true_b = 4.2\n",
        "features, labels = synthetic_data(true_w, true_b, 1000)"
      ],
      "metadata": {
        "id": "crtoObT2WPmD"
      },
      "execution_count": null,
      "outputs": []
    },
    {
      "cell_type": "code",
      "source": [
        "print('features:', features[0],'\\nlabel:', labels[0])"
      ],
      "metadata": {
        "colab": {
          "base_uri": "https://localhost:8080/"
        },
        "id": "BKcHMmEjWXZ3",
        "outputId": "94f56f69-2a51-47ec-f4de-330bc7bd70a2"
      },
      "execution_count": null,
      "outputs": [
        {
          "output_type": "stream",
          "name": "stdout",
          "text": [
            "features: tensor([-0.2879,  0.1617]) \n",
            "label: tensor([3.0646])\n"
          ]
        }
      ]
    },
    {
      "cell_type": "code",
      "source": [
        "d2l.set_figsize()\n",
        "# The semicolon is for displaying the plot only\n",
        "d2l.plt.scatter(features[:, (1)].detach().numpy(), labels.detach().numpy(), 1);"
      ],
      "metadata": {
        "colab": {
          "base_uri": "https://localhost:8080/",
          "height": 248
        },
        "id": "MpjvzQoFXlwZ",
        "outputId": "86fc3491-96ce-4a2e-8e40-504029925bfe"
      },
      "execution_count": null,
      "outputs": [
        {
          "output_type": "display_data",
          "data": {
            "text/plain": [
              "<Figure size 252x180 with 1 Axes>"
            ],
            "image/svg+xml": "<?xml version=\"1.0\" encoding=\"utf-8\" standalone=\"no\"?>\n<!DOCTYPE svg PUBLIC \"-//W3C//DTD SVG 1.1//EN\"\n  \"http://www.w3.org/Graphics/SVG/1.1/DTD/svg11.dtd\">\n<!-- Created with matplotlib (https://matplotlib.org/) -->\n<svg height=\"170.478125pt\" version=\"1.1\" viewBox=\"0 0 241.304688 170.478125\" width=\"241.304688pt\" xmlns=\"http://www.w3.org/2000/svg\" xmlns:xlink=\"http://www.w3.org/1999/xlink\">\n <defs>\n  <style type=\"text/css\">\n*{stroke-linecap:butt;stroke-linejoin:round;}\n  </style>\n </defs>\n <g id=\"figure_1\">\n  <g id=\"patch_1\">\n   <path d=\"M 0 170.478125 \nL 241.304688 170.478125 \nL 241.304688 0 \nL 0 0 \nz\n\" style=\"fill:none;\"/>\n  </g>\n  <g id=\"axes_1\">\n   <g id=\"patch_2\">\n    <path d=\"M 35.304688 146.6 \nL 230.604688 146.6 \nL 230.604688 10.7 \nL 35.304688 10.7 \nz\n\" style=\"fill:#ffffff;\"/>\n   </g>\n   <g id=\"PathCollection_1\">\n    <defs>\n     <path d=\"M 0 0.5 \nC 0.132602 0.5 0.25979 0.447317 0.353553 0.353553 \nC 0.447317 0.25979 0.5 0.132602 0.5 0 \nC 0.5 -0.132602 0.447317 -0.25979 0.353553 -0.353553 \nC 0.25979 -0.447317 0.132602 -0.5 0 -0.5 \nC -0.132602 -0.5 -0.25979 -0.447317 -0.353553 -0.353553 \nC -0.447317 -0.25979 -0.5 -0.132602 -0.5 0 \nC -0.5 0.132602 -0.447317 0.25979 -0.353553 0.353553 \nC -0.25979 0.447317 -0.132602 0.5 0 0.5 \nz\n\" id=\"mab5b8ad6da\" style=\"stroke:#1f77b4;\"/>\n    </defs>\n    <g clip-path=\"url(#pc0dc399136)\">\n     <use style=\"fill:#1f77b4;stroke:#1f77b4;\" x=\"131.435645\" xlink:href=\"#mab5b8ad6da\" y=\"83.075885\"/>\n     <use style=\"fill:#1f77b4;stroke:#1f77b4;\" x=\"105.443434\" xlink:href=\"#mab5b8ad6da\" y=\"62.191328\"/>\n     <use style=\"fill:#1f77b4;stroke:#1f77b4;\" x=\"97.752779\" xlink:href=\"#mab5b8ad6da\" y=\"76.875039\"/>\n     <use style=\"fill:#1f77b4;stroke:#1f77b4;\" x=\"121.035227\" xlink:href=\"#mab5b8ad6da\" y=\"75.627537\"/>\n     <use style=\"fill:#1f77b4;stroke:#1f77b4;\" x=\"166.717952\" xlink:href=\"#mab5b8ad6da\" y=\"95.583362\"/>\n     <use style=\"fill:#1f77b4;stroke:#1f77b4;\" x=\"124.193377\" xlink:href=\"#mab5b8ad6da\" y=\"61.466865\"/>\n     <use style=\"fill:#1f77b4;stroke:#1f77b4;\" x=\"108.961093\" xlink:href=\"#mab5b8ad6da\" y=\"64.123262\"/>\n     <use style=\"fill:#1f77b4;stroke:#1f77b4;\" x=\"127.522258\" xlink:href=\"#mab5b8ad6da\" y=\"87.848724\"/>\n     <use style=\"fill:#1f77b4;stroke:#1f77b4;\" x=\"135.118676\" xlink:href=\"#mab5b8ad6da\" y=\"85.536658\"/>\n     <use style=\"fill:#1f77b4;stroke:#1f77b4;\" x=\"155.180091\" xlink:href=\"#mab5b8ad6da\" y=\"72.73339\"/>\n     <use style=\"fill:#1f77b4;stroke:#1f77b4;\" x=\"144.01068\" xlink:href=\"#mab5b8ad6da\" y=\"80.306921\"/>\n     <use style=\"fill:#1f77b4;stroke:#1f77b4;\" x=\"159.784085\" xlink:href=\"#mab5b8ad6da\" y=\"89.275732\"/>\n     <use style=\"fill:#1f77b4;stroke:#1f77b4;\" x=\"111.035944\" xlink:href=\"#mab5b8ad6da\" y=\"91.648459\"/>\n     <use style=\"fill:#1f77b4;stroke:#1f77b4;\" x=\"101.866179\" xlink:href=\"#mab5b8ad6da\" y=\"62.884164\"/>\n     <use style=\"fill:#1f77b4;stroke:#1f77b4;\" x=\"173.109606\" xlink:href=\"#mab5b8ad6da\" y=\"102.446453\"/>\n     <use style=\"fill:#1f77b4;stroke:#1f77b4;\" x=\"134.938292\" xlink:href=\"#mab5b8ad6da\" y=\"72.179423\"/>\n     <use style=\"fill:#1f77b4;stroke:#1f77b4;\" x=\"123.09253\" xlink:href=\"#mab5b8ad6da\" y=\"81.019454\"/>\n     <use style=\"fill:#1f77b4;stroke:#1f77b4;\" x=\"160.020428\" xlink:href=\"#mab5b8ad6da\" y=\"88.738262\"/>\n     <use style=\"fill:#1f77b4;stroke:#1f77b4;\" x=\"130.568938\" xlink:href=\"#mab5b8ad6da\" y=\"71.133959\"/>\n     <use style=\"fill:#1f77b4;stroke:#1f77b4;\" x=\"91.16404\" xlink:href=\"#mab5b8ad6da\" y=\"52.596649\"/>\n     <use style=\"fill:#1f77b4;stroke:#1f77b4;\" x=\"93.94993\" xlink:href=\"#mab5b8ad6da\" y=\"60.726966\"/>\n     <use style=\"fill:#1f77b4;stroke:#1f77b4;\" x=\"158.271706\" xlink:href=\"#mab5b8ad6da\" y=\"106.221738\"/>\n     <use style=\"fill:#1f77b4;stroke:#1f77b4;\" x=\"146.914171\" xlink:href=\"#mab5b8ad6da\" y=\"87.245844\"/>\n     <use style=\"fill:#1f77b4;stroke:#1f77b4;\" x=\"159.327643\" xlink:href=\"#mab5b8ad6da\" y=\"93.114813\"/>\n     <use style=\"fill:#1f77b4;stroke:#1f77b4;\" x=\"64.37103\" xlink:href=\"#mab5b8ad6da\" y=\"37.433022\"/>\n     <use style=\"fill:#1f77b4;stroke:#1f77b4;\" x=\"132.801\" xlink:href=\"#mab5b8ad6da\" y=\"70.400293\"/>\n     <use style=\"fill:#1f77b4;stroke:#1f77b4;\" x=\"117.775586\" xlink:href=\"#mab5b8ad6da\" y=\"82.931697\"/>\n     <use style=\"fill:#1f77b4;stroke:#1f77b4;\" x=\"140.534338\" xlink:href=\"#mab5b8ad6da\" y=\"70.26462\"/>\n     <use style=\"fill:#1f77b4;stroke:#1f77b4;\" x=\"170.327017\" xlink:href=\"#mab5b8ad6da\" y=\"96.477073\"/>\n     <use style=\"fill:#1f77b4;stroke:#1f77b4;\" x=\"93.621797\" xlink:href=\"#mab5b8ad6da\" y=\"62.159879\"/>\n     <use style=\"fill:#1f77b4;stroke:#1f77b4;\" x=\"133.242837\" xlink:href=\"#mab5b8ad6da\" y=\"80.8858\"/>\n     <use style=\"fill:#1f77b4;stroke:#1f77b4;\" x=\"142.533234\" xlink:href=\"#mab5b8ad6da\" y=\"93.191235\"/>\n     <use style=\"fill:#1f77b4;stroke:#1f77b4;\" x=\"124.114201\" xlink:href=\"#mab5b8ad6da\" y=\"71.352838\"/>\n     <use style=\"fill:#1f77b4;stroke:#1f77b4;\" x=\"118.493861\" xlink:href=\"#mab5b8ad6da\" y=\"75.552782\"/>\n     <use style=\"fill:#1f77b4;stroke:#1f77b4;\" x=\"101.584284\" xlink:href=\"#mab5b8ad6da\" y=\"33.131688\"/>\n     <use style=\"fill:#1f77b4;stroke:#1f77b4;\" x=\"115.903944\" xlink:href=\"#mab5b8ad6da\" y=\"66.720858\"/>\n     <use style=\"fill:#1f77b4;stroke:#1f77b4;\" x=\"126.315842\" xlink:href=\"#mab5b8ad6da\" y=\"76.2348\"/>\n     <use style=\"fill:#1f77b4;stroke:#1f77b4;\" x=\"177.168626\" xlink:href=\"#mab5b8ad6da\" y=\"116.607584\"/>\n     <use style=\"fill:#1f77b4;stroke:#1f77b4;\" x=\"119.41182\" xlink:href=\"#mab5b8ad6da\" y=\"79.084927\"/>\n     <use style=\"fill:#1f77b4;stroke:#1f77b4;\" x=\"111.745993\" xlink:href=\"#mab5b8ad6da\" y=\"69.680905\"/>\n     <use style=\"fill:#1f77b4;stroke:#1f77b4;\" x=\"108.769658\" xlink:href=\"#mab5b8ad6da\" y=\"72.548848\"/>\n     <use style=\"fill:#1f77b4;stroke:#1f77b4;\" x=\"153.234271\" xlink:href=\"#mab5b8ad6da\" y=\"98.209367\"/>\n     <use style=\"fill:#1f77b4;stroke:#1f77b4;\" x=\"102.491188\" xlink:href=\"#mab5b8ad6da\" y=\"76.3284\"/>\n     <use style=\"fill:#1f77b4;stroke:#1f77b4;\" x=\"91.356956\" xlink:href=\"#mab5b8ad6da\" y=\"63.078699\"/>\n     <use style=\"fill:#1f77b4;stroke:#1f77b4;\" x=\"148.602317\" xlink:href=\"#mab5b8ad6da\" y=\"89.773621\"/>\n     <use style=\"fill:#1f77b4;stroke:#1f77b4;\" x=\"104.279153\" xlink:href=\"#mab5b8ad6da\" y=\"69.110429\"/>\n     <use style=\"fill:#1f77b4;stroke:#1f77b4;\" x=\"174.811786\" xlink:href=\"#mab5b8ad6da\" y=\"111.223996\"/>\n     <use style=\"fill:#1f77b4;stroke:#1f77b4;\" x=\"122.297592\" xlink:href=\"#mab5b8ad6da\" y=\"81.910374\"/>\n     <use style=\"fill:#1f77b4;stroke:#1f77b4;\" x=\"138.561686\" xlink:href=\"#mab5b8ad6da\" y=\"77.339128\"/>\n     <use style=\"fill:#1f77b4;stroke:#1f77b4;\" x=\"91.789319\" xlink:href=\"#mab5b8ad6da\" y=\"64.260291\"/>\n     <use style=\"fill:#1f77b4;stroke:#1f77b4;\" x=\"131.943994\" xlink:href=\"#mab5b8ad6da\" y=\"87.857101\"/>\n     <use style=\"fill:#1f77b4;stroke:#1f77b4;\" x=\"180.300442\" xlink:href=\"#mab5b8ad6da\" y=\"113.396199\"/>\n     <use style=\"fill:#1f77b4;stroke:#1f77b4;\" x=\"175.838352\" xlink:href=\"#mab5b8ad6da\" y=\"103.029327\"/>\n     <use style=\"fill:#1f77b4;stroke:#1f77b4;\" x=\"148.058024\" xlink:href=\"#mab5b8ad6da\" y=\"83.567119\"/>\n     <use style=\"fill:#1f77b4;stroke:#1f77b4;\" x=\"91.73455\" xlink:href=\"#mab5b8ad6da\" y=\"72.142603\"/>\n     <use style=\"fill:#1f77b4;stroke:#1f77b4;\" x=\"76.580613\" xlink:href=\"#mab5b8ad6da\" y=\"62.233157\"/>\n     <use style=\"fill:#1f77b4;stroke:#1f77b4;\" x=\"134.935882\" xlink:href=\"#mab5b8ad6da\" y=\"89.029944\"/>\n     <use style=\"fill:#1f77b4;stroke:#1f77b4;\" x=\"110.864511\" xlink:href=\"#mab5b8ad6da\" y=\"66.978621\"/>\n     <use style=\"fill:#1f77b4;stroke:#1f77b4;\" x=\"152.432063\" xlink:href=\"#mab5b8ad6da\" y=\"87.889663\"/>\n     <use style=\"fill:#1f77b4;stroke:#1f77b4;\" x=\"128.217265\" xlink:href=\"#mab5b8ad6da\" y=\"91.576198\"/>\n     <use style=\"fill:#1f77b4;stroke:#1f77b4;\" x=\"124.273576\" xlink:href=\"#mab5b8ad6da\" y=\"78.714757\"/>\n     <use style=\"fill:#1f77b4;stroke:#1f77b4;\" x=\"105.002287\" xlink:href=\"#mab5b8ad6da\" y=\"77.181316\"/>\n     <use style=\"fill:#1f77b4;stroke:#1f77b4;\" x=\"116.848492\" xlink:href=\"#mab5b8ad6da\" y=\"62.434696\"/>\n     <use style=\"fill:#1f77b4;stroke:#1f77b4;\" x=\"96.602521\" xlink:href=\"#mab5b8ad6da\" y=\"71.326884\"/>\n     <use style=\"fill:#1f77b4;stroke:#1f77b4;\" x=\"147.470674\" xlink:href=\"#mab5b8ad6da\" y=\"101.71816\"/>\n     <use style=\"fill:#1f77b4;stroke:#1f77b4;\" x=\"144.156987\" xlink:href=\"#mab5b8ad6da\" y=\"91.219976\"/>\n     <use style=\"fill:#1f77b4;stroke:#1f77b4;\" x=\"151.00364\" xlink:href=\"#mab5b8ad6da\" y=\"90.62506\"/>\n     <use style=\"fill:#1f77b4;stroke:#1f77b4;\" x=\"143.943263\" xlink:href=\"#mab5b8ad6da\" y=\"110.168378\"/>\n     <use style=\"fill:#1f77b4;stroke:#1f77b4;\" x=\"120.123838\" xlink:href=\"#mab5b8ad6da\" y=\"76.191345\"/>\n     <use style=\"fill:#1f77b4;stroke:#1f77b4;\" x=\"136.346866\" xlink:href=\"#mab5b8ad6da\" y=\"86.438625\"/>\n     <use style=\"fill:#1f77b4;stroke:#1f77b4;\" x=\"122.258822\" xlink:href=\"#mab5b8ad6da\" y=\"84.28893\"/>\n     <use style=\"fill:#1f77b4;stroke:#1f77b4;\" x=\"90.406656\" xlink:href=\"#mab5b8ad6da\" y=\"57.891999\"/>\n     <use style=\"fill:#1f77b4;stroke:#1f77b4;\" x=\"67.307917\" xlink:href=\"#mab5b8ad6da\" y=\"40.839692\"/>\n     <use style=\"fill:#1f77b4;stroke:#1f77b4;\" x=\"141.458101\" xlink:href=\"#mab5b8ad6da\" y=\"91.402489\"/>\n     <use style=\"fill:#1f77b4;stroke:#1f77b4;\" x=\"135.515626\" xlink:href=\"#mab5b8ad6da\" y=\"82.15791\"/>\n     <use style=\"fill:#1f77b4;stroke:#1f77b4;\" x=\"99.078963\" xlink:href=\"#mab5b8ad6da\" y=\"64.811286\"/>\n     <use style=\"fill:#1f77b4;stroke:#1f77b4;\" x=\"131.484062\" xlink:href=\"#mab5b8ad6da\" y=\"86.22041\"/>\n     <use style=\"fill:#1f77b4;stroke:#1f77b4;\" x=\"148.788358\" xlink:href=\"#mab5b8ad6da\" y=\"83.949247\"/>\n     <use style=\"fill:#1f77b4;stroke:#1f77b4;\" x=\"89.605834\" xlink:href=\"#mab5b8ad6da\" y=\"51.367348\"/>\n     <use style=\"fill:#1f77b4;stroke:#1f77b4;\" x=\"105.714733\" xlink:href=\"#mab5b8ad6da\" y=\"69.334761\"/>\n     <use style=\"fill:#1f77b4;stroke:#1f77b4;\" x=\"120.314736\" xlink:href=\"#mab5b8ad6da\" y=\"71.864734\"/>\n     <use style=\"fill:#1f77b4;stroke:#1f77b4;\" x=\"121.679938\" xlink:href=\"#mab5b8ad6da\" y=\"68.172458\"/>\n     <use style=\"fill:#1f77b4;stroke:#1f77b4;\" x=\"124.898136\" xlink:href=\"#mab5b8ad6da\" y=\"73.731469\"/>\n     <use style=\"fill:#1f77b4;stroke:#1f77b4;\" x=\"117.076642\" xlink:href=\"#mab5b8ad6da\" y=\"70.251669\"/>\n     <use style=\"fill:#1f77b4;stroke:#1f77b4;\" x=\"121.61214\" xlink:href=\"#mab5b8ad6da\" y=\"58.09225\"/>\n     <use style=\"fill:#1f77b4;stroke:#1f77b4;\" x=\"100.049998\" xlink:href=\"#mab5b8ad6da\" y=\"62.082951\"/>\n     <use style=\"fill:#1f77b4;stroke:#1f77b4;\" x=\"126.489127\" xlink:href=\"#mab5b8ad6da\" y=\"79.472226\"/>\n     <use style=\"fill:#1f77b4;stroke:#1f77b4;\" x=\"116.961624\" xlink:href=\"#mab5b8ad6da\" y=\"63.687267\"/>\n     <use style=\"fill:#1f77b4;stroke:#1f77b4;\" x=\"97.52949\" xlink:href=\"#mab5b8ad6da\" y=\"61.496836\"/>\n     <use style=\"fill:#1f77b4;stroke:#1f77b4;\" x=\"151.763748\" xlink:href=\"#mab5b8ad6da\" y=\"89.308738\"/>\n     <use style=\"fill:#1f77b4;stroke:#1f77b4;\" x=\"156.974329\" xlink:href=\"#mab5b8ad6da\" y=\"97.005148\"/>\n     <use style=\"fill:#1f77b4;stroke:#1f77b4;\" x=\"111.386941\" xlink:href=\"#mab5b8ad6da\" y=\"92.007976\"/>\n     <use style=\"fill:#1f77b4;stroke:#1f77b4;\" x=\"109.525084\" xlink:href=\"#mab5b8ad6da\" y=\"69.089194\"/>\n     <use style=\"fill:#1f77b4;stroke:#1f77b4;\" x=\"128.598745\" xlink:href=\"#mab5b8ad6da\" y=\"82.341602\"/>\n     <use style=\"fill:#1f77b4;stroke:#1f77b4;\" x=\"92.585295\" xlink:href=\"#mab5b8ad6da\" y=\"58.509069\"/>\n     <use style=\"fill:#1f77b4;stroke:#1f77b4;\" x=\"131.50254\" xlink:href=\"#mab5b8ad6da\" y=\"73.43778\"/>\n     <use style=\"fill:#1f77b4;stroke:#1f77b4;\" x=\"142.588993\" xlink:href=\"#mab5b8ad6da\" y=\"86.967875\"/>\n     <use style=\"fill:#1f77b4;stroke:#1f77b4;\" x=\"148.226211\" xlink:href=\"#mab5b8ad6da\" y=\"95.538648\"/>\n     <use style=\"fill:#1f77b4;stroke:#1f77b4;\" x=\"103.887742\" xlink:href=\"#mab5b8ad6da\" y=\"53.545584\"/>\n     <use style=\"fill:#1f77b4;stroke:#1f77b4;\" x=\"131.130518\" xlink:href=\"#mab5b8ad6da\" y=\"84.901031\"/>\n     <use style=\"fill:#1f77b4;stroke:#1f77b4;\" x=\"146.9627\" xlink:href=\"#mab5b8ad6da\" y=\"85.931842\"/>\n     <use style=\"fill:#1f77b4;stroke:#1f77b4;\" x=\"114.736784\" xlink:href=\"#mab5b8ad6da\" y=\"71.616305\"/>\n     <use style=\"fill:#1f77b4;stroke:#1f77b4;\" x=\"88.167628\" xlink:href=\"#mab5b8ad6da\" y=\"52.863207\"/>\n     <use style=\"fill:#1f77b4;stroke:#1f77b4;\" x=\"111.799022\" xlink:href=\"#mab5b8ad6da\" y=\"66.583636\"/>\n     <use style=\"fill:#1f77b4;stroke:#1f77b4;\" x=\"146.451596\" xlink:href=\"#mab5b8ad6da\" y=\"97.704924\"/>\n     <use style=\"fill:#1f77b4;stroke:#1f77b4;\" x=\"135.128109\" xlink:href=\"#mab5b8ad6da\" y=\"75.420151\"/>\n     <use style=\"fill:#1f77b4;stroke:#1f77b4;\" x=\"133.802182\" xlink:href=\"#mab5b8ad6da\" y=\"76.43183\"/>\n     <use style=\"fill:#1f77b4;stroke:#1f77b4;\" x=\"58.970942\" xlink:href=\"#mab5b8ad6da\" y=\"60.009765\"/>\n     <use style=\"fill:#1f77b4;stroke:#1f77b4;\" x=\"63.929682\" xlink:href=\"#mab5b8ad6da\" y=\"50.399614\"/>\n     <use style=\"fill:#1f77b4;stroke:#1f77b4;\" x=\"86.380089\" xlink:href=\"#mab5b8ad6da\" y=\"49.121292\"/>\n     <use style=\"fill:#1f77b4;stroke:#1f77b4;\" x=\"107.891794\" xlink:href=\"#mab5b8ad6da\" y=\"71.963471\"/>\n     <use style=\"fill:#1f77b4;stroke:#1f77b4;\" x=\"123.58457\" xlink:href=\"#mab5b8ad6da\" y=\"71.346635\"/>\n     <use style=\"fill:#1f77b4;stroke:#1f77b4;\" x=\"88.487377\" xlink:href=\"#mab5b8ad6da\" y=\"66.368261\"/>\n     <use style=\"fill:#1f77b4;stroke:#1f77b4;\" x=\"114.669901\" xlink:href=\"#mab5b8ad6da\" y=\"66.39864\"/>\n     <use style=\"fill:#1f77b4;stroke:#1f77b4;\" x=\"114.273404\" xlink:href=\"#mab5b8ad6da\" y=\"73.737133\"/>\n     <use style=\"fill:#1f77b4;stroke:#1f77b4;\" x=\"59.19941\" xlink:href=\"#mab5b8ad6da\" y=\"53.360949\"/>\n     <use style=\"fill:#1f77b4;stroke:#1f77b4;\" x=\"143.221947\" xlink:href=\"#mab5b8ad6da\" y=\"99.158282\"/>\n     <use style=\"fill:#1f77b4;stroke:#1f77b4;\" x=\"187.980684\" xlink:href=\"#mab5b8ad6da\" y=\"116.57804\"/>\n     <use style=\"fill:#1f77b4;stroke:#1f77b4;\" x=\"78.515613\" xlink:href=\"#mab5b8ad6da\" y=\"48.567399\"/>\n     <use style=\"fill:#1f77b4;stroke:#1f77b4;\" x=\"124.620765\" xlink:href=\"#mab5b8ad6da\" y=\"90.867536\"/>\n     <use style=\"fill:#1f77b4;stroke:#1f77b4;\" x=\"141.347303\" xlink:href=\"#mab5b8ad6da\" y=\"85.952569\"/>\n     <use style=\"fill:#1f77b4;stroke:#1f77b4;\" x=\"138.598036\" xlink:href=\"#mab5b8ad6da\" y=\"70.603558\"/>\n     <use style=\"fill:#1f77b4;stroke:#1f77b4;\" x=\"140.985641\" xlink:href=\"#mab5b8ad6da\" y=\"100.814089\"/>\n     <use style=\"fill:#1f77b4;stroke:#1f77b4;\" x=\"118.879205\" xlink:href=\"#mab5b8ad6da\" y=\"73.720975\"/>\n     <use style=\"fill:#1f77b4;stroke:#1f77b4;\" x=\"122.074117\" xlink:href=\"#mab5b8ad6da\" y=\"74.943549\"/>\n     <use style=\"fill:#1f77b4;stroke:#1f77b4;\" x=\"111.646594\" xlink:href=\"#mab5b8ad6da\" y=\"71.540177\"/>\n     <use style=\"fill:#1f77b4;stroke:#1f77b4;\" x=\"138.094859\" xlink:href=\"#mab5b8ad6da\" y=\"82.104849\"/>\n     <use style=\"fill:#1f77b4;stroke:#1f77b4;\" x=\"161.089709\" xlink:href=\"#mab5b8ad6da\" y=\"89.59721\"/>\n     <use style=\"fill:#1f77b4;stroke:#1f77b4;\" x=\"128.412352\" xlink:href=\"#mab5b8ad6da\" y=\"76.909137\"/>\n     <use style=\"fill:#1f77b4;stroke:#1f77b4;\" x=\"128.300894\" xlink:href=\"#mab5b8ad6da\" y=\"85.21102\"/>\n     <use style=\"fill:#1f77b4;stroke:#1f77b4;\" x=\"131.021027\" xlink:href=\"#mab5b8ad6da\" y=\"75.498703\"/>\n     <use style=\"fill:#1f77b4;stroke:#1f77b4;\" x=\"166.867052\" xlink:href=\"#mab5b8ad6da\" y=\"97.593312\"/>\n     <use style=\"fill:#1f77b4;stroke:#1f77b4;\" x=\"176.526108\" xlink:href=\"#mab5b8ad6da\" y=\"117.713798\"/>\n     <use style=\"fill:#1f77b4;stroke:#1f77b4;\" x=\"203.193663\" xlink:href=\"#mab5b8ad6da\" y=\"114.808726\"/>\n     <use style=\"fill:#1f77b4;stroke:#1f77b4;\" x=\"78.389306\" xlink:href=\"#mab5b8ad6da\" y=\"36.885238\"/>\n     <use style=\"fill:#1f77b4;stroke:#1f77b4;\" x=\"64.921408\" xlink:href=\"#mab5b8ad6da\" y=\"45.998775\"/>\n     <use style=\"fill:#1f77b4;stroke:#1f77b4;\" x=\"139.483262\" xlink:href=\"#mab5b8ad6da\" y=\"85.287605\"/>\n     <use style=\"fill:#1f77b4;stroke:#1f77b4;\" x=\"91.561475\" xlink:href=\"#mab5b8ad6da\" y=\"69.829362\"/>\n     <use style=\"fill:#1f77b4;stroke:#1f77b4;\" x=\"156.314093\" xlink:href=\"#mab5b8ad6da\" y=\"92.172914\"/>\n     <use style=\"fill:#1f77b4;stroke:#1f77b4;\" x=\"148.050955\" xlink:href=\"#mab5b8ad6da\" y=\"77.895045\"/>\n     <use style=\"fill:#1f77b4;stroke:#1f77b4;\" x=\"125.576094\" xlink:href=\"#mab5b8ad6da\" y=\"93.499595\"/>\n     <use style=\"fill:#1f77b4;stroke:#1f77b4;\" x=\"124.651037\" xlink:href=\"#mab5b8ad6da\" y=\"75.892806\"/>\n     <use style=\"fill:#1f77b4;stroke:#1f77b4;\" x=\"114.720057\" xlink:href=\"#mab5b8ad6da\" y=\"67.805504\"/>\n     <use style=\"fill:#1f77b4;stroke:#1f77b4;\" x=\"47.562513\" xlink:href=\"#mab5b8ad6da\" y=\"38.07629\"/>\n     <use style=\"fill:#1f77b4;stroke:#1f77b4;\" x=\"148.322438\" xlink:href=\"#mab5b8ad6da\" y=\"98.752938\"/>\n     <use style=\"fill:#1f77b4;stroke:#1f77b4;\" x=\"186.524788\" xlink:href=\"#mab5b8ad6da\" y=\"123.743725\"/>\n     <use style=\"fill:#1f77b4;stroke:#1f77b4;\" x=\"123.407384\" xlink:href=\"#mab5b8ad6da\" y=\"70.059471\"/>\n     <use style=\"fill:#1f77b4;stroke:#1f77b4;\" x=\"158.77801\" xlink:href=\"#mab5b8ad6da\" y=\"101.389005\"/>\n     <use style=\"fill:#1f77b4;stroke:#1f77b4;\" x=\"114.671208\" xlink:href=\"#mab5b8ad6da\" y=\"59.233936\"/>\n     <use style=\"fill:#1f77b4;stroke:#1f77b4;\" x=\"132.538612\" xlink:href=\"#mab5b8ad6da\" y=\"66.672266\"/>\n     <use style=\"fill:#1f77b4;stroke:#1f77b4;\" x=\"137.775882\" xlink:href=\"#mab5b8ad6da\" y=\"77.61748\"/>\n     <use style=\"fill:#1f77b4;stroke:#1f77b4;\" x=\"88.065876\" xlink:href=\"#mab5b8ad6da\" y=\"53.160377\"/>\n     <use style=\"fill:#1f77b4;stroke:#1f77b4;\" x=\"115.370504\" xlink:href=\"#mab5b8ad6da\" y=\"74.744301\"/>\n     <use style=\"fill:#1f77b4;stroke:#1f77b4;\" x=\"113.002266\" xlink:href=\"#mab5b8ad6da\" y=\"65.252215\"/>\n     <use style=\"fill:#1f77b4;stroke:#1f77b4;\" x=\"122.303481\" xlink:href=\"#mab5b8ad6da\" y=\"78.015523\"/>\n     <use style=\"fill:#1f77b4;stroke:#1f77b4;\" x=\"133.096406\" xlink:href=\"#mab5b8ad6da\" y=\"88.183016\"/>\n     <use style=\"fill:#1f77b4;stroke:#1f77b4;\" x=\"137.828532\" xlink:href=\"#mab5b8ad6da\" y=\"90.223612\"/>\n     <use style=\"fill:#1f77b4;stroke:#1f77b4;\" x=\"137.26299\" xlink:href=\"#mab5b8ad6da\" y=\"72.504197\"/>\n     <use style=\"fill:#1f77b4;stroke:#1f77b4;\" x=\"131.199525\" xlink:href=\"#mab5b8ad6da\" y=\"74.240282\"/>\n     <use style=\"fill:#1f77b4;stroke:#1f77b4;\" x=\"139.493063\" xlink:href=\"#mab5b8ad6da\" y=\"75.651016\"/>\n     <use style=\"fill:#1f77b4;stroke:#1f77b4;\" x=\"173.502323\" xlink:href=\"#mab5b8ad6da\" y=\"115.9538\"/>\n     <use style=\"fill:#1f77b4;stroke:#1f77b4;\" x=\"98.167913\" xlink:href=\"#mab5b8ad6da\" y=\"66.838347\"/>\n     <use style=\"fill:#1f77b4;stroke:#1f77b4;\" x=\"109.639656\" xlink:href=\"#mab5b8ad6da\" y=\"70.803698\"/>\n     <use style=\"fill:#1f77b4;stroke:#1f77b4;\" x=\"123.207153\" xlink:href=\"#mab5b8ad6da\" y=\"79.424998\"/>\n     <use style=\"fill:#1f77b4;stroke:#1f77b4;\" x=\"130.883742\" xlink:href=\"#mab5b8ad6da\" y=\"78.906796\"/>\n     <use style=\"fill:#1f77b4;stroke:#1f77b4;\" x=\"120.118266\" xlink:href=\"#mab5b8ad6da\" y=\"75.113752\"/>\n     <use style=\"fill:#1f77b4;stroke:#1f77b4;\" x=\"131.739726\" xlink:href=\"#mab5b8ad6da\" y=\"84.37965\"/>\n     <use style=\"fill:#1f77b4;stroke:#1f77b4;\" x=\"172.915185\" xlink:href=\"#mab5b8ad6da\" y=\"98.28\"/>\n     <use style=\"fill:#1f77b4;stroke:#1f77b4;\" x=\"125.431418\" xlink:href=\"#mab5b8ad6da\" y=\"75.238157\"/>\n     <use style=\"fill:#1f77b4;stroke:#1f77b4;\" x=\"108.940753\" xlink:href=\"#mab5b8ad6da\" y=\"79.178388\"/>\n     <use style=\"fill:#1f77b4;stroke:#1f77b4;\" x=\"124.688182\" xlink:href=\"#mab5b8ad6da\" y=\"86.195764\"/>\n     <use style=\"fill:#1f77b4;stroke:#1f77b4;\" x=\"90.275699\" xlink:href=\"#mab5b8ad6da\" y=\"46.684309\"/>\n     <use style=\"fill:#1f77b4;stroke:#1f77b4;\" x=\"137.643462\" xlink:href=\"#mab5b8ad6da\" y=\"74.408973\"/>\n     <use style=\"fill:#1f77b4;stroke:#1f77b4;\" x=\"100.144745\" xlink:href=\"#mab5b8ad6da\" y=\"53.705498\"/>\n     <use style=\"fill:#1f77b4;stroke:#1f77b4;\" x=\"142.676673\" xlink:href=\"#mab5b8ad6da\" y=\"94.035194\"/>\n     <use style=\"fill:#1f77b4;stroke:#1f77b4;\" x=\"146.510788\" xlink:href=\"#mab5b8ad6da\" y=\"91.499339\"/>\n     <use style=\"fill:#1f77b4;stroke:#1f77b4;\" x=\"135.725391\" xlink:href=\"#mab5b8ad6da\" y=\"96.411702\"/>\n     <use style=\"fill:#1f77b4;stroke:#1f77b4;\" x=\"95.943734\" xlink:href=\"#mab5b8ad6da\" y=\"71.201401\"/>\n     <use style=\"fill:#1f77b4;stroke:#1f77b4;\" x=\"78.764144\" xlink:href=\"#mab5b8ad6da\" y=\"43.677992\"/>\n     <use style=\"fill:#1f77b4;stroke:#1f77b4;\" x=\"97.012004\" xlink:href=\"#mab5b8ad6da\" y=\"62.525242\"/>\n     <use style=\"fill:#1f77b4;stroke:#1f77b4;\" x=\"133.464644\" xlink:href=\"#mab5b8ad6da\" y=\"84.393978\"/>\n     <use style=\"fill:#1f77b4;stroke:#1f77b4;\" x=\"178.431313\" xlink:href=\"#mab5b8ad6da\" y=\"122.229564\"/>\n     <use style=\"fill:#1f77b4;stroke:#1f77b4;\" x=\"130.631052\" xlink:href=\"#mab5b8ad6da\" y=\"73.148831\"/>\n     <use style=\"fill:#1f77b4;stroke:#1f77b4;\" x=\"59.527099\" xlink:href=\"#mab5b8ad6da\" y=\"52.755391\"/>\n     <use style=\"fill:#1f77b4;stroke:#1f77b4;\" x=\"144.951739\" xlink:href=\"#mab5b8ad6da\" y=\"95.75269\"/>\n     <use style=\"fill:#1f77b4;stroke:#1f77b4;\" x=\"128.076115\" xlink:href=\"#mab5b8ad6da\" y=\"74.959941\"/>\n     <use style=\"fill:#1f77b4;stroke:#1f77b4;\" x=\"163.45924\" xlink:href=\"#mab5b8ad6da\" y=\"99.014388\"/>\n     <use style=\"fill:#1f77b4;stroke:#1f77b4;\" x=\"150.136306\" xlink:href=\"#mab5b8ad6da\" y=\"84.61607\"/>\n     <use style=\"fill:#1f77b4;stroke:#1f77b4;\" x=\"59.658552\" xlink:href=\"#mab5b8ad6da\" y=\"21.227445\"/>\n     <use style=\"fill:#1f77b4;stroke:#1f77b4;\" x=\"144.818801\" xlink:href=\"#mab5b8ad6da\" y=\"87.203717\"/>\n     <use style=\"fill:#1f77b4;stroke:#1f77b4;\" x=\"135.877366\" xlink:href=\"#mab5b8ad6da\" y=\"92.841155\"/>\n     <use style=\"fill:#1f77b4;stroke:#1f77b4;\" x=\"123.014175\" xlink:href=\"#mab5b8ad6da\" y=\"77.660144\"/>\n     <use style=\"fill:#1f77b4;stroke:#1f77b4;\" x=\"142.353911\" xlink:href=\"#mab5b8ad6da\" y=\"77.145443\"/>\n     <use style=\"fill:#1f77b4;stroke:#1f77b4;\" x=\"102.630557\" xlink:href=\"#mab5b8ad6da\" y=\"58.742288\"/>\n     <use style=\"fill:#1f77b4;stroke:#1f77b4;\" x=\"147.726578\" xlink:href=\"#mab5b8ad6da\" y=\"83.849849\"/>\n     <use style=\"fill:#1f77b4;stroke:#1f77b4;\" x=\"89.175123\" xlink:href=\"#mab5b8ad6da\" y=\"65.753307\"/>\n     <use style=\"fill:#1f77b4;stroke:#1f77b4;\" x=\"119.875092\" xlink:href=\"#mab5b8ad6da\" y=\"52.868717\"/>\n     <use style=\"fill:#1f77b4;stroke:#1f77b4;\" x=\"169.328174\" xlink:href=\"#mab5b8ad6da\" y=\"92.619795\"/>\n     <use style=\"fill:#1f77b4;stroke:#1f77b4;\" x=\"135.635313\" xlink:href=\"#mab5b8ad6da\" y=\"82.559135\"/>\n     <use style=\"fill:#1f77b4;stroke:#1f77b4;\" x=\"168.335201\" xlink:href=\"#mab5b8ad6da\" y=\"96.739727\"/>\n     <use style=\"fill:#1f77b4;stroke:#1f77b4;\" x=\"106.212291\" xlink:href=\"#mab5b8ad6da\" y=\"70.694459\"/>\n     <use style=\"fill:#1f77b4;stroke:#1f77b4;\" x=\"118.454234\" xlink:href=\"#mab5b8ad6da\" y=\"60.141224\"/>\n     <use style=\"fill:#1f77b4;stroke:#1f77b4;\" x=\"139.785706\" xlink:href=\"#mab5b8ad6da\" y=\"90.051853\"/>\n     <use style=\"fill:#1f77b4;stroke:#1f77b4;\" x=\"132.33774\" xlink:href=\"#mab5b8ad6da\" y=\"79.043633\"/>\n     <use style=\"fill:#1f77b4;stroke:#1f77b4;\" x=\"108.778568\" xlink:href=\"#mab5b8ad6da\" y=\"78.61739\"/>\n     <use style=\"fill:#1f77b4;stroke:#1f77b4;\" x=\"140.101144\" xlink:href=\"#mab5b8ad6da\" y=\"80.417815\"/>\n     <use style=\"fill:#1f77b4;stroke:#1f77b4;\" x=\"92.756382\" xlink:href=\"#mab5b8ad6da\" y=\"60.954436\"/>\n     <use style=\"fill:#1f77b4;stroke:#1f77b4;\" x=\"108.146515\" xlink:href=\"#mab5b8ad6da\" y=\"80.869979\"/>\n     <use style=\"fill:#1f77b4;stroke:#1f77b4;\" x=\"80.10994\" xlink:href=\"#mab5b8ad6da\" y=\"34.416241\"/>\n     <use style=\"fill:#1f77b4;stroke:#1f77b4;\" x=\"121.796232\" xlink:href=\"#mab5b8ad6da\" y=\"61.706282\"/>\n     <use style=\"fill:#1f77b4;stroke:#1f77b4;\" x=\"142.347151\" xlink:href=\"#mab5b8ad6da\" y=\"93.923149\"/>\n     <use style=\"fill:#1f77b4;stroke:#1f77b4;\" x=\"139.947749\" xlink:href=\"#mab5b8ad6da\" y=\"90.512695\"/>\n     <use style=\"fill:#1f77b4;stroke:#1f77b4;\" x=\"141.526806\" xlink:href=\"#mab5b8ad6da\" y=\"82.991778\"/>\n     <use style=\"fill:#1f77b4;stroke:#1f77b4;\" x=\"126.557078\" xlink:href=\"#mab5b8ad6da\" y=\"72.845359\"/>\n     <use style=\"fill:#1f77b4;stroke:#1f77b4;\" x=\"79.815602\" xlink:href=\"#mab5b8ad6da\" y=\"57.849634\"/>\n     <use style=\"fill:#1f77b4;stroke:#1f77b4;\" x=\"139.679483\" xlink:href=\"#mab5b8ad6da\" y=\"78.996767\"/>\n     <use style=\"fill:#1f77b4;stroke:#1f77b4;\" x=\"152.933958\" xlink:href=\"#mab5b8ad6da\" y=\"83.575861\"/>\n     <use style=\"fill:#1f77b4;stroke:#1f77b4;\" x=\"144.044298\" xlink:href=\"#mab5b8ad6da\" y=\"79.628255\"/>\n     <use style=\"fill:#1f77b4;stroke:#1f77b4;\" x=\"136.699658\" xlink:href=\"#mab5b8ad6da\" y=\"74.692264\"/>\n     <use style=\"fill:#1f77b4;stroke:#1f77b4;\" x=\"132.375046\" xlink:href=\"#mab5b8ad6da\" y=\"100.310477\"/>\n     <use style=\"fill:#1f77b4;stroke:#1f77b4;\" x=\"153.120396\" xlink:href=\"#mab5b8ad6da\" y=\"95.492045\"/>\n     <use style=\"fill:#1f77b4;stroke:#1f77b4;\" x=\"134.818801\" xlink:href=\"#mab5b8ad6da\" y=\"94.681307\"/>\n     <use style=\"fill:#1f77b4;stroke:#1f77b4;\" x=\"110.223195\" xlink:href=\"#mab5b8ad6da\" y=\"72.941078\"/>\n     <use style=\"fill:#1f77b4;stroke:#1f77b4;\" x=\"113.55182\" xlink:href=\"#mab5b8ad6da\" y=\"57.083409\"/>\n     <use style=\"fill:#1f77b4;stroke:#1f77b4;\" x=\"127.486094\" xlink:href=\"#mab5b8ad6da\" y=\"80.537838\"/>\n     <use style=\"fill:#1f77b4;stroke:#1f77b4;\" x=\"149.403222\" xlink:href=\"#mab5b8ad6da\" y=\"91.997601\"/>\n     <use style=\"fill:#1f77b4;stroke:#1f77b4;\" x=\"91.937061\" xlink:href=\"#mab5b8ad6da\" y=\"46.758554\"/>\n     <use style=\"fill:#1f77b4;stroke:#1f77b4;\" x=\"146.869332\" xlink:href=\"#mab5b8ad6da\" y=\"78.172336\"/>\n     <use style=\"fill:#1f77b4;stroke:#1f77b4;\" x=\"112.708322\" xlink:href=\"#mab5b8ad6da\" y=\"77.802585\"/>\n     <use style=\"fill:#1f77b4;stroke:#1f77b4;\" x=\"139.693932\" xlink:href=\"#mab5b8ad6da\" y=\"85.848813\"/>\n     <use style=\"fill:#1f77b4;stroke:#1f77b4;\" x=\"73.402546\" xlink:href=\"#mab5b8ad6da\" y=\"52.906901\"/>\n     <use style=\"fill:#1f77b4;stroke:#1f77b4;\" x=\"44.252079\" xlink:href=\"#mab5b8ad6da\" y=\"40.003989\"/>\n     <use style=\"fill:#1f77b4;stroke:#1f77b4;\" x=\"157.41494\" xlink:href=\"#mab5b8ad6da\" y=\"114.765981\"/>\n     <use style=\"fill:#1f77b4;stroke:#1f77b4;\" x=\"124.779797\" xlink:href=\"#mab5b8ad6da\" y=\"77.186203\"/>\n     <use style=\"fill:#1f77b4;stroke:#1f77b4;\" x=\"121.138787\" xlink:href=\"#mab5b8ad6da\" y=\"94.497123\"/>\n     <use style=\"fill:#1f77b4;stroke:#1f77b4;\" x=\"173.232537\" xlink:href=\"#mab5b8ad6da\" y=\"102.797523\"/>\n     <use style=\"fill:#1f77b4;stroke:#1f77b4;\" x=\"108.31249\" xlink:href=\"#mab5b8ad6da\" y=\"58.003143\"/>\n     <use style=\"fill:#1f77b4;stroke:#1f77b4;\" x=\"85.946469\" xlink:href=\"#mab5b8ad6da\" y=\"57.512099\"/>\n     <use style=\"fill:#1f77b4;stroke:#1f77b4;\" x=\"129.480565\" xlink:href=\"#mab5b8ad6da\" y=\"72.621662\"/>\n     <use style=\"fill:#1f77b4;stroke:#1f77b4;\" x=\"160.006751\" xlink:href=\"#mab5b8ad6da\" y=\"92.322333\"/>\n     <use style=\"fill:#1f77b4;stroke:#1f77b4;\" x=\"127.439497\" xlink:href=\"#mab5b8ad6da\" y=\"87.256596\"/>\n     <use style=\"fill:#1f77b4;stroke:#1f77b4;\" x=\"148.627965\" xlink:href=\"#mab5b8ad6da\" y=\"96.325558\"/>\n     <use style=\"fill:#1f77b4;stroke:#1f77b4;\" x=\"46.64163\" xlink:href=\"#mab5b8ad6da\" y=\"36.978516\"/>\n     <use style=\"fill:#1f77b4;stroke:#1f77b4;\" x=\"108.183628\" xlink:href=\"#mab5b8ad6da\" y=\"69.567276\"/>\n     <use style=\"fill:#1f77b4;stroke:#1f77b4;\" x=\"130.945929\" xlink:href=\"#mab5b8ad6da\" y=\"72.786852\"/>\n     <use style=\"fill:#1f77b4;stroke:#1f77b4;\" x=\"110.565268\" xlink:href=\"#mab5b8ad6da\" y=\"55.457894\"/>\n     <use style=\"fill:#1f77b4;stroke:#1f77b4;\" x=\"172.113528\" xlink:href=\"#mab5b8ad6da\" y=\"104.78504\"/>\n     <use style=\"fill:#1f77b4;stroke:#1f77b4;\" x=\"117.186702\" xlink:href=\"#mab5b8ad6da\" y=\"74.598031\"/>\n     <use style=\"fill:#1f77b4;stroke:#1f77b4;\" x=\"97.973783\" xlink:href=\"#mab5b8ad6da\" y=\"53.909625\"/>\n     <use style=\"fill:#1f77b4;stroke:#1f77b4;\" x=\"60.039348\" xlink:href=\"#mab5b8ad6da\" y=\"37.291242\"/>\n     <use style=\"fill:#1f77b4;stroke:#1f77b4;\" x=\"141.907167\" xlink:href=\"#mab5b8ad6da\" y=\"87.312071\"/>\n     <use style=\"fill:#1f77b4;stroke:#1f77b4;\" x=\"150.82402\" xlink:href=\"#mab5b8ad6da\" y=\"94.34919\"/>\n     <use style=\"fill:#1f77b4;stroke:#1f77b4;\" x=\"141.9892\" xlink:href=\"#mab5b8ad6da\" y=\"89.60458\"/>\n     <use style=\"fill:#1f77b4;stroke:#1f77b4;\" x=\"121.314115\" xlink:href=\"#mab5b8ad6da\" y=\"93.318984\"/>\n     <use style=\"fill:#1f77b4;stroke:#1f77b4;\" x=\"143.730098\" xlink:href=\"#mab5b8ad6da\" y=\"77.602814\"/>\n     <use style=\"fill:#1f77b4;stroke:#1f77b4;\" x=\"83.910755\" xlink:href=\"#mab5b8ad6da\" y=\"55.976753\"/>\n     <use style=\"fill:#1f77b4;stroke:#1f77b4;\" x=\"152.189647\" xlink:href=\"#mab5b8ad6da\" y=\"95.276153\"/>\n     <use style=\"fill:#1f77b4;stroke:#1f77b4;\" x=\"69.896956\" xlink:href=\"#mab5b8ad6da\" y=\"16.892913\"/>\n     <use style=\"fill:#1f77b4;stroke:#1f77b4;\" x=\"119.718019\" xlink:href=\"#mab5b8ad6da\" y=\"60.678618\"/>\n     <use style=\"fill:#1f77b4;stroke:#1f77b4;\" x=\"136.340357\" xlink:href=\"#mab5b8ad6da\" y=\"87.940609\"/>\n     <use style=\"fill:#1f77b4;stroke:#1f77b4;\" x=\"146.523108\" xlink:href=\"#mab5b8ad6da\" y=\"78.08872\"/>\n     <use style=\"fill:#1f77b4;stroke:#1f77b4;\" x=\"143.035973\" xlink:href=\"#mab5b8ad6da\" y=\"83.283476\"/>\n     <use style=\"fill:#1f77b4;stroke:#1f77b4;\" x=\"92.707486\" xlink:href=\"#mab5b8ad6da\" y=\"55.744273\"/>\n     <use style=\"fill:#1f77b4;stroke:#1f77b4;\" x=\"150.047355\" xlink:href=\"#mab5b8ad6da\" y=\"85.858567\"/>\n     <use style=\"fill:#1f77b4;stroke:#1f77b4;\" x=\"132.388917\" xlink:href=\"#mab5b8ad6da\" y=\"93.217252\"/>\n     <use style=\"fill:#1f77b4;stroke:#1f77b4;\" x=\"119.126634\" xlink:href=\"#mab5b8ad6da\" y=\"49.017088\"/>\n     <use style=\"fill:#1f77b4;stroke:#1f77b4;\" x=\"134.07773\" xlink:href=\"#mab5b8ad6da\" y=\"78.502785\"/>\n     <use style=\"fill:#1f77b4;stroke:#1f77b4;\" x=\"84.954916\" xlink:href=\"#mab5b8ad6da\" y=\"70.501426\"/>\n     <use style=\"fill:#1f77b4;stroke:#1f77b4;\" x=\"127.999086\" xlink:href=\"#mab5b8ad6da\" y=\"84.112239\"/>\n     <use style=\"fill:#1f77b4;stroke:#1f77b4;\" x=\"129.415458\" xlink:href=\"#mab5b8ad6da\" y=\"78.490834\"/>\n     <use style=\"fill:#1f77b4;stroke:#1f77b4;\" x=\"92.730925\" xlink:href=\"#mab5b8ad6da\" y=\"68.761477\"/>\n     <use style=\"fill:#1f77b4;stroke:#1f77b4;\" x=\"87.865409\" xlink:href=\"#mab5b8ad6da\" y=\"50.957148\"/>\n     <use style=\"fill:#1f77b4;stroke:#1f77b4;\" x=\"102.864474\" xlink:href=\"#mab5b8ad6da\" y=\"42.276619\"/>\n     <use style=\"fill:#1f77b4;stroke:#1f77b4;\" x=\"137.939653\" xlink:href=\"#mab5b8ad6da\" y=\"94.152611\"/>\n     <use style=\"fill:#1f77b4;stroke:#1f77b4;\" x=\"139.942903\" xlink:href=\"#mab5b8ad6da\" y=\"82.581916\"/>\n     <use style=\"fill:#1f77b4;stroke:#1f77b4;\" x=\"121.320718\" xlink:href=\"#mab5b8ad6da\" y=\"85.835643\"/>\n     <use style=\"fill:#1f77b4;stroke:#1f77b4;\" x=\"104.294931\" xlink:href=\"#mab5b8ad6da\" y=\"75.908858\"/>\n     <use style=\"fill:#1f77b4;stroke:#1f77b4;\" x=\"136.049739\" xlink:href=\"#mab5b8ad6da\" y=\"86.613053\"/>\n     <use style=\"fill:#1f77b4;stroke:#1f77b4;\" x=\"156.90174\" xlink:href=\"#mab5b8ad6da\" y=\"94.659108\"/>\n     <use style=\"fill:#1f77b4;stroke:#1f77b4;\" x=\"134.628449\" xlink:href=\"#mab5b8ad6da\" y=\"88.849167\"/>\n     <use style=\"fill:#1f77b4;stroke:#1f77b4;\" x=\"137.276738\" xlink:href=\"#mab5b8ad6da\" y=\"92.014408\"/>\n     <use style=\"fill:#1f77b4;stroke:#1f77b4;\" x=\"99.542672\" xlink:href=\"#mab5b8ad6da\" y=\"61.860301\"/>\n     <use style=\"fill:#1f77b4;stroke:#1f77b4;\" x=\"130.598978\" xlink:href=\"#mab5b8ad6da\" y=\"88.185842\"/>\n     <use style=\"fill:#1f77b4;stroke:#1f77b4;\" x=\"117.162051\" xlink:href=\"#mab5b8ad6da\" y=\"74.031404\"/>\n     <use style=\"fill:#1f77b4;stroke:#1f77b4;\" x=\"142.169454\" xlink:href=\"#mab5b8ad6da\" y=\"74.002477\"/>\n     <use style=\"fill:#1f77b4;stroke:#1f77b4;\" x=\"193.603023\" xlink:href=\"#mab5b8ad6da\" y=\"111.187305\"/>\n     <use style=\"fill:#1f77b4;stroke:#1f77b4;\" x=\"141.983875\" xlink:href=\"#mab5b8ad6da\" y=\"86.317836\"/>\n     <use style=\"fill:#1f77b4;stroke:#1f77b4;\" x=\"147.702488\" xlink:href=\"#mab5b8ad6da\" y=\"78.948534\"/>\n     <use style=\"fill:#1f77b4;stroke:#1f77b4;\" x=\"143.700372\" xlink:href=\"#mab5b8ad6da\" y=\"93.112793\"/>\n     <use style=\"fill:#1f77b4;stroke:#1f77b4;\" x=\"106.124929\" xlink:href=\"#mab5b8ad6da\" y=\"55.651696\"/>\n     <use style=\"fill:#1f77b4;stroke:#1f77b4;\" x=\"117.824536\" xlink:href=\"#mab5b8ad6da\" y=\"77.98524\"/>\n     <use style=\"fill:#1f77b4;stroke:#1f77b4;\" x=\"115.975728\" xlink:href=\"#mab5b8ad6da\" y=\"72.65144\"/>\n     <use style=\"fill:#1f77b4;stroke:#1f77b4;\" x=\"113.209371\" xlink:href=\"#mab5b8ad6da\" y=\"81.434867\"/>\n     <use style=\"fill:#1f77b4;stroke:#1f77b4;\" x=\"64.849364\" xlink:href=\"#mab5b8ad6da\" y=\"44.92175\"/>\n     <use style=\"fill:#1f77b4;stroke:#1f77b4;\" x=\"127.419\" xlink:href=\"#mab5b8ad6da\" y=\"82.336595\"/>\n     <use style=\"fill:#1f77b4;stroke:#1f77b4;\" x=\"126.439011\" xlink:href=\"#mab5b8ad6da\" y=\"81.910948\"/>\n     <use style=\"fill:#1f77b4;stroke:#1f77b4;\" x=\"123.324944\" xlink:href=\"#mab5b8ad6da\" y=\"72.897799\"/>\n     <use style=\"fill:#1f77b4;stroke:#1f77b4;\" x=\"86.843218\" xlink:href=\"#mab5b8ad6da\" y=\"50.491352\"/>\n     <use style=\"fill:#1f77b4;stroke:#1f77b4;\" x=\"147.935122\" xlink:href=\"#mab5b8ad6da\" y=\"79.073916\"/>\n     <use style=\"fill:#1f77b4;stroke:#1f77b4;\" x=\"103.080419\" xlink:href=\"#mab5b8ad6da\" y=\"70.418838\"/>\n     <use style=\"fill:#1f77b4;stroke:#1f77b4;\" x=\"197.384197\" xlink:href=\"#mab5b8ad6da\" y=\"123.968927\"/>\n     <use style=\"fill:#1f77b4;stroke:#1f77b4;\" x=\"151.130142\" xlink:href=\"#mab5b8ad6da\" y=\"97.503631\"/>\n     <use style=\"fill:#1f77b4;stroke:#1f77b4;\" x=\"114.420301\" xlink:href=\"#mab5b8ad6da\" y=\"70.554537\"/>\n     <use style=\"fill:#1f77b4;stroke:#1f77b4;\" x=\"161.611058\" xlink:href=\"#mab5b8ad6da\" y=\"72.447429\"/>\n     <use style=\"fill:#1f77b4;stroke:#1f77b4;\" x=\"100.685851\" xlink:href=\"#mab5b8ad6da\" y=\"62.963489\"/>\n     <use style=\"fill:#1f77b4;stroke:#1f77b4;\" x=\"155.519155\" xlink:href=\"#mab5b8ad6da\" y=\"107.963436\"/>\n     <use style=\"fill:#1f77b4;stroke:#1f77b4;\" x=\"177.944748\" xlink:href=\"#mab5b8ad6da\" y=\"107.062239\"/>\n     <use style=\"fill:#1f77b4;stroke:#1f77b4;\" x=\"153.017988\" xlink:href=\"#mab5b8ad6da\" y=\"85.789969\"/>\n     <use style=\"fill:#1f77b4;stroke:#1f77b4;\" x=\"127.730331\" xlink:href=\"#mab5b8ad6da\" y=\"98.587625\"/>\n     <use style=\"fill:#1f77b4;stroke:#1f77b4;\" x=\"158.382747\" xlink:href=\"#mab5b8ad6da\" y=\"106.177141\"/>\n     <use style=\"fill:#1f77b4;stroke:#1f77b4;\" x=\"157.31517\" xlink:href=\"#mab5b8ad6da\" y=\"99.9482\"/>\n     <use style=\"fill:#1f77b4;stroke:#1f77b4;\" x=\"111.702494\" xlink:href=\"#mab5b8ad6da\" y=\"69.451731\"/>\n     <use style=\"fill:#1f77b4;stroke:#1f77b4;\" x=\"69.425146\" xlink:href=\"#mab5b8ad6da\" y=\"31.533939\"/>\n     <use style=\"fill:#1f77b4;stroke:#1f77b4;\" x=\"107.134718\" xlink:href=\"#mab5b8ad6da\" y=\"76.859524\"/>\n     <use style=\"fill:#1f77b4;stroke:#1f77b4;\" x=\"130.052082\" xlink:href=\"#mab5b8ad6da\" y=\"72.269288\"/>\n     <use style=\"fill:#1f77b4;stroke:#1f77b4;\" x=\"105.707635\" xlink:href=\"#mab5b8ad6da\" y=\"54.579835\"/>\n     <use style=\"fill:#1f77b4;stroke:#1f77b4;\" x=\"133.905748\" xlink:href=\"#mab5b8ad6da\" y=\"80.34768\"/>\n     <use style=\"fill:#1f77b4;stroke:#1f77b4;\" x=\"140.019101\" xlink:href=\"#mab5b8ad6da\" y=\"90.145935\"/>\n     <use style=\"fill:#1f77b4;stroke:#1f77b4;\" x=\"118.32677\" xlink:href=\"#mab5b8ad6da\" y=\"89.976153\"/>\n     <use style=\"fill:#1f77b4;stroke:#1f77b4;\" x=\"159.594585\" xlink:href=\"#mab5b8ad6da\" y=\"87.614054\"/>\n     <use style=\"fill:#1f77b4;stroke:#1f77b4;\" x=\"110.930537\" xlink:href=\"#mab5b8ad6da\" y=\"61.41799\"/>\n     <use style=\"fill:#1f77b4;stroke:#1f77b4;\" x=\"150.622163\" xlink:href=\"#mab5b8ad6da\" y=\"87.031403\"/>\n     <use style=\"fill:#1f77b4;stroke:#1f77b4;\" x=\"102.844006\" xlink:href=\"#mab5b8ad6da\" y=\"47.751102\"/>\n     <use style=\"fill:#1f77b4;stroke:#1f77b4;\" x=\"147.940636\" xlink:href=\"#mab5b8ad6da\" y=\"99.626062\"/>\n     <use style=\"fill:#1f77b4;stroke:#1f77b4;\" x=\"134.960528\" xlink:href=\"#mab5b8ad6da\" y=\"86.985939\"/>\n     <use style=\"fill:#1f77b4;stroke:#1f77b4;\" x=\"125.788397\" xlink:href=\"#mab5b8ad6da\" y=\"73.803355\"/>\n     <use style=\"fill:#1f77b4;stroke:#1f77b4;\" x=\"142.908017\" xlink:href=\"#mab5b8ad6da\" y=\"85.608784\"/>\n     <use style=\"fill:#1f77b4;stroke:#1f77b4;\" x=\"159.06014\" xlink:href=\"#mab5b8ad6da\" y=\"112.023818\"/>\n     <use style=\"fill:#1f77b4;stroke:#1f77b4;\" x=\"130.684447\" xlink:href=\"#mab5b8ad6da\" y=\"81.479797\"/>\n     <use style=\"fill:#1f77b4;stroke:#1f77b4;\" x=\"130.401573\" xlink:href=\"#mab5b8ad6da\" y=\"80.673032\"/>\n     <use style=\"fill:#1f77b4;stroke:#1f77b4;\" x=\"106.223566\" xlink:href=\"#mab5b8ad6da\" y=\"74.188012\"/>\n     <use style=\"fill:#1f77b4;stroke:#1f77b4;\" x=\"158.216411\" xlink:href=\"#mab5b8ad6da\" y=\"110.70491\"/>\n     <use style=\"fill:#1f77b4;stroke:#1f77b4;\" x=\"120.085937\" xlink:href=\"#mab5b8ad6da\" y=\"83.938147\"/>\n     <use style=\"fill:#1f77b4;stroke:#1f77b4;\" x=\"182.664615\" xlink:href=\"#mab5b8ad6da\" y=\"121.734346\"/>\n     <use style=\"fill:#1f77b4;stroke:#1f77b4;\" x=\"102.296773\" xlink:href=\"#mab5b8ad6da\" y=\"66.858118\"/>\n     <use style=\"fill:#1f77b4;stroke:#1f77b4;\" x=\"180.371383\" xlink:href=\"#mab5b8ad6da\" y=\"106.548675\"/>\n     <use style=\"fill:#1f77b4;stroke:#1f77b4;\" x=\"122.851712\" xlink:href=\"#mab5b8ad6da\" y=\"82.592176\"/>\n     <use style=\"fill:#1f77b4;stroke:#1f77b4;\" x=\"144.343817\" xlink:href=\"#mab5b8ad6da\" y=\"95.599107\"/>\n     <use style=\"fill:#1f77b4;stroke:#1f77b4;\" x=\"138.559053\" xlink:href=\"#mab5b8ad6da\" y=\"80.545186\"/>\n     <use style=\"fill:#1f77b4;stroke:#1f77b4;\" x=\"115.981334\" xlink:href=\"#mab5b8ad6da\" y=\"64.838105\"/>\n     <use style=\"fill:#1f77b4;stroke:#1f77b4;\" x=\"88.170001\" xlink:href=\"#mab5b8ad6da\" y=\"45.091734\"/>\n     <use style=\"fill:#1f77b4;stroke:#1f77b4;\" x=\"111.293234\" xlink:href=\"#mab5b8ad6da\" y=\"63.835821\"/>\n     <use style=\"fill:#1f77b4;stroke:#1f77b4;\" x=\"121.85352\" xlink:href=\"#mab5b8ad6da\" y=\"65.985836\"/>\n     <use style=\"fill:#1f77b4;stroke:#1f77b4;\" x=\"121.636072\" xlink:href=\"#mab5b8ad6da\" y=\"87.111945\"/>\n     <use style=\"fill:#1f77b4;stroke:#1f77b4;\" x=\"111.67214\" xlink:href=\"#mab5b8ad6da\" y=\"70.805706\"/>\n     <use style=\"fill:#1f77b4;stroke:#1f77b4;\" x=\"155.059219\" xlink:href=\"#mab5b8ad6da\" y=\"96.675435\"/>\n     <use style=\"fill:#1f77b4;stroke:#1f77b4;\" x=\"163.821028\" xlink:href=\"#mab5b8ad6da\" y=\"108.140029\"/>\n     <use style=\"fill:#1f77b4;stroke:#1f77b4;\" x=\"106.523885\" xlink:href=\"#mab5b8ad6da\" y=\"76.684795\"/>\n     <use style=\"fill:#1f77b4;stroke:#1f77b4;\" x=\"95.146563\" xlink:href=\"#mab5b8ad6da\" y=\"47.866661\"/>\n     <use style=\"fill:#1f77b4;stroke:#1f77b4;\" x=\"145.735717\" xlink:href=\"#mab5b8ad6da\" y=\"97.316095\"/>\n     <use style=\"fill:#1f77b4;stroke:#1f77b4;\" x=\"108.225176\" xlink:href=\"#mab5b8ad6da\" y=\"65.151412\"/>\n     <use style=\"fill:#1f77b4;stroke:#1f77b4;\" x=\"146.495545\" xlink:href=\"#mab5b8ad6da\" y=\"84.088786\"/>\n     <use style=\"fill:#1f77b4;stroke:#1f77b4;\" x=\"134.311759\" xlink:href=\"#mab5b8ad6da\" y=\"82.642746\"/>\n     <use style=\"fill:#1f77b4;stroke:#1f77b4;\" x=\"84.057808\" xlink:href=\"#mab5b8ad6da\" y=\"63.714611\"/>\n     <use style=\"fill:#1f77b4;stroke:#1f77b4;\" x=\"114.327558\" xlink:href=\"#mab5b8ad6da\" y=\"56.875273\"/>\n     <use style=\"fill:#1f77b4;stroke:#1f77b4;\" x=\"97.442297\" xlink:href=\"#mab5b8ad6da\" y=\"56.99986\"/>\n     <use style=\"fill:#1f77b4;stroke:#1f77b4;\" x=\"136.026867\" xlink:href=\"#mab5b8ad6da\" y=\"92.396472\"/>\n     <use style=\"fill:#1f77b4;stroke:#1f77b4;\" x=\"91.302582\" xlink:href=\"#mab5b8ad6da\" y=\"52.236269\"/>\n     <use style=\"fill:#1f77b4;stroke:#1f77b4;\" x=\"171.713014\" xlink:href=\"#mab5b8ad6da\" y=\"101.881348\"/>\n     <use style=\"fill:#1f77b4;stroke:#1f77b4;\" x=\"162.302899\" xlink:href=\"#mab5b8ad6da\" y=\"106.423059\"/>\n     <use style=\"fill:#1f77b4;stroke:#1f77b4;\" x=\"136.927287\" xlink:href=\"#mab5b8ad6da\" y=\"88.443269\"/>\n     <use style=\"fill:#1f77b4;stroke:#1f77b4;\" x=\"91.716051\" xlink:href=\"#mab5b8ad6da\" y=\"53.730629\"/>\n     <use style=\"fill:#1f77b4;stroke:#1f77b4;\" x=\"126.962003\" xlink:href=\"#mab5b8ad6da\" y=\"77.723613\"/>\n     <use style=\"fill:#1f77b4;stroke:#1f77b4;\" x=\"105.179229\" xlink:href=\"#mab5b8ad6da\" y=\"74.873374\"/>\n     <use style=\"fill:#1f77b4;stroke:#1f77b4;\" x=\"145.688395\" xlink:href=\"#mab5b8ad6da\" y=\"74.609879\"/>\n     <use style=\"fill:#1f77b4;stroke:#1f77b4;\" x=\"126.747542\" xlink:href=\"#mab5b8ad6da\" y=\"88.656271\"/>\n     <use style=\"fill:#1f77b4;stroke:#1f77b4;\" x=\"140.982435\" xlink:href=\"#mab5b8ad6da\" y=\"81.813238\"/>\n     <use style=\"fill:#1f77b4;stroke:#1f77b4;\" x=\"151.697502\" xlink:href=\"#mab5b8ad6da\" y=\"105.519625\"/>\n     <use style=\"fill:#1f77b4;stroke:#1f77b4;\" x=\"90.652901\" xlink:href=\"#mab5b8ad6da\" y=\"60.111172\"/>\n     <use style=\"fill:#1f77b4;stroke:#1f77b4;\" x=\"97.586127\" xlink:href=\"#mab5b8ad6da\" y=\"65.109544\"/>\n     <use style=\"fill:#1f77b4;stroke:#1f77b4;\" x=\"159.219247\" xlink:href=\"#mab5b8ad6da\" y=\"100.14674\"/>\n     <use style=\"fill:#1f77b4;stroke:#1f77b4;\" x=\"85.84649\" xlink:href=\"#mab5b8ad6da\" y=\"49.870426\"/>\n     <use style=\"fill:#1f77b4;stroke:#1f77b4;\" x=\"107.655633\" xlink:href=\"#mab5b8ad6da\" y=\"66.392662\"/>\n     <use style=\"fill:#1f77b4;stroke:#1f77b4;\" x=\"136.394277\" xlink:href=\"#mab5b8ad6da\" y=\"98.478303\"/>\n     <use style=\"fill:#1f77b4;stroke:#1f77b4;\" x=\"114.538648\" xlink:href=\"#mab5b8ad6da\" y=\"63.775313\"/>\n     <use style=\"fill:#1f77b4;stroke:#1f77b4;\" x=\"94.137442\" xlink:href=\"#mab5b8ad6da\" y=\"67.480495\"/>\n     <use style=\"fill:#1f77b4;stroke:#1f77b4;\" x=\"130.157652\" xlink:href=\"#mab5b8ad6da\" y=\"84.880984\"/>\n     <use style=\"fill:#1f77b4;stroke:#1f77b4;\" x=\"156.667487\" xlink:href=\"#mab5b8ad6da\" y=\"89.965304\"/>\n     <use style=\"fill:#1f77b4;stroke:#1f77b4;\" x=\"128.65233\" xlink:href=\"#mab5b8ad6da\" y=\"70.524669\"/>\n     <use style=\"fill:#1f77b4;stroke:#1f77b4;\" x=\"121.380137\" xlink:href=\"#mab5b8ad6da\" y=\"93.183337\"/>\n     <use style=\"fill:#1f77b4;stroke:#1f77b4;\" x=\"148.237179\" xlink:href=\"#mab5b8ad6da\" y=\"90.318076\"/>\n     <use style=\"fill:#1f77b4;stroke:#1f77b4;\" x=\"129.403846\" xlink:href=\"#mab5b8ad6da\" y=\"73.587494\"/>\n     <use style=\"fill:#1f77b4;stroke:#1f77b4;\" x=\"167.869493\" xlink:href=\"#mab5b8ad6da\" y=\"109.743856\"/>\n     <use style=\"fill:#1f77b4;stroke:#1f77b4;\" x=\"131.766298\" xlink:href=\"#mab5b8ad6da\" y=\"79.149638\"/>\n     <use style=\"fill:#1f77b4;stroke:#1f77b4;\" x=\"156.851395\" xlink:href=\"#mab5b8ad6da\" y=\"98.33584\"/>\n     <use style=\"fill:#1f77b4;stroke:#1f77b4;\" x=\"105.701158\" xlink:href=\"#mab5b8ad6da\" y=\"68.71483\"/>\n     <use style=\"fill:#1f77b4;stroke:#1f77b4;\" x=\"154.240224\" xlink:href=\"#mab5b8ad6da\" y=\"102.527315\"/>\n     <use style=\"fill:#1f77b4;stroke:#1f77b4;\" x=\"167.926518\" xlink:href=\"#mab5b8ad6da\" y=\"100.009312\"/>\n     <use style=\"fill:#1f77b4;stroke:#1f77b4;\" x=\"74.653129\" xlink:href=\"#mab5b8ad6da\" y=\"55.282806\"/>\n     <use style=\"fill:#1f77b4;stroke:#1f77b4;\" x=\"126.528592\" xlink:href=\"#mab5b8ad6da\" y=\"81.362661\"/>\n     <use style=\"fill:#1f77b4;stroke:#1f77b4;\" x=\"95.459227\" xlink:href=\"#mab5b8ad6da\" y=\"45.890428\"/>\n     <use style=\"fill:#1f77b4;stroke:#1f77b4;\" x=\"96.28195\" xlink:href=\"#mab5b8ad6da\" y=\"65.421445\"/>\n     <use style=\"fill:#1f77b4;stroke:#1f77b4;\" x=\"125.557894\" xlink:href=\"#mab5b8ad6da\" y=\"61.494416\"/>\n     <use style=\"fill:#1f77b4;stroke:#1f77b4;\" x=\"165.755832\" xlink:href=\"#mab5b8ad6da\" y=\"104.681658\"/>\n     <use style=\"fill:#1f77b4;stroke:#1f77b4;\" x=\"137.749401\" xlink:href=\"#mab5b8ad6da\" y=\"90.578319\"/>\n     <use style=\"fill:#1f77b4;stroke:#1f77b4;\" x=\"129.875189\" xlink:href=\"#mab5b8ad6da\" y=\"85.451145\"/>\n     <use style=\"fill:#1f77b4;stroke:#1f77b4;\" x=\"148.360093\" xlink:href=\"#mab5b8ad6da\" y=\"73.596418\"/>\n     <use style=\"fill:#1f77b4;stroke:#1f77b4;\" x=\"116.42513\" xlink:href=\"#mab5b8ad6da\" y=\"80.783697\"/>\n     <use style=\"fill:#1f77b4;stroke:#1f77b4;\" x=\"129.39369\" xlink:href=\"#mab5b8ad6da\" y=\"83.353509\"/>\n     <use style=\"fill:#1f77b4;stroke:#1f77b4;\" x=\"113.42481\" xlink:href=\"#mab5b8ad6da\" y=\"68.909689\"/>\n     <use style=\"fill:#1f77b4;stroke:#1f77b4;\" x=\"142.847821\" xlink:href=\"#mab5b8ad6da\" y=\"85.708534\"/>\n     <use style=\"fill:#1f77b4;stroke:#1f77b4;\" x=\"146.691972\" xlink:href=\"#mab5b8ad6da\" y=\"90.413989\"/>\n     <use style=\"fill:#1f77b4;stroke:#1f77b4;\" x=\"158.987149\" xlink:href=\"#mab5b8ad6da\" y=\"74.487203\"/>\n     <use style=\"fill:#1f77b4;stroke:#1f77b4;\" x=\"104.619714\" xlink:href=\"#mab5b8ad6da\" y=\"66.165408\"/>\n     <use style=\"fill:#1f77b4;stroke:#1f77b4;\" x=\"115.467125\" xlink:href=\"#mab5b8ad6da\" y=\"60.907073\"/>\n     <use style=\"fill:#1f77b4;stroke:#1f77b4;\" x=\"89.032912\" xlink:href=\"#mab5b8ad6da\" y=\"56.075967\"/>\n     <use style=\"fill:#1f77b4;stroke:#1f77b4;\" x=\"95.436072\" xlink:href=\"#mab5b8ad6da\" y=\"58.536466\"/>\n     <use style=\"fill:#1f77b4;stroke:#1f77b4;\" x=\"130.079112\" xlink:href=\"#mab5b8ad6da\" y=\"87.219085\"/>\n     <use style=\"fill:#1f77b4;stroke:#1f77b4;\" x=\"120.975099\" xlink:href=\"#mab5b8ad6da\" y=\"84.01136\"/>\n     <use style=\"fill:#1f77b4;stroke:#1f77b4;\" x=\"144.664356\" xlink:href=\"#mab5b8ad6da\" y=\"113.497579\"/>\n     <use style=\"fill:#1f77b4;stroke:#1f77b4;\" x=\"139.092848\" xlink:href=\"#mab5b8ad6da\" y=\"81.2129\"/>\n     <use style=\"fill:#1f77b4;stroke:#1f77b4;\" x=\"196.463686\" xlink:href=\"#mab5b8ad6da\" y=\"113.19599\"/>\n     <use style=\"fill:#1f77b4;stroke:#1f77b4;\" x=\"146.240505\" xlink:href=\"#mab5b8ad6da\" y=\"94.084916\"/>\n     <use style=\"fill:#1f77b4;stroke:#1f77b4;\" x=\"139.721061\" xlink:href=\"#mab5b8ad6da\" y=\"89.129617\"/>\n     <use style=\"fill:#1f77b4;stroke:#1f77b4;\" x=\"100.747307\" xlink:href=\"#mab5b8ad6da\" y=\"65.317719\"/>\n     <use style=\"fill:#1f77b4;stroke:#1f77b4;\" x=\"110.292273\" xlink:href=\"#mab5b8ad6da\" y=\"75.473544\"/>\n     <use style=\"fill:#1f77b4;stroke:#1f77b4;\" x=\"120.61799\" xlink:href=\"#mab5b8ad6da\" y=\"68.890909\"/>\n     <use style=\"fill:#1f77b4;stroke:#1f77b4;\" x=\"113.430281\" xlink:href=\"#mab5b8ad6da\" y=\"72.374575\"/>\n     <use style=\"fill:#1f77b4;stroke:#1f77b4;\" x=\"111.430819\" xlink:href=\"#mab5b8ad6da\" y=\"69.430038\"/>\n     <use style=\"fill:#1f77b4;stroke:#1f77b4;\" x=\"121.422846\" xlink:href=\"#mab5b8ad6da\" y=\"85.061399\"/>\n     <use style=\"fill:#1f77b4;stroke:#1f77b4;\" x=\"113.849951\" xlink:href=\"#mab5b8ad6da\" y=\"76.776146\"/>\n     <use style=\"fill:#1f77b4;stroke:#1f77b4;\" x=\"141.839358\" xlink:href=\"#mab5b8ad6da\" y=\"78.757332\"/>\n     <use style=\"fill:#1f77b4;stroke:#1f77b4;\" x=\"141.930495\" xlink:href=\"#mab5b8ad6da\" y=\"98.526635\"/>\n     <use style=\"fill:#1f77b4;stroke:#1f77b4;\" x=\"81.888088\" xlink:href=\"#mab5b8ad6da\" y=\"56.257111\"/>\n     <use style=\"fill:#1f77b4;stroke:#1f77b4;\" x=\"180.015537\" xlink:href=\"#mab5b8ad6da\" y=\"94.243524\"/>\n     <use style=\"fill:#1f77b4;stroke:#1f77b4;\" x=\"119.060215\" xlink:href=\"#mab5b8ad6da\" y=\"67.876038\"/>\n     <use style=\"fill:#1f77b4;stroke:#1f77b4;\" x=\"139.798956\" xlink:href=\"#mab5b8ad6da\" y=\"99.256594\"/>\n     <use style=\"fill:#1f77b4;stroke:#1f77b4;\" x=\"141.343795\" xlink:href=\"#mab5b8ad6da\" y=\"82.734369\"/>\n     <use style=\"fill:#1f77b4;stroke:#1f77b4;\" x=\"137.516892\" xlink:href=\"#mab5b8ad6da\" y=\"90.223644\"/>\n     <use style=\"fill:#1f77b4;stroke:#1f77b4;\" x=\"146.485489\" xlink:href=\"#mab5b8ad6da\" y=\"102.393572\"/>\n     <use style=\"fill:#1f77b4;stroke:#1f77b4;\" x=\"126.461794\" xlink:href=\"#mab5b8ad6da\" y=\"84.022093\"/>\n     <use style=\"fill:#1f77b4;stroke:#1f77b4;\" x=\"92.428386\" xlink:href=\"#mab5b8ad6da\" y=\"47.354828\"/>\n     <use style=\"fill:#1f77b4;stroke:#1f77b4;\" x=\"120.594025\" xlink:href=\"#mab5b8ad6da\" y=\"79.07978\"/>\n     <use style=\"fill:#1f77b4;stroke:#1f77b4;\" x=\"138.272197\" xlink:href=\"#mab5b8ad6da\" y=\"79.052892\"/>\n     <use style=\"fill:#1f77b4;stroke:#1f77b4;\" x=\"150.357298\" xlink:href=\"#mab5b8ad6da\" y=\"90.922086\"/>\n     <use style=\"fill:#1f77b4;stroke:#1f77b4;\" x=\"102.506924\" xlink:href=\"#mab5b8ad6da\" y=\"64.241805\"/>\n     <use style=\"fill:#1f77b4;stroke:#1f77b4;\" x=\"84.455289\" xlink:href=\"#mab5b8ad6da\" y=\"57.146262\"/>\n     <use style=\"fill:#1f77b4;stroke:#1f77b4;\" x=\"127.755293\" xlink:href=\"#mab5b8ad6da\" y=\"84.140923\"/>\n     <use style=\"fill:#1f77b4;stroke:#1f77b4;\" x=\"124.649324\" xlink:href=\"#mab5b8ad6da\" y=\"71.789928\"/>\n     <use style=\"fill:#1f77b4;stroke:#1f77b4;\" x=\"121.253992\" xlink:href=\"#mab5b8ad6da\" y=\"84.879833\"/>\n     <use style=\"fill:#1f77b4;stroke:#1f77b4;\" x=\"105.393659\" xlink:href=\"#mab5b8ad6da\" y=\"61.544037\"/>\n     <use style=\"fill:#1f77b4;stroke:#1f77b4;\" x=\"116.647412\" xlink:href=\"#mab5b8ad6da\" y=\"76.386085\"/>\n     <use style=\"fill:#1f77b4;stroke:#1f77b4;\" x=\"87.583856\" xlink:href=\"#mab5b8ad6da\" y=\"59.550586\"/>\n     <use style=\"fill:#1f77b4;stroke:#1f77b4;\" x=\"141.052551\" xlink:href=\"#mab5b8ad6da\" y=\"81.863517\"/>\n     <use style=\"fill:#1f77b4;stroke:#1f77b4;\" x=\"150.337098\" xlink:href=\"#mab5b8ad6da\" y=\"92.794823\"/>\n     <use style=\"fill:#1f77b4;stroke:#1f77b4;\" x=\"89.946061\" xlink:href=\"#mab5b8ad6da\" y=\"82.479508\"/>\n     <use style=\"fill:#1f77b4;stroke:#1f77b4;\" x=\"144.456157\" xlink:href=\"#mab5b8ad6da\" y=\"72.105028\"/>\n     <use style=\"fill:#1f77b4;stroke:#1f77b4;\" x=\"86.518036\" xlink:href=\"#mab5b8ad6da\" y=\"56.201803\"/>\n     <use style=\"fill:#1f77b4;stroke:#1f77b4;\" x=\"91.129047\" xlink:href=\"#mab5b8ad6da\" y=\"49.17626\"/>\n     <use style=\"fill:#1f77b4;stroke:#1f77b4;\" x=\"115.762548\" xlink:href=\"#mab5b8ad6da\" y=\"81.990538\"/>\n     <use style=\"fill:#1f77b4;stroke:#1f77b4;\" x=\"161.797075\" xlink:href=\"#mab5b8ad6da\" y=\"95.734954\"/>\n     <use style=\"fill:#1f77b4;stroke:#1f77b4;\" x=\"139.308898\" xlink:href=\"#mab5b8ad6da\" y=\"96.03769\"/>\n     <use style=\"fill:#1f77b4;stroke:#1f77b4;\" x=\"123.753514\" xlink:href=\"#mab5b8ad6da\" y=\"90.081857\"/>\n     <use style=\"fill:#1f77b4;stroke:#1f77b4;\" x=\"95.817969\" xlink:href=\"#mab5b8ad6da\" y=\"57.81194\"/>\n     <use style=\"fill:#1f77b4;stroke:#1f77b4;\" x=\"136.227757\" xlink:href=\"#mab5b8ad6da\" y=\"92.618397\"/>\n     <use style=\"fill:#1f77b4;stroke:#1f77b4;\" x=\"138.428727\" xlink:href=\"#mab5b8ad6da\" y=\"94.467778\"/>\n     <use style=\"fill:#1f77b4;stroke:#1f77b4;\" x=\"175.64509\" xlink:href=\"#mab5b8ad6da\" y=\"99.972755\"/>\n     <use style=\"fill:#1f77b4;stroke:#1f77b4;\" x=\"141.983077\" xlink:href=\"#mab5b8ad6da\" y=\"87.575026\"/>\n     <use style=\"fill:#1f77b4;stroke:#1f77b4;\" x=\"137.281503\" xlink:href=\"#mab5b8ad6da\" y=\"83.794099\"/>\n     <use style=\"fill:#1f77b4;stroke:#1f77b4;\" x=\"117.986065\" xlink:href=\"#mab5b8ad6da\" y=\"48.141534\"/>\n     <use style=\"fill:#1f77b4;stroke:#1f77b4;\" x=\"93.974547\" xlink:href=\"#mab5b8ad6da\" y=\"51.376392\"/>\n     <use style=\"fill:#1f77b4;stroke:#1f77b4;\" x=\"110.957623\" xlink:href=\"#mab5b8ad6da\" y=\"84.633885\"/>\n     <use style=\"fill:#1f77b4;stroke:#1f77b4;\" x=\"146.256875\" xlink:href=\"#mab5b8ad6da\" y=\"84.435333\"/>\n     <use style=\"fill:#1f77b4;stroke:#1f77b4;\" x=\"138.257061\" xlink:href=\"#mab5b8ad6da\" y=\"97.530791\"/>\n     <use style=\"fill:#1f77b4;stroke:#1f77b4;\" x=\"111.360765\" xlink:href=\"#mab5b8ad6da\" y=\"52.321589\"/>\n     <use style=\"fill:#1f77b4;stroke:#1f77b4;\" x=\"162.099934\" xlink:href=\"#mab5b8ad6da\" y=\"109.28981\"/>\n     <use style=\"fill:#1f77b4;stroke:#1f77b4;\" x=\"67.406746\" xlink:href=\"#mab5b8ad6da\" y=\"44.949528\"/>\n     <use style=\"fill:#1f77b4;stroke:#1f77b4;\" x=\"98.062479\" xlink:href=\"#mab5b8ad6da\" y=\"60.43968\"/>\n     <use style=\"fill:#1f77b4;stroke:#1f77b4;\" x=\"138.093723\" xlink:href=\"#mab5b8ad6da\" y=\"80.428236\"/>\n     <use style=\"fill:#1f77b4;stroke:#1f77b4;\" x=\"132.648037\" xlink:href=\"#mab5b8ad6da\" y=\"98.657354\"/>\n     <use style=\"fill:#1f77b4;stroke:#1f77b4;\" x=\"101.436692\" xlink:href=\"#mab5b8ad6da\" y=\"64.676849\"/>\n     <use style=\"fill:#1f77b4;stroke:#1f77b4;\" x=\"110.153443\" xlink:href=\"#mab5b8ad6da\" y=\"61.407243\"/>\n     <use style=\"fill:#1f77b4;stroke:#1f77b4;\" x=\"133.223966\" xlink:href=\"#mab5b8ad6da\" y=\"79.610615\"/>\n     <use style=\"fill:#1f77b4;stroke:#1f77b4;\" x=\"149.579364\" xlink:href=\"#mab5b8ad6da\" y=\"78.493727\"/>\n     <use style=\"fill:#1f77b4;stroke:#1f77b4;\" x=\"96.499741\" xlink:href=\"#mab5b8ad6da\" y=\"70.519237\"/>\n     <use style=\"fill:#1f77b4;stroke:#1f77b4;\" x=\"194.814453\" xlink:href=\"#mab5b8ad6da\" y=\"117.070307\"/>\n     <use style=\"fill:#1f77b4;stroke:#1f77b4;\" x=\"141.119221\" xlink:href=\"#mab5b8ad6da\" y=\"84.316134\"/>\n     <use style=\"fill:#1f77b4;stroke:#1f77b4;\" x=\"83.343746\" xlink:href=\"#mab5b8ad6da\" y=\"40.312871\"/>\n     <use style=\"fill:#1f77b4;stroke:#1f77b4;\" x=\"90.857211\" xlink:href=\"#mab5b8ad6da\" y=\"66.943645\"/>\n     <use style=\"fill:#1f77b4;stroke:#1f77b4;\" x=\"138.128137\" xlink:href=\"#mab5b8ad6da\" y=\"79.908632\"/>\n     <use style=\"fill:#1f77b4;stroke:#1f77b4;\" x=\"163.624913\" xlink:href=\"#mab5b8ad6da\" y=\"97.976811\"/>\n     <use style=\"fill:#1f77b4;stroke:#1f77b4;\" x=\"81.39041\" xlink:href=\"#mab5b8ad6da\" y=\"65.043195\"/>\n     <use style=\"fill:#1f77b4;stroke:#1f77b4;\" x=\"119.023463\" xlink:href=\"#mab5b8ad6da\" y=\"76.149688\"/>\n     <use style=\"fill:#1f77b4;stroke:#1f77b4;\" x=\"155.866339\" xlink:href=\"#mab5b8ad6da\" y=\"101.028688\"/>\n     <use style=\"fill:#1f77b4;stroke:#1f77b4;\" x=\"123.669448\" xlink:href=\"#mab5b8ad6da\" y=\"75.325543\"/>\n     <use style=\"fill:#1f77b4;stroke:#1f77b4;\" x=\"140.945697\" xlink:href=\"#mab5b8ad6da\" y=\"96.864758\"/>\n     <use style=\"fill:#1f77b4;stroke:#1f77b4;\" x=\"134.657577\" xlink:href=\"#mab5b8ad6da\" y=\"84.622182\"/>\n     <use style=\"fill:#1f77b4;stroke:#1f77b4;\" x=\"127.772005\" xlink:href=\"#mab5b8ad6da\" y=\"90.413031\"/>\n     <use style=\"fill:#1f77b4;stroke:#1f77b4;\" x=\"143.883124\" xlink:href=\"#mab5b8ad6da\" y=\"82.892554\"/>\n     <use style=\"fill:#1f77b4;stroke:#1f77b4;\" x=\"127.552177\" xlink:href=\"#mab5b8ad6da\" y=\"77.137436\"/>\n     <use style=\"fill:#1f77b4;stroke:#1f77b4;\" x=\"114.858538\" xlink:href=\"#mab5b8ad6da\" y=\"67.351424\"/>\n     <use style=\"fill:#1f77b4;stroke:#1f77b4;\" x=\"141.53699\" xlink:href=\"#mab5b8ad6da\" y=\"84.082001\"/>\n     <use style=\"fill:#1f77b4;stroke:#1f77b4;\" x=\"171.32367\" xlink:href=\"#mab5b8ad6da\" y=\"108.244485\"/>\n     <use style=\"fill:#1f77b4;stroke:#1f77b4;\" x=\"97.20932\" xlink:href=\"#mab5b8ad6da\" y=\"54.818583\"/>\n     <use style=\"fill:#1f77b4;stroke:#1f77b4;\" x=\"117.740824\" xlink:href=\"#mab5b8ad6da\" y=\"60.622799\"/>\n     <use style=\"fill:#1f77b4;stroke:#1f77b4;\" x=\"169.453959\" xlink:href=\"#mab5b8ad6da\" y=\"109.01689\"/>\n     <use style=\"fill:#1f77b4;stroke:#1f77b4;\" x=\"106.069929\" xlink:href=\"#mab5b8ad6da\" y=\"75.099587\"/>\n     <use style=\"fill:#1f77b4;stroke:#1f77b4;\" x=\"52.426244\" xlink:href=\"#mab5b8ad6da\" y=\"47.622027\"/>\n     <use style=\"fill:#1f77b4;stroke:#1f77b4;\" x=\"123.001137\" xlink:href=\"#mab5b8ad6da\" y=\"76.185935\"/>\n     <use style=\"fill:#1f77b4;stroke:#1f77b4;\" x=\"117.97311\" xlink:href=\"#mab5b8ad6da\" y=\"87.853415\"/>\n     <use style=\"fill:#1f77b4;stroke:#1f77b4;\" x=\"126.875962\" xlink:href=\"#mab5b8ad6da\" y=\"74.11641\"/>\n     <use style=\"fill:#1f77b4;stroke:#1f77b4;\" x=\"157.988933\" xlink:href=\"#mab5b8ad6da\" y=\"104.534305\"/>\n     <use style=\"fill:#1f77b4;stroke:#1f77b4;\" x=\"133.337694\" xlink:href=\"#mab5b8ad6da\" y=\"72.385058\"/>\n     <use style=\"fill:#1f77b4;stroke:#1f77b4;\" x=\"114.351749\" xlink:href=\"#mab5b8ad6da\" y=\"69.47615\"/>\n     <use style=\"fill:#1f77b4;stroke:#1f77b4;\" x=\"158.867874\" xlink:href=\"#mab5b8ad6da\" y=\"105.85503\"/>\n     <use style=\"fill:#1f77b4;stroke:#1f77b4;\" x=\"109.884603\" xlink:href=\"#mab5b8ad6da\" y=\"70.121226\"/>\n     <use style=\"fill:#1f77b4;stroke:#1f77b4;\" x=\"117.120307\" xlink:href=\"#mab5b8ad6da\" y=\"78.157618\"/>\n     <use style=\"fill:#1f77b4;stroke:#1f77b4;\" x=\"111.574156\" xlink:href=\"#mab5b8ad6da\" y=\"82.417342\"/>\n     <use style=\"fill:#1f77b4;stroke:#1f77b4;\" x=\"101.086627\" xlink:href=\"#mab5b8ad6da\" y=\"62.695872\"/>\n     <use style=\"fill:#1f77b4;stroke:#1f77b4;\" x=\"130.303551\" xlink:href=\"#mab5b8ad6da\" y=\"89.793265\"/>\n     <use style=\"fill:#1f77b4;stroke:#1f77b4;\" x=\"109.921249\" xlink:href=\"#mab5b8ad6da\" y=\"47.257621\"/>\n     <use style=\"fill:#1f77b4;stroke:#1f77b4;\" x=\"139.27671\" xlink:href=\"#mab5b8ad6da\" y=\"83.6156\"/>\n     <use style=\"fill:#1f77b4;stroke:#1f77b4;\" x=\"149.808172\" xlink:href=\"#mab5b8ad6da\" y=\"105.49634\"/>\n     <use style=\"fill:#1f77b4;stroke:#1f77b4;\" x=\"105.521302\" xlink:href=\"#mab5b8ad6da\" y=\"71.88023\"/>\n     <use style=\"fill:#1f77b4;stroke:#1f77b4;\" x=\"169.299354\" xlink:href=\"#mab5b8ad6da\" y=\"111.323587\"/>\n     <use style=\"fill:#1f77b4;stroke:#1f77b4;\" x=\"157.794492\" xlink:href=\"#mab5b8ad6da\" y=\"89.213024\"/>\n     <use style=\"fill:#1f77b4;stroke:#1f77b4;\" x=\"133.767238\" xlink:href=\"#mab5b8ad6da\" y=\"69.238722\"/>\n     <use style=\"fill:#1f77b4;stroke:#1f77b4;\" x=\"118.314794\" xlink:href=\"#mab5b8ad6da\" y=\"63.971363\"/>\n     <use style=\"fill:#1f77b4;stroke:#1f77b4;\" x=\"129.977289\" xlink:href=\"#mab5b8ad6da\" y=\"83.47472\"/>\n     <use style=\"fill:#1f77b4;stroke:#1f77b4;\" x=\"147.821438\" xlink:href=\"#mab5b8ad6da\" y=\"91.159722\"/>\n     <use style=\"fill:#1f77b4;stroke:#1f77b4;\" x=\"117.158082\" xlink:href=\"#mab5b8ad6da\" y=\"77.1305\"/>\n     <use style=\"fill:#1f77b4;stroke:#1f77b4;\" x=\"134.473266\" xlink:href=\"#mab5b8ad6da\" y=\"93.800413\"/>\n     <use style=\"fill:#1f77b4;stroke:#1f77b4;\" x=\"194.225425\" xlink:href=\"#mab5b8ad6da\" y=\"117.598121\"/>\n     <use style=\"fill:#1f77b4;stroke:#1f77b4;\" x=\"95.896582\" xlink:href=\"#mab5b8ad6da\" y=\"75.327179\"/>\n     <use style=\"fill:#1f77b4;stroke:#1f77b4;\" x=\"155.155163\" xlink:href=\"#mab5b8ad6da\" y=\"84.791911\"/>\n     <use style=\"fill:#1f77b4;stroke:#1f77b4;\" x=\"137.028416\" xlink:href=\"#mab5b8ad6da\" y=\"71.197091\"/>\n     <use style=\"fill:#1f77b4;stroke:#1f77b4;\" x=\"130.861147\" xlink:href=\"#mab5b8ad6da\" y=\"66.628875\"/>\n     <use style=\"fill:#1f77b4;stroke:#1f77b4;\" x=\"127.347036\" xlink:href=\"#mab5b8ad6da\" y=\"79.174352\"/>\n     <use style=\"fill:#1f77b4;stroke:#1f77b4;\" x=\"105.411438\" xlink:href=\"#mab5b8ad6da\" y=\"69.531061\"/>\n     <use style=\"fill:#1f77b4;stroke:#1f77b4;\" x=\"120.324202\" xlink:href=\"#mab5b8ad6da\" y=\"70.19615\"/>\n     <use style=\"fill:#1f77b4;stroke:#1f77b4;\" x=\"155.735268\" xlink:href=\"#mab5b8ad6da\" y=\"100.24845\"/>\n     <use style=\"fill:#1f77b4;stroke:#1f77b4;\" x=\"186.748632\" xlink:href=\"#mab5b8ad6da\" y=\"103.049491\"/>\n     <use style=\"fill:#1f77b4;stroke:#1f77b4;\" x=\"141.481938\" xlink:href=\"#mab5b8ad6da\" y=\"86.324176\"/>\n     <use style=\"fill:#1f77b4;stroke:#1f77b4;\" x=\"159.693692\" xlink:href=\"#mab5b8ad6da\" y=\"91.767154\"/>\n     <use style=\"fill:#1f77b4;stroke:#1f77b4;\" x=\"123.897064\" xlink:href=\"#mab5b8ad6da\" y=\"73.306669\"/>\n     <use style=\"fill:#1f77b4;stroke:#1f77b4;\" x=\"97.474303\" xlink:href=\"#mab5b8ad6da\" y=\"66.362355\"/>\n     <use style=\"fill:#1f77b4;stroke:#1f77b4;\" x=\"79.124913\" xlink:href=\"#mab5b8ad6da\" y=\"50.96603\"/>\n     <use style=\"fill:#1f77b4;stroke:#1f77b4;\" x=\"148.737971\" xlink:href=\"#mab5b8ad6da\" y=\"94.884589\"/>\n     <use style=\"fill:#1f77b4;stroke:#1f77b4;\" x=\"92.547778\" xlink:href=\"#mab5b8ad6da\" y=\"58.934508\"/>\n     <use style=\"fill:#1f77b4;stroke:#1f77b4;\" x=\"177.676034\" xlink:href=\"#mab5b8ad6da\" y=\"107.158424\"/>\n     <use style=\"fill:#1f77b4;stroke:#1f77b4;\" x=\"151.620105\" xlink:href=\"#mab5b8ad6da\" y=\"69.323912\"/>\n     <use style=\"fill:#1f77b4;stroke:#1f77b4;\" x=\"133.71976\" xlink:href=\"#mab5b8ad6da\" y=\"82.318565\"/>\n     <use style=\"fill:#1f77b4;stroke:#1f77b4;\" x=\"78.065306\" xlink:href=\"#mab5b8ad6da\" y=\"54.927056\"/>\n     <use style=\"fill:#1f77b4;stroke:#1f77b4;\" x=\"137.91829\" xlink:href=\"#mab5b8ad6da\" y=\"83.086042\"/>\n     <use style=\"fill:#1f77b4;stroke:#1f77b4;\" x=\"100.926944\" xlink:href=\"#mab5b8ad6da\" y=\"62.966355\"/>\n     <use style=\"fill:#1f77b4;stroke:#1f77b4;\" x=\"142.75222\" xlink:href=\"#mab5b8ad6da\" y=\"73.470801\"/>\n     <use style=\"fill:#1f77b4;stroke:#1f77b4;\" x=\"162.173101\" xlink:href=\"#mab5b8ad6da\" y=\"108.018399\"/>\n     <use style=\"fill:#1f77b4;stroke:#1f77b4;\" x=\"110.244484\" xlink:href=\"#mab5b8ad6da\" y=\"69.544744\"/>\n     <use style=\"fill:#1f77b4;stroke:#1f77b4;\" x=\"119.978263\" xlink:href=\"#mab5b8ad6da\" y=\"76.656794\"/>\n     <use style=\"fill:#1f77b4;stroke:#1f77b4;\" x=\"156.577949\" xlink:href=\"#mab5b8ad6da\" y=\"93.863146\"/>\n     <use style=\"fill:#1f77b4;stroke:#1f77b4;\" x=\"120.49863\" xlink:href=\"#mab5b8ad6da\" y=\"71.652611\"/>\n     <use style=\"fill:#1f77b4;stroke:#1f77b4;\" x=\"100.08103\" xlink:href=\"#mab5b8ad6da\" y=\"74.490018\"/>\n     <use style=\"fill:#1f77b4;stroke:#1f77b4;\" x=\"172.545359\" xlink:href=\"#mab5b8ad6da\" y=\"96.068786\"/>\n     <use style=\"fill:#1f77b4;stroke:#1f77b4;\" x=\"99.372778\" xlink:href=\"#mab5b8ad6da\" y=\"59.043021\"/>\n     <use style=\"fill:#1f77b4;stroke:#1f77b4;\" x=\"130.569522\" xlink:href=\"#mab5b8ad6da\" y=\"94.625515\"/>\n     <use style=\"fill:#1f77b4;stroke:#1f77b4;\" x=\"124.865112\" xlink:href=\"#mab5b8ad6da\" y=\"80.933867\"/>\n     <use style=\"fill:#1f77b4;stroke:#1f77b4;\" x=\"156.649755\" xlink:href=\"#mab5b8ad6da\" y=\"80.256883\"/>\n     <use style=\"fill:#1f77b4;stroke:#1f77b4;\" x=\"124.290738\" xlink:href=\"#mab5b8ad6da\" y=\"84.701165\"/>\n     <use style=\"fill:#1f77b4;stroke:#1f77b4;\" x=\"134.678733\" xlink:href=\"#mab5b8ad6da\" y=\"80.407237\"/>\n     <use style=\"fill:#1f77b4;stroke:#1f77b4;\" x=\"111.746189\" xlink:href=\"#mab5b8ad6da\" y=\"72.761091\"/>\n     <use style=\"fill:#1f77b4;stroke:#1f77b4;\" x=\"134.299416\" xlink:href=\"#mab5b8ad6da\" y=\"76.647152\"/>\n     <use style=\"fill:#1f77b4;stroke:#1f77b4;\" x=\"156.684794\" xlink:href=\"#mab5b8ad6da\" y=\"96.406138\"/>\n     <use style=\"fill:#1f77b4;stroke:#1f77b4;\" x=\"118.560523\" xlink:href=\"#mab5b8ad6da\" y=\"84.440626\"/>\n     <use style=\"fill:#1f77b4;stroke:#1f77b4;\" x=\"154.200783\" xlink:href=\"#mab5b8ad6da\" y=\"98.192388\"/>\n     <use style=\"fill:#1f77b4;stroke:#1f77b4;\" x=\"157.161551\" xlink:href=\"#mab5b8ad6da\" y=\"85.535517\"/>\n     <use style=\"fill:#1f77b4;stroke:#1f77b4;\" x=\"143.202294\" xlink:href=\"#mab5b8ad6da\" y=\"89.016222\"/>\n     <use style=\"fill:#1f77b4;stroke:#1f77b4;\" x=\"151.047874\" xlink:href=\"#mab5b8ad6da\" y=\"80.8193\"/>\n     <use style=\"fill:#1f77b4;stroke:#1f77b4;\" x=\"140.706108\" xlink:href=\"#mab5b8ad6da\" y=\"99.690004\"/>\n     <use style=\"fill:#1f77b4;stroke:#1f77b4;\" x=\"108.187603\" xlink:href=\"#mab5b8ad6da\" y=\"71.644537\"/>\n     <use style=\"fill:#1f77b4;stroke:#1f77b4;\" x=\"179.481918\" xlink:href=\"#mab5b8ad6da\" y=\"93.931267\"/>\n     <use style=\"fill:#1f77b4;stroke:#1f77b4;\" x=\"133.528771\" xlink:href=\"#mab5b8ad6da\" y=\"78.070094\"/>\n     <use style=\"fill:#1f77b4;stroke:#1f77b4;\" x=\"76.554295\" xlink:href=\"#mab5b8ad6da\" y=\"55.249478\"/>\n     <use style=\"fill:#1f77b4;stroke:#1f77b4;\" x=\"183.484853\" xlink:href=\"#mab5b8ad6da\" y=\"105.858092\"/>\n     <use style=\"fill:#1f77b4;stroke:#1f77b4;\" x=\"127.710534\" xlink:href=\"#mab5b8ad6da\" y=\"71.797679\"/>\n     <use style=\"fill:#1f77b4;stroke:#1f77b4;\" x=\"127.759686\" xlink:href=\"#mab5b8ad6da\" y=\"90.982857\"/>\n     <use style=\"fill:#1f77b4;stroke:#1f77b4;\" x=\"104.773341\" xlink:href=\"#mab5b8ad6da\" y=\"84.861803\"/>\n     <use style=\"fill:#1f77b4;stroke:#1f77b4;\" x=\"144.060463\" xlink:href=\"#mab5b8ad6da\" y=\"79.872246\"/>\n     <use style=\"fill:#1f77b4;stroke:#1f77b4;\" x=\"86.467436\" xlink:href=\"#mab5b8ad6da\" y=\"54.417728\"/>\n     <use style=\"fill:#1f77b4;stroke:#1f77b4;\" x=\"147.208383\" xlink:href=\"#mab5b8ad6da\" y=\"93.306324\"/>\n     <use style=\"fill:#1f77b4;stroke:#1f77b4;\" x=\"120.528356\" xlink:href=\"#mab5b8ad6da\" y=\"85.159315\"/>\n     <use style=\"fill:#1f77b4;stroke:#1f77b4;\" x=\"88.145736\" xlink:href=\"#mab5b8ad6da\" y=\"61.974932\"/>\n     <use style=\"fill:#1f77b4;stroke:#1f77b4;\" x=\"119.896341\" xlink:href=\"#mab5b8ad6da\" y=\"82.718174\"/>\n     <use style=\"fill:#1f77b4;stroke:#1f77b4;\" x=\"153.48789\" xlink:href=\"#mab5b8ad6da\" y=\"88.414873\"/>\n     <use style=\"fill:#1f77b4;stroke:#1f77b4;\" x=\"129.457942\" xlink:href=\"#mab5b8ad6da\" y=\"95.986556\"/>\n     <use style=\"fill:#1f77b4;stroke:#1f77b4;\" x=\"90.465304\" xlink:href=\"#mab5b8ad6da\" y=\"66.161577\"/>\n     <use style=\"fill:#1f77b4;stroke:#1f77b4;\" x=\"175.131871\" xlink:href=\"#mab5b8ad6da\" y=\"115.847573\"/>\n     <use style=\"fill:#1f77b4;stroke:#1f77b4;\" x=\"119.258698\" xlink:href=\"#mab5b8ad6da\" y=\"74.251656\"/>\n     <use style=\"fill:#1f77b4;stroke:#1f77b4;\" x=\"118.126783\" xlink:href=\"#mab5b8ad6da\" y=\"73.753099\"/>\n     <use style=\"fill:#1f77b4;stroke:#1f77b4;\" x=\"190.218677\" xlink:href=\"#mab5b8ad6da\" y=\"123.653881\"/>\n     <use style=\"fill:#1f77b4;stroke:#1f77b4;\" x=\"173.218622\" xlink:href=\"#mab5b8ad6da\" y=\"102.484363\"/>\n     <use style=\"fill:#1f77b4;stroke:#1f77b4;\" x=\"128.433007\" xlink:href=\"#mab5b8ad6da\" y=\"76.746031\"/>\n     <use style=\"fill:#1f77b4;stroke:#1f77b4;\" x=\"131.082688\" xlink:href=\"#mab5b8ad6da\" y=\"100.493578\"/>\n     <use style=\"fill:#1f77b4;stroke:#1f77b4;\" x=\"167.775495\" xlink:href=\"#mab5b8ad6da\" y=\"101.511497\"/>\n     <use style=\"fill:#1f77b4;stroke:#1f77b4;\" x=\"184.848613\" xlink:href=\"#mab5b8ad6da\" y=\"107.700506\"/>\n     <use style=\"fill:#1f77b4;stroke:#1f77b4;\" x=\"127.014938\" xlink:href=\"#mab5b8ad6da\" y=\"84.724726\"/>\n     <use style=\"fill:#1f77b4;stroke:#1f77b4;\" x=\"126.052261\" xlink:href=\"#mab5b8ad6da\" y=\"59.472696\"/>\n     <use style=\"fill:#1f77b4;stroke:#1f77b4;\" x=\"127.47534\" xlink:href=\"#mab5b8ad6da\" y=\"84.105189\"/>\n     <use style=\"fill:#1f77b4;stroke:#1f77b4;\" x=\"119.94857\" xlink:href=\"#mab5b8ad6da\" y=\"77.415828\"/>\n     <use style=\"fill:#1f77b4;stroke:#1f77b4;\" x=\"104.074303\" xlink:href=\"#mab5b8ad6da\" y=\"55.665126\"/>\n     <use style=\"fill:#1f77b4;stroke:#1f77b4;\" x=\"149.594144\" xlink:href=\"#mab5b8ad6da\" y=\"86.703004\"/>\n     <use style=\"fill:#1f77b4;stroke:#1f77b4;\" x=\"150.888071\" xlink:href=\"#mab5b8ad6da\" y=\"97.381708\"/>\n     <use style=\"fill:#1f77b4;stroke:#1f77b4;\" x=\"119.241708\" xlink:href=\"#mab5b8ad6da\" y=\"84.387721\"/>\n     <use style=\"fill:#1f77b4;stroke:#1f77b4;\" x=\"138.226525\" xlink:href=\"#mab5b8ad6da\" y=\"82.392712\"/>\n     <use style=\"fill:#1f77b4;stroke:#1f77b4;\" x=\"112.918327\" xlink:href=\"#mab5b8ad6da\" y=\"70.169736\"/>\n     <use style=\"fill:#1f77b4;stroke:#1f77b4;\" x=\"125.526083\" xlink:href=\"#mab5b8ad6da\" y=\"74.328361\"/>\n     <use style=\"fill:#1f77b4;stroke:#1f77b4;\" x=\"171.462538\" xlink:href=\"#mab5b8ad6da\" y=\"102.089219\"/>\n     <use style=\"fill:#1f77b4;stroke:#1f77b4;\" x=\"161.71726\" xlink:href=\"#mab5b8ad6da\" y=\"114.161056\"/>\n     <use style=\"fill:#1f77b4;stroke:#1f77b4;\" x=\"147.827165\" xlink:href=\"#mab5b8ad6da\" y=\"100.877231\"/>\n     <use style=\"fill:#1f77b4;stroke:#1f77b4;\" x=\"148.53128\" xlink:href=\"#mab5b8ad6da\" y=\"85.448218\"/>\n     <use style=\"fill:#1f77b4;stroke:#1f77b4;\" x=\"161.257694\" xlink:href=\"#mab5b8ad6da\" y=\"82.95612\"/>\n     <use style=\"fill:#1f77b4;stroke:#1f77b4;\" x=\"149.826592\" xlink:href=\"#mab5b8ad6da\" y=\"77.98506\"/>\n     <use style=\"fill:#1f77b4;stroke:#1f77b4;\" x=\"141.17526\" xlink:href=\"#mab5b8ad6da\" y=\"100.029475\"/>\n     <use style=\"fill:#1f77b4;stroke:#1f77b4;\" x=\"115.819519\" xlink:href=\"#mab5b8ad6da\" y=\"88.030693\"/>\n     <use style=\"fill:#1f77b4;stroke:#1f77b4;\" x=\"127.532835\" xlink:href=\"#mab5b8ad6da\" y=\"81.092541\"/>\n     <use style=\"fill:#1f77b4;stroke:#1f77b4;\" x=\"102.51945\" xlink:href=\"#mab5b8ad6da\" y=\"70.450947\"/>\n     <use style=\"fill:#1f77b4;stroke:#1f77b4;\" x=\"121.02054\" xlink:href=\"#mab5b8ad6da\" y=\"74.161215\"/>\n     <use style=\"fill:#1f77b4;stroke:#1f77b4;\" x=\"144.726808\" xlink:href=\"#mab5b8ad6da\" y=\"83.722207\"/>\n     <use style=\"fill:#1f77b4;stroke:#1f77b4;\" x=\"169.141964\" xlink:href=\"#mab5b8ad6da\" y=\"92.533094\"/>\n     <use style=\"fill:#1f77b4;stroke:#1f77b4;\" x=\"130.972651\" xlink:href=\"#mab5b8ad6da\" y=\"76.103535\"/>\n     <use style=\"fill:#1f77b4;stroke:#1f77b4;\" x=\"118.228508\" xlink:href=\"#mab5b8ad6da\" y=\"66.959385\"/>\n     <use style=\"fill:#1f77b4;stroke:#1f77b4;\" x=\"81.179423\" xlink:href=\"#mab5b8ad6da\" y=\"44.449013\"/>\n     <use style=\"fill:#1f77b4;stroke:#1f77b4;\" x=\"168.115105\" xlink:href=\"#mab5b8ad6da\" y=\"99.454286\"/>\n     <use style=\"fill:#1f77b4;stroke:#1f77b4;\" x=\"112.546067\" xlink:href=\"#mab5b8ad6da\" y=\"69.905517\"/>\n     <use style=\"fill:#1f77b4;stroke:#1f77b4;\" x=\"150.080741\" xlink:href=\"#mab5b8ad6da\" y=\"85.539267\"/>\n     <use style=\"fill:#1f77b4;stroke:#1f77b4;\" x=\"133.992423\" xlink:href=\"#mab5b8ad6da\" y=\"98.529631\"/>\n     <use style=\"fill:#1f77b4;stroke:#1f77b4;\" x=\"149.769999\" xlink:href=\"#mab5b8ad6da\" y=\"87.734806\"/>\n     <use style=\"fill:#1f77b4;stroke:#1f77b4;\" x=\"122.523357\" xlink:href=\"#mab5b8ad6da\" y=\"71.358327\"/>\n     <use style=\"fill:#1f77b4;stroke:#1f77b4;\" x=\"119.462439\" xlink:href=\"#mab5b8ad6da\" y=\"73.884185\"/>\n     <use style=\"fill:#1f77b4;stroke:#1f77b4;\" x=\"147.010931\" xlink:href=\"#mab5b8ad6da\" y=\"80.022434\"/>\n     <use style=\"fill:#1f77b4;stroke:#1f77b4;\" x=\"131.779893\" xlink:href=\"#mab5b8ad6da\" y=\"87.911333\"/>\n     <use style=\"fill:#1f77b4;stroke:#1f77b4;\" x=\"72.992038\" xlink:href=\"#mab5b8ad6da\" y=\"53.187486\"/>\n     <use style=\"fill:#1f77b4;stroke:#1f77b4;\" x=\"134.790566\" xlink:href=\"#mab5b8ad6da\" y=\"91.255405\"/>\n     <use style=\"fill:#1f77b4;stroke:#1f77b4;\" x=\"105.968226\" xlink:href=\"#mab5b8ad6da\" y=\"61.883871\"/>\n     <use style=\"fill:#1f77b4;stroke:#1f77b4;\" x=\"140.470147\" xlink:href=\"#mab5b8ad6da\" y=\"83.440015\"/>\n     <use style=\"fill:#1f77b4;stroke:#1f77b4;\" x=\"80.122937\" xlink:href=\"#mab5b8ad6da\" y=\"25.06096\"/>\n     <use style=\"fill:#1f77b4;stroke:#1f77b4;\" x=\"178.891415\" xlink:href=\"#mab5b8ad6da\" y=\"126.035171\"/>\n     <use style=\"fill:#1f77b4;stroke:#1f77b4;\" x=\"158.726277\" xlink:href=\"#mab5b8ad6da\" y=\"93.981296\"/>\n     <use style=\"fill:#1f77b4;stroke:#1f77b4;\" x=\"153.263319\" xlink:href=\"#mab5b8ad6da\" y=\"98.777093\"/>\n     <use style=\"fill:#1f77b4;stroke:#1f77b4;\" x=\"64.098081\" xlink:href=\"#mab5b8ad6da\" y=\"28.086174\"/>\n     <use style=\"fill:#1f77b4;stroke:#1f77b4;\" x=\"102.596243\" xlink:href=\"#mab5b8ad6da\" y=\"49.957315\"/>\n     <use style=\"fill:#1f77b4;stroke:#1f77b4;\" x=\"122.306458\" xlink:href=\"#mab5b8ad6da\" y=\"66.963761\"/>\n     <use style=\"fill:#1f77b4;stroke:#1f77b4;\" x=\"88.394564\" xlink:href=\"#mab5b8ad6da\" y=\"74.118914\"/>\n     <use style=\"fill:#1f77b4;stroke:#1f77b4;\" x=\"149.950668\" xlink:href=\"#mab5b8ad6da\" y=\"110.148737\"/>\n     <use style=\"fill:#1f77b4;stroke:#1f77b4;\" x=\"142.525087\" xlink:href=\"#mab5b8ad6da\" y=\"72.466973\"/>\n     <use style=\"fill:#1f77b4;stroke:#1f77b4;\" x=\"148.081588\" xlink:href=\"#mab5b8ad6da\" y=\"92.674151\"/>\n     <use style=\"fill:#1f77b4;stroke:#1f77b4;\" x=\"197.887938\" xlink:href=\"#mab5b8ad6da\" y=\"117.798007\"/>\n     <use style=\"fill:#1f77b4;stroke:#1f77b4;\" x=\"140.727748\" xlink:href=\"#mab5b8ad6da\" y=\"89.495857\"/>\n     <use style=\"fill:#1f77b4;stroke:#1f77b4;\" x=\"166.674107\" xlink:href=\"#mab5b8ad6da\" y=\"110.945467\"/>\n     <use style=\"fill:#1f77b4;stroke:#1f77b4;\" x=\"140.493721\" xlink:href=\"#mab5b8ad6da\" y=\"93.911158\"/>\n     <use style=\"fill:#1f77b4;stroke:#1f77b4;\" x=\"124.849502\" xlink:href=\"#mab5b8ad6da\" y=\"73.284253\"/>\n     <use style=\"fill:#1f77b4;stroke:#1f77b4;\" x=\"136.544385\" xlink:href=\"#mab5b8ad6da\" y=\"77.549666\"/>\n     <use style=\"fill:#1f77b4;stroke:#1f77b4;\" x=\"127.071647\" xlink:href=\"#mab5b8ad6da\" y=\"71.00315\"/>\n     <use style=\"fill:#1f77b4;stroke:#1f77b4;\" x=\"139.167691\" xlink:href=\"#mab5b8ad6da\" y=\"92.552826\"/>\n     <use style=\"fill:#1f77b4;stroke:#1f77b4;\" x=\"125.328436\" xlink:href=\"#mab5b8ad6da\" y=\"77.534132\"/>\n     <use style=\"fill:#1f77b4;stroke:#1f77b4;\" x=\"157.071706\" xlink:href=\"#mab5b8ad6da\" y=\"95.677717\"/>\n     <use style=\"fill:#1f77b4;stroke:#1f77b4;\" x=\"109.233104\" xlink:href=\"#mab5b8ad6da\" y=\"88.656007\"/>\n     <use style=\"fill:#1f77b4;stroke:#1f77b4;\" x=\"96.382474\" xlink:href=\"#mab5b8ad6da\" y=\"49.982328\"/>\n     <use style=\"fill:#1f77b4;stroke:#1f77b4;\" x=\"150.570278\" xlink:href=\"#mab5b8ad6da\" y=\"97.161639\"/>\n     <use style=\"fill:#1f77b4;stroke:#1f77b4;\" x=\"124.702696\" xlink:href=\"#mab5b8ad6da\" y=\"81.984906\"/>\n     <use style=\"fill:#1f77b4;stroke:#1f77b4;\" x=\"111.075312\" xlink:href=\"#mab5b8ad6da\" y=\"80.504934\"/>\n     <use style=\"fill:#1f77b4;stroke:#1f77b4;\" x=\"104.269727\" xlink:href=\"#mab5b8ad6da\" y=\"52.34503\"/>\n     <use style=\"fill:#1f77b4;stroke:#1f77b4;\" x=\"161.71409\" xlink:href=\"#mab5b8ad6da\" y=\"98.723179\"/>\n     <use style=\"fill:#1f77b4;stroke:#1f77b4;\" x=\"186.316165\" xlink:href=\"#mab5b8ad6da\" y=\"103.319694\"/>\n     <use style=\"fill:#1f77b4;stroke:#1f77b4;\" x=\"159.944472\" xlink:href=\"#mab5b8ad6da\" y=\"113.358938\"/>\n     <use style=\"fill:#1f77b4;stroke:#1f77b4;\" x=\"121.351577\" xlink:href=\"#mab5b8ad6da\" y=\"74.361618\"/>\n     <use style=\"fill:#1f77b4;stroke:#1f77b4;\" x=\"123.43323\" xlink:href=\"#mab5b8ad6da\" y=\"74.259348\"/>\n     <use style=\"fill:#1f77b4;stroke:#1f77b4;\" x=\"145.636384\" xlink:href=\"#mab5b8ad6da\" y=\"77.725397\"/>\n     <use style=\"fill:#1f77b4;stroke:#1f77b4;\" x=\"149.393149\" xlink:href=\"#mab5b8ad6da\" y=\"91.852964\"/>\n     <use style=\"fill:#1f77b4;stroke:#1f77b4;\" x=\"86.528258\" xlink:href=\"#mab5b8ad6da\" y=\"63.41226\"/>\n     <use style=\"fill:#1f77b4;stroke:#1f77b4;\" x=\"123.804225\" xlink:href=\"#mab5b8ad6da\" y=\"92.114259\"/>\n     <use style=\"fill:#1f77b4;stroke:#1f77b4;\" x=\"103.360281\" xlink:href=\"#mab5b8ad6da\" y=\"54.721397\"/>\n     <use style=\"fill:#1f77b4;stroke:#1f77b4;\" x=\"153.690014\" xlink:href=\"#mab5b8ad6da\" y=\"84.026921\"/>\n     <use style=\"fill:#1f77b4;stroke:#1f77b4;\" x=\"106.352273\" xlink:href=\"#mab5b8ad6da\" y=\"86.382742\"/>\n     <use style=\"fill:#1f77b4;stroke:#1f77b4;\" x=\"122.321626\" xlink:href=\"#mab5b8ad6da\" y=\"84.941212\"/>\n     <use style=\"fill:#1f77b4;stroke:#1f77b4;\" x=\"170.422804\" xlink:href=\"#mab5b8ad6da\" y=\"94.212182\"/>\n     <use style=\"fill:#1f77b4;stroke:#1f77b4;\" x=\"102.523815\" xlink:href=\"#mab5b8ad6da\" y=\"60.181367\"/>\n     <use style=\"fill:#1f77b4;stroke:#1f77b4;\" x=\"145.444962\" xlink:href=\"#mab5b8ad6da\" y=\"77.765286\"/>\n     <use style=\"fill:#1f77b4;stroke:#1f77b4;\" x=\"85.262304\" xlink:href=\"#mab5b8ad6da\" y=\"78.573051\"/>\n     <use style=\"fill:#1f77b4;stroke:#1f77b4;\" x=\"116.280491\" xlink:href=\"#mab5b8ad6da\" y=\"66.750961\"/>\n     <use style=\"fill:#1f77b4;stroke:#1f77b4;\" x=\"157.622668\" xlink:href=\"#mab5b8ad6da\" y=\"95.058271\"/>\n     <use style=\"fill:#1f77b4;stroke:#1f77b4;\" x=\"122.907763\" xlink:href=\"#mab5b8ad6da\" y=\"82.079076\"/>\n     <use style=\"fill:#1f77b4;stroke:#1f77b4;\" x=\"135.581567\" xlink:href=\"#mab5b8ad6da\" y=\"63.817214\"/>\n     <use style=\"fill:#1f77b4;stroke:#1f77b4;\" x=\"115.018871\" xlink:href=\"#mab5b8ad6da\" y=\"67.363722\"/>\n     <use style=\"fill:#1f77b4;stroke:#1f77b4;\" x=\"123.215129\" xlink:href=\"#mab5b8ad6da\" y=\"77.572227\"/>\n     <use style=\"fill:#1f77b4;stroke:#1f77b4;\" x=\"135.930094\" xlink:href=\"#mab5b8ad6da\" y=\"80.325187\"/>\n     <use style=\"fill:#1f77b4;stroke:#1f77b4;\" x=\"103.902688\" xlink:href=\"#mab5b8ad6da\" y=\"60.377362\"/>\n     <use style=\"fill:#1f77b4;stroke:#1f77b4;\" x=\"155.198897\" xlink:href=\"#mab5b8ad6da\" y=\"85.446565\"/>\n     <use style=\"fill:#1f77b4;stroke:#1f77b4;\" x=\"186.005773\" xlink:href=\"#mab5b8ad6da\" y=\"111.873902\"/>\n     <use style=\"fill:#1f77b4;stroke:#1f77b4;\" x=\"145.682428\" xlink:href=\"#mab5b8ad6da\" y=\"84.516677\"/>\n     <use style=\"fill:#1f77b4;stroke:#1f77b4;\" x=\"126.304342\" xlink:href=\"#mab5b8ad6da\" y=\"70.743547\"/>\n     <use style=\"fill:#1f77b4;stroke:#1f77b4;\" x=\"157.072258\" xlink:href=\"#mab5b8ad6da\" y=\"85.701576\"/>\n     <use style=\"fill:#1f77b4;stroke:#1f77b4;\" x=\"110.739027\" xlink:href=\"#mab5b8ad6da\" y=\"58.977241\"/>\n     <use style=\"fill:#1f77b4;stroke:#1f77b4;\" x=\"80.587917\" xlink:href=\"#mab5b8ad6da\" y=\"57.455014\"/>\n     <use style=\"fill:#1f77b4;stroke:#1f77b4;\" x=\"119.725798\" xlink:href=\"#mab5b8ad6da\" y=\"69.129479\"/>\n     <use style=\"fill:#1f77b4;stroke:#1f77b4;\" x=\"114.153488\" xlink:href=\"#mab5b8ad6da\" y=\"68.789034\"/>\n     <use style=\"fill:#1f77b4;stroke:#1f77b4;\" x=\"109.952658\" xlink:href=\"#mab5b8ad6da\" y=\"60.266655\"/>\n     <use style=\"fill:#1f77b4;stroke:#1f77b4;\" x=\"133.740449\" xlink:href=\"#mab5b8ad6da\" y=\"84.116918\"/>\n     <use style=\"fill:#1f77b4;stroke:#1f77b4;\" x=\"122.968298\" xlink:href=\"#mab5b8ad6da\" y=\"70.729769\"/>\n     <use style=\"fill:#1f77b4;stroke:#1f77b4;\" x=\"150.500013\" xlink:href=\"#mab5b8ad6da\" y=\"79.201331\"/>\n     <use style=\"fill:#1f77b4;stroke:#1f77b4;\" x=\"123.124488\" xlink:href=\"#mab5b8ad6da\" y=\"89.69888\"/>\n     <use style=\"fill:#1f77b4;stroke:#1f77b4;\" x=\"159.761443\" xlink:href=\"#mab5b8ad6da\" y=\"85.64342\"/>\n     <use style=\"fill:#1f77b4;stroke:#1f77b4;\" x=\"158.208696\" xlink:href=\"#mab5b8ad6da\" y=\"104.175624\"/>\n     <use style=\"fill:#1f77b4;stroke:#1f77b4;\" x=\"147.651566\" xlink:href=\"#mab5b8ad6da\" y=\"85.240318\"/>\n     <use style=\"fill:#1f77b4;stroke:#1f77b4;\" x=\"118.327848\" xlink:href=\"#mab5b8ad6da\" y=\"68.202443\"/>\n     <use style=\"fill:#1f77b4;stroke:#1f77b4;\" x=\"107.186108\" xlink:href=\"#mab5b8ad6da\" y=\"61.008301\"/>\n     <use style=\"fill:#1f77b4;stroke:#1f77b4;\" x=\"128.177864\" xlink:href=\"#mab5b8ad6da\" y=\"82.769124\"/>\n     <use style=\"fill:#1f77b4;stroke:#1f77b4;\" x=\"121.296651\" xlink:href=\"#mab5b8ad6da\" y=\"67.293659\"/>\n     <use style=\"fill:#1f77b4;stroke:#1f77b4;\" x=\"58.856845\" xlink:href=\"#mab5b8ad6da\" y=\"41.678216\"/>\n     <use style=\"fill:#1f77b4;stroke:#1f77b4;\" x=\"99.162656\" xlink:href=\"#mab5b8ad6da\" y=\"60.442448\"/>\n     <use style=\"fill:#1f77b4;stroke:#1f77b4;\" x=\"131.884339\" xlink:href=\"#mab5b8ad6da\" y=\"72.231854\"/>\n     <use style=\"fill:#1f77b4;stroke:#1f77b4;\" x=\"126.515034\" xlink:href=\"#mab5b8ad6da\" y=\"61.588866\"/>\n     <use style=\"fill:#1f77b4;stroke:#1f77b4;\" x=\"144.050993\" xlink:href=\"#mab5b8ad6da\" y=\"91.931569\"/>\n     <use style=\"fill:#1f77b4;stroke:#1f77b4;\" x=\"127.985633\" xlink:href=\"#mab5b8ad6da\" y=\"68.733659\"/>\n     <use style=\"fill:#1f77b4;stroke:#1f77b4;\" x=\"133.447946\" xlink:href=\"#mab5b8ad6da\" y=\"75.929706\"/>\n     <use style=\"fill:#1f77b4;stroke:#1f77b4;\" x=\"99.360159\" xlink:href=\"#mab5b8ad6da\" y=\"62.527942\"/>\n     <use style=\"fill:#1f77b4;stroke:#1f77b4;\" x=\"149.168905\" xlink:href=\"#mab5b8ad6da\" y=\"92.539591\"/>\n     <use style=\"fill:#1f77b4;stroke:#1f77b4;\" x=\"150.941185\" xlink:href=\"#mab5b8ad6da\" y=\"91.5941\"/>\n     <use style=\"fill:#1f77b4;stroke:#1f77b4;\" x=\"139.825729\" xlink:href=\"#mab5b8ad6da\" y=\"74.36967\"/>\n     <use style=\"fill:#1f77b4;stroke:#1f77b4;\" x=\"108.017666\" xlink:href=\"#mab5b8ad6da\" y=\"63.018556\"/>\n     <use style=\"fill:#1f77b4;stroke:#1f77b4;\" x=\"114.248908\" xlink:href=\"#mab5b8ad6da\" y=\"87.389491\"/>\n     <use style=\"fill:#1f77b4;stroke:#1f77b4;\" x=\"207.432941\" xlink:href=\"#mab5b8ad6da\" y=\"114.750347\"/>\n     <use style=\"fill:#1f77b4;stroke:#1f77b4;\" x=\"129.102299\" xlink:href=\"#mab5b8ad6da\" y=\"78.610555\"/>\n     <use style=\"fill:#1f77b4;stroke:#1f77b4;\" x=\"108.553333\" xlink:href=\"#mab5b8ad6da\" y=\"66.596522\"/>\n     <use style=\"fill:#1f77b4;stroke:#1f77b4;\" x=\"159.521561\" xlink:href=\"#mab5b8ad6da\" y=\"86.141711\"/>\n     <use style=\"fill:#1f77b4;stroke:#1f77b4;\" x=\"74.782878\" xlink:href=\"#mab5b8ad6da\" y=\"52.045046\"/>\n     <use style=\"fill:#1f77b4;stroke:#1f77b4;\" x=\"109.416564\" xlink:href=\"#mab5b8ad6da\" y=\"70.440861\"/>\n     <use style=\"fill:#1f77b4;stroke:#1f77b4;\" x=\"145.143447\" xlink:href=\"#mab5b8ad6da\" y=\"98.911241\"/>\n     <use style=\"fill:#1f77b4;stroke:#1f77b4;\" x=\"84.538682\" xlink:href=\"#mab5b8ad6da\" y=\"54.335542\"/>\n     <use style=\"fill:#1f77b4;stroke:#1f77b4;\" x=\"103.879307\" xlink:href=\"#mab5b8ad6da\" y=\"55.40949\"/>\n     <use style=\"fill:#1f77b4;stroke:#1f77b4;\" x=\"147.364656\" xlink:href=\"#mab5b8ad6da\" y=\"98.070591\"/>\n     <use style=\"fill:#1f77b4;stroke:#1f77b4;\" x=\"117.110776\" xlink:href=\"#mab5b8ad6da\" y=\"63.047123\"/>\n     <use style=\"fill:#1f77b4;stroke:#1f77b4;\" x=\"54.983039\" xlink:href=\"#mab5b8ad6da\" y=\"45.396083\"/>\n     <use style=\"fill:#1f77b4;stroke:#1f77b4;\" x=\"97.491326\" xlink:href=\"#mab5b8ad6da\" y=\"59.733486\"/>\n     <use style=\"fill:#1f77b4;stroke:#1f77b4;\" x=\"121.181436\" xlink:href=\"#mab5b8ad6da\" y=\"82.358951\"/>\n     <use style=\"fill:#1f77b4;stroke:#1f77b4;\" x=\"155.795758\" xlink:href=\"#mab5b8ad6da\" y=\"100.057757\"/>\n     <use style=\"fill:#1f77b4;stroke:#1f77b4;\" x=\"123.055411\" xlink:href=\"#mab5b8ad6da\" y=\"82.569287\"/>\n     <use style=\"fill:#1f77b4;stroke:#1f77b4;\" x=\"100.048482\" xlink:href=\"#mab5b8ad6da\" y=\"63.390137\"/>\n     <use style=\"fill:#1f77b4;stroke:#1f77b4;\" x=\"79.416734\" xlink:href=\"#mab5b8ad6da\" y=\"39.965046\"/>\n     <use style=\"fill:#1f77b4;stroke:#1f77b4;\" x=\"106.445318\" xlink:href=\"#mab5b8ad6da\" y=\"56.210632\"/>\n     <use style=\"fill:#1f77b4;stroke:#1f77b4;\" x=\"108.276326\" xlink:href=\"#mab5b8ad6da\" y=\"67.755707\"/>\n     <use style=\"fill:#1f77b4;stroke:#1f77b4;\" x=\"133.966792\" xlink:href=\"#mab5b8ad6da\" y=\"71.018566\"/>\n     <use style=\"fill:#1f77b4;stroke:#1f77b4;\" x=\"129.964753\" xlink:href=\"#mab5b8ad6da\" y=\"74.924459\"/>\n     <use style=\"fill:#1f77b4;stroke:#1f77b4;\" x=\"149.373449\" xlink:href=\"#mab5b8ad6da\" y=\"76.63817\"/>\n     <use style=\"fill:#1f77b4;stroke:#1f77b4;\" x=\"128.288931\" xlink:href=\"#mab5b8ad6da\" y=\"81.212117\"/>\n     <use style=\"fill:#1f77b4;stroke:#1f77b4;\" x=\"175.849289\" xlink:href=\"#mab5b8ad6da\" y=\"92.548764\"/>\n     <use style=\"fill:#1f77b4;stroke:#1f77b4;\" x=\"140.873516\" xlink:href=\"#mab5b8ad6da\" y=\"89.062103\"/>\n     <use style=\"fill:#1f77b4;stroke:#1f77b4;\" x=\"114.502148\" xlink:href=\"#mab5b8ad6da\" y=\"72.158736\"/>\n     <use style=\"fill:#1f77b4;stroke:#1f77b4;\" x=\"128.113396\" xlink:href=\"#mab5b8ad6da\" y=\"73.161123\"/>\n     <use style=\"fill:#1f77b4;stroke:#1f77b4;\" x=\"170.804113\" xlink:href=\"#mab5b8ad6da\" y=\"105.5418\"/>\n     <use style=\"fill:#1f77b4;stroke:#1f77b4;\" x=\"111.693508\" xlink:href=\"#mab5b8ad6da\" y=\"65.492983\"/>\n     <use style=\"fill:#1f77b4;stroke:#1f77b4;\" x=\"74.368547\" xlink:href=\"#mab5b8ad6da\" y=\"42.632949\"/>\n     <use style=\"fill:#1f77b4;stroke:#1f77b4;\" x=\"94.02533\" xlink:href=\"#mab5b8ad6da\" y=\"67.022702\"/>\n     <use style=\"fill:#1f77b4;stroke:#1f77b4;\" x=\"109.577437\" xlink:href=\"#mab5b8ad6da\" y=\"78.087581\"/>\n     <use style=\"fill:#1f77b4;stroke:#1f77b4;\" x=\"116.199355\" xlink:href=\"#mab5b8ad6da\" y=\"74.488786\"/>\n     <use style=\"fill:#1f77b4;stroke:#1f77b4;\" x=\"109.754758\" xlink:href=\"#mab5b8ad6da\" y=\"58.748616\"/>\n     <use style=\"fill:#1f77b4;stroke:#1f77b4;\" x=\"93.137678\" xlink:href=\"#mab5b8ad6da\" y=\"53.802984\"/>\n     <use style=\"fill:#1f77b4;stroke:#1f77b4;\" x=\"60.48022\" xlink:href=\"#mab5b8ad6da\" y=\"42.337104\"/>\n     <use style=\"fill:#1f77b4;stroke:#1f77b4;\" x=\"131.693085\" xlink:href=\"#mab5b8ad6da\" y=\"86.678387\"/>\n     <use style=\"fill:#1f77b4;stroke:#1f77b4;\" x=\"97.618408\" xlink:href=\"#mab5b8ad6da\" y=\"73.29939\"/>\n     <use style=\"fill:#1f77b4;stroke:#1f77b4;\" x=\"148.877668\" xlink:href=\"#mab5b8ad6da\" y=\"106.978906\"/>\n     <use style=\"fill:#1f77b4;stroke:#1f77b4;\" x=\"101.409324\" xlink:href=\"#mab5b8ad6da\" y=\"72.344593\"/>\n     <use style=\"fill:#1f77b4;stroke:#1f77b4;\" x=\"105.857238\" xlink:href=\"#mab5b8ad6da\" y=\"72.203695\"/>\n     <use style=\"fill:#1f77b4;stroke:#1f77b4;\" x=\"126.018063\" xlink:href=\"#mab5b8ad6da\" y=\"90.93587\"/>\n     <use style=\"fill:#1f77b4;stroke:#1f77b4;\" x=\"133.501307\" xlink:href=\"#mab5b8ad6da\" y=\"73.985898\"/>\n     <use style=\"fill:#1f77b4;stroke:#1f77b4;\" x=\"119.408531\" xlink:href=\"#mab5b8ad6da\" y=\"71.720683\"/>\n     <use style=\"fill:#1f77b4;stroke:#1f77b4;\" x=\"141.71551\" xlink:href=\"#mab5b8ad6da\" y=\"84.212825\"/>\n     <use style=\"fill:#1f77b4;stroke:#1f77b4;\" x=\"112.637809\" xlink:href=\"#mab5b8ad6da\" y=\"82.81773\"/>\n     <use style=\"fill:#1f77b4;stroke:#1f77b4;\" x=\"140.281502\" xlink:href=\"#mab5b8ad6da\" y=\"73.370305\"/>\n     <use style=\"fill:#1f77b4;stroke:#1f77b4;\" x=\"127.7456\" xlink:href=\"#mab5b8ad6da\" y=\"82.756214\"/>\n     <use style=\"fill:#1f77b4;stroke:#1f77b4;\" x=\"135.972452\" xlink:href=\"#mab5b8ad6da\" y=\"80.450913\"/>\n     <use style=\"fill:#1f77b4;stroke:#1f77b4;\" x=\"102.936273\" xlink:href=\"#mab5b8ad6da\" y=\"55.669748\"/>\n     <use style=\"fill:#1f77b4;stroke:#1f77b4;\" x=\"119.319421\" xlink:href=\"#mab5b8ad6da\" y=\"73.174742\"/>\n     <use style=\"fill:#1f77b4;stroke:#1f77b4;\" x=\"96.237387\" xlink:href=\"#mab5b8ad6da\" y=\"76.124012\"/>\n     <use style=\"fill:#1f77b4;stroke:#1f77b4;\" x=\"65.127883\" xlink:href=\"#mab5b8ad6da\" y=\"37.489133\"/>\n     <use style=\"fill:#1f77b4;stroke:#1f77b4;\" x=\"48.473615\" xlink:href=\"#mab5b8ad6da\" y=\"50.218672\"/>\n     <use style=\"fill:#1f77b4;stroke:#1f77b4;\" x=\"63.62742\" xlink:href=\"#mab5b8ad6da\" y=\"28.305227\"/>\n     <use style=\"fill:#1f77b4;stroke:#1f77b4;\" x=\"150.646505\" xlink:href=\"#mab5b8ad6da\" y=\"95.400652\"/>\n     <use style=\"fill:#1f77b4;stroke:#1f77b4;\" x=\"96.991242\" xlink:href=\"#mab5b8ad6da\" y=\"51.863013\"/>\n     <use style=\"fill:#1f77b4;stroke:#1f77b4;\" x=\"136.470833\" xlink:href=\"#mab5b8ad6da\" y=\"90.325229\"/>\n     <use style=\"fill:#1f77b4;stroke:#1f77b4;\" x=\"106.027901\" xlink:href=\"#mab5b8ad6da\" y=\"66.02745\"/>\n     <use style=\"fill:#1f77b4;stroke:#1f77b4;\" x=\"116.413263\" xlink:href=\"#mab5b8ad6da\" y=\"73.218706\"/>\n     <use style=\"fill:#1f77b4;stroke:#1f77b4;\" x=\"140.19579\" xlink:href=\"#mab5b8ad6da\" y=\"87.631036\"/>\n     <use style=\"fill:#1f77b4;stroke:#1f77b4;\" x=\"107.311908\" xlink:href=\"#mab5b8ad6da\" y=\"68.341315\"/>\n     <use style=\"fill:#1f77b4;stroke:#1f77b4;\" x=\"128.676235\" xlink:href=\"#mab5b8ad6da\" y=\"66.861209\"/>\n     <use style=\"fill:#1f77b4;stroke:#1f77b4;\" x=\"61.730522\" xlink:href=\"#mab5b8ad6da\" y=\"57.977449\"/>\n     <use style=\"fill:#1f77b4;stroke:#1f77b4;\" x=\"116.863529\" xlink:href=\"#mab5b8ad6da\" y=\"77.33656\"/>\n     <use style=\"fill:#1f77b4;stroke:#1f77b4;\" x=\"95.17409\" xlink:href=\"#mab5b8ad6da\" y=\"63.329137\"/>\n     <use style=\"fill:#1f77b4;stroke:#1f77b4;\" x=\"147.005263\" xlink:href=\"#mab5b8ad6da\" y=\"78.590398\"/>\n     <use style=\"fill:#1f77b4;stroke:#1f77b4;\" x=\"132.023284\" xlink:href=\"#mab5b8ad6da\" y=\"85.507936\"/>\n     <use style=\"fill:#1f77b4;stroke:#1f77b4;\" x=\"180.590934\" xlink:href=\"#mab5b8ad6da\" y=\"125.625742\"/>\n     <use style=\"fill:#1f77b4;stroke:#1f77b4;\" x=\"164.836608\" xlink:href=\"#mab5b8ad6da\" y=\"103.654362\"/>\n     <use style=\"fill:#1f77b4;stroke:#1f77b4;\" x=\"123.455081\" xlink:href=\"#mab5b8ad6da\" y=\"60.463959\"/>\n     <use style=\"fill:#1f77b4;stroke:#1f77b4;\" x=\"131.318074\" xlink:href=\"#mab5b8ad6da\" y=\"83.523767\"/>\n     <use style=\"fill:#1f77b4;stroke:#1f77b4;\" x=\"188.350295\" xlink:href=\"#mab5b8ad6da\" y=\"109.452773\"/>\n     <use style=\"fill:#1f77b4;stroke:#1f77b4;\" x=\"173.394547\" xlink:href=\"#mab5b8ad6da\" y=\"98.883275\"/>\n     <use style=\"fill:#1f77b4;stroke:#1f77b4;\" x=\"118.699729\" xlink:href=\"#mab5b8ad6da\" y=\"82.664601\"/>\n     <use style=\"fill:#1f77b4;stroke:#1f77b4;\" x=\"155.938977\" xlink:href=\"#mab5b8ad6da\" y=\"88.954895\"/>\n     <use style=\"fill:#1f77b4;stroke:#1f77b4;\" x=\"125.919233\" xlink:href=\"#mab5b8ad6da\" y=\"84.06708\"/>\n     <use style=\"fill:#1f77b4;stroke:#1f77b4;\" x=\"128.191432\" xlink:href=\"#mab5b8ad6da\" y=\"69.590823\"/>\n     <use style=\"fill:#1f77b4;stroke:#1f77b4;\" x=\"172.621464\" xlink:href=\"#mab5b8ad6da\" y=\"93.943291\"/>\n     <use style=\"fill:#1f77b4;stroke:#1f77b4;\" x=\"151.478438\" xlink:href=\"#mab5b8ad6da\" y=\"94.415286\"/>\n     <use style=\"fill:#1f77b4;stroke:#1f77b4;\" x=\"98.501339\" xlink:href=\"#mab5b8ad6da\" y=\"58.638534\"/>\n     <use style=\"fill:#1f77b4;stroke:#1f77b4;\" x=\"121.362149\" xlink:href=\"#mab5b8ad6da\" y=\"81.918465\"/>\n     <use style=\"fill:#1f77b4;stroke:#1f77b4;\" x=\"106.456565\" xlink:href=\"#mab5b8ad6da\" y=\"62.640089\"/>\n     <use style=\"fill:#1f77b4;stroke:#1f77b4;\" x=\"118.173291\" xlink:href=\"#mab5b8ad6da\" y=\"55.769375\"/>\n     <use style=\"fill:#1f77b4;stroke:#1f77b4;\" x=\"94.559697\" xlink:href=\"#mab5b8ad6da\" y=\"72.790289\"/>\n     <use style=\"fill:#1f77b4;stroke:#1f77b4;\" x=\"101.269382\" xlink:href=\"#mab5b8ad6da\" y=\"57.398052\"/>\n     <use style=\"fill:#1f77b4;stroke:#1f77b4;\" x=\"156.893767\" xlink:href=\"#mab5b8ad6da\" y=\"95.150611\"/>\n     <use style=\"fill:#1f77b4;stroke:#1f77b4;\" x=\"103.853183\" xlink:href=\"#mab5b8ad6da\" y=\"74.344184\"/>\n     <use style=\"fill:#1f77b4;stroke:#1f77b4;\" x=\"129.651634\" xlink:href=\"#mab5b8ad6da\" y=\"71.509038\"/>\n     <use style=\"fill:#1f77b4;stroke:#1f77b4;\" x=\"116.172672\" xlink:href=\"#mab5b8ad6da\" y=\"92.880923\"/>\n     <use style=\"fill:#1f77b4;stroke:#1f77b4;\" x=\"146.360026\" xlink:href=\"#mab5b8ad6da\" y=\"82.574861\"/>\n     <use style=\"fill:#1f77b4;stroke:#1f77b4;\" x=\"134.396137\" xlink:href=\"#mab5b8ad6da\" y=\"91.001525\"/>\n     <use style=\"fill:#1f77b4;stroke:#1f77b4;\" x=\"83.102637\" xlink:href=\"#mab5b8ad6da\" y=\"41.252478\"/>\n     <use style=\"fill:#1f77b4;stroke:#1f77b4;\" x=\"130.318365\" xlink:href=\"#mab5b8ad6da\" y=\"83.447997\"/>\n     <use style=\"fill:#1f77b4;stroke:#1f77b4;\" x=\"126.422463\" xlink:href=\"#mab5b8ad6da\" y=\"69.667657\"/>\n     <use style=\"fill:#1f77b4;stroke:#1f77b4;\" x=\"141.616553\" xlink:href=\"#mab5b8ad6da\" y=\"84.763554\"/>\n     <use style=\"fill:#1f77b4;stroke:#1f77b4;\" x=\"133.943436\" xlink:href=\"#mab5b8ad6da\" y=\"83.297191\"/>\n     <use style=\"fill:#1f77b4;stroke:#1f77b4;\" x=\"153.945702\" xlink:href=\"#mab5b8ad6da\" y=\"90.06917\"/>\n     <use style=\"fill:#1f77b4;stroke:#1f77b4;\" x=\"111.744661\" xlink:href=\"#mab5b8ad6da\" y=\"71.71402\"/>\n     <use style=\"fill:#1f77b4;stroke:#1f77b4;\" x=\"169.205471\" xlink:href=\"#mab5b8ad6da\" y=\"97.216957\"/>\n     <use style=\"fill:#1f77b4;stroke:#1f77b4;\" x=\"116.489959\" xlink:href=\"#mab5b8ad6da\" y=\"69.741133\"/>\n     <use style=\"fill:#1f77b4;stroke:#1f77b4;\" x=\"127.850709\" xlink:href=\"#mab5b8ad6da\" y=\"86.039817\"/>\n     <use style=\"fill:#1f77b4;stroke:#1f77b4;\" x=\"120.505671\" xlink:href=\"#mab5b8ad6da\" y=\"55.436805\"/>\n     <use style=\"fill:#1f77b4;stroke:#1f77b4;\" x=\"108.67425\" xlink:href=\"#mab5b8ad6da\" y=\"86.955907\"/>\n     <use style=\"fill:#1f77b4;stroke:#1f77b4;\" x=\"111.004045\" xlink:href=\"#mab5b8ad6da\" y=\"67.49269\"/>\n     <use style=\"fill:#1f77b4;stroke:#1f77b4;\" x=\"110.257277\" xlink:href=\"#mab5b8ad6da\" y=\"60.236376\"/>\n     <use style=\"fill:#1f77b4;stroke:#1f77b4;\" x=\"135.030838\" xlink:href=\"#mab5b8ad6da\" y=\"100.545269\"/>\n     <use style=\"fill:#1f77b4;stroke:#1f77b4;\" x=\"134.293814\" xlink:href=\"#mab5b8ad6da\" y=\"83.745521\"/>\n     <use style=\"fill:#1f77b4;stroke:#1f77b4;\" x=\"141.593077\" xlink:href=\"#mab5b8ad6da\" y=\"83.402518\"/>\n     <use style=\"fill:#1f77b4;stroke:#1f77b4;\" x=\"77.864388\" xlink:href=\"#mab5b8ad6da\" y=\"51.281435\"/>\n     <use style=\"fill:#1f77b4;stroke:#1f77b4;\" x=\"161.498068\" xlink:href=\"#mab5b8ad6da\" y=\"91.198261\"/>\n     <use style=\"fill:#1f77b4;stroke:#1f77b4;\" x=\"138.662341\" xlink:href=\"#mab5b8ad6da\" y=\"71.264982\"/>\n     <use style=\"fill:#1f77b4;stroke:#1f77b4;\" x=\"111.895795\" xlink:href=\"#mab5b8ad6da\" y=\"80.78699\"/>\n     <use style=\"fill:#1f77b4;stroke:#1f77b4;\" x=\"139.631093\" xlink:href=\"#mab5b8ad6da\" y=\"84.302167\"/>\n     <use style=\"fill:#1f77b4;stroke:#1f77b4;\" x=\"148.250536\" xlink:href=\"#mab5b8ad6da\" y=\"76.178891\"/>\n     <use style=\"fill:#1f77b4;stroke:#1f77b4;\" x=\"112.690554\" xlink:href=\"#mab5b8ad6da\" y=\"64.59794\"/>\n     <use style=\"fill:#1f77b4;stroke:#1f77b4;\" x=\"158.617989\" xlink:href=\"#mab5b8ad6da\" y=\"86.652419\"/>\n     <use style=\"fill:#1f77b4;stroke:#1f77b4;\" x=\"155.744132\" xlink:href=\"#mab5b8ad6da\" y=\"98.910751\"/>\n     <use style=\"fill:#1f77b4;stroke:#1f77b4;\" x=\"166.675912\" xlink:href=\"#mab5b8ad6da\" y=\"88.955177\"/>\n     <use style=\"fill:#1f77b4;stroke:#1f77b4;\" x=\"91.234524\" xlink:href=\"#mab5b8ad6da\" y=\"76.090309\"/>\n     <use style=\"fill:#1f77b4;stroke:#1f77b4;\" x=\"131.095112\" xlink:href=\"#mab5b8ad6da\" y=\"87.044247\"/>\n     <use style=\"fill:#1f77b4;stroke:#1f77b4;\" x=\"124.182548\" xlink:href=\"#mab5b8ad6da\" y=\"79.19174\"/>\n     <use style=\"fill:#1f77b4;stroke:#1f77b4;\" x=\"125.665374\" xlink:href=\"#mab5b8ad6da\" y=\"73.926146\"/>\n     <use style=\"fill:#1f77b4;stroke:#1f77b4;\" x=\"99.228902\" xlink:href=\"#mab5b8ad6da\" y=\"57.915727\"/>\n     <use style=\"fill:#1f77b4;stroke:#1f77b4;\" x=\"141.816016\" xlink:href=\"#mab5b8ad6da\" y=\"85.529858\"/>\n     <use style=\"fill:#1f77b4;stroke:#1f77b4;\" x=\"125.279354\" xlink:href=\"#mab5b8ad6da\" y=\"76.470329\"/>\n     <use style=\"fill:#1f77b4;stroke:#1f77b4;\" x=\"73.132989\" xlink:href=\"#mab5b8ad6da\" y=\"50.924128\"/>\n     <use style=\"fill:#1f77b4;stroke:#1f77b4;\" x=\"132.262013\" xlink:href=\"#mab5b8ad6da\" y=\"87.848335\"/>\n     <use style=\"fill:#1f77b4;stroke:#1f77b4;\" x=\"171.540658\" xlink:href=\"#mab5b8ad6da\" y=\"97.833899\"/>\n     <use style=\"fill:#1f77b4;stroke:#1f77b4;\" x=\"142.930878\" xlink:href=\"#mab5b8ad6da\" y=\"84.452177\"/>\n     <use style=\"fill:#1f77b4;stroke:#1f77b4;\" x=\"137.76117\" xlink:href=\"#mab5b8ad6da\" y=\"72.210698\"/>\n     <use style=\"fill:#1f77b4;stroke:#1f77b4;\" x=\"165.674953\" xlink:href=\"#mab5b8ad6da\" y=\"89.281339\"/>\n     <use style=\"fill:#1f77b4;stroke:#1f77b4;\" x=\"120.552334\" xlink:href=\"#mab5b8ad6da\" y=\"72.177467\"/>\n     <use style=\"fill:#1f77b4;stroke:#1f77b4;\" x=\"146.464982\" xlink:href=\"#mab5b8ad6da\" y=\"117.33377\"/>\n     <use style=\"fill:#1f77b4;stroke:#1f77b4;\" x=\"132.902592\" xlink:href=\"#mab5b8ad6da\" y=\"76.686032\"/>\n     <use style=\"fill:#1f77b4;stroke:#1f77b4;\" x=\"132.243289\" xlink:href=\"#mab5b8ad6da\" y=\"99.190694\"/>\n     <use style=\"fill:#1f77b4;stroke:#1f77b4;\" x=\"117.166973\" xlink:href=\"#mab5b8ad6da\" y=\"61.996268\"/>\n     <use style=\"fill:#1f77b4;stroke:#1f77b4;\" x=\"129.098216\" xlink:href=\"#mab5b8ad6da\" y=\"88.938122\"/>\n     <use style=\"fill:#1f77b4;stroke:#1f77b4;\" x=\"120.804517\" xlink:href=\"#mab5b8ad6da\" y=\"76.699588\"/>\n     <use style=\"fill:#1f77b4;stroke:#1f77b4;\" x=\"105.502185\" xlink:href=\"#mab5b8ad6da\" y=\"70.860247\"/>\n     <use style=\"fill:#1f77b4;stroke:#1f77b4;\" x=\"161.934787\" xlink:href=\"#mab5b8ad6da\" y=\"100.975157\"/>\n     <use style=\"fill:#1f77b4;stroke:#1f77b4;\" x=\"111.308668\" xlink:href=\"#mab5b8ad6da\" y=\"70.068682\"/>\n     <use style=\"fill:#1f77b4;stroke:#1f77b4;\" x=\"102.580618\" xlink:href=\"#mab5b8ad6da\" y=\"53.171574\"/>\n     <use style=\"fill:#1f77b4;stroke:#1f77b4;\" x=\"140.027564\" xlink:href=\"#mab5b8ad6da\" y=\"102.700151\"/>\n     <use style=\"fill:#1f77b4;stroke:#1f77b4;\" x=\"192.52825\" xlink:href=\"#mab5b8ad6da\" y=\"122.822927\"/>\n     <use style=\"fill:#1f77b4;stroke:#1f77b4;\" x=\"159.907987\" xlink:href=\"#mab5b8ad6da\" y=\"97.60126\"/>\n     <use style=\"fill:#1f77b4;stroke:#1f77b4;\" x=\"159.640986\" xlink:href=\"#mab5b8ad6da\" y=\"101.191137\"/>\n     <use style=\"fill:#1f77b4;stroke:#1f77b4;\" x=\"90.187941\" xlink:href=\"#mab5b8ad6da\" y=\"35.939112\"/>\n     <use style=\"fill:#1f77b4;stroke:#1f77b4;\" x=\"178.259544\" xlink:href=\"#mab5b8ad6da\" y=\"103.089381\"/>\n     <use style=\"fill:#1f77b4;stroke:#1f77b4;\" x=\"98.618224\" xlink:href=\"#mab5b8ad6da\" y=\"73.41243\"/>\n     <use style=\"fill:#1f77b4;stroke:#1f77b4;\" x=\"76.425046\" xlink:href=\"#mab5b8ad6da\" y=\"59.307784\"/>\n     <use style=\"fill:#1f77b4;stroke:#1f77b4;\" x=\"104.19353\" xlink:href=\"#mab5b8ad6da\" y=\"68.606079\"/>\n     <use style=\"fill:#1f77b4;stroke:#1f77b4;\" x=\"131.931595\" xlink:href=\"#mab5b8ad6da\" y=\"77.274202\"/>\n     <use style=\"fill:#1f77b4;stroke:#1f77b4;\" x=\"133.515282\" xlink:href=\"#mab5b8ad6da\" y=\"80.550951\"/>\n     <use style=\"fill:#1f77b4;stroke:#1f77b4;\" x=\"112.397762\" xlink:href=\"#mab5b8ad6da\" y=\"76.276771\"/>\n     <use style=\"fill:#1f77b4;stroke:#1f77b4;\" x=\"150.2582\" xlink:href=\"#mab5b8ad6da\" y=\"96.942847\"/>\n     <use style=\"fill:#1f77b4;stroke:#1f77b4;\" x=\"164.203072\" xlink:href=\"#mab5b8ad6da\" y=\"85.506723\"/>\n     <use style=\"fill:#1f77b4;stroke:#1f77b4;\" x=\"115.377387\" xlink:href=\"#mab5b8ad6da\" y=\"64.26098\"/>\n     <use style=\"fill:#1f77b4;stroke:#1f77b4;\" x=\"162.682253\" xlink:href=\"#mab5b8ad6da\" y=\"96.223523\"/>\n     <use style=\"fill:#1f77b4;stroke:#1f77b4;\" x=\"103.805404\" xlink:href=\"#mab5b8ad6da\" y=\"74.756072\"/>\n     <use style=\"fill:#1f77b4;stroke:#1f77b4;\" x=\"98.430418\" xlink:href=\"#mab5b8ad6da\" y=\"57.042253\"/>\n     <use style=\"fill:#1f77b4;stroke:#1f77b4;\" x=\"134.32194\" xlink:href=\"#mab5b8ad6da\" y=\"89.45306\"/>\n     <use style=\"fill:#1f77b4;stroke:#1f77b4;\" x=\"62.678942\" xlink:href=\"#mab5b8ad6da\" y=\"29.508705\"/>\n     <use style=\"fill:#1f77b4;stroke:#1f77b4;\" x=\"84.318465\" xlink:href=\"#mab5b8ad6da\" y=\"60.267733\"/>\n     <use style=\"fill:#1f77b4;stroke:#1f77b4;\" x=\"148.760159\" xlink:href=\"#mab5b8ad6da\" y=\"86.513275\"/>\n     <use style=\"fill:#1f77b4;stroke:#1f77b4;\" x=\"120.861009\" xlink:href=\"#mab5b8ad6da\" y=\"57.853364\"/>\n     <use style=\"fill:#1f77b4;stroke:#1f77b4;\" x=\"135.556406\" xlink:href=\"#mab5b8ad6da\" y=\"97.952954\"/>\n     <use style=\"fill:#1f77b4;stroke:#1f77b4;\" x=\"110.702285\" xlink:href=\"#mab5b8ad6da\" y=\"72.355036\"/>\n     <use style=\"fill:#1f77b4;stroke:#1f77b4;\" x=\"174.720501\" xlink:href=\"#mab5b8ad6da\" y=\"101.450474\"/>\n     <use style=\"fill:#1f77b4;stroke:#1f77b4;\" x=\"94.948313\" xlink:href=\"#mab5b8ad6da\" y=\"61.169743\"/>\n     <use style=\"fill:#1f77b4;stroke:#1f77b4;\" x=\"133.190286\" xlink:href=\"#mab5b8ad6da\" y=\"85.379689\"/>\n     <use style=\"fill:#1f77b4;stroke:#1f77b4;\" x=\"132.718134\" xlink:href=\"#mab5b8ad6da\" y=\"64.013605\"/>\n     <use style=\"fill:#1f77b4;stroke:#1f77b4;\" x=\"108.81628\" xlink:href=\"#mab5b8ad6da\" y=\"67.670697\"/>\n     <use style=\"fill:#1f77b4;stroke:#1f77b4;\" x=\"136.846931\" xlink:href=\"#mab5b8ad6da\" y=\"84.282559\"/>\n     <use style=\"fill:#1f77b4;stroke:#1f77b4;\" x=\"182.788402\" xlink:href=\"#mab5b8ad6da\" y=\"116.475227\"/>\n     <use style=\"fill:#1f77b4;stroke:#1f77b4;\" x=\"160.909586\" xlink:href=\"#mab5b8ad6da\" y=\"83.778576\"/>\n     <use style=\"fill:#1f77b4;stroke:#1f77b4;\" x=\"114.302864\" xlink:href=\"#mab5b8ad6da\" y=\"62.823824\"/>\n     <use style=\"fill:#1f77b4;stroke:#1f77b4;\" x=\"139.349514\" xlink:href=\"#mab5b8ad6da\" y=\"95.428882\"/>\n     <use style=\"fill:#1f77b4;stroke:#1f77b4;\" x=\"160.637946\" xlink:href=\"#mab5b8ad6da\" y=\"88.450045\"/>\n     <use style=\"fill:#1f77b4;stroke:#1f77b4;\" x=\"129.794494\" xlink:href=\"#mab5b8ad6da\" y=\"76.649821\"/>\n     <use style=\"fill:#1f77b4;stroke:#1f77b4;\" x=\"154.977227\" xlink:href=\"#mab5b8ad6da\" y=\"100.200803\"/>\n     <use style=\"fill:#1f77b4;stroke:#1f77b4;\" x=\"132.943203\" xlink:href=\"#mab5b8ad6da\" y=\"70.364792\"/>\n     <use style=\"fill:#1f77b4;stroke:#1f77b4;\" x=\"112.671509\" xlink:href=\"#mab5b8ad6da\" y=\"69.77306\"/>\n     <use style=\"fill:#1f77b4;stroke:#1f77b4;\" x=\"100.729656\" xlink:href=\"#mab5b8ad6da\" y=\"59.877257\"/>\n     <use style=\"fill:#1f77b4;stroke:#1f77b4;\" x=\"153.594871\" xlink:href=\"#mab5b8ad6da\" y=\"101.66437\"/>\n     <use style=\"fill:#1f77b4;stroke:#1f77b4;\" x=\"146.532918\" xlink:href=\"#mab5b8ad6da\" y=\"83.241155\"/>\n     <use style=\"fill:#1f77b4;stroke:#1f77b4;\" x=\"153.092391\" xlink:href=\"#mab5b8ad6da\" y=\"85.181279\"/>\n     <use style=\"fill:#1f77b4;stroke:#1f77b4;\" x=\"116.768831\" xlink:href=\"#mab5b8ad6da\" y=\"78.61953\"/>\n     <use style=\"fill:#1f77b4;stroke:#1f77b4;\" x=\"108.329187\" xlink:href=\"#mab5b8ad6da\" y=\"62.95111\"/>\n     <use style=\"fill:#1f77b4;stroke:#1f77b4;\" x=\"135.357751\" xlink:href=\"#mab5b8ad6da\" y=\"88.348026\"/>\n     <use style=\"fill:#1f77b4;stroke:#1f77b4;\" x=\"155.248266\" xlink:href=\"#mab5b8ad6da\" y=\"107.386694\"/>\n     <use style=\"fill:#1f77b4;stroke:#1f77b4;\" x=\"158.770328\" xlink:href=\"#mab5b8ad6da\" y=\"98.929833\"/>\n     <use style=\"fill:#1f77b4;stroke:#1f77b4;\" x=\"113.807473\" xlink:href=\"#mab5b8ad6da\" y=\"62.697141\"/>\n     <use style=\"fill:#1f77b4;stroke:#1f77b4;\" x=\"110.037869\" xlink:href=\"#mab5b8ad6da\" y=\"66.48915\"/>\n     <use style=\"fill:#1f77b4;stroke:#1f77b4;\" x=\"158.042171\" xlink:href=\"#mab5b8ad6da\" y=\"81.724162\"/>\n     <use style=\"fill:#1f77b4;stroke:#1f77b4;\" x=\"141.538671\" xlink:href=\"#mab5b8ad6da\" y=\"86.049898\"/>\n     <use style=\"fill:#1f77b4;stroke:#1f77b4;\" x=\"173.541623\" xlink:href=\"#mab5b8ad6da\" y=\"102.041739\"/>\n     <use style=\"fill:#1f77b4;stroke:#1f77b4;\" x=\"182.139345\" xlink:href=\"#mab5b8ad6da\" y=\"109.403412\"/>\n     <use style=\"fill:#1f77b4;stroke:#1f77b4;\" x=\"117.202664\" xlink:href=\"#mab5b8ad6da\" y=\"78.603099\"/>\n     <use style=\"fill:#1f77b4;stroke:#1f77b4;\" x=\"151.359171\" xlink:href=\"#mab5b8ad6da\" y=\"93.00161\"/>\n     <use style=\"fill:#1f77b4;stroke:#1f77b4;\" x=\"151.201617\" xlink:href=\"#mab5b8ad6da\" y=\"88.084774\"/>\n     <use style=\"fill:#1f77b4;stroke:#1f77b4;\" x=\"121.727921\" xlink:href=\"#mab5b8ad6da\" y=\"77.328051\"/>\n     <use style=\"fill:#1f77b4;stroke:#1f77b4;\" x=\"165.342092\" xlink:href=\"#mab5b8ad6da\" y=\"87.239927\"/>\n     <use style=\"fill:#1f77b4;stroke:#1f77b4;\" x=\"108.607402\" xlink:href=\"#mab5b8ad6da\" y=\"70.712621\"/>\n     <use style=\"fill:#1f77b4;stroke:#1f77b4;\" x=\"140.006328\" xlink:href=\"#mab5b8ad6da\" y=\"78.101563\"/>\n     <use style=\"fill:#1f77b4;stroke:#1f77b4;\" x=\"129.634634\" xlink:href=\"#mab5b8ad6da\" y=\"84.565761\"/>\n     <use style=\"fill:#1f77b4;stroke:#1f77b4;\" x=\"102.210155\" xlink:href=\"#mab5b8ad6da\" y=\"45.158239\"/>\n     <use style=\"fill:#1f77b4;stroke:#1f77b4;\" x=\"113.089028\" xlink:href=\"#mab5b8ad6da\" y=\"66.136201\"/>\n     <use style=\"fill:#1f77b4;stroke:#1f77b4;\" x=\"144.653435\" xlink:href=\"#mab5b8ad6da\" y=\"95.527876\"/>\n     <use style=\"fill:#1f77b4;stroke:#1f77b4;\" x=\"112.617777\" xlink:href=\"#mab5b8ad6da\" y=\"46.080057\"/>\n     <use style=\"fill:#1f77b4;stroke:#1f77b4;\" x=\"109.618063\" xlink:href=\"#mab5b8ad6da\" y=\"72.376103\"/>\n     <use style=\"fill:#1f77b4;stroke:#1f77b4;\" x=\"147.891525\" xlink:href=\"#mab5b8ad6da\" y=\"84.624151\"/>\n     <use style=\"fill:#1f77b4;stroke:#1f77b4;\" x=\"86.127889\" xlink:href=\"#mab5b8ad6da\" y=\"61.70132\"/>\n     <use style=\"fill:#1f77b4;stroke:#1f77b4;\" x=\"83.510989\" xlink:href=\"#mab5b8ad6da\" y=\"56.430549\"/>\n     <use style=\"fill:#1f77b4;stroke:#1f77b4;\" x=\"122.768743\" xlink:href=\"#mab5b8ad6da\" y=\"78.102471\"/>\n     <use style=\"fill:#1f77b4;stroke:#1f77b4;\" x=\"129.467329\" xlink:href=\"#mab5b8ad6da\" y=\"68.406471\"/>\n     <use style=\"fill:#1f77b4;stroke:#1f77b4;\" x=\"122.081148\" xlink:href=\"#mab5b8ad6da\" y=\"77.086291\"/>\n     <use style=\"fill:#1f77b4;stroke:#1f77b4;\" x=\"126.676621\" xlink:href=\"#mab5b8ad6da\" y=\"81.693415\"/>\n     <use style=\"fill:#1f77b4;stroke:#1f77b4;\" x=\"151.847268\" xlink:href=\"#mab5b8ad6da\" y=\"91.067934\"/>\n     <use style=\"fill:#1f77b4;stroke:#1f77b4;\" x=\"168.003587\" xlink:href=\"#mab5b8ad6da\" y=\"94.168956\"/>\n     <use style=\"fill:#1f77b4;stroke:#1f77b4;\" x=\"121.720667\" xlink:href=\"#mab5b8ad6da\" y=\"67.774311\"/>\n     <use style=\"fill:#1f77b4;stroke:#1f77b4;\" x=\"198.110973\" xlink:href=\"#mab5b8ad6da\" y=\"98.602394\"/>\n     <use style=\"fill:#1f77b4;stroke:#1f77b4;\" x=\"123.945719\" xlink:href=\"#mab5b8ad6da\" y=\"74.439281\"/>\n     <use style=\"fill:#1f77b4;stroke:#1f77b4;\" x=\"121.361747\" xlink:href=\"#mab5b8ad6da\" y=\"80.409163\"/>\n     <use style=\"fill:#1f77b4;stroke:#1f77b4;\" x=\"171.516752\" xlink:href=\"#mab5b8ad6da\" y=\"112.566339\"/>\n     <use style=\"fill:#1f77b4;stroke:#1f77b4;\" x=\"163.256458\" xlink:href=\"#mab5b8ad6da\" y=\"91.640088\"/>\n     <use style=\"fill:#1f77b4;stroke:#1f77b4;\" x=\"164.106012\" xlink:href=\"#mab5b8ad6da\" y=\"92.976914\"/>\n     <use style=\"fill:#1f77b4;stroke:#1f77b4;\" x=\"141.720907\" xlink:href=\"#mab5b8ad6da\" y=\"88.943155\"/>\n     <use style=\"fill:#1f77b4;stroke:#1f77b4;\" x=\"118.167333\" xlink:href=\"#mab5b8ad6da\" y=\"73.943832\"/>\n     <use style=\"fill:#1f77b4;stroke:#1f77b4;\" x=\"120.451928\" xlink:href=\"#mab5b8ad6da\" y=\"61.425348\"/>\n     <use style=\"fill:#1f77b4;stroke:#1f77b4;\" x=\"154.627927\" xlink:href=\"#mab5b8ad6da\" y=\"83.459308\"/>\n     <use style=\"fill:#1f77b4;stroke:#1f77b4;\" x=\"131.994277\" xlink:href=\"#mab5b8ad6da\" y=\"84.005724\"/>\n     <use style=\"fill:#1f77b4;stroke:#1f77b4;\" x=\"150.829781\" xlink:href=\"#mab5b8ad6da\" y=\"81.301335\"/>\n     <use style=\"fill:#1f77b4;stroke:#1f77b4;\" x=\"175.046503\" xlink:href=\"#mab5b8ad6da\" y=\"115.44584\"/>\n     <use style=\"fill:#1f77b4;stroke:#1f77b4;\" x=\"99.722918\" xlink:href=\"#mab5b8ad6da\" y=\"84.309162\"/>\n     <use style=\"fill:#1f77b4;stroke:#1f77b4;\" x=\"163.460053\" xlink:href=\"#mab5b8ad6da\" y=\"102.40471\"/>\n     <use style=\"fill:#1f77b4;stroke:#1f77b4;\" x=\"163.637594\" xlink:href=\"#mab5b8ad6da\" y=\"99.783882\"/>\n     <use style=\"fill:#1f77b4;stroke:#1f77b4;\" x=\"103.768272\" xlink:href=\"#mab5b8ad6da\" y=\"52.812528\"/>\n     <use style=\"fill:#1f77b4;stroke:#1f77b4;\" x=\"172.754778\" xlink:href=\"#mab5b8ad6da\" y=\"104.08133\"/>\n     <use style=\"fill:#1f77b4;stroke:#1f77b4;\" x=\"146.827988\" xlink:href=\"#mab5b8ad6da\" y=\"84.984312\"/>\n     <use style=\"fill:#1f77b4;stroke:#1f77b4;\" x=\"130.346672\" xlink:href=\"#mab5b8ad6da\" y=\"68.607522\"/>\n     <use style=\"fill:#1f77b4;stroke:#1f77b4;\" x=\"104.663244\" xlink:href=\"#mab5b8ad6da\" y=\"82.696857\"/>\n     <use style=\"fill:#1f77b4;stroke:#1f77b4;\" x=\"146.271308\" xlink:href=\"#mab5b8ad6da\" y=\"78.789318\"/>\n     <use style=\"fill:#1f77b4;stroke:#1f77b4;\" x=\"132.704368\" xlink:href=\"#mab5b8ad6da\" y=\"86.481375\"/>\n     <use style=\"fill:#1f77b4;stroke:#1f77b4;\" x=\"100.690027\" xlink:href=\"#mab5b8ad6da\" y=\"71.000473\"/>\n     <use style=\"fill:#1f77b4;stroke:#1f77b4;\" x=\"103.326128\" xlink:href=\"#mab5b8ad6da\" y=\"68.072717\"/>\n     <use style=\"fill:#1f77b4;stroke:#1f77b4;\" x=\"106.906615\" xlink:href=\"#mab5b8ad6da\" y=\"76.299915\"/>\n     <use style=\"fill:#1f77b4;stroke:#1f77b4;\" x=\"143.143599\" xlink:href=\"#mab5b8ad6da\" y=\"75.005285\"/>\n     <use style=\"fill:#1f77b4;stroke:#1f77b4;\" x=\"132.047198\" xlink:href=\"#mab5b8ad6da\" y=\"80.116874\"/>\n     <use style=\"fill:#1f77b4;stroke:#1f77b4;\" x=\"111.446659\" xlink:href=\"#mab5b8ad6da\" y=\"76.334929\"/>\n     <use style=\"fill:#1f77b4;stroke:#1f77b4;\" x=\"172.39267\" xlink:href=\"#mab5b8ad6da\" y=\"110.857636\"/>\n     <use style=\"fill:#1f77b4;stroke:#1f77b4;\" x=\"98.701787\" xlink:href=\"#mab5b8ad6da\" y=\"61.869739\"/>\n     <use style=\"fill:#1f77b4;stroke:#1f77b4;\" x=\"158.819677\" xlink:href=\"#mab5b8ad6da\" y=\"88.843598\"/>\n     <use style=\"fill:#1f77b4;stroke:#1f77b4;\" x=\"125.097922\" xlink:href=\"#mab5b8ad6da\" y=\"71.831809\"/>\n     <use style=\"fill:#1f77b4;stroke:#1f77b4;\" x=\"144.104557\" xlink:href=\"#mab5b8ad6da\" y=\"93.881374\"/>\n     <use style=\"fill:#1f77b4;stroke:#1f77b4;\" x=\"95.788105\" xlink:href=\"#mab5b8ad6da\" y=\"49.624235\"/>\n     <use style=\"fill:#1f77b4;stroke:#1f77b4;\" x=\"128.642707\" xlink:href=\"#mab5b8ad6da\" y=\"87.536859\"/>\n     <use style=\"fill:#1f77b4;stroke:#1f77b4;\" x=\"60.66719\" xlink:href=\"#mab5b8ad6da\" y=\"48.625432\"/>\n     <use style=\"fill:#1f77b4;stroke:#1f77b4;\" x=\"118.710872\" xlink:href=\"#mab5b8ad6da\" y=\"83.464822\"/>\n     <use style=\"fill:#1f77b4;stroke:#1f77b4;\" x=\"142.896923\" xlink:href=\"#mab5b8ad6da\" y=\"72.089761\"/>\n     <use style=\"fill:#1f77b4;stroke:#1f77b4;\" x=\"122.068939\" xlink:href=\"#mab5b8ad6da\" y=\"71.871143\"/>\n     <use style=\"fill:#1f77b4;stroke:#1f77b4;\" x=\"81.834103\" xlink:href=\"#mab5b8ad6da\" y=\"45.682247\"/>\n     <use style=\"fill:#1f77b4;stroke:#1f77b4;\" x=\"92.840673\" xlink:href=\"#mab5b8ad6da\" y=\"50.087704\"/>\n     <use style=\"fill:#1f77b4;stroke:#1f77b4;\" x=\"136.757728\" xlink:href=\"#mab5b8ad6da\" y=\"72.709514\"/>\n     <use style=\"fill:#1f77b4;stroke:#1f77b4;\" x=\"146.493513\" xlink:href=\"#mab5b8ad6da\" y=\"86.902486\"/>\n     <use style=\"fill:#1f77b4;stroke:#1f77b4;\" x=\"114.466491\" xlink:href=\"#mab5b8ad6da\" y=\"71.762302\"/>\n     <use style=\"fill:#1f77b4;stroke:#1f77b4;\" x=\"113.475579\" xlink:href=\"#mab5b8ad6da\" y=\"73.182666\"/>\n     <use style=\"fill:#1f77b4;stroke:#1f77b4;\" x=\"221.657296\" xlink:href=\"#mab5b8ad6da\" y=\"140.407087\"/>\n     <use style=\"fill:#1f77b4;stroke:#1f77b4;\" x=\"168.108447\" xlink:href=\"#mab5b8ad6da\" y=\"99.98687\"/>\n     <use style=\"fill:#1f77b4;stroke:#1f77b4;\" x=\"152.344455\" xlink:href=\"#mab5b8ad6da\" y=\"83.088116\"/>\n     <use style=\"fill:#1f77b4;stroke:#1f77b4;\" x=\"62.584246\" xlink:href=\"#mab5b8ad6da\" y=\"50.267961\"/>\n     <use style=\"fill:#1f77b4;stroke:#1f77b4;\" x=\"167.10866\" xlink:href=\"#mab5b8ad6da\" y=\"88.519143\"/>\n     <use style=\"fill:#1f77b4;stroke:#1f77b4;\" x=\"126.390672\" xlink:href=\"#mab5b8ad6da\" y=\"65.699085\"/>\n     <use style=\"fill:#1f77b4;stroke:#1f77b4;\" x=\"157.664962\" xlink:href=\"#mab5b8ad6da\" y=\"106.187506\"/>\n     <use style=\"fill:#1f77b4;stroke:#1f77b4;\" x=\"135.767979\" xlink:href=\"#mab5b8ad6da\" y=\"93.952286\"/>\n     <use style=\"fill:#1f77b4;stroke:#1f77b4;\" x=\"143.849267\" xlink:href=\"#mab5b8ad6da\" y=\"73.574693\"/>\n     <use style=\"fill:#1f77b4;stroke:#1f77b4;\" x=\"108.749393\" xlink:href=\"#mab5b8ad6da\" y=\"84.829915\"/>\n     <use style=\"fill:#1f77b4;stroke:#1f77b4;\" x=\"142.824059\" xlink:href=\"#mab5b8ad6da\" y=\"98.916578\"/>\n     <use style=\"fill:#1f77b4;stroke:#1f77b4;\" x=\"146.323023\" xlink:href=\"#mab5b8ad6da\" y=\"80.332312\"/>\n    </g>\n   </g>\n   <g id=\"matplotlib.axis_1\">\n    <g id=\"xtick_1\">\n     <g id=\"line2d_1\">\n      <defs>\n       <path d=\"M 0 0 \nL 0 3.5 \n\" id=\"m2700410144\" style=\"stroke:#000000;stroke-width:0.8;\"/>\n      </defs>\n      <g>\n       <use style=\"stroke:#000000;stroke-width:0.8;\" x=\"72.23052\" xlink:href=\"#m2700410144\" y=\"146.6\"/>\n      </g>\n     </g>\n     <g id=\"text_1\">\n      <!-- −2 -->\n      <defs>\n       <path d=\"M 10.59375 35.5 \nL 73.1875 35.5 \nL 73.1875 27.203125 \nL 10.59375 27.203125 \nz\n\" id=\"DejaVuSans-8722\"/>\n       <path d=\"M 19.1875 8.296875 \nL 53.609375 8.296875 \nL 53.609375 0 \nL 7.328125 0 \nL 7.328125 8.296875 \nQ 12.9375 14.109375 22.625 23.890625 \nQ 32.328125 33.6875 34.8125 36.53125 \nQ 39.546875 41.84375 41.421875 45.53125 \nQ 43.3125 49.21875 43.3125 52.78125 \nQ 43.3125 58.59375 39.234375 62.25 \nQ 35.15625 65.921875 28.609375 65.921875 \nQ 23.96875 65.921875 18.8125 64.3125 \nQ 13.671875 62.703125 7.8125 59.421875 \nL 7.8125 69.390625 \nQ 13.765625 71.78125 18.9375 73 \nQ 24.125 74.21875 28.421875 74.21875 \nQ 39.75 74.21875 46.484375 68.546875 \nQ 53.21875 62.890625 53.21875 53.421875 \nQ 53.21875 48.921875 51.53125 44.890625 \nQ 49.859375 40.875 45.40625 35.40625 \nQ 44.1875 33.984375 37.640625 27.21875 \nQ 31.109375 20.453125 19.1875 8.296875 \nz\n\" id=\"DejaVuSans-50\"/>\n      </defs>\n      <g transform=\"translate(64.859427 161.198437)scale(0.1 -0.1)\">\n       <use xlink:href=\"#DejaVuSans-8722\"/>\n       <use x=\"83.789062\" xlink:href=\"#DejaVuSans-50\"/>\n      </g>\n     </g>\n    </g>\n    <g id=\"xtick_2\">\n     <g id=\"line2d_2\">\n      <g>\n       <use style=\"stroke:#000000;stroke-width:0.8;\" x=\"127.00714\" xlink:href=\"#m2700410144\" y=\"146.6\"/>\n      </g>\n     </g>\n     <g id=\"text_2\">\n      <!-- 0 -->\n      <defs>\n       <path d=\"M 31.78125 66.40625 \nQ 24.171875 66.40625 20.328125 58.90625 \nQ 16.5 51.421875 16.5 36.375 \nQ 16.5 21.390625 20.328125 13.890625 \nQ 24.171875 6.390625 31.78125 6.390625 \nQ 39.453125 6.390625 43.28125 13.890625 \nQ 47.125 21.390625 47.125 36.375 \nQ 47.125 51.421875 43.28125 58.90625 \nQ 39.453125 66.40625 31.78125 66.40625 \nz\nM 31.78125 74.21875 \nQ 44.046875 74.21875 50.515625 64.515625 \nQ 56.984375 54.828125 56.984375 36.375 \nQ 56.984375 17.96875 50.515625 8.265625 \nQ 44.046875 -1.421875 31.78125 -1.421875 \nQ 19.53125 -1.421875 13.0625 8.265625 \nQ 6.59375 17.96875 6.59375 36.375 \nQ 6.59375 54.828125 13.0625 64.515625 \nQ 19.53125 74.21875 31.78125 74.21875 \nz\n\" id=\"DejaVuSans-48\"/>\n      </defs>\n      <g transform=\"translate(123.82589 161.198437)scale(0.1 -0.1)\">\n       <use xlink:href=\"#DejaVuSans-48\"/>\n      </g>\n     </g>\n    </g>\n    <g id=\"xtick_3\">\n     <g id=\"line2d_3\">\n      <g>\n       <use style=\"stroke:#000000;stroke-width:0.8;\" x=\"181.78376\" xlink:href=\"#m2700410144\" y=\"146.6\"/>\n      </g>\n     </g>\n     <g id=\"text_3\">\n      <!-- 2 -->\n      <g transform=\"translate(178.60251 161.198437)scale(0.1 -0.1)\">\n       <use xlink:href=\"#DejaVuSans-50\"/>\n      </g>\n     </g>\n    </g>\n   </g>\n   <g id=\"matplotlib.axis_2\">\n    <g id=\"ytick_1\">\n     <g id=\"line2d_4\">\n      <defs>\n       <path d=\"M 0 0 \nL -3.5 0 \n\" id=\"m7547ea9776\" style=\"stroke:#000000;stroke-width:0.8;\"/>\n      </defs>\n      <g>\n       <use style=\"stroke:#000000;stroke-width:0.8;\" x=\"35.304688\" xlink:href=\"#m7547ea9776\" y=\"138.612493\"/>\n      </g>\n     </g>\n     <g id=\"text_4\">\n      <!-- −10 -->\n      <defs>\n       <path d=\"M 12.40625 8.296875 \nL 28.515625 8.296875 \nL 28.515625 63.921875 \nL 10.984375 60.40625 \nL 10.984375 69.390625 \nL 28.421875 72.90625 \nL 38.28125 72.90625 \nL 38.28125 8.296875 \nL 54.390625 8.296875 \nL 54.390625 0 \nL 12.40625 0 \nz\n\" id=\"DejaVuSans-49\"/>\n      </defs>\n      <g transform=\"translate(7.2 142.411712)scale(0.1 -0.1)\">\n       <use xlink:href=\"#DejaVuSans-8722\"/>\n       <use x=\"83.789062\" xlink:href=\"#DejaVuSans-49\"/>\n       <use x=\"147.412109\" xlink:href=\"#DejaVuSans-48\"/>\n      </g>\n     </g>\n    </g>\n    <g id=\"ytick_2\">\n     <g id=\"line2d_5\">\n      <g>\n       <use style=\"stroke:#000000;stroke-width:0.8;\" x=\"35.304688\" xlink:href=\"#m7547ea9776\" y=\"96.103265\"/>\n      </g>\n     </g>\n     <g id=\"text_5\">\n      <!-- 0 -->\n      <g transform=\"translate(21.942187 99.902484)scale(0.1 -0.1)\">\n       <use xlink:href=\"#DejaVuSans-48\"/>\n      </g>\n     </g>\n    </g>\n    <g id=\"ytick_3\">\n     <g id=\"line2d_6\">\n      <g>\n       <use style=\"stroke:#000000;stroke-width:0.8;\" x=\"35.304688\" xlink:href=\"#m7547ea9776\" y=\"53.594037\"/>\n      </g>\n     </g>\n     <g id=\"text_6\">\n      <!-- 10 -->\n      <g transform=\"translate(15.579687 57.393256)scale(0.1 -0.1)\">\n       <use xlink:href=\"#DejaVuSans-49\"/>\n       <use x=\"63.623047\" xlink:href=\"#DejaVuSans-48\"/>\n      </g>\n     </g>\n    </g>\n    <g id=\"ytick_4\">\n     <g id=\"line2d_7\">\n      <g>\n       <use style=\"stroke:#000000;stroke-width:0.8;\" x=\"35.304688\" xlink:href=\"#m7547ea9776\" y=\"11.084809\"/>\n      </g>\n     </g>\n     <g id=\"text_7\">\n      <!-- 20 -->\n      <g transform=\"translate(15.579687 14.884028)scale(0.1 -0.1)\">\n       <use xlink:href=\"#DejaVuSans-50\"/>\n       <use x=\"63.623047\" xlink:href=\"#DejaVuSans-48\"/>\n      </g>\n     </g>\n    </g>\n   </g>\n   <g id=\"patch_3\">\n    <path d=\"M 35.304688 146.6 \nL 35.304688 10.7 \n\" style=\"fill:none;stroke:#000000;stroke-linecap:square;stroke-linejoin:miter;stroke-width:0.8;\"/>\n   </g>\n   <g id=\"patch_4\">\n    <path d=\"M 230.604688 146.6 \nL 230.604688 10.7 \n\" style=\"fill:none;stroke:#000000;stroke-linecap:square;stroke-linejoin:miter;stroke-width:0.8;\"/>\n   </g>\n   <g id=\"patch_5\">\n    <path d=\"M 35.304688 146.6 \nL 230.604687 146.6 \n\" style=\"fill:none;stroke:#000000;stroke-linecap:square;stroke-linejoin:miter;stroke-width:0.8;\"/>\n   </g>\n   <g id=\"patch_6\">\n    <path d=\"M 35.304688 10.7 \nL 230.604687 10.7 \n\" style=\"fill:none;stroke:#000000;stroke-linecap:square;stroke-linejoin:miter;stroke-width:0.8;\"/>\n   </g>\n  </g>\n </g>\n <defs>\n  <clipPath id=\"pc0dc399136\">\n   <rect height=\"135.9\" width=\"195.3\" x=\"35.304688\" y=\"10.7\"/>\n  </clipPath>\n </defs>\n</svg>\n"
          },
          "metadata": {
            "needs_background": "light"
          }
        }
      ]
    },
    {
      "cell_type": "markdown",
      "source": [
        "# **3.2.2. Reading the Dataset**"
      ],
      "metadata": {
        "id": "vuBRKk5qXrJa"
      }
    },
    {
      "cell_type": "code",
      "source": [
        "def data_iter(batch_size, features, labels):\n",
        "    num_examples = len(features)\n",
        "    indices = list(range(num_examples))\n",
        "    # The examples are read at random, in no particular order\n",
        "    random.shuffle(indices)\n",
        "    for i in range(0, num_examples, batch_size):\n",
        "        batch_indices = torch.tensor(\n",
        "            indices[i: min(i + batch_size, num_examples)])\n",
        "        yield features[batch_indices], labels[batch_indices]"
      ],
      "metadata": {
        "id": "HiDNed9ZXtbf"
      },
      "execution_count": null,
      "outputs": []
    },
    {
      "cell_type": "code",
      "source": [
        "batch_size = 10\n",
        "\n",
        "for X, y in data_iter(batch_size, features, labels):\n",
        "    print(X, '\\n', y)\n",
        "    break"
      ],
      "metadata": {
        "colab": {
          "base_uri": "https://localhost:8080/"
        },
        "id": "DC2tjrKLXy4_",
        "outputId": "7417ec56-ba0b-409d-c8b6-7da2480d9669"
      },
      "execution_count": null,
      "outputs": [
        {
          "output_type": "stream",
          "name": "stdout",
          "text": [
            "tensor([[-0.3579,  0.1821],\n",
            "        [ 0.0438, -0.2755],\n",
            "        [ 0.9869,  1.6655],\n",
            "        [ 0.0704,  0.4609],\n",
            "        [ 1.4717, -0.4504],\n",
            "        [-1.4628,  0.2852],\n",
            "        [-0.2255,  0.8891],\n",
            "        [ 0.4918,  0.1448],\n",
            "        [-1.1921, -1.0365],\n",
            "        [ 0.0981, -2.4290]]) \n",
            " tensor([[ 2.8459],\n",
            "        [ 5.2269],\n",
            "        [ 0.5081],\n",
            "        [ 2.7761],\n",
            "        [ 8.6733],\n",
            "        [ 0.3345],\n",
            "        [ 0.7296],\n",
            "        [ 4.7048],\n",
            "        [ 5.3379],\n",
            "        [12.6481]])\n"
          ]
        }
      ]
    },
    {
      "cell_type": "markdown",
      "source": [
        "# **3.2.3. Initializing Model Parameters**"
      ],
      "metadata": {
        "id": "aFTysRtPX33E"
      }
    },
    {
      "cell_type": "code",
      "source": [
        "w = torch.normal(0, 0.01, size=(2,1), requires_grad=True)\n",
        "b = torch.zeros(1, requires_grad=True)"
      ],
      "metadata": {
        "id": "-HBh5EtJX8JW"
      },
      "execution_count": null,
      "outputs": []
    },
    {
      "cell_type": "markdown",
      "source": [
        "# **3.2.4. Defining the Model**"
      ],
      "metadata": {
        "id": "H0uACwi8YBMg"
      }
    },
    {
      "cell_type": "code",
      "source": [
        "def linreg(X, w, b):  \n",
        "    \"\"\"The linear regression model.\"\"\"\n",
        "    return torch.matmul(X, w) + b"
      ],
      "metadata": {
        "id": "X94lqNKPYExB"
      },
      "execution_count": null,
      "outputs": []
    },
    {
      "cell_type": "markdown",
      "source": [
        "# **3.2.5. Defining the Loss Function**"
      ],
      "metadata": {
        "id": "TCmYjl6SYLRv"
      }
    },
    {
      "cell_type": "code",
      "source": [
        "def squared_loss(y_hat, y):  \n",
        "    \"\"\"Squared loss.\"\"\"\n",
        "    return (y_hat - y.reshape(y_hat.shape)) ** 2 / 2"
      ],
      "metadata": {
        "id": "g7vI1wbXYPXj"
      },
      "execution_count": null,
      "outputs": []
    },
    {
      "cell_type": "markdown",
      "source": [
        "# **3.2.6. Defining the Optimization Algorithm**"
      ],
      "metadata": {
        "id": "ytDftrXNYVRH"
      }
    },
    {
      "cell_type": "code",
      "source": [
        "def sgd(params, lr, batch_size):  \n",
        "    \"\"\"Minibatch stochastic gradient descent.\"\"\"\n",
        "    with torch.no_grad():\n",
        "        for param in params:\n",
        "            param -= lr * param.grad / batch_size\n",
        "            param.grad.zero_()"
      ],
      "metadata": {
        "id": "5abz0JUlYZ7c"
      },
      "execution_count": null,
      "outputs": []
    },
    {
      "cell_type": "markdown",
      "source": [
        "# **3.2.7. Training**"
      ],
      "metadata": {
        "id": "uJiI-mnYYfn5"
      }
    },
    {
      "cell_type": "code",
      "source": [
        "lr = 0.03\n",
        "num_epochs = 3\n",
        "net = linreg\n",
        "loss = squared_loss\n",
        "\n",
        "for epoch in range(num_epochs):\n",
        "    for X, y in data_iter(batch_size, features, labels):\n",
        "        l = loss(net(X, w, b), y)  # Minibatch loss in `X` and `y`\n",
        "        # Compute gradient on `l` with respect to [`w`, `b`]\n",
        "        l.sum().backward()\n",
        "        sgd([w, b], lr, batch_size)  # Update parameters using their gradient\n",
        "    with torch.no_grad():\n",
        "        train_l = loss(net(features, w, b), labels)\n",
        "        print(f'epoch {epoch + 1}, loss {float(train_l.mean()):f}')"
      ],
      "metadata": {
        "colab": {
          "base_uri": "https://localhost:8080/"
        },
        "id": "Se4vx35-YjlV",
        "outputId": "527b3950-78b8-4e58-d871-b7ad3aaf9d4f"
      },
      "execution_count": null,
      "outputs": [
        {
          "output_type": "stream",
          "name": "stdout",
          "text": [
            "epoch 1, loss 0.036733\n",
            "epoch 2, loss 0.000145\n",
            "epoch 3, loss 0.000050\n"
          ]
        }
      ]
    },
    {
      "cell_type": "code",
      "source": [
        "print(f'error in estimating w: {true_w - w.reshape(true_w.shape)}')\n",
        "print(f'error in estimating b: {true_b - b}')"
      ],
      "metadata": {
        "colab": {
          "base_uri": "https://localhost:8080/"
        },
        "id": "hXH0myO0YpTd",
        "outputId": "2f0e265a-9bdd-4e95-8168-2f5101873f5a"
      },
      "execution_count": null,
      "outputs": [
        {
          "output_type": "stream",
          "name": "stdout",
          "text": [
            "error in estimating w: tensor([-0.0005, -0.0002], grad_fn=<SubBackward0>)\n",
            "error in estimating b: tensor([0.0005], grad_fn=<RsubBackward1>)\n"
          ]
        }
      ]
    },
    {
      "cell_type": "markdown",
      "source": [
        "# **3.3. Concise Implementation of Linear Regression**"
      ],
      "metadata": {
        "id": "jqnu1P-jY3Y-"
      }
    },
    {
      "cell_type": "markdown",
      "source": [
        "# **3.3.1. Generating the Dataset**"
      ],
      "metadata": {
        "id": "BLUMdwYRY8pP"
      }
    },
    {
      "cell_type": "code",
      "source": [
        "import numpy as np\n",
        "import torch\n",
        "from torch.utils import data\n",
        "from d2l import torch as d2l\n",
        "\n",
        "true_w = torch.tensor([2, -3.4])\n",
        "true_b = 4.2\n",
        "features, labels = d2l.synthetic_data(true_w, true_b, 1000)"
      ],
      "metadata": {
        "id": "Nst3HiJnY_0X"
      },
      "execution_count": null,
      "outputs": []
    },
    {
      "cell_type": "markdown",
      "source": [
        "# **3.3.2. Reading the Dataset**"
      ],
      "metadata": {
        "id": "x0Nf3MNTZEB5"
      }
    },
    {
      "cell_type": "code",
      "source": [
        "def load_array(data_arrays, batch_size, is_train=True):  \n",
        "    \"\"\"Construct a PyTorch data iterator.\"\"\"\n",
        "    dataset = data.TensorDataset(*data_arrays)\n",
        "    return data.DataLoader(dataset, batch_size, shuffle=is_train)\n",
        "\n",
        "batch_size = 10\n",
        "data_iter = load_array((features, labels), batch_size)"
      ],
      "metadata": {
        "id": "3EKueekaZHnd"
      },
      "execution_count": null,
      "outputs": []
    },
    {
      "cell_type": "code",
      "source": [
        "next(iter(data_iter))"
      ],
      "metadata": {
        "colab": {
          "base_uri": "https://localhost:8080/"
        },
        "id": "ovUj5tUdZOEd",
        "outputId": "98ebc49b-7194-43c0-99cb-452b40459c84"
      },
      "execution_count": null,
      "outputs": [
        {
          "output_type": "execute_result",
          "data": {
            "text/plain": [
              "[tensor([[-0.2078, -0.9957],\n",
              "         [ 0.4722, -0.9405],\n",
              "         [-0.8907,  0.4897],\n",
              "         [ 1.0014, -0.8007],\n",
              "         [ 1.7355, -0.4705],\n",
              "         [ 0.6944,  0.4317],\n",
              "         [ 0.2960, -0.6370],\n",
              "         [-0.3289,  0.0799],\n",
              "         [ 1.3164, -1.1927],\n",
              "         [-1.8858,  0.6562]]), tensor([[ 7.1589],\n",
              "         [ 8.3433],\n",
              "         [ 0.7550],\n",
              "         [ 8.9319],\n",
              "         [ 9.2752],\n",
              "         [ 4.1164],\n",
              "         [ 6.9493],\n",
              "         [ 3.2744],\n",
              "         [10.8999],\n",
              "         [-1.7973]])]"
            ]
          },
          "metadata": {},
          "execution_count": 24
        }
      ]
    },
    {
      "cell_type": "markdown",
      "source": [
        "# **3.3.3. Defining the Model**"
      ],
      "metadata": {
        "id": "gMPJc_kAZSOV"
      }
    },
    {
      "cell_type": "code",
      "source": [
        "# `nn` is an abbreviation for neural networks\n",
        "from torch import nn\n",
        "\n",
        "net = nn.Sequential(nn.Linear(2, 1))"
      ],
      "metadata": {
        "id": "1Bjp3GoQZWT1"
      },
      "execution_count": null,
      "outputs": []
    },
    {
      "cell_type": "markdown",
      "source": [
        "# **3.3.4. Initializing Model Parameters**"
      ],
      "metadata": {
        "id": "tVawBPM8ZaQy"
      }
    },
    {
      "cell_type": "code",
      "source": [
        "net[0].weight.data.normal_(0, 0.01)\n",
        "net[0].bias.data.fill_(0)"
      ],
      "metadata": {
        "colab": {
          "base_uri": "https://localhost:8080/"
        },
        "id": "FeHfYZFEZfM_",
        "outputId": "6e041499-6a91-48db-f4d3-6083ad476ed5"
      },
      "execution_count": null,
      "outputs": [
        {
          "output_type": "execute_result",
          "data": {
            "text/plain": [
              "tensor([0.])"
            ]
          },
          "metadata": {},
          "execution_count": 26
        }
      ]
    },
    {
      "cell_type": "markdown",
      "source": [
        "# **3.3.5. Defining the Loss Function**"
      ],
      "metadata": {
        "id": "ce9TtYdVZlfH"
      }
    },
    {
      "cell_type": "code",
      "source": [
        "loss = nn.MSELoss()"
      ],
      "metadata": {
        "id": "uiNlDBmdZo1J"
      },
      "execution_count": null,
      "outputs": []
    },
    {
      "cell_type": "markdown",
      "source": [
        "# **3.3.6. Defining the Optimization Algorithm**"
      ],
      "metadata": {
        "id": "kIOi06nXZtkN"
      }
    },
    {
      "cell_type": "code",
      "source": [
        "trainer = torch.optim.SGD(net.parameters(), lr=0.03)"
      ],
      "metadata": {
        "id": "qcumIBe_Zxk-"
      },
      "execution_count": null,
      "outputs": []
    },
    {
      "cell_type": "markdown",
      "source": [
        "# **3.3.7. Training**"
      ],
      "metadata": {
        "id": "svkKRa0lZ3fc"
      }
    },
    {
      "cell_type": "code",
      "source": [
        "num_epochs = 3\n",
        "for epoch in range(num_epochs):\n",
        "    for X, y in data_iter:\n",
        "        l = loss(net(X) ,y)\n",
        "        trainer.zero_grad()\n",
        "        l.backward()\n",
        "        trainer.step()\n",
        "    l = loss(net(features), labels)\n",
        "    print(f'epoch {epoch + 1}, loss {l:f}')"
      ],
      "metadata": {
        "colab": {
          "base_uri": "https://localhost:8080/"
        },
        "id": "XgcSGYuGZ9Kt",
        "outputId": "b0c0f75c-ee06-4e18-cbe9-8586c9ca574d"
      },
      "execution_count": null,
      "outputs": [
        {
          "output_type": "stream",
          "name": "stdout",
          "text": [
            "epoch 1, loss 0.000246\n",
            "epoch 2, loss 0.000101\n",
            "epoch 3, loss 0.000102\n"
          ]
        }
      ]
    },
    {
      "cell_type": "code",
      "source": [
        "w = net[0].weight.data\n",
        "print('error in estimating w:', true_w - w.reshape(true_w.shape))\n",
        "b = net[0].bias.data\n",
        "print('error in estimating b:', true_b - b)"
      ],
      "metadata": {
        "colab": {
          "base_uri": "https://localhost:8080/"
        },
        "id": "Gmpl2UEvaFw7",
        "outputId": "55dbdedc-c9ac-433c-81eb-d838ca1c505c"
      },
      "execution_count": null,
      "outputs": [
        {
          "output_type": "stream",
          "name": "stdout",
          "text": [
            "error in estimating w: tensor([0.0007, 0.0003])\n",
            "error in estimating b: tensor([0.0002])\n"
          ]
        }
      ]
    },
    {
      "cell_type": "markdown",
      "source": [
        "# **3.5. The Image Classification Dataset**"
      ],
      "metadata": {
        "id": "1dZ8OJxUaY7n"
      }
    },
    {
      "cell_type": "code",
      "source": [
        "%matplotlib inline\n",
        "import torch\n",
        "import torchvision\n",
        "from torch.utils import data\n",
        "from torchvision import transforms\n",
        "from d2l import torch as d2l\n",
        "\n",
        "d2l.use_svg_display()"
      ],
      "metadata": {
        "id": "Ga1ELLeDboE6"
      },
      "execution_count": null,
      "outputs": []
    },
    {
      "cell_type": "markdown",
      "source": [
        "# **3.5.1. Reading the Dataset**"
      ],
      "metadata": {
        "id": "iYf5vqDSbtFP"
      }
    },
    {
      "cell_type": "code",
      "source": [
        "# `ToTensor` converts the image data from PIL type to 32-bit floating point\n",
        "# tensors. It divides all numbers by 255 so that all pixel values are between\n",
        "# 0 and 1\n",
        "trans = transforms.ToTensor()\n",
        "mnist_train = torchvision.datasets.FashionMNIST(\n",
        "    root=\"../data\", train=True, transform=trans, download=True)\n",
        "mnist_test = torchvision.datasets.FashionMNIST(\n",
        "    root=\"../data\", train=False, transform=trans, download=True)"
      ],
      "metadata": {
        "colab": {
          "base_uri": "https://localhost:8080/",
          "height": 443,
          "referenced_widgets": [
            "4993fdfbdcd54908ba8598bf91ddb19a",
            "aa56c870b0cf4baa99769ebb72cfeb54",
            "e1e2151a125b4705b8026192070b3cc4",
            "eac9455365d74be5b67b13fae02d1c9d",
            "ea50218f71704822aad6c23fdec97d0c",
            "620db37374134b08bcb1ba9cc89d13e1",
            "b91c3e01002b4b6882e90e6f16e07b1a",
            "c32613db2d524ff095a8988d405d6b57",
            "c3ed47616acb491eb09b3f60400e8dcc",
            "2ef41ba58e85400082164bc14e00bb99",
            "eaada2d145b34d9e885f08e52c563346",
            "3a330970895a4494833ab3aa4b63d82e",
            "cb792bc8d2b7476ab2ab8f7e86c620f6",
            "275bd41fd8d34cefa8d5801d01de4535",
            "568b7bd0b30c480da8cce95aaadf44fd",
            "44d929b142c94ccf85c0975c1697f86e",
            "925d2d0ea4ba4e71a24c272485fdbdc2",
            "525dd8e6862b41fa994ff29ff8b6642a",
            "cbf05379353b4514a40338f51ff51c23",
            "09a594e0697840f38f2285cf4586cd3f",
            "b43dd1c6fb774e2d824b1ea723e0d619",
            "2d0701f7c303490c96cc294bb10cdcf7",
            "94dc169f24ec44468c185780dd4911ec",
            "cf69f02ead984f9f80aed2d5ec324347",
            "5f8c959cbb9642f5a4ecfb7385017456",
            "6c07f8c0f01842b193abeffcc89cefef",
            "b1aceaf5a97c432cbf2c7876675d2608",
            "2ab2be606db642738e680a8cfb72d81d",
            "0222ef9f864e4bb9b2d46035e09b313e",
            "60b5adc2db814cf2970ab8d3a9c0b041",
            "a822795181c1408cbe1cfa66104c3888",
            "d736d29fe67c48d19aa42a07137a4212",
            "99d724297e3d4906b8b3b510a0442bce",
            "6ee5a15413ca4f32b229b0208a0eaea5",
            "3e22b5ec9b144c58acfad55bbfa29e23",
            "7e1b749f472a4bc1a9c550be25b3fbd5",
            "6929a81d86ae41fea0f721d7182063db",
            "21f48ded70694199ae19c0181bceb253",
            "44bd72a7084d4c8f8caaddc5994716f7",
            "5d0fc012d187497ba01dd521663c8e10",
            "1ab3696d6afc4b78b8d1fff359089e7f",
            "0a4178578536410c97567a065b20167d",
            "3904ba356cb04ca78c2d383896d039f0",
            "16ace24fcf3e420d9514e12f49918940"
          ]
        },
        "id": "ZAYXJww-bvAP",
        "outputId": "6a142cab-f5b1-405a-bcf8-344f730f1705"
      },
      "execution_count": null,
      "outputs": [
        {
          "output_type": "stream",
          "name": "stdout",
          "text": [
            "Downloading http://fashion-mnist.s3-website.eu-central-1.amazonaws.com/train-images-idx3-ubyte.gz\n",
            "Downloading http://fashion-mnist.s3-website.eu-central-1.amazonaws.com/train-images-idx3-ubyte.gz to ../data/FashionMNIST/raw/train-images-idx3-ubyte.gz\n"
          ]
        },
        {
          "output_type": "display_data",
          "data": {
            "text/plain": [
              "  0%|          | 0/26421880 [00:00<?, ?it/s]"
            ],
            "application/vnd.jupyter.widget-view+json": {
              "version_major": 2,
              "version_minor": 0,
              "model_id": "4993fdfbdcd54908ba8598bf91ddb19a"
            }
          },
          "metadata": {}
        },
        {
          "output_type": "stream",
          "name": "stdout",
          "text": [
            "Extracting ../data/FashionMNIST/raw/train-images-idx3-ubyte.gz to ../data/FashionMNIST/raw\n",
            "\n",
            "Downloading http://fashion-mnist.s3-website.eu-central-1.amazonaws.com/train-labels-idx1-ubyte.gz\n",
            "Downloading http://fashion-mnist.s3-website.eu-central-1.amazonaws.com/train-labels-idx1-ubyte.gz to ../data/FashionMNIST/raw/train-labels-idx1-ubyte.gz\n"
          ]
        },
        {
          "output_type": "display_data",
          "data": {
            "text/plain": [
              "  0%|          | 0/29515 [00:00<?, ?it/s]"
            ],
            "application/vnd.jupyter.widget-view+json": {
              "version_major": 2,
              "version_minor": 0,
              "model_id": "3a330970895a4494833ab3aa4b63d82e"
            }
          },
          "metadata": {}
        },
        {
          "output_type": "stream",
          "name": "stdout",
          "text": [
            "Extracting ../data/FashionMNIST/raw/train-labels-idx1-ubyte.gz to ../data/FashionMNIST/raw\n",
            "\n",
            "Downloading http://fashion-mnist.s3-website.eu-central-1.amazonaws.com/t10k-images-idx3-ubyte.gz\n",
            "Downloading http://fashion-mnist.s3-website.eu-central-1.amazonaws.com/t10k-images-idx3-ubyte.gz to ../data/FashionMNIST/raw/t10k-images-idx3-ubyte.gz\n"
          ]
        },
        {
          "output_type": "display_data",
          "data": {
            "text/plain": [
              "  0%|          | 0/4422102 [00:00<?, ?it/s]"
            ],
            "application/vnd.jupyter.widget-view+json": {
              "version_major": 2,
              "version_minor": 0,
              "model_id": "94dc169f24ec44468c185780dd4911ec"
            }
          },
          "metadata": {}
        },
        {
          "output_type": "stream",
          "name": "stdout",
          "text": [
            "Extracting ../data/FashionMNIST/raw/t10k-images-idx3-ubyte.gz to ../data/FashionMNIST/raw\n",
            "\n",
            "Downloading http://fashion-mnist.s3-website.eu-central-1.amazonaws.com/t10k-labels-idx1-ubyte.gz\n",
            "Downloading http://fashion-mnist.s3-website.eu-central-1.amazonaws.com/t10k-labels-idx1-ubyte.gz to ../data/FashionMNIST/raw/t10k-labels-idx1-ubyte.gz\n"
          ]
        },
        {
          "output_type": "display_data",
          "data": {
            "text/plain": [
              "  0%|          | 0/5148 [00:00<?, ?it/s]"
            ],
            "application/vnd.jupyter.widget-view+json": {
              "version_major": 2,
              "version_minor": 0,
              "model_id": "6ee5a15413ca4f32b229b0208a0eaea5"
            }
          },
          "metadata": {}
        },
        {
          "output_type": "stream",
          "name": "stdout",
          "text": [
            "Extracting ../data/FashionMNIST/raw/t10k-labels-idx1-ubyte.gz to ../data/FashionMNIST/raw\n",
            "\n"
          ]
        }
      ]
    },
    {
      "cell_type": "code",
      "source": [
        "len(mnist_train), len(mnist_test)"
      ],
      "metadata": {
        "colab": {
          "base_uri": "https://localhost:8080/"
        },
        "id": "XZhuSeOEb4Wa",
        "outputId": "2f55e18d-1e57-47a2-be91-d442f86b6edd"
      },
      "execution_count": null,
      "outputs": [
        {
          "output_type": "execute_result",
          "data": {
            "text/plain": [
              "(60000, 10000)"
            ]
          },
          "metadata": {},
          "execution_count": 33
        }
      ]
    },
    {
      "cell_type": "code",
      "source": [
        "mnist_train[0][0].shape"
      ],
      "metadata": {
        "colab": {
          "base_uri": "https://localhost:8080/"
        },
        "id": "jOx6kXBnb7lh",
        "outputId": "d2222fb3-fdce-4452-c79d-8d48a9e33468"
      },
      "execution_count": null,
      "outputs": [
        {
          "output_type": "execute_result",
          "data": {
            "text/plain": [
              "torch.Size([1, 28, 28])"
            ]
          },
          "metadata": {},
          "execution_count": 34
        }
      ]
    },
    {
      "cell_type": "code",
      "source": [
        "def get_fashion_mnist_labels(labels):  \n",
        "    \"\"\"Return text labels for the Fashion-MNIST dataset.\"\"\"\n",
        "    text_labels = ['t-shirt', 'trouser', 'pullover', 'dress', 'coat',\n",
        "                   'sandal', 'shirt', 'sneaker', 'bag', 'ankle boot']\n",
        "    return [text_labels[int(i)] for i in labels]"
      ],
      "metadata": {
        "id": "f4elnAhgb-e5"
      },
      "execution_count": null,
      "outputs": []
    },
    {
      "cell_type": "code",
      "source": [
        "def show_images(imgs, num_rows, num_cols, titles=None, scale=1.5):  \n",
        "    \"\"\"Plot a list of images.\"\"\"\n",
        "    figsize = (num_cols * scale, num_rows * scale)\n",
        "    _, axes = d2l.plt.subplots(num_rows, num_cols, figsize=figsize)\n",
        "    axes = axes.flatten()\n",
        "    for i, (ax, img) in enumerate(zip(axes, imgs)):\n",
        "        if torch.is_tensor(img):\n",
        "            # Tensor Image\n",
        "            ax.imshow(img.numpy())\n",
        "        else:\n",
        "            # PIL Image\n",
        "            ax.imshow(img)\n",
        "        ax.axes.get_xaxis().set_visible(False)\n",
        "        ax.axes.get_yaxis().set_visible(False)\n",
        "        if titles:\n",
        "            ax.set_title(titles[i])\n",
        "    return axes"
      ],
      "metadata": {
        "id": "co9__d58cDtj"
      },
      "execution_count": null,
      "outputs": []
    },
    {
      "cell_type": "code",
      "source": [
        "X, y = next(iter(data.DataLoader(mnist_train, batch_size=18)))\n",
        "show_images(X.reshape(18, 28, 28), 2, 9, titles=get_fashion_mnist_labels(y));"
      ],
      "metadata": {
        "colab": {
          "base_uri": "https://localhost:8080/",
          "height": 294
        },
        "id": "vL8VoEEWcK2d",
        "outputId": "151dd7ac-fa4b-40d1-b9cc-373f90fa6033"
      },
      "execution_count": null,
      "outputs": [
        {
          "output_type": "display_data",
          "data": {
            "text/plain": [
              "<Figure size 972x216 with 18 Axes>"
            ],
            "image/svg+xml": "<?xml version=\"1.0\" encoding=\"utf-8\" standalone=\"no\"?>\n<!DOCTYPE svg PUBLIC \"-//W3C//DTD SVG 1.1//EN\"\n  \"http://www.w3.org/Graphics/SVG/1.1/DTD/svg11.dtd\">\n<!-- Created with matplotlib (https://matplotlib.org/) -->\n<svg height=\"189.53689pt\" version=\"1.1\" viewBox=\"0 0 767.7 189.53689\" width=\"767.7pt\" xmlns=\"http://www.w3.org/2000/svg\" xmlns:xlink=\"http://www.w3.org/1999/xlink\">\n <defs>\n  <style type=\"text/css\">\n*{stroke-linecap:butt;stroke-linejoin:round;}\n  </style>\n </defs>\n <g id=\"figure_1\">\n  <g id=\"patch_1\">\n   <path d=\"M 0 189.53689 \nL 767.7 189.53689 \nL 767.7 0 \nL 0 0 \nz\n\" style=\"fill:none;\"/>\n  </g>\n  <g id=\"axes_1\">\n   <g id=\"patch_2\">\n    <path d=\"M 7.2 93.384163 \nL 78.266038 93.384163 \nL 78.266038 22.318125 \nL 7.2 22.318125 \nz\n\" style=\"fill:#ffffff;\"/>\n   </g>\n   <g clip-path=\"url(#p4766771d1c)\">\n    <image height=\"72\" id=\"imageb78fc4e167\" transform=\"scale(1 -1)translate(0 -72)\" width=\"72\" x=\"7.2\" xlink:href=\"data:image/png;base64,\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\" y=\"-21.384163\"/>\n   </g>\n   <g id=\"patch_3\">\n    <path d=\"M 7.2 93.384163 \nL 7.2 22.318125 \n\" style=\"fill:none;stroke:#000000;stroke-linecap:square;stroke-linejoin:miter;stroke-width:0.8;\"/>\n   </g>\n   <g id=\"patch_4\">\n    <path d=\"M 78.266038 93.384163 \nL 78.266038 22.318125 \n\" style=\"fill:none;stroke:#000000;stroke-linecap:square;stroke-linejoin:miter;stroke-width:0.8;\"/>\n   </g>\n   <g id=\"patch_5\">\n    <path d=\"M 7.2 93.384163 \nL 78.266038 93.384163 \n\" style=\"fill:none;stroke:#000000;stroke-linecap:square;stroke-linejoin:miter;stroke-width:0.8;\"/>\n   </g>\n   <g id=\"patch_6\">\n    <path d=\"M 7.2 22.318125 \nL 78.266038 22.318125 \n\" style=\"fill:none;stroke:#000000;stroke-linecap:square;stroke-linejoin:miter;stroke-width:0.8;\"/>\n   </g>\n   <g id=\"text_1\">\n    <!-- ankle boot -->\n    <defs>\n     <path d=\"M 34.28125 27.484375 \nQ 23.390625 27.484375 19.1875 25 \nQ 14.984375 22.515625 14.984375 16.5 \nQ 14.984375 11.71875 18.140625 8.90625 \nQ 21.296875 6.109375 26.703125 6.109375 \nQ 34.1875 6.109375 38.703125 11.40625 \nQ 43.21875 16.703125 43.21875 25.484375 \nL 43.21875 27.484375 \nz\nM 52.203125 31.203125 \nL 52.203125 0 \nL 43.21875 0 \nL 43.21875 8.296875 \nQ 40.140625 3.328125 35.546875 0.953125 \nQ 30.953125 -1.421875 24.3125 -1.421875 \nQ 15.921875 -1.421875 10.953125 3.296875 \nQ 6 8.015625 6 15.921875 \nQ 6 25.140625 12.171875 29.828125 \nQ 18.359375 34.515625 30.609375 34.515625 \nL 43.21875 34.515625 \nL 43.21875 35.40625 \nQ 43.21875 41.609375 39.140625 45 \nQ 35.0625 48.390625 27.6875 48.390625 \nQ 23 48.390625 18.546875 47.265625 \nQ 14.109375 46.140625 10.015625 43.890625 \nL 10.015625 52.203125 \nQ 14.9375 54.109375 19.578125 55.046875 \nQ 24.21875 56 28.609375 56 \nQ 40.484375 56 46.34375 49.84375 \nQ 52.203125 43.703125 52.203125 31.203125 \nz\n\" id=\"DejaVuSans-97\"/>\n     <path d=\"M 54.890625 33.015625 \nL 54.890625 0 \nL 45.90625 0 \nL 45.90625 32.71875 \nQ 45.90625 40.484375 42.875 44.328125 \nQ 39.84375 48.1875 33.796875 48.1875 \nQ 26.515625 48.1875 22.3125 43.546875 \nQ 18.109375 38.921875 18.109375 30.90625 \nL 18.109375 0 \nL 9.078125 0 \nL 9.078125 54.6875 \nL 18.109375 54.6875 \nL 18.109375 46.1875 \nQ 21.34375 51.125 25.703125 53.5625 \nQ 30.078125 56 35.796875 56 \nQ 45.21875 56 50.046875 50.171875 \nQ 54.890625 44.34375 54.890625 33.015625 \nz\n\" id=\"DejaVuSans-110\"/>\n     <path d=\"M 9.078125 75.984375 \nL 18.109375 75.984375 \nL 18.109375 31.109375 \nL 44.921875 54.6875 \nL 56.390625 54.6875 \nL 27.390625 29.109375 \nL 57.625 0 \nL 45.90625 0 \nL 18.109375 26.703125 \nL 18.109375 0 \nL 9.078125 0 \nz\n\" id=\"DejaVuSans-107\"/>\n     <path d=\"M 9.421875 75.984375 \nL 18.40625 75.984375 \nL 18.40625 0 \nL 9.421875 0 \nz\n\" id=\"DejaVuSans-108\"/>\n     <path d=\"M 56.203125 29.59375 \nL 56.203125 25.203125 \nL 14.890625 25.203125 \nQ 15.484375 15.921875 20.484375 11.0625 \nQ 25.484375 6.203125 34.421875 6.203125 \nQ 39.59375 6.203125 44.453125 7.46875 \nQ 49.3125 8.734375 54.109375 11.28125 \nL 54.109375 2.78125 \nQ 49.265625 0.734375 44.1875 -0.34375 \nQ 39.109375 -1.421875 33.890625 -1.421875 \nQ 20.796875 -1.421875 13.15625 6.1875 \nQ 5.515625 13.8125 5.515625 26.8125 \nQ 5.515625 40.234375 12.765625 48.109375 \nQ 20.015625 56 32.328125 56 \nQ 43.359375 56 49.78125 48.890625 \nQ 56.203125 41.796875 56.203125 29.59375 \nz\nM 47.21875 32.234375 \nQ 47.125 39.59375 43.09375 43.984375 \nQ 39.0625 48.390625 32.421875 48.390625 \nQ 24.90625 48.390625 20.390625 44.140625 \nQ 15.875 39.890625 15.1875 32.171875 \nz\n\" id=\"DejaVuSans-101\"/>\n     <path id=\"DejaVuSans-32\"/>\n     <path d=\"M 48.6875 27.296875 \nQ 48.6875 37.203125 44.609375 42.84375 \nQ 40.53125 48.484375 33.40625 48.484375 \nQ 26.265625 48.484375 22.1875 42.84375 \nQ 18.109375 37.203125 18.109375 27.296875 \nQ 18.109375 17.390625 22.1875 11.75 \nQ 26.265625 6.109375 33.40625 6.109375 \nQ 40.53125 6.109375 44.609375 11.75 \nQ 48.6875 17.390625 48.6875 27.296875 \nz\nM 18.109375 46.390625 \nQ 20.953125 51.265625 25.265625 53.625 \nQ 29.59375 56 35.59375 56 \nQ 45.5625 56 51.78125 48.09375 \nQ 58.015625 40.1875 58.015625 27.296875 \nQ 58.015625 14.40625 51.78125 6.484375 \nQ 45.5625 -1.421875 35.59375 -1.421875 \nQ 29.59375 -1.421875 25.265625 0.953125 \nQ 20.953125 3.328125 18.109375 8.203125 \nL 18.109375 0 \nL 9.078125 0 \nL 9.078125 75.984375 \nL 18.109375 75.984375 \nz\n\" id=\"DejaVuSans-98\"/>\n     <path d=\"M 30.609375 48.390625 \nQ 23.390625 48.390625 19.1875 42.75 \nQ 14.984375 37.109375 14.984375 27.296875 \nQ 14.984375 17.484375 19.15625 11.84375 \nQ 23.34375 6.203125 30.609375 6.203125 \nQ 37.796875 6.203125 41.984375 11.859375 \nQ 46.1875 17.53125 46.1875 27.296875 \nQ 46.1875 37.015625 41.984375 42.703125 \nQ 37.796875 48.390625 30.609375 48.390625 \nz\nM 30.609375 56 \nQ 42.328125 56 49.015625 48.375 \nQ 55.71875 40.765625 55.71875 27.296875 \nQ 55.71875 13.875 49.015625 6.21875 \nQ 42.328125 -1.421875 30.609375 -1.421875 \nQ 18.84375 -1.421875 12.171875 6.21875 \nQ 5.515625 13.875 5.515625 27.296875 \nQ 5.515625 40.765625 12.171875 48.375 \nQ 18.84375 56 30.609375 56 \nz\n\" id=\"DejaVuSans-111\"/>\n     <path d=\"M 18.3125 70.21875 \nL 18.3125 54.6875 \nL 36.8125 54.6875 \nL 36.8125 47.703125 \nL 18.3125 47.703125 \nL 18.3125 18.015625 \nQ 18.3125 11.328125 20.140625 9.421875 \nQ 21.96875 7.515625 27.59375 7.515625 \nL 36.8125 7.515625 \nL 36.8125 0 \nL 27.59375 0 \nQ 17.1875 0 13.234375 3.875 \nQ 9.28125 7.765625 9.28125 18.015625 \nL 9.28125 47.703125 \nL 2.6875 47.703125 \nL 2.6875 54.6875 \nL 9.28125 54.6875 \nL 9.28125 70.21875 \nz\n\" id=\"DejaVuSans-116\"/>\n    </defs>\n    <g transform=\"translate(11.009894 16.318125)scale(0.12 -0.12)\">\n     <use xlink:href=\"#DejaVuSans-97\"/>\n     <use x=\"61.279297\" xlink:href=\"#DejaVuSans-110\"/>\n     <use x=\"124.658203\" xlink:href=\"#DejaVuSans-107\"/>\n     <use x=\"182.568359\" xlink:href=\"#DejaVuSans-108\"/>\n     <use x=\"210.351562\" xlink:href=\"#DejaVuSans-101\"/>\n     <use x=\"271.875\" xlink:href=\"#DejaVuSans-32\"/>\n     <use x=\"303.662109\" xlink:href=\"#DejaVuSans-98\"/>\n     <use x=\"367.138672\" xlink:href=\"#DejaVuSans-111\"/>\n     <use x=\"428.320312\" xlink:href=\"#DejaVuSans-111\"/>\n     <use x=\"489.501953\" xlink:href=\"#DejaVuSans-116\"/>\n    </g>\n   </g>\n  </g>\n  <g id=\"axes_2\">\n   <g id=\"patch_7\">\n    <path d=\"M 92.479245 93.384163 \nL 163.545283 93.384163 \nL 163.545283 22.318125 \nL 92.479245 22.318125 \nz\n\" style=\"fill:#ffffff;\"/>\n   </g>\n   <g clip-path=\"url(#pe721712f92)\">\n    <image height=\"72\" id=\"image0f2060a95b\" transform=\"scale(1 -1)translate(0 -72)\" width=\"72\" x=\"92.479245\" xlink:href=\"data:image/png;base64,\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\" y=\"-21.384163\"/>\n   </g>\n   <g id=\"patch_8\">\n    <path d=\"M 92.479245 93.384163 \nL 92.479245 22.318125 \n\" style=\"fill:none;stroke:#000000;stroke-linecap:square;stroke-linejoin:miter;stroke-width:0.8;\"/>\n   </g>\n   <g id=\"patch_9\">\n    <path d=\"M 163.545283 93.384163 \nL 163.545283 22.318125 \n\" style=\"fill:none;stroke:#000000;stroke-linecap:square;stroke-linejoin:miter;stroke-width:0.8;\"/>\n   </g>\n   <g id=\"patch_10\">\n    <path d=\"M 92.479245 93.384163 \nL 163.545283 93.384163 \n\" style=\"fill:none;stroke:#000000;stroke-linecap:square;stroke-linejoin:miter;stroke-width:0.8;\"/>\n   </g>\n   <g id=\"patch_11\">\n    <path d=\"M 92.479245 22.318125 \nL 163.545283 22.318125 \n\" style=\"fill:none;stroke:#000000;stroke-linecap:square;stroke-linejoin:miter;stroke-width:0.8;\"/>\n   </g>\n   <g id=\"text_2\">\n    <!-- t-shirt -->\n    <defs>\n     <path d=\"M 4.890625 31.390625 \nL 31.203125 31.390625 \nL 31.203125 23.390625 \nL 4.890625 23.390625 \nz\n\" id=\"DejaVuSans-45\"/>\n     <path d=\"M 44.28125 53.078125 \nL 44.28125 44.578125 \nQ 40.484375 46.53125 36.375 47.5 \nQ 32.28125 48.484375 27.875 48.484375 \nQ 21.1875 48.484375 17.84375 46.4375 \nQ 14.5 44.390625 14.5 40.28125 \nQ 14.5 37.15625 16.890625 35.375 \nQ 19.28125 33.59375 26.515625 31.984375 \nL 29.59375 31.296875 \nQ 39.15625 29.25 43.1875 25.515625 \nQ 47.21875 21.78125 47.21875 15.09375 \nQ 47.21875 7.46875 41.1875 3.015625 \nQ 35.15625 -1.421875 24.609375 -1.421875 \nQ 20.21875 -1.421875 15.453125 -0.5625 \nQ 10.6875 0.296875 5.421875 2 \nL 5.421875 11.28125 \nQ 10.40625 8.6875 15.234375 7.390625 \nQ 20.0625 6.109375 24.8125 6.109375 \nQ 31.15625 6.109375 34.5625 8.28125 \nQ 37.984375 10.453125 37.984375 14.40625 \nQ 37.984375 18.0625 35.515625 20.015625 \nQ 33.0625 21.96875 24.703125 23.78125 \nL 21.578125 24.515625 \nQ 13.234375 26.265625 9.515625 29.90625 \nQ 5.8125 33.546875 5.8125 39.890625 \nQ 5.8125 47.609375 11.28125 51.796875 \nQ 16.75 56 26.8125 56 \nQ 31.78125 56 36.171875 55.265625 \nQ 40.578125 54.546875 44.28125 53.078125 \nz\n\" id=\"DejaVuSans-115\"/>\n     <path d=\"M 54.890625 33.015625 \nL 54.890625 0 \nL 45.90625 0 \nL 45.90625 32.71875 \nQ 45.90625 40.484375 42.875 44.328125 \nQ 39.84375 48.1875 33.796875 48.1875 \nQ 26.515625 48.1875 22.3125 43.546875 \nQ 18.109375 38.921875 18.109375 30.90625 \nL 18.109375 0 \nL 9.078125 0 \nL 9.078125 75.984375 \nL 18.109375 75.984375 \nL 18.109375 46.1875 \nQ 21.34375 51.125 25.703125 53.5625 \nQ 30.078125 56 35.796875 56 \nQ 45.21875 56 50.046875 50.171875 \nQ 54.890625 44.34375 54.890625 33.015625 \nz\n\" id=\"DejaVuSans-104\"/>\n     <path d=\"M 9.421875 54.6875 \nL 18.40625 54.6875 \nL 18.40625 0 \nL 9.421875 0 \nz\nM 9.421875 75.984375 \nL 18.40625 75.984375 \nL 18.40625 64.59375 \nL 9.421875 64.59375 \nz\n\" id=\"DejaVuSans-105\"/>\n     <path d=\"M 41.109375 46.296875 \nQ 39.59375 47.171875 37.8125 47.578125 \nQ 36.03125 48 33.890625 48 \nQ 26.265625 48 22.1875 43.046875 \nQ 18.109375 38.09375 18.109375 28.8125 \nL 18.109375 0 \nL 9.078125 0 \nL 9.078125 54.6875 \nL 18.109375 54.6875 \nL 18.109375 46.1875 \nQ 20.953125 51.171875 25.484375 53.578125 \nQ 30.03125 56 36.53125 56 \nQ 37.453125 56 38.578125 55.875 \nQ 39.703125 55.765625 41.0625 55.515625 \nz\n\" id=\"DejaVuSans-114\"/>\n    </defs>\n    <g transform=\"translate(110.081639 16.318125)scale(0.12 -0.12)\">\n     <use xlink:href=\"#DejaVuSans-116\"/>\n     <use x=\"39.208984\" xlink:href=\"#DejaVuSans-45\"/>\n     <use x=\"75.292969\" xlink:href=\"#DejaVuSans-115\"/>\n     <use x=\"127.392578\" xlink:href=\"#DejaVuSans-104\"/>\n     <use x=\"190.771484\" xlink:href=\"#DejaVuSans-105\"/>\n     <use x=\"218.554688\" xlink:href=\"#DejaVuSans-114\"/>\n     <use x=\"259.667969\" xlink:href=\"#DejaVuSans-116\"/>\n    </g>\n   </g>\n  </g>\n  <g id=\"axes_3\">\n   <g id=\"patch_12\">\n    <path d=\"M 177.758491 93.384163 \nL 248.824528 93.384163 \nL 248.824528 22.318125 \nL 177.758491 22.318125 \nz\n\" style=\"fill:#ffffff;\"/>\n   </g>\n   <g clip-path=\"url(#paaa8efc52b)\">\n    <image height=\"72\" id=\"imagec8f7394e39\" transform=\"scale(1 -1)translate(0 -72)\" width=\"72\" x=\"177.758491\" xlink:href=\"data:image/png;base64,\niVBORw0KGgoAAAANSUhEUgAAAEgAAABICAYAAABV7bNHAAAABHNCSVQICAgIfAhkiAAABMhJREFUeJztnLtvFFcUxr/ZB17Wi9HaYIgS5EgoRQIRIVWkCFFAT0FSpkiaKFUKKrr8E2lAilDadAiloo9EkSIFGKUAYkhIZAtr8a73MTuT4r7OaI85+5jrSNH5NTM6s3NnfO93zj1zH06uJp/lKJskMcf8zUXX3joNAEg31r1t0F4Kxdjbj251vC1/+hwAkHW7Bz93imdPS6WUUv7HaAUJ1KKUauVdWV72pt1rHwIA9k+ENhnZyzlppsqYKe7jNX+ejM1560Xmbat3HwIAxp0OykYVJJDECNLVlRUAwB/fnA8Psg1e22duCGJAJQ2vkzBvllXNsX8iBGRX9satx9423t6Z7aUPQBUkoBUkECVIv77yPoAgfQBY2jX+4lzE/MAeSGDOyXXnYZV08hnNl8H/Ri1TUP+jd72tfl9d7FCIoqC0YVq0Mgq23KqFduPORlUDJjCP6zQgmx/Q1KC+Z2xpKxRUn/21WVRBAlpBAlFcrLXVBwD0TjW9zQds+j3pmkfIxJxbFWzElNm/oncyuNjRaV9WQBUkEEVB1YGNxEQtrpVp1z8P3P2ZDeKrm/3FCmdQBQloBQlEcbFkMGKM5pCX1CQ5dV+b9NReD8L1ch6jCpLQChKI42Ij24sRnbsP0sJnhWMGf8hqxrcSMijvXAwL9pAcqiCBqEGa5iwu8y2IZYFImldJlHYfwr0QpJmh7blQBQloBQlEnfYpjA46j6CB27pgITcinhPuJeNBruzCV6897rya733fgCpIII6C0hlDJKOawmXSpXs10Q7APW7IZPALogoS0AoSiBqkCwHZmTh3ovmQ4G6hvMmb8nFZ2U9AFSQQRUF5t2dOaE/MdPPc0EdhEpG7bgugXb97TravI4qHjlaQQBwXSycn06cdSWSzauajlk4F+Q/XTIP0oaMVJBBnPMj2MEn5ive9V61f/uplDlWQQBwFNc3M+DisCQ9LYbiGp9lzPnlORyZdEKfLaIYrk6tq2YXmc6AKEtAKEoizwuzl3wCAZHw2GNlcxl7ipoIINDdyH6lpI9hqXeOjZbkVRRUkEGe4w8ItVaHBNWOUwwXkwv02SXfrIAGgsROvy1cFCWgFCRyai6VN4xJuQTkQ9r/R9YbsiCNjY3OsCKiCBOIqiIx6JC4gMxOHhWBOAzcT5J3C6D3cHrOyUAUJaAUJRHWxI3tkR449LeRB9njQXg1uQx3nltXyx+o9qiABrSCByHkQXXRg2iKrTvpNYzf4C92zOmpW7JFZ6kJM9J6yUQUJRFWQW5FKaW6HKO0U1jkTXoPuZl55apR17HlIqHonzW8LGfeU8/nzoAoS0AoSiOpibjcyADT/Me7S2QiPvPrVLwCAc80X3rZa3fPnj/pvAwDubH7ibes/mgmBQZu8esQZIFWQQFQFVYahadMlo6bLXz7wtkvHzL+SuNTY9rZ2NWzjPFv/DQBw/uKWt93IPwcArP0UfjdsxWtnVZCAVpBAnD2r7TYAYHg8BOkvvv0ZAPAqDbOfd/76FADw/SgMD3ZHR/z56WXz/4CO18PX6HcX7gEAbnaue9vqA3Wx/4wo/z/IUds4489///odAMB7t//0tvTJs5nLzC5fBADsfBBmDtd/+BUAkA8G7D2LoAoS0AoS+Beq11IJozehuQAAAABJRU5ErkJggg==\" y=\"-21.384163\"/>\n   </g>\n   <g id=\"patch_13\">\n    <path d=\"M 177.758491 93.384163 \nL 177.758491 22.318125 \n\" style=\"fill:none;stroke:#000000;stroke-linecap:square;stroke-linejoin:miter;stroke-width:0.8;\"/>\n   </g>\n   <g id=\"patch_14\">\n    <path d=\"M 248.824528 93.384163 \nL 248.824528 22.318125 \n\" style=\"fill:none;stroke:#000000;stroke-linecap:square;stroke-linejoin:miter;stroke-width:0.8;\"/>\n   </g>\n   <g id=\"patch_15\">\n    <path d=\"M 177.758491 93.384163 \nL 248.824528 93.384163 \n\" style=\"fill:none;stroke:#000000;stroke-linecap:square;stroke-linejoin:miter;stroke-width:0.8;\"/>\n   </g>\n   <g id=\"patch_16\">\n    <path d=\"M 177.758491 22.318125 \nL 248.824528 22.318125 \n\" style=\"fill:none;stroke:#000000;stroke-linecap:square;stroke-linejoin:miter;stroke-width:0.8;\"/>\n   </g>\n   <g id=\"text_3\">\n    <!-- t-shirt -->\n    <g transform=\"translate(195.360884 16.318125)scale(0.12 -0.12)\">\n     <use xlink:href=\"#DejaVuSans-116\"/>\n     <use x=\"39.208984\" xlink:href=\"#DejaVuSans-45\"/>\n     <use x=\"75.292969\" xlink:href=\"#DejaVuSans-115\"/>\n     <use x=\"127.392578\" xlink:href=\"#DejaVuSans-104\"/>\n     <use x=\"190.771484\" xlink:href=\"#DejaVuSans-105\"/>\n     <use x=\"218.554688\" xlink:href=\"#DejaVuSans-114\"/>\n     <use x=\"259.667969\" xlink:href=\"#DejaVuSans-116\"/>\n    </g>\n   </g>\n  </g>\n  <g id=\"axes_4\">\n   <g id=\"patch_17\">\n    <path d=\"M 263.037736 93.384163 \nL 334.103774 93.384163 \nL 334.103774 22.318125 \nL 263.037736 22.318125 \nz\n\" style=\"fill:#ffffff;\"/>\n   </g>\n   <g clip-path=\"url(#p53f1252f03)\">\n    <image height=\"72\" id=\"image30708df4e9\" transform=\"scale(1 -1)translate(0 -72)\" width=\"72\" x=\"263.037736\" xlink:href=\"data:image/png;base64,\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\" y=\"-21.384163\"/>\n   </g>\n   <g id=\"patch_18\">\n    <path d=\"M 263.037736 93.384163 \nL 263.037736 22.318125 \n\" style=\"fill:none;stroke:#000000;stroke-linecap:square;stroke-linejoin:miter;stroke-width:0.8;\"/>\n   </g>\n   <g id=\"patch_19\">\n    <path d=\"M 334.103774 93.384163 \nL 334.103774 22.318125 \n\" style=\"fill:none;stroke:#000000;stroke-linecap:square;stroke-linejoin:miter;stroke-width:0.8;\"/>\n   </g>\n   <g id=\"patch_20\">\n    <path d=\"M 263.037736 93.384163 \nL 334.103774 93.384163 \n\" style=\"fill:none;stroke:#000000;stroke-linecap:square;stroke-linejoin:miter;stroke-width:0.8;\"/>\n   </g>\n   <g id=\"patch_21\">\n    <path d=\"M 263.037736 22.318125 \nL 334.103774 22.318125 \n\" style=\"fill:none;stroke:#000000;stroke-linecap:square;stroke-linejoin:miter;stroke-width:0.8;\"/>\n   </g>\n   <g id=\"text_4\">\n    <!-- dress -->\n    <defs>\n     <path d=\"M 45.40625 46.390625 \nL 45.40625 75.984375 \nL 54.390625 75.984375 \nL 54.390625 0 \nL 45.40625 0 \nL 45.40625 8.203125 \nQ 42.578125 3.328125 38.25 0.953125 \nQ 33.9375 -1.421875 27.875 -1.421875 \nQ 17.96875 -1.421875 11.734375 6.484375 \nQ 5.515625 14.40625 5.515625 27.296875 \nQ 5.515625 40.1875 11.734375 48.09375 \nQ 17.96875 56 27.875 56 \nQ 33.9375 56 38.25 53.625 \nQ 42.578125 51.265625 45.40625 46.390625 \nz\nM 14.796875 27.296875 \nQ 14.796875 17.390625 18.875 11.75 \nQ 22.953125 6.109375 30.078125 6.109375 \nQ 37.203125 6.109375 41.296875 11.75 \nQ 45.40625 17.390625 45.40625 27.296875 \nQ 45.40625 37.203125 41.296875 42.84375 \nQ 37.203125 48.484375 30.078125 48.484375 \nQ 22.953125 48.484375 18.875 42.84375 \nQ 14.796875 37.203125 14.796875 27.296875 \nz\n\" id=\"DejaVuSans-100\"/>\n    </defs>\n    <g transform=\"translate(282.35388 16.318125)scale(0.12 -0.12)\">\n     <use xlink:href=\"#DejaVuSans-100\"/>\n     <use x=\"63.476562\" xlink:href=\"#DejaVuSans-114\"/>\n     <use x=\"104.558594\" xlink:href=\"#DejaVuSans-101\"/>\n     <use x=\"166.082031\" xlink:href=\"#DejaVuSans-115\"/>\n     <use x=\"218.181641\" xlink:href=\"#DejaVuSans-115\"/>\n    </g>\n   </g>\n  </g>\n  <g id=\"axes_5\">\n   <g id=\"patch_22\">\n    <path d=\"M 348.316981 93.384163 \nL 419.383019 93.384163 \nL 419.383019 22.318125 \nL 348.316981 22.318125 \nz\n\" style=\"fill:#ffffff;\"/>\n   </g>\n   <g clip-path=\"url(#pafb559a6e9)\">\n    <image height=\"72\" id=\"image54cc9d03d3\" transform=\"scale(1 -1)translate(0 -72)\" width=\"72\" x=\"348.316981\" xlink:href=\"data:image/png;base64,\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\" y=\"-21.384163\"/>\n   </g>\n   <g id=\"patch_23\">\n    <path d=\"M 348.316981 93.384163 \nL 348.316981 22.318125 \n\" style=\"fill:none;stroke:#000000;stroke-linecap:square;stroke-linejoin:miter;stroke-width:0.8;\"/>\n   </g>\n   <g id=\"patch_24\">\n    <path d=\"M 419.383019 93.384163 \nL 419.383019 22.318125 \n\" style=\"fill:none;stroke:#000000;stroke-linecap:square;stroke-linejoin:miter;stroke-width:0.8;\"/>\n   </g>\n   <g id=\"patch_25\">\n    <path d=\"M 348.316981 93.384163 \nL 419.383019 93.384163 \n\" style=\"fill:none;stroke:#000000;stroke-linecap:square;stroke-linejoin:miter;stroke-width:0.8;\"/>\n   </g>\n   <g id=\"patch_26\">\n    <path d=\"M 348.316981 22.318125 \nL 419.383019 22.318125 \n\" style=\"fill:none;stroke:#000000;stroke-linecap:square;stroke-linejoin:miter;stroke-width:0.8;\"/>\n   </g>\n   <g id=\"text_5\">\n    <!-- t-shirt -->\n    <g transform=\"translate(365.919375 16.318125)scale(0.12 -0.12)\">\n     <use xlink:href=\"#DejaVuSans-116\"/>\n     <use x=\"39.208984\" xlink:href=\"#DejaVuSans-45\"/>\n     <use x=\"75.292969\" xlink:href=\"#DejaVuSans-115\"/>\n     <use x=\"127.392578\" xlink:href=\"#DejaVuSans-104\"/>\n     <use x=\"190.771484\" xlink:href=\"#DejaVuSans-105\"/>\n     <use x=\"218.554688\" xlink:href=\"#DejaVuSans-114\"/>\n     <use x=\"259.667969\" xlink:href=\"#DejaVuSans-116\"/>\n    </g>\n   </g>\n  </g>\n  <g id=\"axes_6\">\n   <g id=\"patch_27\">\n    <path d=\"M 433.596226 93.384163 \nL 504.662264 93.384163 \nL 504.662264 22.318125 \nL 433.596226 22.318125 \nz\n\" style=\"fill:#ffffff;\"/>\n   </g>\n   <g clip-path=\"url(#p75a8062a81)\">\n    <image height=\"72\" id=\"imagef491ea434c\" transform=\"scale(1 -1)translate(0 -72)\" width=\"72\" x=\"433.596226\" xlink:href=\"data:image/png;base64,\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\" y=\"-21.384163\"/>\n   </g>\n   <g id=\"patch_28\">\n    <path d=\"M 433.596226 93.384163 \nL 433.596226 22.318125 \n\" style=\"fill:none;stroke:#000000;stroke-linecap:square;stroke-linejoin:miter;stroke-width:0.8;\"/>\n   </g>\n   <g id=\"patch_29\">\n    <path d=\"M 504.662264 93.384163 \nL 504.662264 22.318125 \n\" style=\"fill:none;stroke:#000000;stroke-linecap:square;stroke-linejoin:miter;stroke-width:0.8;\"/>\n   </g>\n   <g id=\"patch_30\">\n    <path d=\"M 433.596226 93.384163 \nL 504.662264 93.384163 \n\" style=\"fill:none;stroke:#000000;stroke-linecap:square;stroke-linejoin:miter;stroke-width:0.8;\"/>\n   </g>\n   <g id=\"patch_31\">\n    <path d=\"M 433.596226 22.318125 \nL 504.662264 22.318125 \n\" style=\"fill:none;stroke:#000000;stroke-linecap:square;stroke-linejoin:miter;stroke-width:0.8;\"/>\n   </g>\n   <g id=\"text_6\">\n    <!-- pullover -->\n    <defs>\n     <path d=\"M 18.109375 8.203125 \nL 18.109375 -20.796875 \nL 9.078125 -20.796875 \nL 9.078125 54.6875 \nL 18.109375 54.6875 \nL 18.109375 46.390625 \nQ 20.953125 51.265625 25.265625 53.625 \nQ 29.59375 56 35.59375 56 \nQ 45.5625 56 51.78125 48.09375 \nQ 58.015625 40.1875 58.015625 27.296875 \nQ 58.015625 14.40625 51.78125 6.484375 \nQ 45.5625 -1.421875 35.59375 -1.421875 \nQ 29.59375 -1.421875 25.265625 0.953125 \nQ 20.953125 3.328125 18.109375 8.203125 \nz\nM 48.6875 27.296875 \nQ 48.6875 37.203125 44.609375 42.84375 \nQ 40.53125 48.484375 33.40625 48.484375 \nQ 26.265625 48.484375 22.1875 42.84375 \nQ 18.109375 37.203125 18.109375 27.296875 \nQ 18.109375 17.390625 22.1875 11.75 \nQ 26.265625 6.109375 33.40625 6.109375 \nQ 40.53125 6.109375 44.609375 11.75 \nQ 48.6875 17.390625 48.6875 27.296875 \nz\n\" id=\"DejaVuSans-112\"/>\n     <path d=\"M 8.5 21.578125 \nL 8.5 54.6875 \nL 17.484375 54.6875 \nL 17.484375 21.921875 \nQ 17.484375 14.15625 20.5 10.265625 \nQ 23.53125 6.390625 29.59375 6.390625 \nQ 36.859375 6.390625 41.078125 11.03125 \nQ 45.3125 15.671875 45.3125 23.6875 \nL 45.3125 54.6875 \nL 54.296875 54.6875 \nL 54.296875 0 \nL 45.3125 0 \nL 45.3125 8.40625 \nQ 42.046875 3.421875 37.71875 1 \nQ 33.40625 -1.421875 27.6875 -1.421875 \nQ 18.265625 -1.421875 13.375 4.4375 \nQ 8.5 10.296875 8.5 21.578125 \nz\nM 31.109375 56 \nz\n\" id=\"DejaVuSans-117\"/>\n     <path d=\"M 2.984375 54.6875 \nL 12.5 54.6875 \nL 29.59375 8.796875 \nL 46.6875 54.6875 \nL 56.203125 54.6875 \nL 35.6875 0 \nL 23.484375 0 \nz\n\" id=\"DejaVuSans-118\"/>\n    </defs>\n    <g transform=\"translate(444.802995 16.318125)scale(0.12 -0.12)\">\n     <use xlink:href=\"#DejaVuSans-112\"/>\n     <use x=\"63.476562\" xlink:href=\"#DejaVuSans-117\"/>\n     <use x=\"126.855469\" xlink:href=\"#DejaVuSans-108\"/>\n     <use x=\"154.638672\" xlink:href=\"#DejaVuSans-108\"/>\n     <use x=\"182.421875\" xlink:href=\"#DejaVuSans-111\"/>\n     <use x=\"243.603516\" xlink:href=\"#DejaVuSans-118\"/>\n     <use x=\"302.783203\" xlink:href=\"#DejaVuSans-101\"/>\n     <use x=\"364.306641\" xlink:href=\"#DejaVuSans-114\"/>\n    </g>\n   </g>\n  </g>\n  <g id=\"axes_7\">\n   <g id=\"patch_32\">\n    <path d=\"M 518.875472 93.384163 \nL 589.941509 93.384163 \nL 589.941509 22.318125 \nL 518.875472 22.318125 \nz\n\" style=\"fill:#ffffff;\"/>\n   </g>\n   <g clip-path=\"url(#pf4e9402638)\">\n    <image height=\"72\" id=\"image9b79246ec1\" transform=\"scale(1 -1)translate(0 -72)\" width=\"72\" x=\"518.875472\" xlink:href=\"data:image/png;base64,\niVBORw0KGgoAAAANSUhEUgAAAEgAAABICAYAAABV7bNHAAAABHNCSVQICAgIfAhkiAAABVtJREFUeJztWklsHEUUfb3M9Hjs8RJbNoljOWACCcZyEiFZQIJYQlCCQAhyyIkcfIgESJy4oIgLnCAHhJAACXHigIxAQhHkxHIJllhyACWChMRbYjuGkPGMx56lFw7VXb9HPfY3jgJI/HeZ6tdVv2te///rV80Y+43DAQSrwvy3J/BfhwjEQARiIAIxEIEYiEAMRCAGIhADEYiBCMRABGIgAjEQgRiIQAxEIAYiEAMRiIG9kUFmLgcAMJy05gybTAW5ZvXZRPeDdPJRga3eT2AaZMf1k/0seo9BWrWNKvWz88vhYLITpKzks+O2w2fHObOo7Hi/TRCXmI2gDiIQgzq/t9rbAADGpg7Nxd0/glFz1b3CEpGZmKl8UfXLE2XaocsHsd8ILMUF2UxsRrHQcFIAAJ8iFb6h7tfaiVzeosZXc/S+/VTs2bWQi03RzarvlSrSfKyaSh2tPW00FoI1YVs93XRVqQAA3EuTiY5mNqvb/uAAAOD6A1s1V+wnTytv9gAAgeORgei2GfMgX5H2NXrddonsOH+Gn3kak8l74b2q5ppm1bzN4kpi3gAQZEJvM5LRgNkF3fTyocvHvFw8iIEIxMCGT+60MrIdADB3fyzD7VCJeFfvFU3dnfseANCdKmiu2azodjnMkCnD1VzaUKExkpnRXC2Mu4xBc2gzKUlnjXRoh7gI0y4tEDOuCv+8T2mg5Du67QfKD353WzUXze3c8hbN9TrK5ufHH9KceBADe/LYdn2x59A5AMCwQ2/Hgqo0C26T5v6otQAAplY6NWcaVJE2WbW6sQAwV1ZL56fBHs1lwn6uTx6yKb2csNmRIm7JJc+I0JkqAQByVllzce8tB6lwPuSpi162bq4A0GErOzMHybZ4EAMRiIHd99q3+mL+tHL/7w6QG1u3q3BrcqjuGO6eBQD0ZqhULrhUDc+uqHC6tfma5rZlVbsrReHrhCXuXLVdc/EwiUJs0aXkWwkXgEIs1K5WWuv6A8DR7tP0HcLQ6rdpUfmitBMAcL7UE+uX3CiLBzEwbuQPVNOv3KfbLxw5qdv7shcAAKeKQ5qbKquEvuJRCTHSeilhsxYkj0UWPVogJpa7FFcjj92aVZ7cYVMy//rqHbrtHJhM2Lz4xr0AgPeffk9zJ/O7AADnRndoTjyIgQjEoHGIxTZ1RnQk4bqJbquhdHgEADD3FCX2U/veBgCcKdMG98v8XQDqwy5K5gCwOa1CZ6FGFfB8mJD7Mtc1dybfBwAYbqNq/7HczzTGU4vGO9MP0iQfnQMAWC3NmjI6VD93iqp98SAGIhADfhWLNo8+ne2YGbWC+OVyoxENEZ07/XqiV3Of7H0XAHDFoxO8bwo7dTuqrVos2ghHW4OxX3ZrbnRwHADwwWf7Nbft+Lhu2/0qBCee7dPcD8feBAA88/hRzVU7Vb1lf/Wj5sSDGNxQHbS61TDJB2ubNnYPAgAuHqEkfNs9lCDH7vwYAPBhgWqan5ZUkp8p0bn5we6zAIBDLWc191z/3jWfPf+iquFueXKayEcuJ/qJBzEQgRjcnBBr+KT1hV0cC8+rMMgPUQ124uGPAADzLiX2JU8l87FJStxdT5xf03a00Fx4lcYMvDSe7Lfu2f5P8c95UKOHp9SZc1CrMj2TuPwybZTfGlUbztcHhlbrvmGIBzEQgRjc3BBr9EtmLElHf5kJPK/x/fWGYINqn52ao04kg2rMdoMFRDyIwYb+QLVuMEs6d4Sy7uT9NzxH265U+E4QD2IhAjEQgRiIQAxEIAYiEAMRiIEIxEAEYiACMRCBGIhADEQgBiIQAxGIgQjEQARiIAIxEIEYiEAM/gKyMXUxs6vQWwAAAABJRU5ErkJggg==\" y=\"-21.384163\"/>\n   </g>\n   <g id=\"patch_33\">\n    <path d=\"M 518.875472 93.384163 \nL 518.875472 22.318125 \n\" style=\"fill:none;stroke:#000000;stroke-linecap:square;stroke-linejoin:miter;stroke-width:0.8;\"/>\n   </g>\n   <g id=\"patch_34\">\n    <path d=\"M 589.941509 93.384163 \nL 589.941509 22.318125 \n\" style=\"fill:none;stroke:#000000;stroke-linecap:square;stroke-linejoin:miter;stroke-width:0.8;\"/>\n   </g>\n   <g id=\"patch_35\">\n    <path d=\"M 518.875472 93.384163 \nL 589.941509 93.384163 \n\" style=\"fill:none;stroke:#000000;stroke-linecap:square;stroke-linejoin:miter;stroke-width:0.8;\"/>\n   </g>\n   <g id=\"patch_36\">\n    <path d=\"M 518.875472 22.318125 \nL 589.941509 22.318125 \n\" style=\"fill:none;stroke:#000000;stroke-linecap:square;stroke-linejoin:miter;stroke-width:0.8;\"/>\n   </g>\n   <g id=\"text_7\">\n    <!-- sneaker -->\n    <g transform=\"translate(530.481616 16.318125)scale(0.12 -0.12)\">\n     <use xlink:href=\"#DejaVuSans-115\"/>\n     <use x=\"52.099609\" xlink:href=\"#DejaVuSans-110\"/>\n     <use x=\"115.478516\" xlink:href=\"#DejaVuSans-101\"/>\n     <use x=\"177.001953\" xlink:href=\"#DejaVuSans-97\"/>\n     <use x=\"238.28125\" xlink:href=\"#DejaVuSans-107\"/>\n     <use x=\"296.144531\" xlink:href=\"#DejaVuSans-101\"/>\n     <use x=\"357.667969\" xlink:href=\"#DejaVuSans-114\"/>\n    </g>\n   </g>\n  </g>\n  <g id=\"axes_8\">\n   <g id=\"patch_37\">\n    <path d=\"M 604.154717 93.384163 \nL 675.220755 93.384163 \nL 675.220755 22.318125 \nL 604.154717 22.318125 \nz\n\" style=\"fill:#ffffff;\"/>\n   </g>\n   <g clip-path=\"url(#pae67bc5792)\">\n    <image height=\"72\" id=\"image998cf1cba9\" transform=\"scale(1 -1)translate(0 -72)\" width=\"72\" x=\"604.154717\" xlink:href=\"data:image/png;base64,\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\" y=\"-21.384163\"/>\n   </g>\n   <g id=\"patch_38\">\n    <path d=\"M 604.154717 93.384163 \nL 604.154717 22.318125 \n\" style=\"fill:none;stroke:#000000;stroke-linecap:square;stroke-linejoin:miter;stroke-width:0.8;\"/>\n   </g>\n   <g id=\"patch_39\">\n    <path d=\"M 675.220755 93.384163 \nL 675.220755 22.318125 \n\" style=\"fill:none;stroke:#000000;stroke-linecap:square;stroke-linejoin:miter;stroke-width:0.8;\"/>\n   </g>\n   <g id=\"patch_40\">\n    <path d=\"M 604.154717 93.384163 \nL 675.220755 93.384163 \n\" style=\"fill:none;stroke:#000000;stroke-linecap:square;stroke-linejoin:miter;stroke-width:0.8;\"/>\n   </g>\n   <g id=\"patch_41\">\n    <path d=\"M 604.154717 22.318125 \nL 675.220755 22.318125 \n\" style=\"fill:none;stroke:#000000;stroke-linecap:square;stroke-linejoin:miter;stroke-width:0.8;\"/>\n   </g>\n   <g id=\"text_8\">\n    <!-- pullover -->\n    <g transform=\"translate(615.361486 16.318125)scale(0.12 -0.12)\">\n     <use xlink:href=\"#DejaVuSans-112\"/>\n     <use x=\"63.476562\" xlink:href=\"#DejaVuSans-117\"/>\n     <use x=\"126.855469\" xlink:href=\"#DejaVuSans-108\"/>\n     <use x=\"154.638672\" xlink:href=\"#DejaVuSans-108\"/>\n     <use x=\"182.421875\" xlink:href=\"#DejaVuSans-111\"/>\n     <use x=\"243.603516\" xlink:href=\"#DejaVuSans-118\"/>\n     <use x=\"302.783203\" xlink:href=\"#DejaVuSans-101\"/>\n     <use x=\"364.306641\" xlink:href=\"#DejaVuSans-114\"/>\n    </g>\n   </g>\n  </g>\n  <g id=\"axes_9\">\n   <g id=\"patch_42\">\n    <path d=\"M 689.433962 93.384163 \nL 760.5 93.384163 \nL 760.5 22.318125 \nL 689.433962 22.318125 \nz\n\" style=\"fill:#ffffff;\"/>\n   </g>\n   <g clip-path=\"url(#pf2b7e23f6b)\">\n    <image height=\"72\" id=\"imagedd3038889d\" transform=\"scale(1 -1)translate(0 -72)\" width=\"72\" x=\"689.433962\" xlink:href=\"data:image/png;base64,\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\" y=\"-21.384163\"/>\n   </g>\n   <g id=\"patch_43\">\n    <path d=\"M 689.433962 93.384163 \nL 689.433962 22.318125 \n\" style=\"fill:none;stroke:#000000;stroke-linecap:square;stroke-linejoin:miter;stroke-width:0.8;\"/>\n   </g>\n   <g id=\"patch_44\">\n    <path d=\"M 760.5 93.384163 \nL 760.5 22.318125 \n\" style=\"fill:none;stroke:#000000;stroke-linecap:square;stroke-linejoin:miter;stroke-width:0.8;\"/>\n   </g>\n   <g id=\"patch_45\">\n    <path d=\"M 689.433962 93.384163 \nL 760.5 93.384163 \n\" style=\"fill:none;stroke:#000000;stroke-linecap:square;stroke-linejoin:miter;stroke-width:0.8;\"/>\n   </g>\n   <g id=\"patch_46\">\n    <path d=\"M 689.433962 22.318125 \nL 760.5 22.318125 \n\" style=\"fill:none;stroke:#000000;stroke-linecap:square;stroke-linejoin:miter;stroke-width:0.8;\"/>\n   </g>\n   <g id=\"text_9\">\n    <!-- sandal -->\n    <g transform=\"translate(705.209169 16.318125)scale(0.12 -0.12)\">\n     <use xlink:href=\"#DejaVuSans-115\"/>\n     <use x=\"52.099609\" xlink:href=\"#DejaVuSans-97\"/>\n     <use x=\"113.378906\" xlink:href=\"#DejaVuSans-110\"/>\n     <use x=\"176.757812\" xlink:href=\"#DejaVuSans-100\"/>\n     <use x=\"240.234375\" xlink:href=\"#DejaVuSans-97\"/>\n     <use x=\"301.513672\" xlink:href=\"#DejaVuSans-108\"/>\n    </g>\n   </g>\n  </g>\n  <g id=\"axes_10\">\n   <g id=\"patch_47\">\n    <path d=\"M 7.2 182.33689 \nL 78.266038 182.33689 \nL 78.266038 111.270852 \nL 7.2 111.270852 \nz\n\" style=\"fill:#ffffff;\"/>\n   </g>\n   <g clip-path=\"url(#p8b0c4e191a)\">\n    <image height=\"72\" id=\"image78e8c048fa\" transform=\"scale(1 -1)translate(0 -72)\" width=\"72\" x=\"7.2\" xlink:href=\"data:image/png;base64,\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\" y=\"-110.33689\"/>\n   </g>\n   <g id=\"patch_48\">\n    <path d=\"M 7.2 182.33689 \nL 7.2 111.270852 \n\" style=\"fill:none;stroke:#000000;stroke-linecap:square;stroke-linejoin:miter;stroke-width:0.8;\"/>\n   </g>\n   <g id=\"patch_49\">\n    <path d=\"M 78.266038 182.33689 \nL 78.266038 111.270852 \n\" style=\"fill:none;stroke:#000000;stroke-linecap:square;stroke-linejoin:miter;stroke-width:0.8;\"/>\n   </g>\n   <g id=\"patch_50\">\n    <path d=\"M 7.2 182.33689 \nL 78.266038 182.33689 \n\" style=\"fill:none;stroke:#000000;stroke-linecap:square;stroke-linejoin:miter;stroke-width:0.8;\"/>\n   </g>\n   <g id=\"patch_51\">\n    <path d=\"M 7.2 111.270852 \nL 78.266038 111.270852 \n\" style=\"fill:none;stroke:#000000;stroke-linecap:square;stroke-linejoin:miter;stroke-width:0.8;\"/>\n   </g>\n   <g id=\"text_10\">\n    <!-- sandal -->\n    <g transform=\"translate(22.975206 105.270852)scale(0.12 -0.12)\">\n     <use xlink:href=\"#DejaVuSans-115\"/>\n     <use x=\"52.099609\" xlink:href=\"#DejaVuSans-97\"/>\n     <use x=\"113.378906\" xlink:href=\"#DejaVuSans-110\"/>\n     <use x=\"176.757812\" xlink:href=\"#DejaVuSans-100\"/>\n     <use x=\"240.234375\" xlink:href=\"#DejaVuSans-97\"/>\n     <use x=\"301.513672\" xlink:href=\"#DejaVuSans-108\"/>\n    </g>\n   </g>\n  </g>\n  <g id=\"axes_11\">\n   <g id=\"patch_52\">\n    <path d=\"M 92.479245 182.33689 \nL 163.545283 182.33689 \nL 163.545283 111.270852 \nL 92.479245 111.270852 \nz\n\" style=\"fill:#ffffff;\"/>\n   </g>\n   <g clip-path=\"url(#p678e36856b)\">\n    <image height=\"72\" id=\"imageeee4832a49\" transform=\"scale(1 -1)translate(0 -72)\" width=\"72\" x=\"92.479245\" xlink:href=\"data:image/png;base64,\niVBORw0KGgoAAAANSUhEUgAAAEgAAABICAYAAABV7bNHAAAABHNCSVQICAgIfAhkiAAACGFJREFUeJztXM1vJEcV//X09PTMeDzjD9nej+waduNEuzhoN9KKgDihSHDgQsQFKeKIFD7FgUjJJUggJFAEfwB3JA5wAhRBNhIQEj5EsllYvCRxvPHGa6893p31fHh6unuGw+uq95zpdfWOh1Pqd3H5dU1XTdV7r95XjfOk8+UBHhBOPg8AGESRpt34wad1uzcbAwD8nbymuQH9LdZ5OIe6oXPc0bTusVi3Z67kAACxz89bp+jzTAHcTvLfY01NO/PtHd2ONrcOzPvDcz8MuUy9PsKwC2RA3twlBa5LfwWbVi7s6vbZaWp3ooKmnanUAQD7MdOq+X0AwOdq/9G0JY/f8+xjTwEALk7d1LQX5qjvNzc+pWn/3ZsHAOTA4hstzvN8ExHT8/7Q3A+D5SADRuOgFDRWZ3T75qOkaHMO7+i16DgAYH2b+3kF2sXqUlfTNgr8/Or7JwEA128LblDjhSXdrrcmAAC1Er/H85lbjsIFloMMsAtkwNhErF/o67aXo3a752napbl1AMDN+pSmFQshAKAV+0xzerpdq3UAAF3xnkWflP1K65im5XI8tkJU4q+mjgVHKOmsxp/lIAPGxkFyqSsFMpt39iqaVkuOdM9jS9lJlPhmt6ZpQZ+npDgjDMXxnCDq84Cem/STNGfoIxjE8TDRAMtBBtgFMmA0EesPq7jy+/yqyjKJ2EB0u9Ul5Tw32dY0Zb9IrLeFnZSIjhTLtWAOAHA3KGtanIiWI+yuwj1W9ofN2wTLQQaMTUn7d3l39npFAAd3fr01Tf1c9oGiiPYn5/AxHQ14z4KQplcpBZq22iYOCiKeehQnYZE+a+aZ9To/f+Bvw7AcZIBdIAPGJmKz19hRvN2cBABUhfNY75BSXazd1bQ4IvumG7Ol3OiyE6pQ8kLd3tkn26ojrGulnPcDDqXEOyxiGoNhi9sEy0EG2AUyYDQRS2HVwrubut1skyM54bMtohzOdsiOqRKNlqBJ0ekP6FSScaV7QXF47DydlnGfz6tBEAz1s67G/wEjcdAgxSKN63d0e26aLORmlznD92h32yEr0ryndj59n5R9ozgJAMKEFsbDDmxrrTZEAwDkkr59y0Fjh10gA0Z0VhNWdZj1ByEr5O16FQDg+aw0JxJ3Ic1dbAmxk+KmXh8LEVMObLfHNL+YBP/fSd9vFUkcWBEbP45kSR+I8YpEnLdGR3F+eU/TgpCO78FgONTXE47n/RS2QjuxltXRLjG70h2iAQByKeHFjLAcZIBdIAOO5qw66et77HUSt70LLHatDtlErkjRqLTPvrCeJVTfbsjTzKekeFqJvTW9cU/TDgjgCBa0guUgA8aX9hEo32gAAAKPd7sRJPHnIocuFFdNlNhEkBay8sGkElf+XRrXxW+vps4nzfLPCstBBtgFMuBIIjaIwlS6ExBdVKAgl4ibckABwHWJ9aVYyVRRWrhDKeRCng+AJ0++AwD4930n+uCRRD3vkT/5EYFdIAOyi5hwTLWLIV0NEcGLaypjyllUlSOThQh+4sxGkTi5hJ2jREzaPp0unV4L81zyW8mrsdPtKekS6fnaGsXxIDsHCe2pV/8+u1B/nMIdZ8pbmradlMIM+rybipsEcyKX43GUcpYRRRXHni0yd6psK9BIn3pGbkmD5SAD7AIZMJId5J5/BADQ+hnbQZVv8Vo3zpMYvLl+StMmK1Rh1uvxkE5KmKYvChAGSQdV5AAAtUl6T9HlsXtJVVr+ONctrjy/qNvF4ySOi199j8fpdO7z7Q7CcpABmTno1vc+o9vhJTpif3LmN5p26eVt3f7K9acBAFuvn9C0yhMUipD5cwV5tEszQJkGfoGV7FQp4URRy/i3tx4GAFz85ZqmvbT4U93++e5nAQCv/frjmnb3VeK2Uz98bWg+B+Z26FMLu0AmZBax0o5wGNskJs9d/ZKmff3cn3R74wrdy+hXWXQ2dynrWfBZueaTFE4vlKW/PE6YKPRQOKvNAjmrB+obPXo+V2xp0o83P6/bf3yPRLCaHBQAMPeWtaTHgswcVN7hFV9YIIW72+BC8Rf/8gXdVoFE9xjvmLrZI4/2SpF8qJ5I4cg6QxVJ9Fx+ruLUKtcPANU54pzfv7msabkyPy9Xhis9KlduATDXL1oOMsAukAHZlfQHrADdAgXO78gUjIwEnqIM58I0hyTO1qhmUNYjpkUMpWOq6PJq54xPVrGfY7FrRqS4G1XO5H7Q4FtFKpv7sSku0Wnf5FvRh8FykAF2gQzILGL9f72t23GfnNCoKyJ4Igc2XSMxKIvy3XqXTjzpZCrRKYrq+7YQJ3WLuebzaajnI0Qxn1TqS1GdFCXIir5ym53Z07AiNhZkD3eI4iNtxYodK0+yreGm5M+DmIaSO7/boff4IoUjuUBdkJvw+N17cSnpx2Pc7kwOvbsjnGJ1GzpeZbstKywHGWAXyICRIortLRKN/FTKpTUAxURkXCEGzYBE46FJDqxXp4j1C8KmkdehlPLtiUD/VpvE5Nw0JwQU6vssQrJSTYntiT8/ePDecpABI3HQycukDOe/s6FpNxp8lbKYp6NcKtyHp8iSfry6rmknPLr58+reI5r2u2vscH5x+SoAYNbjFI8yE97Y5nj3ozMUzZTVsMsLfDViq01pKP+3/8jy9Q7AcpABdoEMcEb5iS6F1V9c0O3vXris20WHxOCve2c17RvzrwAA/t7lwPnLu+cAAP9cO61p/SZb5+oQeOaTHK2suZSuWfJZSV9ufgIAcLrAvz30hzvndfveM/TrMf2r1zN+M4blIAOOxEES7hTftFl5cQkA8NTFNzTtpV89AQB46EeHp1myov41/lG5xaffpXFfWdK0098fzziWgwywC2TA/wAwI82sRwJKoAAAAABJRU5ErkJggg==\" y=\"-110.33689\"/>\n   </g>\n   <g id=\"patch_53\">\n    <path d=\"M 92.479245 182.33689 \nL 92.479245 111.270852 \n\" style=\"fill:none;stroke:#000000;stroke-linecap:square;stroke-linejoin:miter;stroke-width:0.8;\"/>\n   </g>\n   <g id=\"patch_54\">\n    <path d=\"M 163.545283 182.33689 \nL 163.545283 111.270852 \n\" style=\"fill:none;stroke:#000000;stroke-linecap:square;stroke-linejoin:miter;stroke-width:0.8;\"/>\n   </g>\n   <g id=\"patch_55\">\n    <path d=\"M 92.479245 182.33689 \nL 163.545283 182.33689 \n\" style=\"fill:none;stroke:#000000;stroke-linecap:square;stroke-linejoin:miter;stroke-width:0.8;\"/>\n   </g>\n   <g id=\"patch_56\">\n    <path d=\"M 92.479245 111.270852 \nL 163.545283 111.270852 \n\" style=\"fill:none;stroke:#000000;stroke-linecap:square;stroke-linejoin:miter;stroke-width:0.8;\"/>\n   </g>\n   <g id=\"text_11\">\n    <!-- t-shirt -->\n    <g transform=\"translate(110.081639 105.270852)scale(0.12 -0.12)\">\n     <use xlink:href=\"#DejaVuSans-116\"/>\n     <use x=\"39.208984\" xlink:href=\"#DejaVuSans-45\"/>\n     <use x=\"75.292969\" xlink:href=\"#DejaVuSans-115\"/>\n     <use x=\"127.392578\" xlink:href=\"#DejaVuSans-104\"/>\n     <use x=\"190.771484\" xlink:href=\"#DejaVuSans-105\"/>\n     <use x=\"218.554688\" xlink:href=\"#DejaVuSans-114\"/>\n     <use x=\"259.667969\" xlink:href=\"#DejaVuSans-116\"/>\n    </g>\n   </g>\n  </g>\n  <g id=\"axes_12\">\n   <g id=\"patch_57\">\n    <path d=\"M 177.758491 182.33689 \nL 248.824528 182.33689 \nL 248.824528 111.270852 \nL 177.758491 111.270852 \nz\n\" style=\"fill:#ffffff;\"/>\n   </g>\n   <g clip-path=\"url(#p4e5da437a5)\">\n    <image height=\"72\" id=\"image6f0a79f448\" transform=\"scale(1 -1)translate(0 -72)\" width=\"72\" x=\"177.758491\" xlink:href=\"data:image/png;base64,\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\" y=\"-110.33689\"/>\n   </g>\n   <g id=\"patch_58\">\n    <path d=\"M 177.758491 182.33689 \nL 177.758491 111.270852 \n\" style=\"fill:none;stroke:#000000;stroke-linecap:square;stroke-linejoin:miter;stroke-width:0.8;\"/>\n   </g>\n   <g id=\"patch_59\">\n    <path d=\"M 248.824528 182.33689 \nL 248.824528 111.270852 \n\" style=\"fill:none;stroke:#000000;stroke-linecap:square;stroke-linejoin:miter;stroke-width:0.8;\"/>\n   </g>\n   <g id=\"patch_60\">\n    <path d=\"M 177.758491 182.33689 \nL 248.824528 182.33689 \n\" style=\"fill:none;stroke:#000000;stroke-linecap:square;stroke-linejoin:miter;stroke-width:0.8;\"/>\n   </g>\n   <g id=\"patch_61\">\n    <path d=\"M 177.758491 111.270852 \nL 248.824528 111.270852 \n\" style=\"fill:none;stroke:#000000;stroke-linecap:square;stroke-linejoin:miter;stroke-width:0.8;\"/>\n   </g>\n   <g id=\"text_12\">\n    <!-- ankle boot -->\n    <g transform=\"translate(181.568384 105.270852)scale(0.12 -0.12)\">\n     <use xlink:href=\"#DejaVuSans-97\"/>\n     <use x=\"61.279297\" xlink:href=\"#DejaVuSans-110\"/>\n     <use x=\"124.658203\" xlink:href=\"#DejaVuSans-107\"/>\n     <use x=\"182.568359\" xlink:href=\"#DejaVuSans-108\"/>\n     <use x=\"210.351562\" xlink:href=\"#DejaVuSans-101\"/>\n     <use x=\"271.875\" xlink:href=\"#DejaVuSans-32\"/>\n     <use x=\"303.662109\" xlink:href=\"#DejaVuSans-98\"/>\n     <use x=\"367.138672\" xlink:href=\"#DejaVuSans-111\"/>\n     <use x=\"428.320312\" xlink:href=\"#DejaVuSans-111\"/>\n     <use x=\"489.501953\" xlink:href=\"#DejaVuSans-116\"/>\n    </g>\n   </g>\n  </g>\n  <g id=\"axes_13\">\n   <g id=\"patch_62\">\n    <path d=\"M 263.037736 182.33689 \nL 334.103774 182.33689 \nL 334.103774 111.270852 \nL 263.037736 111.270852 \nz\n\" style=\"fill:#ffffff;\"/>\n   </g>\n   <g clip-path=\"url(#p67c0c8df59)\">\n    <image height=\"72\" id=\"imageae4f8ff576\" transform=\"scale(1 -1)translate(0 -72)\" width=\"72\" x=\"263.037736\" xlink:href=\"data:image/png;base64,\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\" y=\"-110.33689\"/>\n   </g>\n   <g id=\"patch_63\">\n    <path d=\"M 263.037736 182.33689 \nL 263.037736 111.270852 \n\" style=\"fill:none;stroke:#000000;stroke-linecap:square;stroke-linejoin:miter;stroke-width:0.8;\"/>\n   </g>\n   <g id=\"patch_64\">\n    <path d=\"M 334.103774 182.33689 \nL 334.103774 111.270852 \n\" style=\"fill:none;stroke:#000000;stroke-linecap:square;stroke-linejoin:miter;stroke-width:0.8;\"/>\n   </g>\n   <g id=\"patch_65\">\n    <path d=\"M 263.037736 182.33689 \nL 334.103774 182.33689 \n\" style=\"fill:none;stroke:#000000;stroke-linecap:square;stroke-linejoin:miter;stroke-width:0.8;\"/>\n   </g>\n   <g id=\"patch_66\">\n    <path d=\"M 263.037736 111.270852 \nL 334.103774 111.270852 \n\" style=\"fill:none;stroke:#000000;stroke-linecap:square;stroke-linejoin:miter;stroke-width:0.8;\"/>\n   </g>\n   <g id=\"text_13\">\n    <!-- sandal -->\n    <g transform=\"translate(278.812942 105.270852)scale(0.12 -0.12)\">\n     <use xlink:href=\"#DejaVuSans-115\"/>\n     <use x=\"52.099609\" xlink:href=\"#DejaVuSans-97\"/>\n     <use x=\"113.378906\" xlink:href=\"#DejaVuSans-110\"/>\n     <use x=\"176.757812\" xlink:href=\"#DejaVuSans-100\"/>\n     <use x=\"240.234375\" xlink:href=\"#DejaVuSans-97\"/>\n     <use x=\"301.513672\" xlink:href=\"#DejaVuSans-108\"/>\n    </g>\n   </g>\n  </g>\n  <g id=\"axes_14\">\n   <g id=\"patch_67\">\n    <path d=\"M 348.316981 182.33689 \nL 419.383019 182.33689 \nL 419.383019 111.270852 \nL 348.316981 111.270852 \nz\n\" style=\"fill:#ffffff;\"/>\n   </g>\n   <g clip-path=\"url(#p4f52521171)\">\n    <image height=\"72\" id=\"image0ed69ed2a8\" transform=\"scale(1 -1)translate(0 -72)\" width=\"72\" x=\"348.316981\" xlink:href=\"data:image/png;base64,\niVBORw0KGgoAAAANSUhEUgAAAEgAAABICAYAAABV7bNHAAAABHNCSVQICAgIfAhkiAAABW5JREFUeJztmU1oXFUUx//vzVdmJjOTmZjmq22apEltRUFRjMEKghSFUi2orStB3VS3rsWFoG5EFNSFGxd+FMSVoCvFRT9IY6lYWtIkbZo2TUiathNmJvP15rk4b+556Ys5oyCKnN9m7pz73r13/vfcc8+9Yz1lPe9C+VPsf3sA/3VUIAEVSEAFElCBBFQgARVIQAUSUIEEVCABFUhABRJQgQRUIAEVSEAFElCBBFQgARVIQAUSCLf6oBXmR+32JNkyaWNrZJL8sE2617JtbCo79FwsxG269H9BORc1Ntc3Ze3zJXq3VOX6CL1fb+d3Kp1UboQtYwtV+b+IaooatRxuO5anL+FCzdiis0vU9uISjxvKloRD3dvMl6XDwwCAUh8/0PAmqm2FZ8dq0GedHQS1FM9YLedNVYynLJqgetvmGXty1zQA4MTCoLFl4mVTdsJ1+vQN2Aa1E7K4vzd3/AwAmKr0GttMiX9Xw3PLZLiCu/lhZp8p7+2hNt3Xhnz9KVuiAglY+w++b3z16nP0GV3mgBzN09Iq59il653k+na8bmyJJLtvNrEOAHBcX9D0lkR+nddl4ngGwMbgatd9SzVJ9uaSpnqvPV8Qthw38Fwlw3NfTVE7jQjXN8u+FY/yPdTO6KfXuT8oW2K1+t/89EeP8peOWqC+uytvysUKRfbCNU4DYj20ZY/vuGJs18cKwQFFePu2h3YCAOo5TiEKA3EAQDXJXlfqpXJikX9KZo5Tg+hNL11YK3FHVfoNbpk3BSvVTv3NzfMYAiNUNqACCbScSXdNspaJZcpm/cHVcnJczlB9PMr1bbdoafx0kPOOUUwE+nFrvDScqRlqz1efOhUcW/ToGADg5AefGduh6adN+UjPGQDAueJOY2t4G8j5O5z03fI2kM7DvmUe7E7xE4bNZyO43j7pBuN2oZ/ncXmcyumL7IDNLRIARvbPke1tzmwXnvC29zB7iJ1IAAAaJQ6e/jOf6zjB8VhWwJb65jQAYPTZl41tqPumKR9fegQAsD1xx9gG4ysAgLX2uLGtVWM0rt0DPEYoW6ICCYTRcIJWyxcWPVfe/u5JY6odeBgAUM5x6tpziLPPmV/o8Dk8ddnY+i0Khi9+8qOxffvgAeruxDlf3745czlTv3s8m7HrYy7PvOE7rNaozQsRXvID3iE9GeElX6nR8l4f4PxNPUhABRJo+aixYbdrLkufzXporym7k+cBAHsm+XQ49fq9AIB6inOMUImWkHXqt5YH3Ly/at5dAcDtB2g8XQO3jW2tyIfizPd0hEhf5WNFsZd2rMJRPiKl2+jAHfmw09jUgwRa9yB/4PYCqWWzza0HA+raS2Om3HtsFgCw8PluY6um6f38CAd7//WDk/Xa9I0wlPBuGQvsnZFVCq6hCo+nMsjeErtC3jT4Jd81Ww71eemdDmNr5k6hYzEeT+BXKRtQgQRaPqxuyD9cCoqu7wZvsyCe/vq0MRVn7wcArB7hduw+OmK4BQ7cyHM7kRVaRqGy71Bcp2edOLcTWaP6SpZtboPfqXt/GMy82m1sw19RQHcX+KhxI075T9+lCzxGKFvSugdJbJKR+28H3YnfAQDDvhuOwgt0S9kxccPY6vOcka++QkF+dYwjt1WmOR3Zt2Bsl+bJMzJnObh2f8cZMiZ+BQCE7ttjTNee8bbyfj4oF+c5g26iHiSgAgm0ngf9rdaDh97NmH9r3JS3neV8Kr5YBAAsPp4xtsQK7QzZM8vG5kzzofivcvm9x0w5e9H7/IKvLdWDBP5ZD/ofoB4koAIJqEACKpCACiSgAgmoQAIqkIAKJKACCahAAiqQgAokoAIJqEACKpCACiSgAgmoQAIqkMAfYgZ7P3aYIUcAAAAASUVORK5CYII=\" y=\"-110.33689\"/>\n   </g>\n   <g id=\"patch_68\">\n    <path d=\"M 348.316981 182.33689 \nL 348.316981 111.270852 \n\" style=\"fill:none;stroke:#000000;stroke-linecap:square;stroke-linejoin:miter;stroke-width:0.8;\"/>\n   </g>\n   <g id=\"patch_69\">\n    <path d=\"M 419.383019 182.33689 \nL 419.383019 111.270852 \n\" style=\"fill:none;stroke:#000000;stroke-linecap:square;stroke-linejoin:miter;stroke-width:0.8;\"/>\n   </g>\n   <g id=\"patch_70\">\n    <path d=\"M 348.316981 182.33689 \nL 419.383019 182.33689 \n\" style=\"fill:none;stroke:#000000;stroke-linecap:square;stroke-linejoin:miter;stroke-width:0.8;\"/>\n   </g>\n   <g id=\"patch_71\">\n    <path d=\"M 348.316981 111.270852 \nL 419.383019 111.270852 \n\" style=\"fill:none;stroke:#000000;stroke-linecap:square;stroke-linejoin:miter;stroke-width:0.8;\"/>\n   </g>\n   <g id=\"text_14\">\n    <!-- sandal -->\n    <g transform=\"translate(364.092188 105.270852)scale(0.12 -0.12)\">\n     <use xlink:href=\"#DejaVuSans-115\"/>\n     <use x=\"52.099609\" xlink:href=\"#DejaVuSans-97\"/>\n     <use x=\"113.378906\" xlink:href=\"#DejaVuSans-110\"/>\n     <use x=\"176.757812\" xlink:href=\"#DejaVuSans-100\"/>\n     <use x=\"240.234375\" xlink:href=\"#DejaVuSans-97\"/>\n     <use x=\"301.513672\" xlink:href=\"#DejaVuSans-108\"/>\n    </g>\n   </g>\n  </g>\n  <g id=\"axes_15\">\n   <g id=\"patch_72\">\n    <path d=\"M 433.596226 182.33689 \nL 504.662264 182.33689 \nL 504.662264 111.270852 \nL 433.596226 111.270852 \nz\n\" style=\"fill:#ffffff;\"/>\n   </g>\n   <g clip-path=\"url(#p84431b0dd2)\">\n    <image height=\"72\" id=\"imagef38ebd21ba\" transform=\"scale(1 -1)translate(0 -72)\" width=\"72\" x=\"433.596226\" xlink:href=\"data:image/png;base64,\niVBORw0KGgoAAAANSUhEUgAAAEgAAABICAYAAABV7bNHAAAABHNCSVQICAgIfAhkiAAABENJREFUeJztm0uPFFUUx/9V1TU1/XBgHj3MA0FiZhzQYCKCoK6QBSsWRsIHYCNsSNiawMoYjR/AxCULP4CZlWyMUfCxUEIg4ySEDGkSI0zP9LQ93VPVVSzOrXvupHs4gBAn5vw2derUvbdu/nXOqXurZ7wT3kcZlC3x/+sJbHdUIAEVSEAFElCBBFQgARVIQAUSUIEEVCABFUhABRJQgQRUIAEVSEAFElCBBFQgARVIQAUSUIEEVCCBgnsSjI2SMbLTaRHQMelalxcnAIAsvwbAc65bMv5FKStG1K7V5ut5H3+L5+R7ZnCv95rjywK/Z5ysOMB2GJg5pr1TDHicNCI5wtoyT6H/zJQcFUigYNMKQPfBQzLy4zPiRZEZkNPOL5XI1elwO5MmXqXcf6DEpHKb+6R5/+zpfxCWeuTJlo2OWJ9GkEDBPm0Af587BgCov5VY3/TLW0fTSqto7cogP+Xjk38CAJpdHns4pHEmwxXrmwhXAQCDXmx9rv1a2KA+hYr1dTK63kq5XckPAQB3YvbdS3ZY+25cBQDEGb9UclaTkrXfrywAAC5+es76NIIEVCCBQu3DV+zJFxe+BgB8PH/W+pZ/nAAAhGtOp3Uqd5FT9bwmn8xXxze1A4DOiCmBTp/hRSricdFd0zi2MeMK+/KsTTi7kUa95bc7yHYyZlIvdtZTKdnR6Lp13ZyeAgCMX+OyohEk4G36AyrfFLEjr1tXYx8VsfYIa7kxRMekxF3DphsFdIyH+HrpPl1fO8xPLKvTare8xMVz5tSitXeXqKB/f+Vwz8Sd2orAvB82uC6j0HLalmkeblSFqzSfASczGodolT/3edP6NIIEVCCBTZtVpGble/2GdQ1dN0ef0yAwm9lsqmp9zVc5vtdNOsYv8dCrc7S2Gv6J47x+kO7XrnIqvrmjZu3Ff6jYt6Z6i7DPSx60ZsyJx+2SAd6Ydjv5htspA9NmrRfxQAfGqDin9zk/NYIEVCAB74R/muPSM3plzneTZ9gU5gT7Z6xd+4yyOfB57HqN0jJc4fSN6pwG4RrdOztZt75GgxZAaZurw8BfZEfL3NdNwcYspXJ5N7+ymg9og/zNB19Z3w+tWQDA1Te4NmgECRQ2RUjW56tgP/p94esTad3bvKaZPENL4O7RA9bXOEXPJ93DXxnT2Q1rF8u0Znr48wTfZidF4J6rHImD31577HR3mWNy/JD1nfzyNwDA3gKvy87feRsAUMWC9WkECahAAt4L+V+NPAWfsMD7B+esvXSZC3Z7iYrle0dvWd8v39E2aO+lx6fVk3Lvk3etPf47VfZo/lee23O5y/+YFxNBzwsTic3T71jX0AJ9hUz/uN3T7t8sSbZCI0hABRLY3im2DdAIElCBBFQgARVIQAUSUIEEVCABFUhABRJQgQRUIAEVSEAFElCBBFQgARVIQAUSUIEEVCABFUhABRJQgQQeAWZ5GpE1tlSgAAAAAElFTkSuQmCC\" y=\"-110.33689\"/>\n   </g>\n   <g id=\"patch_73\">\n    <path d=\"M 433.596226 182.33689 \nL 433.596226 111.270852 \n\" style=\"fill:none;stroke:#000000;stroke-linecap:square;stroke-linejoin:miter;stroke-width:0.8;\"/>\n   </g>\n   <g id=\"patch_74\">\n    <path d=\"M 504.662264 182.33689 \nL 504.662264 111.270852 \n\" style=\"fill:none;stroke:#000000;stroke-linecap:square;stroke-linejoin:miter;stroke-width:0.8;\"/>\n   </g>\n   <g id=\"patch_75\">\n    <path d=\"M 433.596226 182.33689 \nL 504.662264 182.33689 \n\" style=\"fill:none;stroke:#000000;stroke-linecap:square;stroke-linejoin:miter;stroke-width:0.8;\"/>\n   </g>\n   <g id=\"patch_76\">\n    <path d=\"M 433.596226 111.270852 \nL 504.662264 111.270852 \n\" style=\"fill:none;stroke:#000000;stroke-linecap:square;stroke-linejoin:miter;stroke-width:0.8;\"/>\n   </g>\n   <g id=\"text_15\">\n    <!-- sneaker -->\n    <g transform=\"translate(445.20237 105.270852)scale(0.12 -0.12)\">\n     <use xlink:href=\"#DejaVuSans-115\"/>\n     <use x=\"52.099609\" xlink:href=\"#DejaVuSans-110\"/>\n     <use x=\"115.478516\" xlink:href=\"#DejaVuSans-101\"/>\n     <use x=\"177.001953\" xlink:href=\"#DejaVuSans-97\"/>\n     <use x=\"238.28125\" xlink:href=\"#DejaVuSans-107\"/>\n     <use x=\"296.144531\" xlink:href=\"#DejaVuSans-101\"/>\n     <use x=\"357.667969\" xlink:href=\"#DejaVuSans-114\"/>\n    </g>\n   </g>\n  </g>\n  <g id=\"axes_16\">\n   <g id=\"patch_77\">\n    <path d=\"M 518.875472 182.33689 \nL 589.941509 182.33689 \nL 589.941509 111.270852 \nL 518.875472 111.270852 \nz\n\" style=\"fill:#ffffff;\"/>\n   </g>\n   <g clip-path=\"url(#p5a62b6ed53)\">\n    <image height=\"72\" id=\"imagee458298b6b\" transform=\"scale(1 -1)translate(0 -72)\" width=\"72\" x=\"518.875472\" xlink:href=\"data:image/png;base64,\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\" y=\"-110.33689\"/>\n   </g>\n   <g id=\"patch_78\">\n    <path d=\"M 518.875472 182.33689 \nL 518.875472 111.270852 \n\" style=\"fill:none;stroke:#000000;stroke-linecap:square;stroke-linejoin:miter;stroke-width:0.8;\"/>\n   </g>\n   <g id=\"patch_79\">\n    <path d=\"M 589.941509 182.33689 \nL 589.941509 111.270852 \n\" style=\"fill:none;stroke:#000000;stroke-linecap:square;stroke-linejoin:miter;stroke-width:0.8;\"/>\n   </g>\n   <g id=\"patch_80\">\n    <path d=\"M 518.875472 182.33689 \nL 589.941509 182.33689 \n\" style=\"fill:none;stroke:#000000;stroke-linecap:square;stroke-linejoin:miter;stroke-width:0.8;\"/>\n   </g>\n   <g id=\"patch_81\">\n    <path d=\"M 518.875472 111.270852 \nL 589.941509 111.270852 \n\" style=\"fill:none;stroke:#000000;stroke-linecap:square;stroke-linejoin:miter;stroke-width:0.8;\"/>\n   </g>\n   <g id=\"text_16\">\n    <!-- ankle boot -->\n    <g transform=\"translate(522.685366 105.270852)scale(0.12 -0.12)\">\n     <use xlink:href=\"#DejaVuSans-97\"/>\n     <use x=\"61.279297\" xlink:href=\"#DejaVuSans-110\"/>\n     <use x=\"124.658203\" xlink:href=\"#DejaVuSans-107\"/>\n     <use x=\"182.568359\" xlink:href=\"#DejaVuSans-108\"/>\n     <use x=\"210.351562\" xlink:href=\"#DejaVuSans-101\"/>\n     <use x=\"271.875\" xlink:href=\"#DejaVuSans-32\"/>\n     <use x=\"303.662109\" xlink:href=\"#DejaVuSans-98\"/>\n     <use x=\"367.138672\" xlink:href=\"#DejaVuSans-111\"/>\n     <use x=\"428.320312\" xlink:href=\"#DejaVuSans-111\"/>\n     <use x=\"489.501953\" xlink:href=\"#DejaVuSans-116\"/>\n    </g>\n   </g>\n  </g>\n  <g id=\"axes_17\">\n   <g id=\"patch_82\">\n    <path d=\"M 604.154717 182.33689 \nL 675.220755 182.33689 \nL 675.220755 111.270852 \nL 604.154717 111.270852 \nz\n\" style=\"fill:#ffffff;\"/>\n   </g>\n   <g clip-path=\"url(#p47ea9d53e0)\">\n    <image height=\"72\" id=\"image9373802a55\" transform=\"scale(1 -1)translate(0 -72)\" width=\"72\" x=\"604.154717\" xlink:href=\"data:image/png;base64,\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\" y=\"-110.33689\"/>\n   </g>\n   <g id=\"patch_83\">\n    <path d=\"M 604.154717 182.33689 \nL 604.154717 111.270852 \n\" style=\"fill:none;stroke:#000000;stroke-linecap:square;stroke-linejoin:miter;stroke-width:0.8;\"/>\n   </g>\n   <g id=\"patch_84\">\n    <path d=\"M 675.220755 182.33689 \nL 675.220755 111.270852 \n\" style=\"fill:none;stroke:#000000;stroke-linecap:square;stroke-linejoin:miter;stroke-width:0.8;\"/>\n   </g>\n   <g id=\"patch_85\">\n    <path d=\"M 604.154717 182.33689 \nL 675.220755 182.33689 \n\" style=\"fill:none;stroke:#000000;stroke-linecap:square;stroke-linejoin:miter;stroke-width:0.8;\"/>\n   </g>\n   <g id=\"patch_86\">\n    <path d=\"M 604.154717 111.270852 \nL 675.220755 111.270852 \n\" style=\"fill:none;stroke:#000000;stroke-linecap:square;stroke-linejoin:miter;stroke-width:0.8;\"/>\n   </g>\n   <g id=\"text_17\">\n    <!-- trouser -->\n    <g transform=\"translate(618.113048 105.270852)scale(0.12 -0.12)\">\n     <use xlink:href=\"#DejaVuSans-116\"/>\n     <use x=\"39.208984\" xlink:href=\"#DejaVuSans-114\"/>\n     <use x=\"80.291016\" xlink:href=\"#DejaVuSans-111\"/>\n     <use x=\"141.472656\" xlink:href=\"#DejaVuSans-117\"/>\n     <use x=\"204.851562\" xlink:href=\"#DejaVuSans-115\"/>\n     <use x=\"256.951172\" xlink:href=\"#DejaVuSans-101\"/>\n     <use x=\"318.474609\" xlink:href=\"#DejaVuSans-114\"/>\n    </g>\n   </g>\n  </g>\n  <g id=\"axes_18\">\n   <g id=\"patch_87\">\n    <path d=\"M 689.433962 182.33689 \nL 760.5 182.33689 \nL 760.5 111.270852 \nL 689.433962 111.270852 \nz\n\" style=\"fill:#ffffff;\"/>\n   </g>\n   <g clip-path=\"url(#p05146022ae)\">\n    <image height=\"72\" id=\"imagec7efb9634f\" transform=\"scale(1 -1)translate(0 -72)\" width=\"72\" x=\"689.433962\" xlink:href=\"data:image/png;base64,\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\" y=\"-110.33689\"/>\n   </g>\n   <g id=\"patch_88\">\n    <path d=\"M 689.433962 182.33689 \nL 689.433962 111.270852 \n\" style=\"fill:none;stroke:#000000;stroke-linecap:square;stroke-linejoin:miter;stroke-width:0.8;\"/>\n   </g>\n   <g id=\"patch_89\">\n    <path d=\"M 760.5 182.33689 \nL 760.5 111.270852 \n\" style=\"fill:none;stroke:#000000;stroke-linecap:square;stroke-linejoin:miter;stroke-width:0.8;\"/>\n   </g>\n   <g id=\"patch_90\">\n    <path d=\"M 689.433962 182.33689 \nL 760.5 182.33689 \n\" style=\"fill:none;stroke:#000000;stroke-linecap:square;stroke-linejoin:miter;stroke-width:0.8;\"/>\n   </g>\n   <g id=\"patch_91\">\n    <path d=\"M 689.433962 111.270852 \nL 760.5 111.270852 \n\" style=\"fill:none;stroke:#000000;stroke-linecap:square;stroke-linejoin:miter;stroke-width:0.8;\"/>\n   </g>\n   <g id=\"text_18\">\n    <!-- t-shirt -->\n    <g transform=\"translate(707.036356 105.270852)scale(0.12 -0.12)\">\n     <use xlink:href=\"#DejaVuSans-116\"/>\n     <use x=\"39.208984\" xlink:href=\"#DejaVuSans-45\"/>\n     <use x=\"75.292969\" xlink:href=\"#DejaVuSans-115\"/>\n     <use x=\"127.392578\" xlink:href=\"#DejaVuSans-104\"/>\n     <use x=\"190.771484\" xlink:href=\"#DejaVuSans-105\"/>\n     <use x=\"218.554688\" xlink:href=\"#DejaVuSans-114\"/>\n     <use x=\"259.667969\" xlink:href=\"#DejaVuSans-116\"/>\n    </g>\n   </g>\n  </g>\n </g>\n <defs>\n  <clipPath id=\"p4766771d1c\">\n   <rect height=\"71.066038\" width=\"71.066038\" x=\"7.2\" y=\"22.318125\"/>\n  </clipPath>\n  <clipPath id=\"pe721712f92\">\n   <rect height=\"71.066038\" width=\"71.066038\" x=\"92.479245\" y=\"22.318125\"/>\n  </clipPath>\n  <clipPath id=\"paaa8efc52b\">\n   <rect height=\"71.066038\" width=\"71.066038\" x=\"177.758491\" y=\"22.318125\"/>\n  </clipPath>\n  <clipPath id=\"p53f1252f03\">\n   <rect height=\"71.066038\" width=\"71.066038\" x=\"263.037736\" y=\"22.318125\"/>\n  </clipPath>\n  <clipPath id=\"pafb559a6e9\">\n   <rect height=\"71.066038\" width=\"71.066038\" x=\"348.316981\" y=\"22.318125\"/>\n  </clipPath>\n  <clipPath id=\"p75a8062a81\">\n   <rect height=\"71.066038\" width=\"71.066038\" x=\"433.596226\" y=\"22.318125\"/>\n  </clipPath>\n  <clipPath id=\"pf4e9402638\">\n   <rect height=\"71.066038\" width=\"71.066038\" x=\"518.875472\" y=\"22.318125\"/>\n  </clipPath>\n  <clipPath id=\"pae67bc5792\">\n   <rect height=\"71.066038\" width=\"71.066038\" x=\"604.154717\" y=\"22.318125\"/>\n  </clipPath>\n  <clipPath id=\"pf2b7e23f6b\">\n   <rect height=\"71.066038\" width=\"71.066038\" x=\"689.433962\" y=\"22.318125\"/>\n  </clipPath>\n  <clipPath id=\"p8b0c4e191a\">\n   <rect height=\"71.066038\" width=\"71.066038\" x=\"7.2\" y=\"111.270852\"/>\n  </clipPath>\n  <clipPath id=\"p678e36856b\">\n   <rect height=\"71.066038\" width=\"71.066038\" x=\"92.479245\" y=\"111.270852\"/>\n  </clipPath>\n  <clipPath id=\"p4e5da437a5\">\n   <rect height=\"71.066038\" width=\"71.066038\" x=\"177.758491\" y=\"111.270852\"/>\n  </clipPath>\n  <clipPath id=\"p67c0c8df59\">\n   <rect height=\"71.066038\" width=\"71.066038\" x=\"263.037736\" y=\"111.270852\"/>\n  </clipPath>\n  <clipPath id=\"p4f52521171\">\n   <rect height=\"71.066038\" width=\"71.066038\" x=\"348.316981\" y=\"111.270852\"/>\n  </clipPath>\n  <clipPath id=\"p84431b0dd2\">\n   <rect height=\"71.066038\" width=\"71.066038\" x=\"433.596226\" y=\"111.270852\"/>\n  </clipPath>\n  <clipPath id=\"p5a62b6ed53\">\n   <rect height=\"71.066038\" width=\"71.066038\" x=\"518.875472\" y=\"111.270852\"/>\n  </clipPath>\n  <clipPath id=\"p47ea9d53e0\">\n   <rect height=\"71.066038\" width=\"71.066038\" x=\"604.154717\" y=\"111.270852\"/>\n  </clipPath>\n  <clipPath id=\"p05146022ae\">\n   <rect height=\"71.066038\" width=\"71.066038\" x=\"689.433962\" y=\"111.270852\"/>\n  </clipPath>\n </defs>\n</svg>\n"
          },
          "metadata": {
            "needs_background": "light"
          }
        }
      ]
    },
    {
      "cell_type": "markdown",
      "source": [
        "# **3.5.2. Reading a Minibatch**"
      ],
      "metadata": {
        "id": "QHDmQ_nxcQK4"
      }
    },
    {
      "cell_type": "code",
      "source": [
        "batch_size = 256\n",
        "\n",
        "def get_dataloader_workers():  \n",
        "    \"\"\"Use 4 processes to read the data.\"\"\"\n",
        "    return 4\n",
        "\n",
        "train_iter = data.DataLoader(mnist_train, batch_size, shuffle=True,\n",
        "                             num_workers=get_dataloader_workers())"
      ],
      "metadata": {
        "colab": {
          "base_uri": "https://localhost:8080/"
        },
        "id": "xbOOjYK-cTZY",
        "outputId": "c14fc1d1-a67f-4d31-984a-db3df7778219"
      },
      "execution_count": null,
      "outputs": [
        {
          "output_type": "stream",
          "name": "stderr",
          "text": [
            "/usr/local/lib/python3.7/dist-packages/torch/utils/data/dataloader.py:481: UserWarning: This DataLoader will create 4 worker processes in total. Our suggested max number of worker in current system is 2, which is smaller than what this DataLoader is going to create. Please be aware that excessive worker creation might get DataLoader running slow or even freeze, lower the worker number to avoid potential slowness/freeze if necessary.\n",
            "  cpuset_checked))\n"
          ]
        }
      ]
    },
    {
      "cell_type": "code",
      "source": [
        "timer = d2l.Timer()\n",
        "for X, y in train_iter:\n",
        "    continue\n",
        "f'{timer.stop():.2f} sec'"
      ],
      "metadata": {
        "colab": {
          "base_uri": "https://localhost:8080/",
          "height": 90
        },
        "id": "0qKVqgYycavS",
        "outputId": "2d445d95-493c-42cb-8261-c4446f1b102f"
      },
      "execution_count": null,
      "outputs": [
        {
          "output_type": "stream",
          "name": "stderr",
          "text": [
            "/usr/local/lib/python3.7/dist-packages/torch/utils/data/dataloader.py:481: UserWarning: This DataLoader will create 4 worker processes in total. Our suggested max number of worker in current system is 2, which is smaller than what this DataLoader is going to create. Please be aware that excessive worker creation might get DataLoader running slow or even freeze, lower the worker number to avoid potential slowness/freeze if necessary.\n",
            "  cpuset_checked))\n"
          ]
        },
        {
          "output_type": "execute_result",
          "data": {
            "text/plain": [
              "'5.30 sec'"
            ],
            "application/vnd.google.colaboratory.intrinsic+json": {
              "type": "string"
            }
          },
          "metadata": {},
          "execution_count": 39
        }
      ]
    },
    {
      "cell_type": "markdown",
      "source": [
        "# **3.5.3. Putting All Things Together**"
      ],
      "metadata": {
        "id": "y6mXeVBtcgsS"
      }
    },
    {
      "cell_type": "code",
      "source": [
        "def load_data_fashion_mnist(batch_size, resize=None):  \n",
        "    \"\"\"Download the Fashion-MNIST dataset and then load it into memory.\"\"\"\n",
        "    trans = [transforms.ToTensor()]\n",
        "    if resize:\n",
        "        trans.insert(0, transforms.Resize(resize))\n",
        "    trans = transforms.Compose(trans)\n",
        "    mnist_train = torchvision.datasets.FashionMNIST(\n",
        "        root=\"../data\", train=True, transform=trans, download=True)\n",
        "    mnist_test = torchvision.datasets.FashionMNIST(\n",
        "        root=\"../data\", train=False, transform=trans, download=True)\n",
        "    return (data.DataLoader(mnist_train, batch_size, shuffle=True,\n",
        "                            num_workers=get_dataloader_workers()),\n",
        "            data.DataLoader(mnist_test, batch_size, shuffle=False,\n",
        "                            num_workers=get_dataloader_workers()))"
      ],
      "metadata": {
        "id": "-Z-zdxqhcjoo"
      },
      "execution_count": null,
      "outputs": []
    },
    {
      "cell_type": "code",
      "source": [
        "train_iter, test_iter = load_data_fashion_mnist(32, resize=64)\n",
        "for X, y in train_iter:\n",
        "    print(X.shape, X.dtype, y.shape, y.dtype)\n",
        "    break"
      ],
      "metadata": {
        "colab": {
          "base_uri": "https://localhost:8080/"
        },
        "id": "hOhMAlu8cpRb",
        "outputId": "1a79c2be-7bc6-467c-ee7a-ab4c03342075"
      },
      "execution_count": null,
      "outputs": [
        {
          "output_type": "stream",
          "name": "stderr",
          "text": [
            "/usr/local/lib/python3.7/dist-packages/torch/utils/data/dataloader.py:481: UserWarning: This DataLoader will create 4 worker processes in total. Our suggested max number of worker in current system is 2, which is smaller than what this DataLoader is going to create. Please be aware that excessive worker creation might get DataLoader running slow or even freeze, lower the worker number to avoid potential slowness/freeze if necessary.\n",
            "  cpuset_checked))\n"
          ]
        },
        {
          "output_type": "stream",
          "name": "stdout",
          "text": [
            "torch.Size([32, 1, 64, 64]) torch.float32 torch.Size([32]) torch.int64\n"
          ]
        }
      ]
    },
    {
      "cell_type": "markdown",
      "source": [
        "# **3.6. Implementation of Softmax Regression from Scratch**"
      ],
      "metadata": {
        "id": "6eUKEMj0cwTy"
      }
    },
    {
      "cell_type": "code",
      "source": [
        "import torch\n",
        "from IPython import display\n",
        "from d2l import torch as d2l\n",
        "\n",
        "batch_size = 256\n",
        "train_iter, test_iter = d2l.load_data_fashion_mnist(batch_size)"
      ],
      "metadata": {
        "colab": {
          "base_uri": "https://localhost:8080/"
        },
        "id": "ZvUGptq8cz34",
        "outputId": "2e9d0082-7c8a-4db2-c482-bccb8b031a84"
      },
      "execution_count": null,
      "outputs": [
        {
          "output_type": "stream",
          "name": "stderr",
          "text": [
            "/usr/local/lib/python3.7/dist-packages/torch/utils/data/dataloader.py:481: UserWarning: This DataLoader will create 4 worker processes in total. Our suggested max number of worker in current system is 2, which is smaller than what this DataLoader is going to create. Please be aware that excessive worker creation might get DataLoader running slow or even freeze, lower the worker number to avoid potential slowness/freeze if necessary.\n",
            "  cpuset_checked))\n"
          ]
        }
      ]
    },
    {
      "cell_type": "markdown",
      "source": [
        "# **3.6.1. Initializing Model Parameters**"
      ],
      "metadata": {
        "id": "AwciGdyjc3pB"
      }
    },
    {
      "cell_type": "code",
      "source": [
        "num_inputs = 784\n",
        "num_outputs = 10\n",
        "\n",
        "W = torch.normal(0, 0.01, size=(num_inputs, num_outputs), requires_grad=True)\n",
        "b = torch.zeros(num_outputs, requires_grad=True)"
      ],
      "metadata": {
        "id": "Pn0yrVaUc77m"
      },
      "execution_count": null,
      "outputs": []
    },
    {
      "cell_type": "markdown",
      "source": [
        "# **3.6.2. Defining the Softmax Operation**"
      ],
      "metadata": {
        "id": "sPwuA59pdAhP"
      }
    },
    {
      "cell_type": "code",
      "source": [
        "X = torch.tensor([[1.0, 2.0, 3.0], [4.0, 5.0, 6.0]])\n",
        "X.sum(0, keepdim=True), X.sum(1, keepdim=True)"
      ],
      "metadata": {
        "colab": {
          "base_uri": "https://localhost:8080/"
        },
        "id": "Mk-JEcqAdGQ4",
        "outputId": "575192c6-06c2-48f1-8a21-bbde18ffcabf"
      },
      "execution_count": null,
      "outputs": [
        {
          "output_type": "execute_result",
          "data": {
            "text/plain": [
              "(tensor([[5., 7., 9.]]), tensor([[ 6.],\n",
              "         [15.]]))"
            ]
          },
          "metadata": {},
          "execution_count": 44
        }
      ]
    },
    {
      "cell_type": "code",
      "source": [
        "def softmax(X):\n",
        "    X_exp = torch.exp(X)\n",
        "    partition = X_exp.sum(1, keepdim=True)\n",
        "    return X_exp / partition  # The broadcasting mechanism is applied here"
      ],
      "metadata": {
        "id": "RePOHNyEdKUU"
      },
      "execution_count": null,
      "outputs": []
    },
    {
      "cell_type": "code",
      "source": [
        "X = torch.normal(0, 1, (2, 5))\n",
        "X_prob = softmax(X)\n",
        "X_prob, X_prob.sum(1)"
      ],
      "metadata": {
        "colab": {
          "base_uri": "https://localhost:8080/"
        },
        "id": "s-eQ-DwIdNGV",
        "outputId": "65975b68-2a0d-453e-f34c-815d0462a835"
      },
      "execution_count": null,
      "outputs": [
        {
          "output_type": "execute_result",
          "data": {
            "text/plain": [
              "(tensor([[0.2499, 0.0535, 0.0568, 0.5190, 0.1208],\n",
              "         [0.0500, 0.0869, 0.4448, 0.0218, 0.3965]]), tensor([1., 1.]))"
            ]
          },
          "metadata": {},
          "execution_count": 46
        }
      ]
    },
    {
      "cell_type": "markdown",
      "source": [
        "# **3.6.3. Defining the Model**"
      ],
      "metadata": {
        "id": "507VNcBvdRLp"
      }
    },
    {
      "cell_type": "code",
      "source": [
        "def net(X):\n",
        "    return softmax(torch.matmul(X.reshape((-1, W.shape[0])), W) + b)"
      ],
      "metadata": {
        "id": "fmXQMloJdY7m"
      },
      "execution_count": null,
      "outputs": []
    },
    {
      "cell_type": "markdown",
      "source": [
        "# **3.6.4. Defining the Loss Function**"
      ],
      "metadata": {
        "id": "m8uzPQr8dcjf"
      }
    },
    {
      "cell_type": "code",
      "source": [
        "y = torch.tensor([0, 2])\n",
        "y_hat = torch.tensor([[0.1, 0.3, 0.6], [0.3, 0.2, 0.5]])\n",
        "y_hat[[0, 1], y]"
      ],
      "metadata": {
        "colab": {
          "base_uri": "https://localhost:8080/"
        },
        "id": "mIT6bTmIdg57",
        "outputId": "1adb41a2-96c0-4ae8-eb71-a9a004bdea7f"
      },
      "execution_count": null,
      "outputs": [
        {
          "output_type": "execute_result",
          "data": {
            "text/plain": [
              "tensor([0.1000, 0.5000])"
            ]
          },
          "metadata": {},
          "execution_count": 48
        }
      ]
    },
    {
      "cell_type": "code",
      "source": [
        "def cross_entropy(y_hat, y):\n",
        "    return - torch.log(y_hat[range(len(y_hat)), y])\n",
        "\n",
        "cross_entropy(y_hat, y)"
      ],
      "metadata": {
        "colab": {
          "base_uri": "https://localhost:8080/"
        },
        "id": "sN_JGllQdkFa",
        "outputId": "a99e58dc-53a9-49ef-a589-34f5a1b6b5e5"
      },
      "execution_count": null,
      "outputs": [
        {
          "output_type": "execute_result",
          "data": {
            "text/plain": [
              "tensor([2.3026, 0.6931])"
            ]
          },
          "metadata": {},
          "execution_count": 49
        }
      ]
    },
    {
      "cell_type": "markdown",
      "source": [
        "# **3.6.5. Classification Accuracy**"
      ],
      "metadata": {
        "id": "sepcCl3Cdp7-"
      }
    },
    {
      "cell_type": "code",
      "source": [
        "def accuracy(y_hat, y):  \n",
        "    \"\"\"Compute the number of correct predictions.\"\"\"\n",
        "    if len(y_hat.shape) > 1 and y_hat.shape[1] > 1:\n",
        "        y_hat = y_hat.argmax(axis=1)\n",
        "    cmp = y_hat.type(y.dtype) == y\n",
        "    return float(cmp.type(y.dtype).sum())"
      ],
      "metadata": {
        "id": "8uyCnBSvdue3"
      },
      "execution_count": null,
      "outputs": []
    },
    {
      "cell_type": "code",
      "source": [
        "accuracy(y_hat, y) / len(y)"
      ],
      "metadata": {
        "colab": {
          "base_uri": "https://localhost:8080/"
        },
        "id": "IugXrrG-d4Oe",
        "outputId": "0e3f1f0b-d21a-4674-831b-08509c5c74da"
      },
      "execution_count": null,
      "outputs": [
        {
          "output_type": "execute_result",
          "data": {
            "text/plain": [
              "0.5"
            ]
          },
          "metadata": {},
          "execution_count": 51
        }
      ]
    },
    {
      "cell_type": "code",
      "source": [
        "def evaluate_accuracy(net, data_iter):  \n",
        "    \"\"\"Compute the accuracy for a model on a dataset.\"\"\"\n",
        "    if isinstance(net, torch.nn.Module):\n",
        "        net.eval()  # Set the model to evaluation mode\n",
        "    metric = Accumulator(2)  # No. of correct predictions, no. of predictions\n",
        "\n",
        "    with torch.no_grad():\n",
        "        for X, y in data_iter:\n",
        "            metric.add(accuracy(net(X), y), y.numel())\n",
        "    return metric[0] / metric[1]"
      ],
      "metadata": {
        "id": "Gfch4XAGd7Bb"
      },
      "execution_count": null,
      "outputs": []
    },
    {
      "cell_type": "code",
      "source": [
        "class Accumulator:  \n",
        "    \"\"\"For accumulating sums over `n` variables.\"\"\"\n",
        "    def __init__(self, n):\n",
        "        self.data = [0.0] * n\n",
        "\n",
        "    def add(self, *args):\n",
        "        self.data = [a + float(b) for a, b in zip(self.data, args)]\n",
        "\n",
        "    def reset(self):\n",
        "        self.data = [0.0] * len(self.data)\n",
        "\n",
        "    def __getitem__(self, idx):\n",
        "        return self.data[idx]"
      ],
      "metadata": {
        "id": "iGPhCesJeABT"
      },
      "execution_count": null,
      "outputs": []
    },
    {
      "cell_type": "code",
      "source": [
        "evaluate_accuracy(net, test_iter)"
      ],
      "metadata": {
        "colab": {
          "base_uri": "https://localhost:8080/"
        },
        "id": "i7ZixOFueEA1",
        "outputId": "a096af5d-3cf2-45aa-9f92-492a66251a6d"
      },
      "execution_count": null,
      "outputs": [
        {
          "output_type": "stream",
          "name": "stderr",
          "text": [
            "/usr/local/lib/python3.7/dist-packages/torch/utils/data/dataloader.py:481: UserWarning: This DataLoader will create 4 worker processes in total. Our suggested max number of worker in current system is 2, which is smaller than what this DataLoader is going to create. Please be aware that excessive worker creation might get DataLoader running slow or even freeze, lower the worker number to avoid potential slowness/freeze if necessary.\n",
            "  cpuset_checked))\n"
          ]
        },
        {
          "output_type": "execute_result",
          "data": {
            "text/plain": [
              "0.13"
            ]
          },
          "metadata": {},
          "execution_count": 54
        }
      ]
    },
    {
      "cell_type": "markdown",
      "source": [
        "# **3.6.6. Training**"
      ],
      "metadata": {
        "id": "oBv6Y1iPeJov"
      }
    },
    {
      "cell_type": "code",
      "source": [
        "def train_epoch_ch3(net, train_iter, loss, updater):  \n",
        "    \"\"\"The training loop defined in Chapter 3.\"\"\"\n",
        "    # Set the model to training mode\n",
        "    if isinstance(net, torch.nn.Module):\n",
        "        net.train()\n",
        "    # Sum of training loss, sum of training accuracy, no. of examples\n",
        "    metric = Accumulator(3)\n",
        "    for X, y in train_iter:\n",
        "        # Compute gradients and update parameters\n",
        "        y_hat = net(X)\n",
        "        l = loss(y_hat, y)\n",
        "        if isinstance(updater, torch.optim.Optimizer):\n",
        "            # Using PyTorch in-built optimizer & loss criterion\n",
        "            updater.zero_grad()\n",
        "            l.mean().backward()\n",
        "            updater.step()\n",
        "        else:\n",
        "            # Using custom built optimizer & loss criterion\n",
        "            l.sum().backward()\n",
        "            updater(X.shape[0])\n",
        "        metric.add(float(l.sum()), accuracy(y_hat, y), y.numel())\n",
        "    # Return training loss and training accuracy\n",
        "    return metric[0] / metric[2], metric[1] / metric[2]"
      ],
      "metadata": {
        "id": "M2aZqZdHeN3r"
      },
      "execution_count": null,
      "outputs": []
    },
    {
      "cell_type": "code",
      "source": [
        "class Animator:  \n",
        "    \"\"\"For plotting data in animation.\"\"\"\n",
        "    def __init__(self, xlabel=None, ylabel=None, legend=None, xlim=None,\n",
        "                 ylim=None, xscale='linear', yscale='linear',\n",
        "                 fmts=('-', 'm--', 'g-.', 'r:'), nrows=1, ncols=1,\n",
        "                 figsize=(3.5, 2.5)):\n",
        "        # Incrementally plot multiple lines\n",
        "        if legend is None:\n",
        "            legend = []\n",
        "        d2l.use_svg_display()\n",
        "        self.fig, self.axes = d2l.plt.subplots(nrows, ncols, figsize=figsize)\n",
        "        if nrows * ncols == 1:\n",
        "            self.axes = [self.axes, ]\n",
        "        # Use a lambda function to capture arguments\n",
        "        self.config_axes = lambda: d2l.set_axes(\n",
        "            self.axes[0], xlabel, ylabel, xlim, ylim, xscale, yscale, legend)\n",
        "        self.X, self.Y, self.fmts = None, None, fmts\n",
        "\n",
        "    def add(self, x, y):\n",
        "        # Add multiple data points into the figure\n",
        "        if not hasattr(y, \"__len__\"):\n",
        "            y = [y]\n",
        "        n = len(y)\n",
        "        if not hasattr(x, \"__len__\"):\n",
        "            x = [x] * n\n",
        "        if not self.X:\n",
        "            self.X = [[] for _ in range(n)]\n",
        "        if not self.Y:\n",
        "            self.Y = [[] for _ in range(n)]\n",
        "        for i, (a, b) in enumerate(zip(x, y)):\n",
        "            if a is not None and b is not None:\n",
        "                self.X[i].append(a)\n",
        "                self.Y[i].append(b)\n",
        "        self.axes[0].cla()\n",
        "        for x, y, fmt in zip(self.X, self.Y, self.fmts):\n",
        "            self.axes[0].plot(x, y, fmt)\n",
        "        self.config_axes()\n",
        "        display.display(self.fig)\n",
        "        display.clear_output(wait=True)"
      ],
      "metadata": {
        "id": "TrlD3rFKeaRK"
      },
      "execution_count": null,
      "outputs": []
    },
    {
      "cell_type": "code",
      "source": [
        "def train_ch3(net, train_iter, test_iter, loss, num_epochs, updater):  \n",
        "    \"\"\"Train a model (defined in Chapter 3).\"\"\"\n",
        "    animator = Animator(xlabel='epoch', xlim=[1, num_epochs], ylim=[0.3, 0.9],\n",
        "                        legend=['train loss', 'train acc', 'test acc'])\n",
        "    for epoch in range(num_epochs):\n",
        "        train_metrics = train_epoch_ch3(net, train_iter, loss, updater)\n",
        "        test_acc = evaluate_accuracy(net, test_iter)\n",
        "        animator.add(epoch + 1, train_metrics + (test_acc,))\n",
        "    train_loss, train_acc = train_metrics\n",
        "    assert train_loss < 0.5, train_loss\n",
        "    assert train_acc <= 1 and train_acc > 0.7, train_acc\n",
        "    assert test_acc <= 1 and test_acc > 0.7, test_acc"
      ],
      "metadata": {
        "id": "bwe-RaF4ehGE"
      },
      "execution_count": null,
      "outputs": []
    },
    {
      "cell_type": "code",
      "source": [
        "lr = 0.1\n",
        "\n",
        "def updater(batch_size):\n",
        "    return d2l.sgd([W, b], lr, batch_size)"
      ],
      "metadata": {
        "id": "lev3Hj-4en9o"
      },
      "execution_count": null,
      "outputs": []
    },
    {
      "cell_type": "code",
      "source": [
        "num_epochs = 10\n",
        "train_ch3(net, train_iter, test_iter, cross_entropy, num_epochs, updater)"
      ],
      "metadata": {
        "colab": {
          "base_uri": "https://localhost:8080/",
          "height": 267
        },
        "id": "xisFEelzerbK",
        "outputId": "4e2cc23a-3c95-4b2d-85ba-3b4f090c3330"
      },
      "execution_count": null,
      "outputs": [
        {
          "output_type": "display_data",
          "data": {
            "text/plain": [
              "<Figure size 252x180 with 1 Axes>"
            ],
            "image/svg+xml": "<?xml version=\"1.0\" encoding=\"utf-8\" standalone=\"no\"?>\n<!DOCTYPE svg PUBLIC \"-//W3C//DTD SVG 1.1//EN\"\n  \"http://www.w3.org/Graphics/SVG/1.1/DTD/svg11.dtd\">\n<!-- Created with matplotlib (https://matplotlib.org/) -->\n<svg height=\"184.15625pt\" version=\"1.1\" viewBox=\"0 0 238.965625 184.15625\" width=\"238.965625pt\" xmlns=\"http://www.w3.org/2000/svg\" xmlns:xlink=\"http://www.w3.org/1999/xlink\">\n <defs>\n  <style type=\"text/css\">\n*{stroke-linecap:butt;stroke-linejoin:round;}\n  </style>\n </defs>\n <g id=\"figure_1\">\n  <g id=\"patch_1\">\n   <path d=\"M 0 184.15625 \nL 238.965625 184.15625 \nL 238.965625 -0 \nL 0 -0 \nz\n\" style=\"fill:none;\"/>\n  </g>\n  <g id=\"axes_1\">\n   <g id=\"patch_2\">\n    <path d=\"M 30.103125 146.6 \nL 225.403125 146.6 \nL 225.403125 10.7 \nL 30.103125 10.7 \nz\n\" style=\"fill:#ffffff;\"/>\n   </g>\n   <g id=\"matplotlib.axis_1\">\n    <g id=\"xtick_1\">\n     <g id=\"line2d_1\">\n      <path clip-path=\"url(#p9587e9392e)\" d=\"M 51.803125 146.6 \nL 51.803125 10.7 \n\" style=\"fill:none;stroke:#b0b0b0;stroke-linecap:square;stroke-width:0.8;\"/>\n     </g>\n     <g id=\"line2d_2\">\n      <defs>\n       <path d=\"M 0 0 \nL 0 3.5 \n\" id=\"m6f0db4f61b\" style=\"stroke:#000000;stroke-width:0.8;\"/>\n      </defs>\n      <g>\n       <use style=\"stroke:#000000;stroke-width:0.8;\" x=\"51.803125\" xlink:href=\"#m6f0db4f61b\" y=\"146.6\"/>\n      </g>\n     </g>\n     <g id=\"text_1\">\n      <!-- 2 -->\n      <defs>\n       <path d=\"M 19.1875 8.296875 \nL 53.609375 8.296875 \nL 53.609375 0 \nL 7.328125 0 \nL 7.328125 8.296875 \nQ 12.9375 14.109375 22.625 23.890625 \nQ 32.328125 33.6875 34.8125 36.53125 \nQ 39.546875 41.84375 41.421875 45.53125 \nQ 43.3125 49.21875 43.3125 52.78125 \nQ 43.3125 58.59375 39.234375 62.25 \nQ 35.15625 65.921875 28.609375 65.921875 \nQ 23.96875 65.921875 18.8125 64.3125 \nQ 13.671875 62.703125 7.8125 59.421875 \nL 7.8125 69.390625 \nQ 13.765625 71.78125 18.9375 73 \nQ 24.125 74.21875 28.421875 74.21875 \nQ 39.75 74.21875 46.484375 68.546875 \nQ 53.21875 62.890625 53.21875 53.421875 \nQ 53.21875 48.921875 51.53125 44.890625 \nQ 49.859375 40.875 45.40625 35.40625 \nQ 44.1875 33.984375 37.640625 27.21875 \nQ 31.109375 20.453125 19.1875 8.296875 \nz\n\" id=\"DejaVuSans-50\"/>\n      </defs>\n      <g transform=\"translate(48.621875 161.198437)scale(0.1 -0.1)\">\n       <use xlink:href=\"#DejaVuSans-50\"/>\n      </g>\n     </g>\n    </g>\n    <g id=\"xtick_2\">\n     <g id=\"line2d_3\">\n      <path clip-path=\"url(#p9587e9392e)\" d=\"M 95.203125 146.6 \nL 95.203125 10.7 \n\" style=\"fill:none;stroke:#b0b0b0;stroke-linecap:square;stroke-width:0.8;\"/>\n     </g>\n     <g id=\"line2d_4\">\n      <g>\n       <use style=\"stroke:#000000;stroke-width:0.8;\" x=\"95.203125\" xlink:href=\"#m6f0db4f61b\" y=\"146.6\"/>\n      </g>\n     </g>\n     <g id=\"text_2\">\n      <!-- 4 -->\n      <defs>\n       <path d=\"M 37.796875 64.3125 \nL 12.890625 25.390625 \nL 37.796875 25.390625 \nz\nM 35.203125 72.90625 \nL 47.609375 72.90625 \nL 47.609375 25.390625 \nL 58.015625 25.390625 \nL 58.015625 17.1875 \nL 47.609375 17.1875 \nL 47.609375 0 \nL 37.796875 0 \nL 37.796875 17.1875 \nL 4.890625 17.1875 \nL 4.890625 26.703125 \nz\n\" id=\"DejaVuSans-52\"/>\n      </defs>\n      <g transform=\"translate(92.021875 161.198437)scale(0.1 -0.1)\">\n       <use xlink:href=\"#DejaVuSans-52\"/>\n      </g>\n     </g>\n    </g>\n    <g id=\"xtick_3\">\n     <g id=\"line2d_5\">\n      <path clip-path=\"url(#p9587e9392e)\" d=\"M 138.603125 146.6 \nL 138.603125 10.7 \n\" style=\"fill:none;stroke:#b0b0b0;stroke-linecap:square;stroke-width:0.8;\"/>\n     </g>\n     <g id=\"line2d_6\">\n      <g>\n       <use style=\"stroke:#000000;stroke-width:0.8;\" x=\"138.603125\" xlink:href=\"#m6f0db4f61b\" y=\"146.6\"/>\n      </g>\n     </g>\n     <g id=\"text_3\">\n      <!-- 6 -->\n      <defs>\n       <path d=\"M 33.015625 40.375 \nQ 26.375 40.375 22.484375 35.828125 \nQ 18.609375 31.296875 18.609375 23.390625 \nQ 18.609375 15.53125 22.484375 10.953125 \nQ 26.375 6.390625 33.015625 6.390625 \nQ 39.65625 6.390625 43.53125 10.953125 \nQ 47.40625 15.53125 47.40625 23.390625 \nQ 47.40625 31.296875 43.53125 35.828125 \nQ 39.65625 40.375 33.015625 40.375 \nz\nM 52.59375 71.296875 \nL 52.59375 62.3125 \nQ 48.875 64.0625 45.09375 64.984375 \nQ 41.3125 65.921875 37.59375 65.921875 \nQ 27.828125 65.921875 22.671875 59.328125 \nQ 17.53125 52.734375 16.796875 39.40625 \nQ 19.671875 43.65625 24.015625 45.921875 \nQ 28.375 48.1875 33.59375 48.1875 \nQ 44.578125 48.1875 50.953125 41.515625 \nQ 57.328125 34.859375 57.328125 23.390625 \nQ 57.328125 12.15625 50.6875 5.359375 \nQ 44.046875 -1.421875 33.015625 -1.421875 \nQ 20.359375 -1.421875 13.671875 8.265625 \nQ 6.984375 17.96875 6.984375 36.375 \nQ 6.984375 53.65625 15.1875 63.9375 \nQ 23.390625 74.21875 37.203125 74.21875 \nQ 40.921875 74.21875 44.703125 73.484375 \nQ 48.484375 72.75 52.59375 71.296875 \nz\n\" id=\"DejaVuSans-54\"/>\n      </defs>\n      <g transform=\"translate(135.421875 161.198437)scale(0.1 -0.1)\">\n       <use xlink:href=\"#DejaVuSans-54\"/>\n      </g>\n     </g>\n    </g>\n    <g id=\"xtick_4\">\n     <g id=\"line2d_7\">\n      <path clip-path=\"url(#p9587e9392e)\" d=\"M 182.003125 146.6 \nL 182.003125 10.7 \n\" style=\"fill:none;stroke:#b0b0b0;stroke-linecap:square;stroke-width:0.8;\"/>\n     </g>\n     <g id=\"line2d_8\">\n      <g>\n       <use style=\"stroke:#000000;stroke-width:0.8;\" x=\"182.003125\" xlink:href=\"#m6f0db4f61b\" y=\"146.6\"/>\n      </g>\n     </g>\n     <g id=\"text_4\">\n      <!-- 8 -->\n      <defs>\n       <path d=\"M 31.78125 34.625 \nQ 24.75 34.625 20.71875 30.859375 \nQ 16.703125 27.09375 16.703125 20.515625 \nQ 16.703125 13.921875 20.71875 10.15625 \nQ 24.75 6.390625 31.78125 6.390625 \nQ 38.8125 6.390625 42.859375 10.171875 \nQ 46.921875 13.96875 46.921875 20.515625 \nQ 46.921875 27.09375 42.890625 30.859375 \nQ 38.875 34.625 31.78125 34.625 \nz\nM 21.921875 38.8125 \nQ 15.578125 40.375 12.03125 44.71875 \nQ 8.5 49.078125 8.5 55.328125 \nQ 8.5 64.0625 14.71875 69.140625 \nQ 20.953125 74.21875 31.78125 74.21875 \nQ 42.671875 74.21875 48.875 69.140625 \nQ 55.078125 64.0625 55.078125 55.328125 \nQ 55.078125 49.078125 51.53125 44.71875 \nQ 48 40.375 41.703125 38.8125 \nQ 48.828125 37.15625 52.796875 32.3125 \nQ 56.78125 27.484375 56.78125 20.515625 \nQ 56.78125 9.90625 50.3125 4.234375 \nQ 43.84375 -1.421875 31.78125 -1.421875 \nQ 19.734375 -1.421875 13.25 4.234375 \nQ 6.78125 9.90625 6.78125 20.515625 \nQ 6.78125 27.484375 10.78125 32.3125 \nQ 14.796875 37.15625 21.921875 38.8125 \nz\nM 18.3125 54.390625 \nQ 18.3125 48.734375 21.84375 45.5625 \nQ 25.390625 42.390625 31.78125 42.390625 \nQ 38.140625 42.390625 41.71875 45.5625 \nQ 45.3125 48.734375 45.3125 54.390625 \nQ 45.3125 60.0625 41.71875 63.234375 \nQ 38.140625 66.40625 31.78125 66.40625 \nQ 25.390625 66.40625 21.84375 63.234375 \nQ 18.3125 60.0625 18.3125 54.390625 \nz\n\" id=\"DejaVuSans-56\"/>\n      </defs>\n      <g transform=\"translate(178.821875 161.198437)scale(0.1 -0.1)\">\n       <use xlink:href=\"#DejaVuSans-56\"/>\n      </g>\n     </g>\n    </g>\n    <g id=\"xtick_5\">\n     <g id=\"line2d_9\">\n      <path clip-path=\"url(#p9587e9392e)\" d=\"M 225.403125 146.6 \nL 225.403125 10.7 \n\" style=\"fill:none;stroke:#b0b0b0;stroke-linecap:square;stroke-width:0.8;\"/>\n     </g>\n     <g id=\"line2d_10\">\n      <g>\n       <use style=\"stroke:#000000;stroke-width:0.8;\" x=\"225.403125\" xlink:href=\"#m6f0db4f61b\" y=\"146.6\"/>\n      </g>\n     </g>\n     <g id=\"text_5\">\n      <!-- 10 -->\n      <defs>\n       <path d=\"M 12.40625 8.296875 \nL 28.515625 8.296875 \nL 28.515625 63.921875 \nL 10.984375 60.40625 \nL 10.984375 69.390625 \nL 28.421875 72.90625 \nL 38.28125 72.90625 \nL 38.28125 8.296875 \nL 54.390625 8.296875 \nL 54.390625 0 \nL 12.40625 0 \nz\n\" id=\"DejaVuSans-49\"/>\n       <path d=\"M 31.78125 66.40625 \nQ 24.171875 66.40625 20.328125 58.90625 \nQ 16.5 51.421875 16.5 36.375 \nQ 16.5 21.390625 20.328125 13.890625 \nQ 24.171875 6.390625 31.78125 6.390625 \nQ 39.453125 6.390625 43.28125 13.890625 \nQ 47.125 21.390625 47.125 36.375 \nQ 47.125 51.421875 43.28125 58.90625 \nQ 39.453125 66.40625 31.78125 66.40625 \nz\nM 31.78125 74.21875 \nQ 44.046875 74.21875 50.515625 64.515625 \nQ 56.984375 54.828125 56.984375 36.375 \nQ 56.984375 17.96875 50.515625 8.265625 \nQ 44.046875 -1.421875 31.78125 -1.421875 \nQ 19.53125 -1.421875 13.0625 8.265625 \nQ 6.59375 17.96875 6.59375 36.375 \nQ 6.59375 54.828125 13.0625 64.515625 \nQ 19.53125 74.21875 31.78125 74.21875 \nz\n\" id=\"DejaVuSans-48\"/>\n      </defs>\n      <g transform=\"translate(219.040625 161.198437)scale(0.1 -0.1)\">\n       <use xlink:href=\"#DejaVuSans-49\"/>\n       <use x=\"63.623047\" xlink:href=\"#DejaVuSans-48\"/>\n      </g>\n     </g>\n    </g>\n    <g id=\"text_6\">\n     <!-- epoch -->\n     <defs>\n      <path d=\"M 56.203125 29.59375 \nL 56.203125 25.203125 \nL 14.890625 25.203125 \nQ 15.484375 15.921875 20.484375 11.0625 \nQ 25.484375 6.203125 34.421875 6.203125 \nQ 39.59375 6.203125 44.453125 7.46875 \nQ 49.3125 8.734375 54.109375 11.28125 \nL 54.109375 2.78125 \nQ 49.265625 0.734375 44.1875 -0.34375 \nQ 39.109375 -1.421875 33.890625 -1.421875 \nQ 20.796875 -1.421875 13.15625 6.1875 \nQ 5.515625 13.8125 5.515625 26.8125 \nQ 5.515625 40.234375 12.765625 48.109375 \nQ 20.015625 56 32.328125 56 \nQ 43.359375 56 49.78125 48.890625 \nQ 56.203125 41.796875 56.203125 29.59375 \nz\nM 47.21875 32.234375 \nQ 47.125 39.59375 43.09375 43.984375 \nQ 39.0625 48.390625 32.421875 48.390625 \nQ 24.90625 48.390625 20.390625 44.140625 \nQ 15.875 39.890625 15.1875 32.171875 \nz\n\" id=\"DejaVuSans-101\"/>\n      <path d=\"M 18.109375 8.203125 \nL 18.109375 -20.796875 \nL 9.078125 -20.796875 \nL 9.078125 54.6875 \nL 18.109375 54.6875 \nL 18.109375 46.390625 \nQ 20.953125 51.265625 25.265625 53.625 \nQ 29.59375 56 35.59375 56 \nQ 45.5625 56 51.78125 48.09375 \nQ 58.015625 40.1875 58.015625 27.296875 \nQ 58.015625 14.40625 51.78125 6.484375 \nQ 45.5625 -1.421875 35.59375 -1.421875 \nQ 29.59375 -1.421875 25.265625 0.953125 \nQ 20.953125 3.328125 18.109375 8.203125 \nz\nM 48.6875 27.296875 \nQ 48.6875 37.203125 44.609375 42.84375 \nQ 40.53125 48.484375 33.40625 48.484375 \nQ 26.265625 48.484375 22.1875 42.84375 \nQ 18.109375 37.203125 18.109375 27.296875 \nQ 18.109375 17.390625 22.1875 11.75 \nQ 26.265625 6.109375 33.40625 6.109375 \nQ 40.53125 6.109375 44.609375 11.75 \nQ 48.6875 17.390625 48.6875 27.296875 \nz\n\" id=\"DejaVuSans-112\"/>\n      <path d=\"M 30.609375 48.390625 \nQ 23.390625 48.390625 19.1875 42.75 \nQ 14.984375 37.109375 14.984375 27.296875 \nQ 14.984375 17.484375 19.15625 11.84375 \nQ 23.34375 6.203125 30.609375 6.203125 \nQ 37.796875 6.203125 41.984375 11.859375 \nQ 46.1875 17.53125 46.1875 27.296875 \nQ 46.1875 37.015625 41.984375 42.703125 \nQ 37.796875 48.390625 30.609375 48.390625 \nz\nM 30.609375 56 \nQ 42.328125 56 49.015625 48.375 \nQ 55.71875 40.765625 55.71875 27.296875 \nQ 55.71875 13.875 49.015625 6.21875 \nQ 42.328125 -1.421875 30.609375 -1.421875 \nQ 18.84375 -1.421875 12.171875 6.21875 \nQ 5.515625 13.875 5.515625 27.296875 \nQ 5.515625 40.765625 12.171875 48.375 \nQ 18.84375 56 30.609375 56 \nz\n\" id=\"DejaVuSans-111\"/>\n      <path d=\"M 48.78125 52.59375 \nL 48.78125 44.1875 \nQ 44.96875 46.296875 41.140625 47.34375 \nQ 37.3125 48.390625 33.40625 48.390625 \nQ 24.65625 48.390625 19.8125 42.84375 \nQ 14.984375 37.3125 14.984375 27.296875 \nQ 14.984375 17.28125 19.8125 11.734375 \nQ 24.65625 6.203125 33.40625 6.203125 \nQ 37.3125 6.203125 41.140625 7.25 \nQ 44.96875 8.296875 48.78125 10.40625 \nL 48.78125 2.09375 \nQ 45.015625 0.34375 40.984375 -0.53125 \nQ 36.96875 -1.421875 32.421875 -1.421875 \nQ 20.0625 -1.421875 12.78125 6.34375 \nQ 5.515625 14.109375 5.515625 27.296875 \nQ 5.515625 40.671875 12.859375 48.328125 \nQ 20.21875 56 33.015625 56 \nQ 37.15625 56 41.109375 55.140625 \nQ 45.0625 54.296875 48.78125 52.59375 \nz\n\" id=\"DejaVuSans-99\"/>\n      <path d=\"M 54.890625 33.015625 \nL 54.890625 0 \nL 45.90625 0 \nL 45.90625 32.71875 \nQ 45.90625 40.484375 42.875 44.328125 \nQ 39.84375 48.1875 33.796875 48.1875 \nQ 26.515625 48.1875 22.3125 43.546875 \nQ 18.109375 38.921875 18.109375 30.90625 \nL 18.109375 0 \nL 9.078125 0 \nL 9.078125 75.984375 \nL 18.109375 75.984375 \nL 18.109375 46.1875 \nQ 21.34375 51.125 25.703125 53.5625 \nQ 30.078125 56 35.796875 56 \nQ 45.21875 56 50.046875 50.171875 \nQ 54.890625 44.34375 54.890625 33.015625 \nz\n\" id=\"DejaVuSans-104\"/>\n     </defs>\n     <g transform=\"translate(112.525 174.876562)scale(0.1 -0.1)\">\n      <use xlink:href=\"#DejaVuSans-101\"/>\n      <use x=\"61.523438\" xlink:href=\"#DejaVuSans-112\"/>\n      <use x=\"125\" xlink:href=\"#DejaVuSans-111\"/>\n      <use x=\"186.181641\" xlink:href=\"#DejaVuSans-99\"/>\n      <use x=\"241.162109\" xlink:href=\"#DejaVuSans-104\"/>\n     </g>\n    </g>\n   </g>\n   <g id=\"matplotlib.axis_2\">\n    <g id=\"ytick_1\">\n     <g id=\"line2d_11\">\n      <path clip-path=\"url(#p9587e9392e)\" d=\"M 30.103125 123.95 \nL 225.403125 123.95 \n\" style=\"fill:none;stroke:#b0b0b0;stroke-linecap:square;stroke-width:0.8;\"/>\n     </g>\n     <g id=\"line2d_12\">\n      <defs>\n       <path d=\"M 0 0 \nL -3.5 0 \n\" id=\"m38998ca11c\" style=\"stroke:#000000;stroke-width:0.8;\"/>\n      </defs>\n      <g>\n       <use style=\"stroke:#000000;stroke-width:0.8;\" x=\"30.103125\" xlink:href=\"#m38998ca11c\" y=\"123.95\"/>\n      </g>\n     </g>\n     <g id=\"text_7\">\n      <!-- 0.4 -->\n      <defs>\n       <path d=\"M 10.6875 12.40625 \nL 21 12.40625 \nL 21 0 \nL 10.6875 0 \nz\n\" id=\"DejaVuSans-46\"/>\n      </defs>\n      <g transform=\"translate(7.2 127.749219)scale(0.1 -0.1)\">\n       <use xlink:href=\"#DejaVuSans-48\"/>\n       <use x=\"63.623047\" xlink:href=\"#DejaVuSans-46\"/>\n       <use x=\"95.410156\" xlink:href=\"#DejaVuSans-52\"/>\n      </g>\n     </g>\n    </g>\n    <g id=\"ytick_2\">\n     <g id=\"line2d_13\">\n      <path clip-path=\"url(#p9587e9392e)\" d=\"M 30.103125 78.65 \nL 225.403125 78.65 \n\" style=\"fill:none;stroke:#b0b0b0;stroke-linecap:square;stroke-width:0.8;\"/>\n     </g>\n     <g id=\"line2d_14\">\n      <g>\n       <use style=\"stroke:#000000;stroke-width:0.8;\" x=\"30.103125\" xlink:href=\"#m38998ca11c\" y=\"78.65\"/>\n      </g>\n     </g>\n     <g id=\"text_8\">\n      <!-- 0.6 -->\n      <g transform=\"translate(7.2 82.449219)scale(0.1 -0.1)\">\n       <use xlink:href=\"#DejaVuSans-48\"/>\n       <use x=\"63.623047\" xlink:href=\"#DejaVuSans-46\"/>\n       <use x=\"95.410156\" xlink:href=\"#DejaVuSans-54\"/>\n      </g>\n     </g>\n    </g>\n    <g id=\"ytick_3\">\n     <g id=\"line2d_15\">\n      <path clip-path=\"url(#p9587e9392e)\" d=\"M 30.103125 33.35 \nL 225.403125 33.35 \n\" style=\"fill:none;stroke:#b0b0b0;stroke-linecap:square;stroke-width:0.8;\"/>\n     </g>\n     <g id=\"line2d_16\">\n      <g>\n       <use style=\"stroke:#000000;stroke-width:0.8;\" x=\"30.103125\" xlink:href=\"#m38998ca11c\" y=\"33.35\"/>\n      </g>\n     </g>\n     <g id=\"text_9\">\n      <!-- 0.8 -->\n      <g transform=\"translate(7.2 37.149219)scale(0.1 -0.1)\">\n       <use xlink:href=\"#DejaVuSans-48\"/>\n       <use x=\"63.623047\" xlink:href=\"#DejaVuSans-46\"/>\n       <use x=\"95.410156\" xlink:href=\"#DejaVuSans-56\"/>\n      </g>\n     </g>\n    </g>\n   </g>\n   <g id=\"line2d_17\">\n    <path clip-path=\"url(#p9587e9392e)\" d=\"M 30.103125 36.601379 \nL 51.803125 85.414943 \nL 73.503125 95.394845 \nL 95.203125 101.243457 \nL 116.903125 104.446606 \nL 138.603125 107.14231 \nL 160.303125 109.231632 \nL 182.003125 110.781582 \nL 203.703125 112.169193 \nL 225.403125 113.153963 \n\" style=\"fill:none;stroke:#1f77b4;stroke-linecap:square;stroke-width:1.5;\"/>\n   </g>\n   <g id=\"line2d_18\">\n    <path clip-path=\"url(#p9587e9392e)\" d=\"M 30.103125 44.1616 \nL 51.803125 30.341325 \nL 73.503125 27.52895 \nL 95.203125 25.98875 \nL 116.903125 25.026125 \nL 138.603125 24.414575 \nL 160.303125 23.78415 \nL 182.003125 23.221675 \nL 203.703125 22.791325 \nL 225.403125 22.255275 \n\" style=\"fill:none;stroke:#bf00bf;stroke-dasharray:5.55,2.4;stroke-dashoffset:0;stroke-width:1.5;\"/>\n   </g>\n   <g id=\"line2d_19\">\n    <path clip-path=\"url(#p9587e9392e)\" d=\"M 30.103125 34.27865 \nL 51.803125 32.444 \nL 73.503125 31.6286 \nL 95.203125 28.2311 \nL 116.903125 27.3704 \nL 138.603125 30.69995 \nL 160.303125 28.4123 \nL 182.003125 27.66485 \nL 203.703125 27.008 \nL 225.403125 29.29565 \n\" style=\"fill:none;stroke:#008000;stroke-dasharray:9.6,2.4,1.5,2.4;stroke-dashoffset:0;stroke-width:1.5;\"/>\n   </g>\n   <g id=\"patch_3\">\n    <path d=\"M 30.103125 146.6 \nL 30.103125 10.7 \n\" style=\"fill:none;stroke:#000000;stroke-linecap:square;stroke-linejoin:miter;stroke-width:0.8;\"/>\n   </g>\n   <g id=\"patch_4\">\n    <path d=\"M 225.403125 146.6 \nL 225.403125 10.7 \n\" style=\"fill:none;stroke:#000000;stroke-linecap:square;stroke-linejoin:miter;stroke-width:0.8;\"/>\n   </g>\n   <g id=\"patch_5\">\n    <path d=\"M 30.103125 146.6 \nL 225.403125 146.6 \n\" style=\"fill:none;stroke:#000000;stroke-linecap:square;stroke-linejoin:miter;stroke-width:0.8;\"/>\n   </g>\n   <g id=\"patch_6\">\n    <path d=\"M 30.103125 10.7 \nL 225.403125 10.7 \n\" style=\"fill:none;stroke:#000000;stroke-linecap:square;stroke-linejoin:miter;stroke-width:0.8;\"/>\n   </g>\n   <g id=\"legend_1\">\n    <g id=\"patch_7\">\n     <path d=\"M 140.634375 102.167187 \nL 218.403125 102.167187 \nQ 220.403125 102.167187 220.403125 100.167187 \nL 220.403125 57.132812 \nQ 220.403125 55.132812 218.403125 55.132812 \nL 140.634375 55.132812 \nQ 138.634375 55.132812 138.634375 57.132812 \nL 138.634375 100.167187 \nQ 138.634375 102.167187 140.634375 102.167187 \nz\n\" style=\"fill:#ffffff;opacity:0.8;stroke:#cccccc;stroke-linejoin:miter;\"/>\n    </g>\n    <g id=\"line2d_20\">\n     <path d=\"M 142.634375 63.23125 \nL 162.634375 63.23125 \n\" style=\"fill:none;stroke:#1f77b4;stroke-linecap:square;stroke-width:1.5;\"/>\n    </g>\n    <g id=\"line2d_21\"/>\n    <g id=\"text_10\">\n     <!-- train loss -->\n     <defs>\n      <path d=\"M 18.3125 70.21875 \nL 18.3125 54.6875 \nL 36.8125 54.6875 \nL 36.8125 47.703125 \nL 18.3125 47.703125 \nL 18.3125 18.015625 \nQ 18.3125 11.328125 20.140625 9.421875 \nQ 21.96875 7.515625 27.59375 7.515625 \nL 36.8125 7.515625 \nL 36.8125 0 \nL 27.59375 0 \nQ 17.1875 0 13.234375 3.875 \nQ 9.28125 7.765625 9.28125 18.015625 \nL 9.28125 47.703125 \nL 2.6875 47.703125 \nL 2.6875 54.6875 \nL 9.28125 54.6875 \nL 9.28125 70.21875 \nz\n\" id=\"DejaVuSans-116\"/>\n      <path d=\"M 41.109375 46.296875 \nQ 39.59375 47.171875 37.8125 47.578125 \nQ 36.03125 48 33.890625 48 \nQ 26.265625 48 22.1875 43.046875 \nQ 18.109375 38.09375 18.109375 28.8125 \nL 18.109375 0 \nL 9.078125 0 \nL 9.078125 54.6875 \nL 18.109375 54.6875 \nL 18.109375 46.1875 \nQ 20.953125 51.171875 25.484375 53.578125 \nQ 30.03125 56 36.53125 56 \nQ 37.453125 56 38.578125 55.875 \nQ 39.703125 55.765625 41.0625 55.515625 \nz\n\" id=\"DejaVuSans-114\"/>\n      <path d=\"M 34.28125 27.484375 \nQ 23.390625 27.484375 19.1875 25 \nQ 14.984375 22.515625 14.984375 16.5 \nQ 14.984375 11.71875 18.140625 8.90625 \nQ 21.296875 6.109375 26.703125 6.109375 \nQ 34.1875 6.109375 38.703125 11.40625 \nQ 43.21875 16.703125 43.21875 25.484375 \nL 43.21875 27.484375 \nz\nM 52.203125 31.203125 \nL 52.203125 0 \nL 43.21875 0 \nL 43.21875 8.296875 \nQ 40.140625 3.328125 35.546875 0.953125 \nQ 30.953125 -1.421875 24.3125 -1.421875 \nQ 15.921875 -1.421875 10.953125 3.296875 \nQ 6 8.015625 6 15.921875 \nQ 6 25.140625 12.171875 29.828125 \nQ 18.359375 34.515625 30.609375 34.515625 \nL 43.21875 34.515625 \nL 43.21875 35.40625 \nQ 43.21875 41.609375 39.140625 45 \nQ 35.0625 48.390625 27.6875 48.390625 \nQ 23 48.390625 18.546875 47.265625 \nQ 14.109375 46.140625 10.015625 43.890625 \nL 10.015625 52.203125 \nQ 14.9375 54.109375 19.578125 55.046875 \nQ 24.21875 56 28.609375 56 \nQ 40.484375 56 46.34375 49.84375 \nQ 52.203125 43.703125 52.203125 31.203125 \nz\n\" id=\"DejaVuSans-97\"/>\n      <path d=\"M 9.421875 54.6875 \nL 18.40625 54.6875 \nL 18.40625 0 \nL 9.421875 0 \nz\nM 9.421875 75.984375 \nL 18.40625 75.984375 \nL 18.40625 64.59375 \nL 9.421875 64.59375 \nz\n\" id=\"DejaVuSans-105\"/>\n      <path d=\"M 54.890625 33.015625 \nL 54.890625 0 \nL 45.90625 0 \nL 45.90625 32.71875 \nQ 45.90625 40.484375 42.875 44.328125 \nQ 39.84375 48.1875 33.796875 48.1875 \nQ 26.515625 48.1875 22.3125 43.546875 \nQ 18.109375 38.921875 18.109375 30.90625 \nL 18.109375 0 \nL 9.078125 0 \nL 9.078125 54.6875 \nL 18.109375 54.6875 \nL 18.109375 46.1875 \nQ 21.34375 51.125 25.703125 53.5625 \nQ 30.078125 56 35.796875 56 \nQ 45.21875 56 50.046875 50.171875 \nQ 54.890625 44.34375 54.890625 33.015625 \nz\n\" id=\"DejaVuSans-110\"/>\n      <path id=\"DejaVuSans-32\"/>\n      <path d=\"M 9.421875 75.984375 \nL 18.40625 75.984375 \nL 18.40625 0 \nL 9.421875 0 \nz\n\" id=\"DejaVuSans-108\"/>\n      <path d=\"M 44.28125 53.078125 \nL 44.28125 44.578125 \nQ 40.484375 46.53125 36.375 47.5 \nQ 32.28125 48.484375 27.875 48.484375 \nQ 21.1875 48.484375 17.84375 46.4375 \nQ 14.5 44.390625 14.5 40.28125 \nQ 14.5 37.15625 16.890625 35.375 \nQ 19.28125 33.59375 26.515625 31.984375 \nL 29.59375 31.296875 \nQ 39.15625 29.25 43.1875 25.515625 \nQ 47.21875 21.78125 47.21875 15.09375 \nQ 47.21875 7.46875 41.1875 3.015625 \nQ 35.15625 -1.421875 24.609375 -1.421875 \nQ 20.21875 -1.421875 15.453125 -0.5625 \nQ 10.6875 0.296875 5.421875 2 \nL 5.421875 11.28125 \nQ 10.40625 8.6875 15.234375 7.390625 \nQ 20.0625 6.109375 24.8125 6.109375 \nQ 31.15625 6.109375 34.5625 8.28125 \nQ 37.984375 10.453125 37.984375 14.40625 \nQ 37.984375 18.0625 35.515625 20.015625 \nQ 33.0625 21.96875 24.703125 23.78125 \nL 21.578125 24.515625 \nQ 13.234375 26.265625 9.515625 29.90625 \nQ 5.8125 33.546875 5.8125 39.890625 \nQ 5.8125 47.609375 11.28125 51.796875 \nQ 16.75 56 26.8125 56 \nQ 31.78125 56 36.171875 55.265625 \nQ 40.578125 54.546875 44.28125 53.078125 \nz\n\" id=\"DejaVuSans-115\"/>\n     </defs>\n     <g transform=\"translate(170.634375 66.73125)scale(0.1 -0.1)\">\n      <use xlink:href=\"#DejaVuSans-116\"/>\n      <use x=\"39.208984\" xlink:href=\"#DejaVuSans-114\"/>\n      <use x=\"80.322266\" xlink:href=\"#DejaVuSans-97\"/>\n      <use x=\"141.601562\" xlink:href=\"#DejaVuSans-105\"/>\n      <use x=\"169.384766\" xlink:href=\"#DejaVuSans-110\"/>\n      <use x=\"232.763672\" xlink:href=\"#DejaVuSans-32\"/>\n      <use x=\"264.550781\" xlink:href=\"#DejaVuSans-108\"/>\n      <use x=\"292.333984\" xlink:href=\"#DejaVuSans-111\"/>\n      <use x=\"353.515625\" xlink:href=\"#DejaVuSans-115\"/>\n      <use x=\"405.615234\" xlink:href=\"#DejaVuSans-115\"/>\n     </g>\n    </g>\n    <g id=\"line2d_22\">\n     <path d=\"M 142.634375 77.909375 \nL 162.634375 77.909375 \n\" style=\"fill:none;stroke:#bf00bf;stroke-dasharray:5.55,2.4;stroke-dashoffset:0;stroke-width:1.5;\"/>\n    </g>\n    <g id=\"line2d_23\"/>\n    <g id=\"text_11\">\n     <!-- train acc -->\n     <g transform=\"translate(170.634375 81.409375)scale(0.1 -0.1)\">\n      <use xlink:href=\"#DejaVuSans-116\"/>\n      <use x=\"39.208984\" xlink:href=\"#DejaVuSans-114\"/>\n      <use x=\"80.322266\" xlink:href=\"#DejaVuSans-97\"/>\n      <use x=\"141.601562\" xlink:href=\"#DejaVuSans-105\"/>\n      <use x=\"169.384766\" xlink:href=\"#DejaVuSans-110\"/>\n      <use x=\"232.763672\" xlink:href=\"#DejaVuSans-32\"/>\n      <use x=\"264.550781\" xlink:href=\"#DejaVuSans-97\"/>\n      <use x=\"325.830078\" xlink:href=\"#DejaVuSans-99\"/>\n      <use x=\"380.810547\" xlink:href=\"#DejaVuSans-99\"/>\n     </g>\n    </g>\n    <g id=\"line2d_24\">\n     <path d=\"M 142.634375 92.5875 \nL 162.634375 92.5875 \n\" style=\"fill:none;stroke:#008000;stroke-dasharray:9.6,2.4,1.5,2.4;stroke-dashoffset:0;stroke-width:1.5;\"/>\n    </g>\n    <g id=\"line2d_25\"/>\n    <g id=\"text_12\">\n     <!-- test acc -->\n     <g transform=\"translate(170.634375 96.0875)scale(0.1 -0.1)\">\n      <use xlink:href=\"#DejaVuSans-116\"/>\n      <use x=\"39.208984\" xlink:href=\"#DejaVuSans-101\"/>\n      <use x=\"100.732422\" xlink:href=\"#DejaVuSans-115\"/>\n      <use x=\"152.832031\" xlink:href=\"#DejaVuSans-116\"/>\n      <use x=\"192.041016\" xlink:href=\"#DejaVuSans-32\"/>\n      <use x=\"223.828125\" xlink:href=\"#DejaVuSans-97\"/>\n      <use x=\"285.107422\" xlink:href=\"#DejaVuSans-99\"/>\n      <use x=\"340.087891\" xlink:href=\"#DejaVuSans-99\"/>\n     </g>\n    </g>\n   </g>\n  </g>\n </g>\n <defs>\n  <clipPath id=\"p9587e9392e\">\n   <rect height=\"135.9\" width=\"195.3\" x=\"30.103125\" y=\"10.7\"/>\n  </clipPath>\n </defs>\n</svg>\n"
          },
          "metadata": {
            "needs_background": "light"
          }
        }
      ]
    },
    {
      "cell_type": "markdown",
      "source": [
        "# **3.6.7. Prediction**"
      ],
      "metadata": {
        "id": "sZkY5lEsfA8r"
      }
    },
    {
      "cell_type": "code",
      "source": [
        "def predict_ch3(net, test_iter, n=6):  \n",
        "    \"\"\"Predict labels (defined in Chapter 3).\"\"\"\n",
        "    for X, y in test_iter:\n",
        "        break\n",
        "    trues = d2l.get_fashion_mnist_labels(y)\n",
        "    preds = d2l.get_fashion_mnist_labels(net(X).argmax(axis=1))\n",
        "    titles = [true +'\\n' + pred for true, pred in zip(trues, preds)]\n",
        "    d2l.show_images(\n",
        "        X[0:n].reshape((n, 28, 28)), 1, n, titles=titles[0:n])\n",
        "\n",
        "predict_ch3(net, test_iter)"
      ],
      "metadata": {
        "colab": {
          "base_uri": "https://localhost:8080/",
          "height": 229
        },
        "id": "_7t6_xSofJdM",
        "outputId": "04432214-ee6a-4e84-ea04-1f110ac4c453"
      },
      "execution_count": null,
      "outputs": [
        {
          "output_type": "stream",
          "name": "stderr",
          "text": [
            "/usr/local/lib/python3.7/dist-packages/torch/utils/data/dataloader.py:481: UserWarning: This DataLoader will create 4 worker processes in total. Our suggested max number of worker in current system is 2, which is smaller than what this DataLoader is going to create. Please be aware that excessive worker creation might get DataLoader running slow or even freeze, lower the worker number to avoid potential slowness/freeze if necessary.\n",
            "  cpuset_checked))\n"
          ]
        },
        {
          "output_type": "display_data",
          "data": {
            "text/plain": [
              "<Figure size 648x108 with 6 Axes>"
            ],
            "image/svg+xml": "<?xml version=\"1.0\" encoding=\"utf-8\" standalone=\"no\"?>\n<!DOCTYPE svg PUBLIC \"-//W3C//DTD SVG 1.1//EN\"\n  \"http://www.w3.org/Graphics/SVG/1.1/DTD/svg11.dtd\">\n<!-- Created with matplotlib (https://matplotlib.org/) -->\n<svg height=\"114.698357pt\" version=\"1.1\" viewBox=\"0 0 516.6 114.698357\" width=\"516.6pt\" xmlns=\"http://www.w3.org/2000/svg\" xmlns:xlink=\"http://www.w3.org/1999/xlink\">\n <defs>\n  <style type=\"text/css\">\n*{stroke-linecap:butt;stroke-linejoin:round;}\n  </style>\n </defs>\n <g id=\"figure_1\">\n  <g id=\"patch_1\">\n   <path d=\"M 0 114.698357 \nL 516.6 114.698357 \nL 516.6 -0 \nL 0 -0 \nz\n\" style=\"fill:none;\"/>\n  </g>\n  <g id=\"axes_1\">\n   <g id=\"patch_2\">\n    <path d=\"M 7.2 107.498357 \nL 78.942857 107.498357 \nL 78.942857 35.7555 \nL 7.2 35.7555 \nz\n\" style=\"fill:#ffffff;\"/>\n   </g>\n   <g clip-path=\"url(#paf3754b96b)\">\n    <image height=\"72\" id=\"imageb7f0a7b889\" transform=\"scale(1 -1)translate(0 -72)\" width=\"72\" x=\"7.2\" xlink:href=\"data:image/png;base64,\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\" y=\"-35.498357\"/>\n   </g>\n   <g id=\"patch_3\">\n    <path d=\"M 7.2 107.498357 \nL 7.2 35.7555 \n\" style=\"fill:none;stroke:#000000;stroke-linecap:square;stroke-linejoin:miter;stroke-width:0.8;\"/>\n   </g>\n   <g id=\"patch_4\">\n    <path d=\"M 78.942857 107.498357 \nL 78.942857 35.7555 \n\" style=\"fill:none;stroke:#000000;stroke-linecap:square;stroke-linejoin:miter;stroke-width:0.8;\"/>\n   </g>\n   <g id=\"patch_5\">\n    <path d=\"M 7.2 107.498357 \nL 78.942857 107.498357 \n\" style=\"fill:none;stroke:#000000;stroke-linecap:square;stroke-linejoin:miter;stroke-width:0.8;\"/>\n   </g>\n   <g id=\"patch_6\">\n    <path d=\"M 7.2 35.7555 \nL 78.942857 35.7555 \n\" style=\"fill:none;stroke:#000000;stroke-linecap:square;stroke-linejoin:miter;stroke-width:0.8;\"/>\n   </g>\n   <g id=\"text_1\">\n    <!-- ankle boot -->\n    <defs>\n     <path d=\"M 34.28125 27.484375 \nQ 23.390625 27.484375 19.1875 25 \nQ 14.984375 22.515625 14.984375 16.5 \nQ 14.984375 11.71875 18.140625 8.90625 \nQ 21.296875 6.109375 26.703125 6.109375 \nQ 34.1875 6.109375 38.703125 11.40625 \nQ 43.21875 16.703125 43.21875 25.484375 \nL 43.21875 27.484375 \nz\nM 52.203125 31.203125 \nL 52.203125 0 \nL 43.21875 0 \nL 43.21875 8.296875 \nQ 40.140625 3.328125 35.546875 0.953125 \nQ 30.953125 -1.421875 24.3125 -1.421875 \nQ 15.921875 -1.421875 10.953125 3.296875 \nQ 6 8.015625 6 15.921875 \nQ 6 25.140625 12.171875 29.828125 \nQ 18.359375 34.515625 30.609375 34.515625 \nL 43.21875 34.515625 \nL 43.21875 35.40625 \nQ 43.21875 41.609375 39.140625 45 \nQ 35.0625 48.390625 27.6875 48.390625 \nQ 23 48.390625 18.546875 47.265625 \nQ 14.109375 46.140625 10.015625 43.890625 \nL 10.015625 52.203125 \nQ 14.9375 54.109375 19.578125 55.046875 \nQ 24.21875 56 28.609375 56 \nQ 40.484375 56 46.34375 49.84375 \nQ 52.203125 43.703125 52.203125 31.203125 \nz\n\" id=\"DejaVuSans-97\"/>\n     <path d=\"M 54.890625 33.015625 \nL 54.890625 0 \nL 45.90625 0 \nL 45.90625 32.71875 \nQ 45.90625 40.484375 42.875 44.328125 \nQ 39.84375 48.1875 33.796875 48.1875 \nQ 26.515625 48.1875 22.3125 43.546875 \nQ 18.109375 38.921875 18.109375 30.90625 \nL 18.109375 0 \nL 9.078125 0 \nL 9.078125 54.6875 \nL 18.109375 54.6875 \nL 18.109375 46.1875 \nQ 21.34375 51.125 25.703125 53.5625 \nQ 30.078125 56 35.796875 56 \nQ 45.21875 56 50.046875 50.171875 \nQ 54.890625 44.34375 54.890625 33.015625 \nz\n\" id=\"DejaVuSans-110\"/>\n     <path d=\"M 9.078125 75.984375 \nL 18.109375 75.984375 \nL 18.109375 31.109375 \nL 44.921875 54.6875 \nL 56.390625 54.6875 \nL 27.390625 29.109375 \nL 57.625 0 \nL 45.90625 0 \nL 18.109375 26.703125 \nL 18.109375 0 \nL 9.078125 0 \nz\n\" id=\"DejaVuSans-107\"/>\n     <path d=\"M 9.421875 75.984375 \nL 18.40625 75.984375 \nL 18.40625 0 \nL 9.421875 0 \nz\n\" id=\"DejaVuSans-108\"/>\n     <path d=\"M 56.203125 29.59375 \nL 56.203125 25.203125 \nL 14.890625 25.203125 \nQ 15.484375 15.921875 20.484375 11.0625 \nQ 25.484375 6.203125 34.421875 6.203125 \nQ 39.59375 6.203125 44.453125 7.46875 \nQ 49.3125 8.734375 54.109375 11.28125 \nL 54.109375 2.78125 \nQ 49.265625 0.734375 44.1875 -0.34375 \nQ 39.109375 -1.421875 33.890625 -1.421875 \nQ 20.796875 -1.421875 13.15625 6.1875 \nQ 5.515625 13.8125 5.515625 26.8125 \nQ 5.515625 40.234375 12.765625 48.109375 \nQ 20.015625 56 32.328125 56 \nQ 43.359375 56 49.78125 48.890625 \nQ 56.203125 41.796875 56.203125 29.59375 \nz\nM 47.21875 32.234375 \nQ 47.125 39.59375 43.09375 43.984375 \nQ 39.0625 48.390625 32.421875 48.390625 \nQ 24.90625 48.390625 20.390625 44.140625 \nQ 15.875 39.890625 15.1875 32.171875 \nz\n\" id=\"DejaVuSans-101\"/>\n     <path id=\"DejaVuSans-32\"/>\n     <path d=\"M 48.6875 27.296875 \nQ 48.6875 37.203125 44.609375 42.84375 \nQ 40.53125 48.484375 33.40625 48.484375 \nQ 26.265625 48.484375 22.1875 42.84375 \nQ 18.109375 37.203125 18.109375 27.296875 \nQ 18.109375 17.390625 22.1875 11.75 \nQ 26.265625 6.109375 33.40625 6.109375 \nQ 40.53125 6.109375 44.609375 11.75 \nQ 48.6875 17.390625 48.6875 27.296875 \nz\nM 18.109375 46.390625 \nQ 20.953125 51.265625 25.265625 53.625 \nQ 29.59375 56 35.59375 56 \nQ 45.5625 56 51.78125 48.09375 \nQ 58.015625 40.1875 58.015625 27.296875 \nQ 58.015625 14.40625 51.78125 6.484375 \nQ 45.5625 -1.421875 35.59375 -1.421875 \nQ 29.59375 -1.421875 25.265625 0.953125 \nQ 20.953125 3.328125 18.109375 8.203125 \nL 18.109375 0 \nL 9.078125 0 \nL 9.078125 75.984375 \nL 18.109375 75.984375 \nz\n\" id=\"DejaVuSans-98\"/>\n     <path d=\"M 30.609375 48.390625 \nQ 23.390625 48.390625 19.1875 42.75 \nQ 14.984375 37.109375 14.984375 27.296875 \nQ 14.984375 17.484375 19.15625 11.84375 \nQ 23.34375 6.203125 30.609375 6.203125 \nQ 37.796875 6.203125 41.984375 11.859375 \nQ 46.1875 17.53125 46.1875 27.296875 \nQ 46.1875 37.015625 41.984375 42.703125 \nQ 37.796875 48.390625 30.609375 48.390625 \nz\nM 30.609375 56 \nQ 42.328125 56 49.015625 48.375 \nQ 55.71875 40.765625 55.71875 27.296875 \nQ 55.71875 13.875 49.015625 6.21875 \nQ 42.328125 -1.421875 30.609375 -1.421875 \nQ 18.84375 -1.421875 12.171875 6.21875 \nQ 5.515625 13.875 5.515625 27.296875 \nQ 5.515625 40.765625 12.171875 48.375 \nQ 18.84375 56 30.609375 56 \nz\n\" id=\"DejaVuSans-111\"/>\n     <path d=\"M 18.3125 70.21875 \nL 18.3125 54.6875 \nL 36.8125 54.6875 \nL 36.8125 47.703125 \nL 18.3125 47.703125 \nL 18.3125 18.015625 \nQ 18.3125 11.328125 20.140625 9.421875 \nQ 21.96875 7.515625 27.59375 7.515625 \nL 36.8125 7.515625 \nL 36.8125 0 \nL 27.59375 0 \nQ 17.1875 0 13.234375 3.875 \nQ 9.28125 7.765625 9.28125 18.015625 \nL 9.28125 47.703125 \nL 2.6875 47.703125 \nL 2.6875 54.6875 \nL 9.28125 54.6875 \nL 9.28125 70.21875 \nz\n\" id=\"DejaVuSans-116\"/>\n    </defs>\n    <g transform=\"translate(11.348304 16.318125)scale(0.12 -0.12)\">\n     <use xlink:href=\"#DejaVuSans-97\"/>\n     <use x=\"61.279297\" xlink:href=\"#DejaVuSans-110\"/>\n     <use x=\"124.658203\" xlink:href=\"#DejaVuSans-107\"/>\n     <use x=\"182.568359\" xlink:href=\"#DejaVuSans-108\"/>\n     <use x=\"210.351562\" xlink:href=\"#DejaVuSans-101\"/>\n     <use x=\"271.875\" xlink:href=\"#DejaVuSans-32\"/>\n     <use x=\"303.662109\" xlink:href=\"#DejaVuSans-98\"/>\n     <use x=\"367.138672\" xlink:href=\"#DejaVuSans-111\"/>\n     <use x=\"428.320312\" xlink:href=\"#DejaVuSans-111\"/>\n     <use x=\"489.501953\" xlink:href=\"#DejaVuSans-116\"/>\n    </g>\n    <!-- ankle boot -->\n    <g transform=\"translate(11.348304 29.7555)scale(0.12 -0.12)\">\n     <use xlink:href=\"#DejaVuSans-97\"/>\n     <use x=\"61.279297\" xlink:href=\"#DejaVuSans-110\"/>\n     <use x=\"124.658203\" xlink:href=\"#DejaVuSans-107\"/>\n     <use x=\"182.568359\" xlink:href=\"#DejaVuSans-108\"/>\n     <use x=\"210.351562\" xlink:href=\"#DejaVuSans-101\"/>\n     <use x=\"271.875\" xlink:href=\"#DejaVuSans-32\"/>\n     <use x=\"303.662109\" xlink:href=\"#DejaVuSans-98\"/>\n     <use x=\"367.138672\" xlink:href=\"#DejaVuSans-111\"/>\n     <use x=\"428.320312\" xlink:href=\"#DejaVuSans-111\"/>\n     <use x=\"489.501953\" xlink:href=\"#DejaVuSans-116\"/>\n    </g>\n   </g>\n  </g>\n  <g id=\"axes_2\">\n   <g id=\"patch_7\">\n    <path d=\"M 93.291429 107.498357 \nL 165.034286 107.498357 \nL 165.034286 35.7555 \nL 93.291429 35.7555 \nz\n\" style=\"fill:#ffffff;\"/>\n   </g>\n   <g clip-path=\"url(#p4e14c687e9)\">\n    <image height=\"72\" id=\"image4a70388c34\" transform=\"scale(1 -1)translate(0 -72)\" width=\"72\" x=\"93.291429\" xlink:href=\"data:image/png;base64,\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\" y=\"-35.498357\"/>\n   </g>\n   <g id=\"patch_8\">\n    <path d=\"M 93.291429 107.498357 \nL 93.291429 35.7555 \n\" style=\"fill:none;stroke:#000000;stroke-linecap:square;stroke-linejoin:miter;stroke-width:0.8;\"/>\n   </g>\n   <g id=\"patch_9\">\n    <path d=\"M 165.034286 107.498357 \nL 165.034286 35.7555 \n\" style=\"fill:none;stroke:#000000;stroke-linecap:square;stroke-linejoin:miter;stroke-width:0.8;\"/>\n   </g>\n   <g id=\"patch_10\">\n    <path d=\"M 93.291429 107.498357 \nL 165.034286 107.498357 \n\" style=\"fill:none;stroke:#000000;stroke-linecap:square;stroke-linejoin:miter;stroke-width:0.8;\"/>\n   </g>\n   <g id=\"patch_11\">\n    <path d=\"M 93.291429 35.7555 \nL 165.034286 35.7555 \n\" style=\"fill:none;stroke:#000000;stroke-linecap:square;stroke-linejoin:miter;stroke-width:0.8;\"/>\n   </g>\n   <g id=\"text_2\">\n    <!-- pullover -->\n    <defs>\n     <path d=\"M 18.109375 8.203125 \nL 18.109375 -20.796875 \nL 9.078125 -20.796875 \nL 9.078125 54.6875 \nL 18.109375 54.6875 \nL 18.109375 46.390625 \nQ 20.953125 51.265625 25.265625 53.625 \nQ 29.59375 56 35.59375 56 \nQ 45.5625 56 51.78125 48.09375 \nQ 58.015625 40.1875 58.015625 27.296875 \nQ 58.015625 14.40625 51.78125 6.484375 \nQ 45.5625 -1.421875 35.59375 -1.421875 \nQ 29.59375 -1.421875 25.265625 0.953125 \nQ 20.953125 3.328125 18.109375 8.203125 \nz\nM 48.6875 27.296875 \nQ 48.6875 37.203125 44.609375 42.84375 \nQ 40.53125 48.484375 33.40625 48.484375 \nQ 26.265625 48.484375 22.1875 42.84375 \nQ 18.109375 37.203125 18.109375 27.296875 \nQ 18.109375 17.390625 22.1875 11.75 \nQ 26.265625 6.109375 33.40625 6.109375 \nQ 40.53125 6.109375 44.609375 11.75 \nQ 48.6875 17.390625 48.6875 27.296875 \nz\n\" id=\"DejaVuSans-112\"/>\n     <path d=\"M 8.5 21.578125 \nL 8.5 54.6875 \nL 17.484375 54.6875 \nL 17.484375 21.921875 \nQ 17.484375 14.15625 20.5 10.265625 \nQ 23.53125 6.390625 29.59375 6.390625 \nQ 36.859375 6.390625 41.078125 11.03125 \nQ 45.3125 15.671875 45.3125 23.6875 \nL 45.3125 54.6875 \nL 54.296875 54.6875 \nL 54.296875 0 \nL 45.3125 0 \nL 45.3125 8.40625 \nQ 42.046875 3.421875 37.71875 1 \nQ 33.40625 -1.421875 27.6875 -1.421875 \nQ 18.265625 -1.421875 13.375 4.4375 \nQ 8.5 10.296875 8.5 21.578125 \nz\nM 31.109375 56 \nz\n\" id=\"DejaVuSans-117\"/>\n     <path d=\"M 2.984375 54.6875 \nL 12.5 54.6875 \nL 29.59375 8.796875 \nL 46.6875 54.6875 \nL 56.203125 54.6875 \nL 35.6875 0 \nL 23.484375 0 \nz\n\" id=\"DejaVuSans-118\"/>\n     <path d=\"M 41.109375 46.296875 \nQ 39.59375 47.171875 37.8125 47.578125 \nQ 36.03125 48 33.890625 48 \nQ 26.265625 48 22.1875 43.046875 \nQ 18.109375 38.09375 18.109375 28.8125 \nL 18.109375 0 \nL 9.078125 0 \nL 9.078125 54.6875 \nL 18.109375 54.6875 \nL 18.109375 46.1875 \nQ 20.953125 51.171875 25.484375 53.578125 \nQ 30.03125 56 36.53125 56 \nQ 37.453125 56 38.578125 55.875 \nQ 39.703125 55.765625 41.0625 55.515625 \nz\n\" id=\"DejaVuSans-114\"/>\n    </defs>\n    <g transform=\"translate(104.836607 16.318125)scale(0.12 -0.12)\">\n     <use xlink:href=\"#DejaVuSans-112\"/>\n     <use x=\"63.476562\" xlink:href=\"#DejaVuSans-117\"/>\n     <use x=\"126.855469\" xlink:href=\"#DejaVuSans-108\"/>\n     <use x=\"154.638672\" xlink:href=\"#DejaVuSans-108\"/>\n     <use x=\"182.421875\" xlink:href=\"#DejaVuSans-111\"/>\n     <use x=\"243.603516\" xlink:href=\"#DejaVuSans-118\"/>\n     <use x=\"302.783203\" xlink:href=\"#DejaVuSans-101\"/>\n     <use x=\"364.306641\" xlink:href=\"#DejaVuSans-114\"/>\n    </g>\n    <!-- pullover -->\n    <g transform=\"translate(104.836607 29.7555)scale(0.12 -0.12)\">\n     <use xlink:href=\"#DejaVuSans-112\"/>\n     <use x=\"63.476562\" xlink:href=\"#DejaVuSans-117\"/>\n     <use x=\"126.855469\" xlink:href=\"#DejaVuSans-108\"/>\n     <use x=\"154.638672\" xlink:href=\"#DejaVuSans-108\"/>\n     <use x=\"182.421875\" xlink:href=\"#DejaVuSans-111\"/>\n     <use x=\"243.603516\" xlink:href=\"#DejaVuSans-118\"/>\n     <use x=\"302.783203\" xlink:href=\"#DejaVuSans-101\"/>\n     <use x=\"364.306641\" xlink:href=\"#DejaVuSans-114\"/>\n    </g>\n   </g>\n  </g>\n  <g id=\"axes_3\">\n   <g id=\"patch_12\">\n    <path d=\"M 179.382857 107.498357 \nL 251.125714 107.498357 \nL 251.125714 35.7555 \nL 179.382857 35.7555 \nz\n\" style=\"fill:#ffffff;\"/>\n   </g>\n   <g clip-path=\"url(#pa4aa884bd2)\">\n    <image height=\"72\" id=\"image3f588f2e04\" transform=\"scale(1 -1)translate(0 -72)\" width=\"72\" x=\"179.382857\" xlink:href=\"data:image/png;base64,\niVBORw0KGgoAAAANSUhEUgAAAEgAAABICAYAAABV7bNHAAAABHNCSVQICAgIfAhkiAAABXBJREFUeJztnF1oXEUUx/93NvfuZpPdfJc0UYK2fmBtjKXQagW1lKJg9SUFLYJvxScR9N038VGF+iD4JtQHi/gSLL6oYPEjGqlFjVrcRmoSmmyT3WxyN/fLh7l3zi2z2ZHuzgZkfi97OMncDDP/Mztn5uRaJ6zpCB1k8bVHhe0/UgEA9H/cK3yFj76R2mycPiJs5+wSAKBcywvfwPu8fXbm+/Z2FgBr+xP/Z5gBUtCl5amWxT8jOXqPn/lO2G/vnQUArBypCd905VVhJyGz/sKG8F058CkAoB55wnfw11cAAHfNtNpxGaMgBVoUZHXZAIDI25Z+dqp/Ttg/1esAgIsbU8LXaKENAprHlYCrbTnly65aLfZ4Z4yCFJgBUqAlxKIgkHyVM0cBAAedr4WvGvJF3Lbk30/z7P6fhV0O+WcACquexfC2+6rCKEiBnq/5SJ7RG8+4AIBaSF/9+VgE5z4/KXz7Ie+ktwJb2BlEt3wCQJA1i/SuYQZIgaYQk3fQHx79AACwHlK42Bm+Gx691DxfHs+uSb70Il0fMCG2a+hRUANWwx4AwBCjvKscL9jF+XXha/SF/WTvL8J2owwAYNLJCZ9il9ASRkEKzAAp0BpimQfuFfY9Nt9B/+0XhW/V52EXXv6t6XMKFh1thJAXZBNiu4gZIAVaQ2zxiWFhjzAeGmWLzogOOVUAwLuK59xt095p3pPjydKXqxoFqdCqoOqxLWG7cQJbYKSgN5Yfjy0PzchapCC3waY70jjNRkEKzAAp0Bpizx+YFfZayOdikNEiOzP/IABgH+bwXykHyS1sXfiCbAudVGAUpECrgh7r/V3YXjwXbuq0sevP7qbtWS4n+XKWvKB3bd5uD9UYBSkwA6RAa4g9laeF9IstXq4yaFeErz7afP9jOY7kc6NkT0TPjnNeLRgFKejYieJ2fBKYTpvGJlabttk8dh8AYD28KHyVsC+2UgrKQxtGQQrMACnoWIj1MB4S5dQt6UsT/Bb1AvY0bLPwNJ+/vEWLtRd1rMsAjIKUmAFS0DG9JsUGlYgyyxcLJQA7h1hujN+heREluJmGN2f6MApS0NkVD0A1pAQ0H08Py9NGJtykzPPw+AIAoB75whc0mFOvaAqodg0zQAr0Xvv4VABux3uZWpg+/uNVZ2vPTQpP8TxVmL1zx2fcxygs3VT5TEIw2DzpbQWjIAVaFXTJHRP2/c4ygFtrCxOqp6vCLp4n/0CGL95JwTkA9GcaHB9uZVrt6o4YBSkwA6RAa4jNu3uFfSj7DwDAtmhPsxAv4m8e/ET4zoFKZhLcVIKaY/L/f7BtffNsFKRAq4IuXHtI2GenfgQAOKlqp5LPLwGPd5eF78sfaM5uBnxB3gbttJPjjs2QlBQNyKpqF0ZBCswAKdAaYrW5IWHbD/O5uO4NCN9Ujiej13zaG70+8pWwv61T+wQWH3csBhRWE2PND/9bwShIgRkgBVpDbPgyndP0MV6oMNJFN6vJ/1ushlTEUPIpMU3SEpY6RQxhx20o6R3p5vspqtdvH0ZBCrQqqG92UfIVmSvs5HSxJ1X5mi5vSY5GnFTteHLcMcQogb16ky/mw2j/Ym0UpMAMkAKtIeaXFiRfIRVitahZeQuRTnBZXDW+z6Y3xpRXCgCAYbQfoyAFHbv2SY42bIv+5B/uKADgTpsW17TClnxe6lL2SC2swcWhc11WYrswClJgBkiBnhBj8SF6SGc/by2fAAC8N07XOpPOktT0qkdXRYcdvj/KMwohukqisOufb7nHO2IUpMDS8pK3Bm+gqk3zF7VlX6bddekKvxZie2hhZn9RXub38PZRP+2uI4/P6cTEDeHLniy1qeMyRkEKzAAp+BdDRnSQj8ergAAAAABJRU5ErkJggg==\" y=\"-35.498357\"/>\n   </g>\n   <g id=\"patch_13\">\n    <path d=\"M 179.382857 107.498357 \nL 179.382857 35.7555 \n\" style=\"fill:none;stroke:#000000;stroke-linecap:square;stroke-linejoin:miter;stroke-width:0.8;\"/>\n   </g>\n   <g id=\"patch_14\">\n    <path d=\"M 251.125714 107.498357 \nL 251.125714 35.7555 \n\" style=\"fill:none;stroke:#000000;stroke-linecap:square;stroke-linejoin:miter;stroke-width:0.8;\"/>\n   </g>\n   <g id=\"patch_15\">\n    <path d=\"M 179.382857 107.498357 \nL 251.125714 107.498357 \n\" style=\"fill:none;stroke:#000000;stroke-linecap:square;stroke-linejoin:miter;stroke-width:0.8;\"/>\n   </g>\n   <g id=\"patch_16\">\n    <path d=\"M 179.382857 35.7555 \nL 251.125714 35.7555 \n\" style=\"fill:none;stroke:#000000;stroke-linecap:square;stroke-linejoin:miter;stroke-width:0.8;\"/>\n   </g>\n   <g id=\"text_3\">\n    <!-- trouser -->\n    <defs>\n     <path d=\"M 44.28125 53.078125 \nL 44.28125 44.578125 \nQ 40.484375 46.53125 36.375 47.5 \nQ 32.28125 48.484375 27.875 48.484375 \nQ 21.1875 48.484375 17.84375 46.4375 \nQ 14.5 44.390625 14.5 40.28125 \nQ 14.5 37.15625 16.890625 35.375 \nQ 19.28125 33.59375 26.515625 31.984375 \nL 29.59375 31.296875 \nQ 39.15625 29.25 43.1875 25.515625 \nQ 47.21875 21.78125 47.21875 15.09375 \nQ 47.21875 7.46875 41.1875 3.015625 \nQ 35.15625 -1.421875 24.609375 -1.421875 \nQ 20.21875 -1.421875 15.453125 -0.5625 \nQ 10.6875 0.296875 5.421875 2 \nL 5.421875 11.28125 \nQ 10.40625 8.6875 15.234375 7.390625 \nQ 20.0625 6.109375 24.8125 6.109375 \nQ 31.15625 6.109375 34.5625 8.28125 \nQ 37.984375 10.453125 37.984375 14.40625 \nQ 37.984375 18.0625 35.515625 20.015625 \nQ 33.0625 21.96875 24.703125 23.78125 \nL 21.578125 24.515625 \nQ 13.234375 26.265625 9.515625 29.90625 \nQ 5.8125 33.546875 5.8125 39.890625 \nQ 5.8125 47.609375 11.28125 51.796875 \nQ 16.75 56 26.8125 56 \nQ 31.78125 56 36.171875 55.265625 \nQ 40.578125 54.546875 44.28125 53.078125 \nz\n\" id=\"DejaVuSans-115\"/>\n    </defs>\n    <g transform=\"translate(193.679598 16.318125)scale(0.12 -0.12)\">\n     <use xlink:href=\"#DejaVuSans-116\"/>\n     <use x=\"39.208984\" xlink:href=\"#DejaVuSans-114\"/>\n     <use x=\"80.291016\" xlink:href=\"#DejaVuSans-111\"/>\n     <use x=\"141.472656\" xlink:href=\"#DejaVuSans-117\"/>\n     <use x=\"204.851562\" xlink:href=\"#DejaVuSans-115\"/>\n     <use x=\"256.951172\" xlink:href=\"#DejaVuSans-101\"/>\n     <use x=\"318.474609\" xlink:href=\"#DejaVuSans-114\"/>\n    </g>\n    <!-- trouser -->\n    <g transform=\"translate(193.679598 29.7555)scale(0.12 -0.12)\">\n     <use xlink:href=\"#DejaVuSans-116\"/>\n     <use x=\"39.208984\" xlink:href=\"#DejaVuSans-114\"/>\n     <use x=\"80.291016\" xlink:href=\"#DejaVuSans-111\"/>\n     <use x=\"141.472656\" xlink:href=\"#DejaVuSans-117\"/>\n     <use x=\"204.851562\" xlink:href=\"#DejaVuSans-115\"/>\n     <use x=\"256.951172\" xlink:href=\"#DejaVuSans-101\"/>\n     <use x=\"318.474609\" xlink:href=\"#DejaVuSans-114\"/>\n    </g>\n   </g>\n  </g>\n  <g id=\"axes_4\">\n   <g id=\"patch_17\">\n    <path d=\"M 265.474286 107.498357 \nL 337.217143 107.498357 \nL 337.217143 35.7555 \nL 265.474286 35.7555 \nz\n\" style=\"fill:#ffffff;\"/>\n   </g>\n   <g clip-path=\"url(#p08e2486bcd)\">\n    <image height=\"72\" id=\"image3e111ad6f7\" transform=\"scale(1 -1)translate(0 -72)\" width=\"72\" x=\"265.474286\" xlink:href=\"data:image/png;base64,\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\" y=\"-35.498357\"/>\n   </g>\n   <g id=\"patch_18\">\n    <path d=\"M 265.474286 107.498357 \nL 265.474286 35.7555 \n\" style=\"fill:none;stroke:#000000;stroke-linecap:square;stroke-linejoin:miter;stroke-width:0.8;\"/>\n   </g>\n   <g id=\"patch_19\">\n    <path d=\"M 337.217143 107.498357 \nL 337.217143 35.7555 \n\" style=\"fill:none;stroke:#000000;stroke-linecap:square;stroke-linejoin:miter;stroke-width:0.8;\"/>\n   </g>\n   <g id=\"patch_20\">\n    <path d=\"M 265.474286 107.498357 \nL 337.217143 107.498357 \n\" style=\"fill:none;stroke:#000000;stroke-linecap:square;stroke-linejoin:miter;stroke-width:0.8;\"/>\n   </g>\n   <g id=\"patch_21\">\n    <path d=\"M 265.474286 35.7555 \nL 337.217143 35.7555 \n\" style=\"fill:none;stroke:#000000;stroke-linecap:square;stroke-linejoin:miter;stroke-width:0.8;\"/>\n   </g>\n   <g id=\"text_4\">\n    <!-- trouser -->\n    <g transform=\"translate(279.771027 16.318125)scale(0.12 -0.12)\">\n     <use xlink:href=\"#DejaVuSans-116\"/>\n     <use x=\"39.208984\" xlink:href=\"#DejaVuSans-114\"/>\n     <use x=\"80.291016\" xlink:href=\"#DejaVuSans-111\"/>\n     <use x=\"141.472656\" xlink:href=\"#DejaVuSans-117\"/>\n     <use x=\"204.851562\" xlink:href=\"#DejaVuSans-115\"/>\n     <use x=\"256.951172\" xlink:href=\"#DejaVuSans-101\"/>\n     <use x=\"318.474609\" xlink:href=\"#DejaVuSans-114\"/>\n    </g>\n    <!-- trouser -->\n    <g transform=\"translate(279.771027 29.7555)scale(0.12 -0.12)\">\n     <use xlink:href=\"#DejaVuSans-116\"/>\n     <use x=\"39.208984\" xlink:href=\"#DejaVuSans-114\"/>\n     <use x=\"80.291016\" xlink:href=\"#DejaVuSans-111\"/>\n     <use x=\"141.472656\" xlink:href=\"#DejaVuSans-117\"/>\n     <use x=\"204.851562\" xlink:href=\"#DejaVuSans-115\"/>\n     <use x=\"256.951172\" xlink:href=\"#DejaVuSans-101\"/>\n     <use x=\"318.474609\" xlink:href=\"#DejaVuSans-114\"/>\n    </g>\n   </g>\n  </g>\n  <g id=\"axes_5\">\n   <g id=\"patch_22\">\n    <path d=\"M 351.565714 107.498357 \nL 423.308571 107.498357 \nL 423.308571 35.7555 \nL 351.565714 35.7555 \nz\n\" style=\"fill:#ffffff;\"/>\n   </g>\n   <g clip-path=\"url(#p40989eb9cf)\">\n    <image height=\"72\" id=\"image2750a98c25\" transform=\"scale(1 -1)translate(0 -72)\" width=\"72\" x=\"351.565714\" xlink:href=\"data:image/png;base64,\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\" y=\"-35.498357\"/>\n   </g>\n   <g id=\"patch_23\">\n    <path d=\"M 351.565714 107.498357 \nL 351.565714 35.7555 \n\" style=\"fill:none;stroke:#000000;stroke-linecap:square;stroke-linejoin:miter;stroke-width:0.8;\"/>\n   </g>\n   <g id=\"patch_24\">\n    <path d=\"M 423.308571 107.498357 \nL 423.308571 35.7555 \n\" style=\"fill:none;stroke:#000000;stroke-linecap:square;stroke-linejoin:miter;stroke-width:0.8;\"/>\n   </g>\n   <g id=\"patch_25\">\n    <path d=\"M 351.565714 107.498357 \nL 423.308571 107.498357 \n\" style=\"fill:none;stroke:#000000;stroke-linecap:square;stroke-linejoin:miter;stroke-width:0.8;\"/>\n   </g>\n   <g id=\"patch_26\">\n    <path d=\"M 351.565714 35.7555 \nL 423.308571 35.7555 \n\" style=\"fill:none;stroke:#000000;stroke-linecap:square;stroke-linejoin:miter;stroke-width:0.8;\"/>\n   </g>\n   <g id=\"text_5\">\n    <!-- shirt -->\n    <defs>\n     <path d=\"M 54.890625 33.015625 \nL 54.890625 0 \nL 45.90625 0 \nL 45.90625 32.71875 \nQ 45.90625 40.484375 42.875 44.328125 \nQ 39.84375 48.1875 33.796875 48.1875 \nQ 26.515625 48.1875 22.3125 43.546875 \nQ 18.109375 38.921875 18.109375 30.90625 \nL 18.109375 0 \nL 9.078125 0 \nL 9.078125 75.984375 \nL 18.109375 75.984375 \nL 18.109375 46.1875 \nQ 21.34375 51.125 25.703125 53.5625 \nQ 30.078125 56 35.796875 56 \nQ 45.21875 56 50.046875 50.171875 \nQ 54.890625 44.34375 54.890625 33.015625 \nz\n\" id=\"DejaVuSans-104\"/>\n     <path d=\"M 9.421875 54.6875 \nL 18.40625 54.6875 \nL 18.40625 0 \nL 9.421875 0 \nz\nM 9.421875 75.984375 \nL 18.40625 75.984375 \nL 18.40625 64.59375 \nL 9.421875 64.59375 \nz\n\" id=\"DejaVuSans-105\"/>\n    </defs>\n    <g transform=\"translate(374.023393 16.318125)scale(0.12 -0.12)\">\n     <use xlink:href=\"#DejaVuSans-115\"/>\n     <use x=\"52.099609\" xlink:href=\"#DejaVuSans-104\"/>\n     <use x=\"115.478516\" xlink:href=\"#DejaVuSans-105\"/>\n     <use x=\"143.261719\" xlink:href=\"#DejaVuSans-114\"/>\n     <use x=\"184.375\" xlink:href=\"#DejaVuSans-116\"/>\n    </g>\n    <!-- shirt -->\n    <g transform=\"translate(374.023393 29.7555)scale(0.12 -0.12)\">\n     <use xlink:href=\"#DejaVuSans-115\"/>\n     <use x=\"52.099609\" xlink:href=\"#DejaVuSans-104\"/>\n     <use x=\"115.478516\" xlink:href=\"#DejaVuSans-105\"/>\n     <use x=\"143.261719\" xlink:href=\"#DejaVuSans-114\"/>\n     <use x=\"184.375\" xlink:href=\"#DejaVuSans-116\"/>\n    </g>\n   </g>\n  </g>\n  <g id=\"axes_6\">\n   <g id=\"patch_27\">\n    <path d=\"M 437.657143 107.498357 \nL 509.4 107.498357 \nL 509.4 35.7555 \nL 437.657143 35.7555 \nz\n\" style=\"fill:#ffffff;\"/>\n   </g>\n   <g clip-path=\"url(#p023d862749)\">\n    <image height=\"72\" id=\"imagec20799a89f\" transform=\"scale(1 -1)translate(0 -72)\" width=\"72\" x=\"437.657143\" xlink:href=\"data:image/png;base64,\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\" y=\"-35.498357\"/>\n   </g>\n   <g id=\"patch_28\">\n    <path d=\"M 437.657143 107.498357 \nL 437.657143 35.7555 \n\" style=\"fill:none;stroke:#000000;stroke-linecap:square;stroke-linejoin:miter;stroke-width:0.8;\"/>\n   </g>\n   <g id=\"patch_29\">\n    <path d=\"M 509.4 107.498357 \nL 509.4 35.7555 \n\" style=\"fill:none;stroke:#000000;stroke-linecap:square;stroke-linejoin:miter;stroke-width:0.8;\"/>\n   </g>\n   <g id=\"patch_30\">\n    <path d=\"M 437.657143 107.498357 \nL 509.4 107.498357 \n\" style=\"fill:none;stroke:#000000;stroke-linecap:square;stroke-linejoin:miter;stroke-width:0.8;\"/>\n   </g>\n   <g id=\"patch_31\">\n    <path d=\"M 437.657143 35.7555 \nL 509.4 35.7555 \n\" style=\"fill:none;stroke:#000000;stroke-linecap:square;stroke-linejoin:miter;stroke-width:0.8;\"/>\n   </g>\n   <g id=\"text_6\">\n    <!-- trouser -->\n    <g transform=\"translate(451.953884 16.318125)scale(0.12 -0.12)\">\n     <use xlink:href=\"#DejaVuSans-116\"/>\n     <use x=\"39.208984\" xlink:href=\"#DejaVuSans-114\"/>\n     <use x=\"80.291016\" xlink:href=\"#DejaVuSans-111\"/>\n     <use x=\"141.472656\" xlink:href=\"#DejaVuSans-117\"/>\n     <use x=\"204.851562\" xlink:href=\"#DejaVuSans-115\"/>\n     <use x=\"256.951172\" xlink:href=\"#DejaVuSans-101\"/>\n     <use x=\"318.474609\" xlink:href=\"#DejaVuSans-114\"/>\n    </g>\n    <!-- trouser -->\n    <g transform=\"translate(451.953884 29.7555)scale(0.12 -0.12)\">\n     <use xlink:href=\"#DejaVuSans-116\"/>\n     <use x=\"39.208984\" xlink:href=\"#DejaVuSans-114\"/>\n     <use x=\"80.291016\" xlink:href=\"#DejaVuSans-111\"/>\n     <use x=\"141.472656\" xlink:href=\"#DejaVuSans-117\"/>\n     <use x=\"204.851562\" xlink:href=\"#DejaVuSans-115\"/>\n     <use x=\"256.951172\" xlink:href=\"#DejaVuSans-101\"/>\n     <use x=\"318.474609\" xlink:href=\"#DejaVuSans-114\"/>\n    </g>\n   </g>\n  </g>\n </g>\n <defs>\n  <clipPath id=\"paf3754b96b\">\n   <rect height=\"71.742857\" width=\"71.742857\" x=\"7.2\" y=\"35.7555\"/>\n  </clipPath>\n  <clipPath id=\"p4e14c687e9\">\n   <rect height=\"71.742857\" width=\"71.742857\" x=\"93.291429\" y=\"35.7555\"/>\n  </clipPath>\n  <clipPath id=\"pa4aa884bd2\">\n   <rect height=\"71.742857\" width=\"71.742857\" x=\"179.382857\" y=\"35.7555\"/>\n  </clipPath>\n  <clipPath id=\"p08e2486bcd\">\n   <rect height=\"71.742857\" width=\"71.742857\" x=\"265.474286\" y=\"35.7555\"/>\n  </clipPath>\n  <clipPath id=\"p40989eb9cf\">\n   <rect height=\"71.742857\" width=\"71.742857\" x=\"351.565714\" y=\"35.7555\"/>\n  </clipPath>\n  <clipPath id=\"p023d862749\">\n   <rect height=\"71.742857\" width=\"71.742857\" x=\"437.657143\" y=\"35.7555\"/>\n  </clipPath>\n </defs>\n</svg>\n"
          },
          "metadata": {
            "needs_background": "light"
          }
        }
      ]
    },
    {
      "cell_type": "markdown",
      "source": [
        "# **3.7. Concise Implementation of Softmax Regression**"
      ],
      "metadata": {
        "id": "cpmxzIg1fnnz"
      }
    },
    {
      "cell_type": "code",
      "source": [
        "import torch\n",
        "from torch import nn\n",
        "from d2l import torch as d2l\n",
        "\n",
        "batch_size = 256\n",
        "train_iter, test_iter = d2l.load_data_fashion_mnist(batch_size)"
      ],
      "metadata": {
        "colab": {
          "base_uri": "https://localhost:8080/"
        },
        "id": "Y3ed5U_nfq_t",
        "outputId": "1ed6e2f3-edc3-4423-8e00-e0e69f580ec0"
      },
      "execution_count": null,
      "outputs": [
        {
          "output_type": "stream",
          "name": "stderr",
          "text": [
            "/usr/local/lib/python3.7/dist-packages/torch/utils/data/dataloader.py:481: UserWarning: This DataLoader will create 4 worker processes in total. Our suggested max number of worker in current system is 2, which is smaller than what this DataLoader is going to create. Please be aware that excessive worker creation might get DataLoader running slow or even freeze, lower the worker number to avoid potential slowness/freeze if necessary.\n",
            "  cpuset_checked))\n"
          ]
        }
      ]
    },
    {
      "cell_type": "markdown",
      "source": [
        "# **3.7.1. Initializing Model Parameters**"
      ],
      "metadata": {
        "id": "zWaIu3Fofy0G"
      }
    },
    {
      "cell_type": "code",
      "source": [
        "# PyTorch does not implicitly reshape the inputs. Thus we define the flatten\n",
        "# layer to reshape the inputs before the linear layer in our network\n",
        "net = nn.Sequential(nn.Flatten(), nn.Linear(784, 10))\n",
        "\n",
        "def init_weights(m):\n",
        "    if type(m) == nn.Linear:\n",
        "        nn.init.normal_(m.weight, std=0.01)\n",
        "\n",
        "net.apply(init_weights);"
      ],
      "metadata": {
        "id": "bYpO1pm1f24H"
      },
      "execution_count": null,
      "outputs": []
    },
    {
      "cell_type": "markdown",
      "source": [
        "# **3.7.2. Softmax Implementation Revisited**"
      ],
      "metadata": {
        "id": "SUfRoIbDf8w5"
      }
    },
    {
      "cell_type": "code",
      "source": [
        "loss = nn.CrossEntropyLoss(reduction='none')"
      ],
      "metadata": {
        "id": "yeGCmBRugAuo"
      },
      "execution_count": null,
      "outputs": []
    },
    {
      "cell_type": "markdown",
      "source": [
        "# **3.7.3. Optimization Algorithm**"
      ],
      "metadata": {
        "id": "rAcWAmP5gGWB"
      }
    },
    {
      "cell_type": "code",
      "source": [
        "trainer = torch.optim.SGD(net.parameters(), lr=0.1)"
      ],
      "metadata": {
        "id": "UN-86NXtgKCD"
      },
      "execution_count": null,
      "outputs": []
    },
    {
      "cell_type": "markdown",
      "source": [
        "# **3.7.4. Training**"
      ],
      "metadata": {
        "id": "vp91zTnZgOzV"
      }
    },
    {
      "cell_type": "code",
      "source": [
        "num_epochs = 10\n",
        "d2l.train_ch3(net, train_iter, test_iter, loss, num_epochs, trainer)"
      ],
      "metadata": {
        "colab": {
          "base_uri": "https://localhost:8080/",
          "height": 267
        },
        "id": "NQ_icRaHgS4m",
        "outputId": "582bc8d7-45ac-4391-9a38-38b63fc651bc"
      },
      "execution_count": null,
      "outputs": [
        {
          "output_type": "display_data",
          "data": {
            "text/plain": [
              "<Figure size 252x180 with 1 Axes>"
            ],
            "image/svg+xml": "<?xml version=\"1.0\" encoding=\"utf-8\" standalone=\"no\"?>\n<!DOCTYPE svg PUBLIC \"-//W3C//DTD SVG 1.1//EN\"\n  \"http://www.w3.org/Graphics/SVG/1.1/DTD/svg11.dtd\">\n<!-- Created with matplotlib (https://matplotlib.org/) -->\n<svg height=\"184.15625pt\" version=\"1.1\" viewBox=\"0 0 238.965625 184.15625\" width=\"238.965625pt\" xmlns=\"http://www.w3.org/2000/svg\" xmlns:xlink=\"http://www.w3.org/1999/xlink\">\n <defs>\n  <style type=\"text/css\">\n*{stroke-linecap:butt;stroke-linejoin:round;}\n  </style>\n </defs>\n <g id=\"figure_1\">\n  <g id=\"patch_1\">\n   <path d=\"M 0 184.15625 \nL 238.965625 184.15625 \nL 238.965625 -0 \nL 0 -0 \nz\n\" style=\"fill:none;\"/>\n  </g>\n  <g id=\"axes_1\">\n   <g id=\"patch_2\">\n    <path d=\"M 30.103125 146.6 \nL 225.403125 146.6 \nL 225.403125 10.7 \nL 30.103125 10.7 \nz\n\" style=\"fill:#ffffff;\"/>\n   </g>\n   <g id=\"matplotlib.axis_1\">\n    <g id=\"xtick_1\">\n     <g id=\"line2d_1\">\n      <path clip-path=\"url(#p16c6edbdce)\" d=\"M 51.803125 146.6 \nL 51.803125 10.7 \n\" style=\"fill:none;stroke:#b0b0b0;stroke-linecap:square;stroke-width:0.8;\"/>\n     </g>\n     <g id=\"line2d_2\">\n      <defs>\n       <path d=\"M 0 0 \nL 0 3.5 \n\" id=\"mf5c2645171\" style=\"stroke:#000000;stroke-width:0.8;\"/>\n      </defs>\n      <g>\n       <use style=\"stroke:#000000;stroke-width:0.8;\" x=\"51.803125\" xlink:href=\"#mf5c2645171\" y=\"146.6\"/>\n      </g>\n     </g>\n     <g id=\"text_1\">\n      <!-- 2 -->\n      <defs>\n       <path d=\"M 19.1875 8.296875 \nL 53.609375 8.296875 \nL 53.609375 0 \nL 7.328125 0 \nL 7.328125 8.296875 \nQ 12.9375 14.109375 22.625 23.890625 \nQ 32.328125 33.6875 34.8125 36.53125 \nQ 39.546875 41.84375 41.421875 45.53125 \nQ 43.3125 49.21875 43.3125 52.78125 \nQ 43.3125 58.59375 39.234375 62.25 \nQ 35.15625 65.921875 28.609375 65.921875 \nQ 23.96875 65.921875 18.8125 64.3125 \nQ 13.671875 62.703125 7.8125 59.421875 \nL 7.8125 69.390625 \nQ 13.765625 71.78125 18.9375 73 \nQ 24.125 74.21875 28.421875 74.21875 \nQ 39.75 74.21875 46.484375 68.546875 \nQ 53.21875 62.890625 53.21875 53.421875 \nQ 53.21875 48.921875 51.53125 44.890625 \nQ 49.859375 40.875 45.40625 35.40625 \nQ 44.1875 33.984375 37.640625 27.21875 \nQ 31.109375 20.453125 19.1875 8.296875 \nz\n\" id=\"DejaVuSans-50\"/>\n      </defs>\n      <g transform=\"translate(48.621875 161.198437)scale(0.1 -0.1)\">\n       <use xlink:href=\"#DejaVuSans-50\"/>\n      </g>\n     </g>\n    </g>\n    <g id=\"xtick_2\">\n     <g id=\"line2d_3\">\n      <path clip-path=\"url(#p16c6edbdce)\" d=\"M 95.203125 146.6 \nL 95.203125 10.7 \n\" style=\"fill:none;stroke:#b0b0b0;stroke-linecap:square;stroke-width:0.8;\"/>\n     </g>\n     <g id=\"line2d_4\">\n      <g>\n       <use style=\"stroke:#000000;stroke-width:0.8;\" x=\"95.203125\" xlink:href=\"#mf5c2645171\" y=\"146.6\"/>\n      </g>\n     </g>\n     <g id=\"text_2\">\n      <!-- 4 -->\n      <defs>\n       <path d=\"M 37.796875 64.3125 \nL 12.890625 25.390625 \nL 37.796875 25.390625 \nz\nM 35.203125 72.90625 \nL 47.609375 72.90625 \nL 47.609375 25.390625 \nL 58.015625 25.390625 \nL 58.015625 17.1875 \nL 47.609375 17.1875 \nL 47.609375 0 \nL 37.796875 0 \nL 37.796875 17.1875 \nL 4.890625 17.1875 \nL 4.890625 26.703125 \nz\n\" id=\"DejaVuSans-52\"/>\n      </defs>\n      <g transform=\"translate(92.021875 161.198437)scale(0.1 -0.1)\">\n       <use xlink:href=\"#DejaVuSans-52\"/>\n      </g>\n     </g>\n    </g>\n    <g id=\"xtick_3\">\n     <g id=\"line2d_5\">\n      <path clip-path=\"url(#p16c6edbdce)\" d=\"M 138.603125 146.6 \nL 138.603125 10.7 \n\" style=\"fill:none;stroke:#b0b0b0;stroke-linecap:square;stroke-width:0.8;\"/>\n     </g>\n     <g id=\"line2d_6\">\n      <g>\n       <use style=\"stroke:#000000;stroke-width:0.8;\" x=\"138.603125\" xlink:href=\"#mf5c2645171\" y=\"146.6\"/>\n      </g>\n     </g>\n     <g id=\"text_3\">\n      <!-- 6 -->\n      <defs>\n       <path d=\"M 33.015625 40.375 \nQ 26.375 40.375 22.484375 35.828125 \nQ 18.609375 31.296875 18.609375 23.390625 \nQ 18.609375 15.53125 22.484375 10.953125 \nQ 26.375 6.390625 33.015625 6.390625 \nQ 39.65625 6.390625 43.53125 10.953125 \nQ 47.40625 15.53125 47.40625 23.390625 \nQ 47.40625 31.296875 43.53125 35.828125 \nQ 39.65625 40.375 33.015625 40.375 \nz\nM 52.59375 71.296875 \nL 52.59375 62.3125 \nQ 48.875 64.0625 45.09375 64.984375 \nQ 41.3125 65.921875 37.59375 65.921875 \nQ 27.828125 65.921875 22.671875 59.328125 \nQ 17.53125 52.734375 16.796875 39.40625 \nQ 19.671875 43.65625 24.015625 45.921875 \nQ 28.375 48.1875 33.59375 48.1875 \nQ 44.578125 48.1875 50.953125 41.515625 \nQ 57.328125 34.859375 57.328125 23.390625 \nQ 57.328125 12.15625 50.6875 5.359375 \nQ 44.046875 -1.421875 33.015625 -1.421875 \nQ 20.359375 -1.421875 13.671875 8.265625 \nQ 6.984375 17.96875 6.984375 36.375 \nQ 6.984375 53.65625 15.1875 63.9375 \nQ 23.390625 74.21875 37.203125 74.21875 \nQ 40.921875 74.21875 44.703125 73.484375 \nQ 48.484375 72.75 52.59375 71.296875 \nz\n\" id=\"DejaVuSans-54\"/>\n      </defs>\n      <g transform=\"translate(135.421875 161.198437)scale(0.1 -0.1)\">\n       <use xlink:href=\"#DejaVuSans-54\"/>\n      </g>\n     </g>\n    </g>\n    <g id=\"xtick_4\">\n     <g id=\"line2d_7\">\n      <path clip-path=\"url(#p16c6edbdce)\" d=\"M 182.003125 146.6 \nL 182.003125 10.7 \n\" style=\"fill:none;stroke:#b0b0b0;stroke-linecap:square;stroke-width:0.8;\"/>\n     </g>\n     <g id=\"line2d_8\">\n      <g>\n       <use style=\"stroke:#000000;stroke-width:0.8;\" x=\"182.003125\" xlink:href=\"#mf5c2645171\" y=\"146.6\"/>\n      </g>\n     </g>\n     <g id=\"text_4\">\n      <!-- 8 -->\n      <defs>\n       <path d=\"M 31.78125 34.625 \nQ 24.75 34.625 20.71875 30.859375 \nQ 16.703125 27.09375 16.703125 20.515625 \nQ 16.703125 13.921875 20.71875 10.15625 \nQ 24.75 6.390625 31.78125 6.390625 \nQ 38.8125 6.390625 42.859375 10.171875 \nQ 46.921875 13.96875 46.921875 20.515625 \nQ 46.921875 27.09375 42.890625 30.859375 \nQ 38.875 34.625 31.78125 34.625 \nz\nM 21.921875 38.8125 \nQ 15.578125 40.375 12.03125 44.71875 \nQ 8.5 49.078125 8.5 55.328125 \nQ 8.5 64.0625 14.71875 69.140625 \nQ 20.953125 74.21875 31.78125 74.21875 \nQ 42.671875 74.21875 48.875 69.140625 \nQ 55.078125 64.0625 55.078125 55.328125 \nQ 55.078125 49.078125 51.53125 44.71875 \nQ 48 40.375 41.703125 38.8125 \nQ 48.828125 37.15625 52.796875 32.3125 \nQ 56.78125 27.484375 56.78125 20.515625 \nQ 56.78125 9.90625 50.3125 4.234375 \nQ 43.84375 -1.421875 31.78125 -1.421875 \nQ 19.734375 -1.421875 13.25 4.234375 \nQ 6.78125 9.90625 6.78125 20.515625 \nQ 6.78125 27.484375 10.78125 32.3125 \nQ 14.796875 37.15625 21.921875 38.8125 \nz\nM 18.3125 54.390625 \nQ 18.3125 48.734375 21.84375 45.5625 \nQ 25.390625 42.390625 31.78125 42.390625 \nQ 38.140625 42.390625 41.71875 45.5625 \nQ 45.3125 48.734375 45.3125 54.390625 \nQ 45.3125 60.0625 41.71875 63.234375 \nQ 38.140625 66.40625 31.78125 66.40625 \nQ 25.390625 66.40625 21.84375 63.234375 \nQ 18.3125 60.0625 18.3125 54.390625 \nz\n\" id=\"DejaVuSans-56\"/>\n      </defs>\n      <g transform=\"translate(178.821875 161.198437)scale(0.1 -0.1)\">\n       <use xlink:href=\"#DejaVuSans-56\"/>\n      </g>\n     </g>\n    </g>\n    <g id=\"xtick_5\">\n     <g id=\"line2d_9\">\n      <path clip-path=\"url(#p16c6edbdce)\" d=\"M 225.403125 146.6 \nL 225.403125 10.7 \n\" style=\"fill:none;stroke:#b0b0b0;stroke-linecap:square;stroke-width:0.8;\"/>\n     </g>\n     <g id=\"line2d_10\">\n      <g>\n       <use style=\"stroke:#000000;stroke-width:0.8;\" x=\"225.403125\" xlink:href=\"#mf5c2645171\" y=\"146.6\"/>\n      </g>\n     </g>\n     <g id=\"text_5\">\n      <!-- 10 -->\n      <defs>\n       <path d=\"M 12.40625 8.296875 \nL 28.515625 8.296875 \nL 28.515625 63.921875 \nL 10.984375 60.40625 \nL 10.984375 69.390625 \nL 28.421875 72.90625 \nL 38.28125 72.90625 \nL 38.28125 8.296875 \nL 54.390625 8.296875 \nL 54.390625 0 \nL 12.40625 0 \nz\n\" id=\"DejaVuSans-49\"/>\n       <path d=\"M 31.78125 66.40625 \nQ 24.171875 66.40625 20.328125 58.90625 \nQ 16.5 51.421875 16.5 36.375 \nQ 16.5 21.390625 20.328125 13.890625 \nQ 24.171875 6.390625 31.78125 6.390625 \nQ 39.453125 6.390625 43.28125 13.890625 \nQ 47.125 21.390625 47.125 36.375 \nQ 47.125 51.421875 43.28125 58.90625 \nQ 39.453125 66.40625 31.78125 66.40625 \nz\nM 31.78125 74.21875 \nQ 44.046875 74.21875 50.515625 64.515625 \nQ 56.984375 54.828125 56.984375 36.375 \nQ 56.984375 17.96875 50.515625 8.265625 \nQ 44.046875 -1.421875 31.78125 -1.421875 \nQ 19.53125 -1.421875 13.0625 8.265625 \nQ 6.59375 17.96875 6.59375 36.375 \nQ 6.59375 54.828125 13.0625 64.515625 \nQ 19.53125 74.21875 31.78125 74.21875 \nz\n\" id=\"DejaVuSans-48\"/>\n      </defs>\n      <g transform=\"translate(219.040625 161.198437)scale(0.1 -0.1)\">\n       <use xlink:href=\"#DejaVuSans-49\"/>\n       <use x=\"63.623047\" xlink:href=\"#DejaVuSans-48\"/>\n      </g>\n     </g>\n    </g>\n    <g id=\"text_6\">\n     <!-- epoch -->\n     <defs>\n      <path d=\"M 56.203125 29.59375 \nL 56.203125 25.203125 \nL 14.890625 25.203125 \nQ 15.484375 15.921875 20.484375 11.0625 \nQ 25.484375 6.203125 34.421875 6.203125 \nQ 39.59375 6.203125 44.453125 7.46875 \nQ 49.3125 8.734375 54.109375 11.28125 \nL 54.109375 2.78125 \nQ 49.265625 0.734375 44.1875 -0.34375 \nQ 39.109375 -1.421875 33.890625 -1.421875 \nQ 20.796875 -1.421875 13.15625 6.1875 \nQ 5.515625 13.8125 5.515625 26.8125 \nQ 5.515625 40.234375 12.765625 48.109375 \nQ 20.015625 56 32.328125 56 \nQ 43.359375 56 49.78125 48.890625 \nQ 56.203125 41.796875 56.203125 29.59375 \nz\nM 47.21875 32.234375 \nQ 47.125 39.59375 43.09375 43.984375 \nQ 39.0625 48.390625 32.421875 48.390625 \nQ 24.90625 48.390625 20.390625 44.140625 \nQ 15.875 39.890625 15.1875 32.171875 \nz\n\" id=\"DejaVuSans-101\"/>\n      <path d=\"M 18.109375 8.203125 \nL 18.109375 -20.796875 \nL 9.078125 -20.796875 \nL 9.078125 54.6875 \nL 18.109375 54.6875 \nL 18.109375 46.390625 \nQ 20.953125 51.265625 25.265625 53.625 \nQ 29.59375 56 35.59375 56 \nQ 45.5625 56 51.78125 48.09375 \nQ 58.015625 40.1875 58.015625 27.296875 \nQ 58.015625 14.40625 51.78125 6.484375 \nQ 45.5625 -1.421875 35.59375 -1.421875 \nQ 29.59375 -1.421875 25.265625 0.953125 \nQ 20.953125 3.328125 18.109375 8.203125 \nz\nM 48.6875 27.296875 \nQ 48.6875 37.203125 44.609375 42.84375 \nQ 40.53125 48.484375 33.40625 48.484375 \nQ 26.265625 48.484375 22.1875 42.84375 \nQ 18.109375 37.203125 18.109375 27.296875 \nQ 18.109375 17.390625 22.1875 11.75 \nQ 26.265625 6.109375 33.40625 6.109375 \nQ 40.53125 6.109375 44.609375 11.75 \nQ 48.6875 17.390625 48.6875 27.296875 \nz\n\" id=\"DejaVuSans-112\"/>\n      <path d=\"M 30.609375 48.390625 \nQ 23.390625 48.390625 19.1875 42.75 \nQ 14.984375 37.109375 14.984375 27.296875 \nQ 14.984375 17.484375 19.15625 11.84375 \nQ 23.34375 6.203125 30.609375 6.203125 \nQ 37.796875 6.203125 41.984375 11.859375 \nQ 46.1875 17.53125 46.1875 27.296875 \nQ 46.1875 37.015625 41.984375 42.703125 \nQ 37.796875 48.390625 30.609375 48.390625 \nz\nM 30.609375 56 \nQ 42.328125 56 49.015625 48.375 \nQ 55.71875 40.765625 55.71875 27.296875 \nQ 55.71875 13.875 49.015625 6.21875 \nQ 42.328125 -1.421875 30.609375 -1.421875 \nQ 18.84375 -1.421875 12.171875 6.21875 \nQ 5.515625 13.875 5.515625 27.296875 \nQ 5.515625 40.765625 12.171875 48.375 \nQ 18.84375 56 30.609375 56 \nz\n\" id=\"DejaVuSans-111\"/>\n      <path d=\"M 48.78125 52.59375 \nL 48.78125 44.1875 \nQ 44.96875 46.296875 41.140625 47.34375 \nQ 37.3125 48.390625 33.40625 48.390625 \nQ 24.65625 48.390625 19.8125 42.84375 \nQ 14.984375 37.3125 14.984375 27.296875 \nQ 14.984375 17.28125 19.8125 11.734375 \nQ 24.65625 6.203125 33.40625 6.203125 \nQ 37.3125 6.203125 41.140625 7.25 \nQ 44.96875 8.296875 48.78125 10.40625 \nL 48.78125 2.09375 \nQ 45.015625 0.34375 40.984375 -0.53125 \nQ 36.96875 -1.421875 32.421875 -1.421875 \nQ 20.0625 -1.421875 12.78125 6.34375 \nQ 5.515625 14.109375 5.515625 27.296875 \nQ 5.515625 40.671875 12.859375 48.328125 \nQ 20.21875 56 33.015625 56 \nQ 37.15625 56 41.109375 55.140625 \nQ 45.0625 54.296875 48.78125 52.59375 \nz\n\" id=\"DejaVuSans-99\"/>\n      <path d=\"M 54.890625 33.015625 \nL 54.890625 0 \nL 45.90625 0 \nL 45.90625 32.71875 \nQ 45.90625 40.484375 42.875 44.328125 \nQ 39.84375 48.1875 33.796875 48.1875 \nQ 26.515625 48.1875 22.3125 43.546875 \nQ 18.109375 38.921875 18.109375 30.90625 \nL 18.109375 0 \nL 9.078125 0 \nL 9.078125 75.984375 \nL 18.109375 75.984375 \nL 18.109375 46.1875 \nQ 21.34375 51.125 25.703125 53.5625 \nQ 30.078125 56 35.796875 56 \nQ 45.21875 56 50.046875 50.171875 \nQ 54.890625 44.34375 54.890625 33.015625 \nz\n\" id=\"DejaVuSans-104\"/>\n     </defs>\n     <g transform=\"translate(112.525 174.876562)scale(0.1 -0.1)\">\n      <use xlink:href=\"#DejaVuSans-101\"/>\n      <use x=\"61.523438\" xlink:href=\"#DejaVuSans-112\"/>\n      <use x=\"125\" xlink:href=\"#DejaVuSans-111\"/>\n      <use x=\"186.181641\" xlink:href=\"#DejaVuSans-99\"/>\n      <use x=\"241.162109\" xlink:href=\"#DejaVuSans-104\"/>\n     </g>\n    </g>\n   </g>\n   <g id=\"matplotlib.axis_2\">\n    <g id=\"ytick_1\">\n     <g id=\"line2d_11\">\n      <path clip-path=\"url(#p16c6edbdce)\" d=\"M 30.103125 123.95 \nL 225.403125 123.95 \n\" style=\"fill:none;stroke:#b0b0b0;stroke-linecap:square;stroke-width:0.8;\"/>\n     </g>\n     <g id=\"line2d_12\">\n      <defs>\n       <path d=\"M 0 0 \nL -3.5 0 \n\" id=\"mc0ea5536bc\" style=\"stroke:#000000;stroke-width:0.8;\"/>\n      </defs>\n      <g>\n       <use style=\"stroke:#000000;stroke-width:0.8;\" x=\"30.103125\" xlink:href=\"#mc0ea5536bc\" y=\"123.95\"/>\n      </g>\n     </g>\n     <g id=\"text_7\">\n      <!-- 0.4 -->\n      <defs>\n       <path d=\"M 10.6875 12.40625 \nL 21 12.40625 \nL 21 0 \nL 10.6875 0 \nz\n\" id=\"DejaVuSans-46\"/>\n      </defs>\n      <g transform=\"translate(7.2 127.749219)scale(0.1 -0.1)\">\n       <use xlink:href=\"#DejaVuSans-48\"/>\n       <use x=\"63.623047\" xlink:href=\"#DejaVuSans-46\"/>\n       <use x=\"95.410156\" xlink:href=\"#DejaVuSans-52\"/>\n      </g>\n     </g>\n    </g>\n    <g id=\"ytick_2\">\n     <g id=\"line2d_13\">\n      <path clip-path=\"url(#p16c6edbdce)\" d=\"M 30.103125 78.65 \nL 225.403125 78.65 \n\" style=\"fill:none;stroke:#b0b0b0;stroke-linecap:square;stroke-width:0.8;\"/>\n     </g>\n     <g id=\"line2d_14\">\n      <g>\n       <use style=\"stroke:#000000;stroke-width:0.8;\" x=\"30.103125\" xlink:href=\"#mc0ea5536bc\" y=\"78.65\"/>\n      </g>\n     </g>\n     <g id=\"text_8\">\n      <!-- 0.6 -->\n      <g transform=\"translate(7.2 82.449219)scale(0.1 -0.1)\">\n       <use xlink:href=\"#DejaVuSans-48\"/>\n       <use x=\"63.623047\" xlink:href=\"#DejaVuSans-46\"/>\n       <use x=\"95.410156\" xlink:href=\"#DejaVuSans-54\"/>\n      </g>\n     </g>\n    </g>\n    <g id=\"ytick_3\">\n     <g id=\"line2d_15\">\n      <path clip-path=\"url(#p16c6edbdce)\" d=\"M 30.103125 33.35 \nL 225.403125 33.35 \n\" style=\"fill:none;stroke:#b0b0b0;stroke-linecap:square;stroke-width:0.8;\"/>\n     </g>\n     <g id=\"line2d_16\">\n      <g>\n       <use style=\"stroke:#000000;stroke-width:0.8;\" x=\"30.103125\" xlink:href=\"#mc0ea5536bc\" y=\"33.35\"/>\n      </g>\n     </g>\n     <g id=\"text_9\">\n      <!-- 0.8 -->\n      <g transform=\"translate(7.2 37.149219)scale(0.1 -0.1)\">\n       <use xlink:href=\"#DejaVuSans-48\"/>\n       <use x=\"63.623047\" xlink:href=\"#DejaVuSans-46\"/>\n       <use x=\"95.410156\" xlink:href=\"#DejaVuSans-56\"/>\n      </g>\n     </g>\n    </g>\n   </g>\n   <g id=\"line2d_17\">\n    <path clip-path=\"url(#p16c6edbdce)\" d=\"M 30.103125 36.848112 \nL 51.803125 85.491471 \nL 73.503125 95.699632 \nL 95.203125 101.023994 \nL 116.903125 104.52125 \nL 138.603125 107.302538 \nL 160.303125 109.366719 \nL 182.003125 110.539253 \nL 203.703125 112.161016 \nL 225.403125 113.106715 \n\" style=\"fill:none;stroke:#1f77b4;stroke-linecap:square;stroke-width:1.5;\"/>\n   </g>\n   <g id=\"line2d_18\">\n    <path clip-path=\"url(#p16c6edbdce)\" d=\"M 30.103125 44.278625 \nL 51.803125 30.190325 \nL 73.503125 27.48365 \nL 95.203125 26.075575 \nL 116.903125 24.9846 \nL 138.603125 24.19185 \nL 160.303125 23.4444 \nL 182.003125 23.350025 \nL 203.703125 22.99895 \nL 225.403125 22.557275 \n\" style=\"fill:none;stroke:#bf00bf;stroke-dasharray:5.55,2.4;stroke-dashoffset:0;stroke-width:1.5;\"/>\n   </g>\n   <g id=\"line2d_19\">\n    <path clip-path=\"url(#p16c6edbdce)\" d=\"M 30.103125 36.8834 \nL 51.803125 32.69315 \nL 73.503125 28.66145 \nL 95.203125 28.29905 \nL 116.903125 27.30245 \nL 138.603125 28.52555 \nL 160.303125 29.6354 \nL 182.003125 26.03405 \nL 203.703125 26.66825 \nL 225.403125 25.8302 \n\" style=\"fill:none;stroke:#008000;stroke-dasharray:9.6,2.4,1.5,2.4;stroke-dashoffset:0;stroke-width:1.5;\"/>\n   </g>\n   <g id=\"patch_3\">\n    <path d=\"M 30.103125 146.6 \nL 30.103125 10.7 \n\" style=\"fill:none;stroke:#000000;stroke-linecap:square;stroke-linejoin:miter;stroke-width:0.8;\"/>\n   </g>\n   <g id=\"patch_4\">\n    <path d=\"M 225.403125 146.6 \nL 225.403125 10.7 \n\" style=\"fill:none;stroke:#000000;stroke-linecap:square;stroke-linejoin:miter;stroke-width:0.8;\"/>\n   </g>\n   <g id=\"patch_5\">\n    <path d=\"M 30.103125 146.6 \nL 225.403125 146.6 \n\" style=\"fill:none;stroke:#000000;stroke-linecap:square;stroke-linejoin:miter;stroke-width:0.8;\"/>\n   </g>\n   <g id=\"patch_6\">\n    <path d=\"M 30.103125 10.7 \nL 225.403125 10.7 \n\" style=\"fill:none;stroke:#000000;stroke-linecap:square;stroke-linejoin:miter;stroke-width:0.8;\"/>\n   </g>\n   <g id=\"legend_1\">\n    <g id=\"patch_7\">\n     <path d=\"M 140.634375 102.167187 \nL 218.403125 102.167187 \nQ 220.403125 102.167187 220.403125 100.167187 \nL 220.403125 57.132812 \nQ 220.403125 55.132812 218.403125 55.132812 \nL 140.634375 55.132812 \nQ 138.634375 55.132812 138.634375 57.132812 \nL 138.634375 100.167187 \nQ 138.634375 102.167187 140.634375 102.167187 \nz\n\" style=\"fill:#ffffff;opacity:0.8;stroke:#cccccc;stroke-linejoin:miter;\"/>\n    </g>\n    <g id=\"line2d_20\">\n     <path d=\"M 142.634375 63.23125 \nL 162.634375 63.23125 \n\" style=\"fill:none;stroke:#1f77b4;stroke-linecap:square;stroke-width:1.5;\"/>\n    </g>\n    <g id=\"line2d_21\"/>\n    <g id=\"text_10\">\n     <!-- train loss -->\n     <defs>\n      <path d=\"M 18.3125 70.21875 \nL 18.3125 54.6875 \nL 36.8125 54.6875 \nL 36.8125 47.703125 \nL 18.3125 47.703125 \nL 18.3125 18.015625 \nQ 18.3125 11.328125 20.140625 9.421875 \nQ 21.96875 7.515625 27.59375 7.515625 \nL 36.8125 7.515625 \nL 36.8125 0 \nL 27.59375 0 \nQ 17.1875 0 13.234375 3.875 \nQ 9.28125 7.765625 9.28125 18.015625 \nL 9.28125 47.703125 \nL 2.6875 47.703125 \nL 2.6875 54.6875 \nL 9.28125 54.6875 \nL 9.28125 70.21875 \nz\n\" id=\"DejaVuSans-116\"/>\n      <path d=\"M 41.109375 46.296875 \nQ 39.59375 47.171875 37.8125 47.578125 \nQ 36.03125 48 33.890625 48 \nQ 26.265625 48 22.1875 43.046875 \nQ 18.109375 38.09375 18.109375 28.8125 \nL 18.109375 0 \nL 9.078125 0 \nL 9.078125 54.6875 \nL 18.109375 54.6875 \nL 18.109375 46.1875 \nQ 20.953125 51.171875 25.484375 53.578125 \nQ 30.03125 56 36.53125 56 \nQ 37.453125 56 38.578125 55.875 \nQ 39.703125 55.765625 41.0625 55.515625 \nz\n\" id=\"DejaVuSans-114\"/>\n      <path d=\"M 34.28125 27.484375 \nQ 23.390625 27.484375 19.1875 25 \nQ 14.984375 22.515625 14.984375 16.5 \nQ 14.984375 11.71875 18.140625 8.90625 \nQ 21.296875 6.109375 26.703125 6.109375 \nQ 34.1875 6.109375 38.703125 11.40625 \nQ 43.21875 16.703125 43.21875 25.484375 \nL 43.21875 27.484375 \nz\nM 52.203125 31.203125 \nL 52.203125 0 \nL 43.21875 0 \nL 43.21875 8.296875 \nQ 40.140625 3.328125 35.546875 0.953125 \nQ 30.953125 -1.421875 24.3125 -1.421875 \nQ 15.921875 -1.421875 10.953125 3.296875 \nQ 6 8.015625 6 15.921875 \nQ 6 25.140625 12.171875 29.828125 \nQ 18.359375 34.515625 30.609375 34.515625 \nL 43.21875 34.515625 \nL 43.21875 35.40625 \nQ 43.21875 41.609375 39.140625 45 \nQ 35.0625 48.390625 27.6875 48.390625 \nQ 23 48.390625 18.546875 47.265625 \nQ 14.109375 46.140625 10.015625 43.890625 \nL 10.015625 52.203125 \nQ 14.9375 54.109375 19.578125 55.046875 \nQ 24.21875 56 28.609375 56 \nQ 40.484375 56 46.34375 49.84375 \nQ 52.203125 43.703125 52.203125 31.203125 \nz\n\" id=\"DejaVuSans-97\"/>\n      <path d=\"M 9.421875 54.6875 \nL 18.40625 54.6875 \nL 18.40625 0 \nL 9.421875 0 \nz\nM 9.421875 75.984375 \nL 18.40625 75.984375 \nL 18.40625 64.59375 \nL 9.421875 64.59375 \nz\n\" id=\"DejaVuSans-105\"/>\n      <path d=\"M 54.890625 33.015625 \nL 54.890625 0 \nL 45.90625 0 \nL 45.90625 32.71875 \nQ 45.90625 40.484375 42.875 44.328125 \nQ 39.84375 48.1875 33.796875 48.1875 \nQ 26.515625 48.1875 22.3125 43.546875 \nQ 18.109375 38.921875 18.109375 30.90625 \nL 18.109375 0 \nL 9.078125 0 \nL 9.078125 54.6875 \nL 18.109375 54.6875 \nL 18.109375 46.1875 \nQ 21.34375 51.125 25.703125 53.5625 \nQ 30.078125 56 35.796875 56 \nQ 45.21875 56 50.046875 50.171875 \nQ 54.890625 44.34375 54.890625 33.015625 \nz\n\" id=\"DejaVuSans-110\"/>\n      <path id=\"DejaVuSans-32\"/>\n      <path d=\"M 9.421875 75.984375 \nL 18.40625 75.984375 \nL 18.40625 0 \nL 9.421875 0 \nz\n\" id=\"DejaVuSans-108\"/>\n      <path d=\"M 44.28125 53.078125 \nL 44.28125 44.578125 \nQ 40.484375 46.53125 36.375 47.5 \nQ 32.28125 48.484375 27.875 48.484375 \nQ 21.1875 48.484375 17.84375 46.4375 \nQ 14.5 44.390625 14.5 40.28125 \nQ 14.5 37.15625 16.890625 35.375 \nQ 19.28125 33.59375 26.515625 31.984375 \nL 29.59375 31.296875 \nQ 39.15625 29.25 43.1875 25.515625 \nQ 47.21875 21.78125 47.21875 15.09375 \nQ 47.21875 7.46875 41.1875 3.015625 \nQ 35.15625 -1.421875 24.609375 -1.421875 \nQ 20.21875 -1.421875 15.453125 -0.5625 \nQ 10.6875 0.296875 5.421875 2 \nL 5.421875 11.28125 \nQ 10.40625 8.6875 15.234375 7.390625 \nQ 20.0625 6.109375 24.8125 6.109375 \nQ 31.15625 6.109375 34.5625 8.28125 \nQ 37.984375 10.453125 37.984375 14.40625 \nQ 37.984375 18.0625 35.515625 20.015625 \nQ 33.0625 21.96875 24.703125 23.78125 \nL 21.578125 24.515625 \nQ 13.234375 26.265625 9.515625 29.90625 \nQ 5.8125 33.546875 5.8125 39.890625 \nQ 5.8125 47.609375 11.28125 51.796875 \nQ 16.75 56 26.8125 56 \nQ 31.78125 56 36.171875 55.265625 \nQ 40.578125 54.546875 44.28125 53.078125 \nz\n\" id=\"DejaVuSans-115\"/>\n     </defs>\n     <g transform=\"translate(170.634375 66.73125)scale(0.1 -0.1)\">\n      <use xlink:href=\"#DejaVuSans-116\"/>\n      <use x=\"39.208984\" xlink:href=\"#DejaVuSans-114\"/>\n      <use x=\"80.322266\" xlink:href=\"#DejaVuSans-97\"/>\n      <use x=\"141.601562\" xlink:href=\"#DejaVuSans-105\"/>\n      <use x=\"169.384766\" xlink:href=\"#DejaVuSans-110\"/>\n      <use x=\"232.763672\" xlink:href=\"#DejaVuSans-32\"/>\n      <use x=\"264.550781\" xlink:href=\"#DejaVuSans-108\"/>\n      <use x=\"292.333984\" xlink:href=\"#DejaVuSans-111\"/>\n      <use x=\"353.515625\" xlink:href=\"#DejaVuSans-115\"/>\n      <use x=\"405.615234\" xlink:href=\"#DejaVuSans-115\"/>\n     </g>\n    </g>\n    <g id=\"line2d_22\">\n     <path d=\"M 142.634375 77.909375 \nL 162.634375 77.909375 \n\" style=\"fill:none;stroke:#bf00bf;stroke-dasharray:5.55,2.4;stroke-dashoffset:0;stroke-width:1.5;\"/>\n    </g>\n    <g id=\"line2d_23\"/>\n    <g id=\"text_11\">\n     <!-- train acc -->\n     <g transform=\"translate(170.634375 81.409375)scale(0.1 -0.1)\">\n      <use xlink:href=\"#DejaVuSans-116\"/>\n      <use x=\"39.208984\" xlink:href=\"#DejaVuSans-114\"/>\n      <use x=\"80.322266\" xlink:href=\"#DejaVuSans-97\"/>\n      <use x=\"141.601562\" xlink:href=\"#DejaVuSans-105\"/>\n      <use x=\"169.384766\" xlink:href=\"#DejaVuSans-110\"/>\n      <use x=\"232.763672\" xlink:href=\"#DejaVuSans-32\"/>\n      <use x=\"264.550781\" xlink:href=\"#DejaVuSans-97\"/>\n      <use x=\"325.830078\" xlink:href=\"#DejaVuSans-99\"/>\n      <use x=\"380.810547\" xlink:href=\"#DejaVuSans-99\"/>\n     </g>\n    </g>\n    <g id=\"line2d_24\">\n     <path d=\"M 142.634375 92.5875 \nL 162.634375 92.5875 \n\" style=\"fill:none;stroke:#008000;stroke-dasharray:9.6,2.4,1.5,2.4;stroke-dashoffset:0;stroke-width:1.5;\"/>\n    </g>\n    <g id=\"line2d_25\"/>\n    <g id=\"text_12\">\n     <!-- test acc -->\n     <g transform=\"translate(170.634375 96.0875)scale(0.1 -0.1)\">\n      <use xlink:href=\"#DejaVuSans-116\"/>\n      <use x=\"39.208984\" xlink:href=\"#DejaVuSans-101\"/>\n      <use x=\"100.732422\" xlink:href=\"#DejaVuSans-115\"/>\n      <use x=\"152.832031\" xlink:href=\"#DejaVuSans-116\"/>\n      <use x=\"192.041016\" xlink:href=\"#DejaVuSans-32\"/>\n      <use x=\"223.828125\" xlink:href=\"#DejaVuSans-97\"/>\n      <use x=\"285.107422\" xlink:href=\"#DejaVuSans-99\"/>\n      <use x=\"340.087891\" xlink:href=\"#DejaVuSans-99\"/>\n     </g>\n    </g>\n   </g>\n  </g>\n </g>\n <defs>\n  <clipPath id=\"p16c6edbdce\">\n   <rect height=\"135.9\" width=\"195.3\" x=\"30.103125\" y=\"10.7\"/>\n  </clipPath>\n </defs>\n</svg>\n"
          },
          "metadata": {
            "needs_background": "light"
          }
        }
      ]
    }
  ]
}